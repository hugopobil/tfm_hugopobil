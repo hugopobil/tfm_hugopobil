{
 "cells": [
  {
   "cell_type": "code",
   "execution_count": 22,
   "metadata": {
    "tags": []
   },
   "outputs": [],
   "source": [
    "import logging\n",
    "import pandas as pd\n",
    "import matplotlib.pyplot as plt\n",
    "import joblib\n",
    "\n",
    "from models.topic_analisis.mod_01_tweets_tokenization import (\n",
    "    tokenize_tweets,\n",
    "    dictionary_tweets,\n",
    "    bow_tweets,\n",
    "    train_bow_tweets)\n",
    "\n",
    "from msmrh_btm.models.btm_em import bag_biterms, BTM_EM"
   ]
  },
  {
   "cell_type": "code",
   "execution_count": 44,
   "metadata": {
    "collapsed": false,
    "jupyter": {
     "outputs_hidden": false
    },
    "pycharm": {
     "name": "#%%\n"
    }
   },
   "outputs": [],
   "source": [
    "# Output constants:\n",
    "store_path= '/Users/hpp/PycharmProjects/tfm_hugopobil/models/topic_analisis'\n",
    "name_tmpl = 'btm_em_tfm'\n",
    "n_topics_list = [5, 10, 15, 20]\n",
    "\n",
    "model_fn_map = {\n",
    "    n_topics: f'{store_path}/{name_tmpl}{n_topics}.joblib'\n",
    "    for n_topics in n_topics_list\n",
    "}\n",
    "\n",
    "# Set the language for dictionary formulas\n",
    "lang= 'en'"
   ]
  },
  {
   "cell_type": "code",
   "execution_count": 36,
   "outputs": [],
   "source": [
    "X = joblib.load('/home/hugopobil/PycharmProjects/mrh_i3_twitter/scratches/hpobil/analisis_tweets_neurona_podemos_bankinter/X_tweets_nlp_processed.joblib')\n",
    "tweets = pd.read_csv('/home/hugopobil/PycharmProjects/mrh_i3_twitter/scratches/hpobil/analisis_tweets_neurona_podemos_bankinter/tweets_nlp_modelling_v3.csv')"
   ],
   "metadata": {
    "collapsed": false,
    "pycharm": {
     "name": "#%%\n"
    }
   }
  },
  {
   "cell_type": "code",
   "execution_count": 37,
   "outputs": [],
   "source": [
    "tweets['tokens'] = tokenize_tweets(tweets.cleaned_tweets.to_list(), lang='en')"
   ],
   "metadata": {
    "collapsed": false,
    "pycharm": {
     "name": "#%%\n"
    }
   }
  },
  {
   "cell_type": "code",
   "execution_count": 38,
   "outputs": [
    {
     "name": "stderr",
     "output_type": "stream",
     "text": [
      "2022-04-08 20:34:38,699 : INFO : MainProcess : 111559 : adding document #0 to Dictionary(0 unique tokens: [])\n",
      "2022-04-08 20:34:38,804 : INFO : MainProcess : 111559 : adding document #10000 to Dictionary(22661 unique tokens: ['ehsnhs', 'institutional', 'investment', 'pouring', 'qen']...)\n",
      "2022-04-08 20:34:38,925 : INFO : MainProcess : 111559 : adding document #20000 to Dictionary(38314 unique tokens: ['ehsnhs', 'institutional', 'investment', 'pouring', 'qen']...)\n",
      "2022-04-08 20:34:38,931 : INFO : MainProcess : 111559 : built Dictionary(39012 unique tokens: ['ehsnhs', 'institutional', 'investment', 'pouring', 'qen']...) from 20565 documents (total 257358 corpus positions)\n",
      "2022-04-08 20:34:38,939 : INFO : MainProcess : 111559 : Dictionary lifecycle event {'msg': \"built Dictionary(39012 unique tokens: ['ehsnhs', 'institutional', 'investment', 'pouring', 'qen']...) from 20565 documents (total 257358 corpus positions)\", 'datetime': '2022-04-08T20:34:38.931876', 'gensim': '4.1.2', 'python': '3.8.10 (default, Mar 15 2022, 12:22:08) \\n[GCC 9.4.0]', 'platform': 'Linux-5.14.0-1031-oem-x86_64-with-glibc2.29', 'event': 'created'}\n"
     ]
    }
   ],
   "source": [
    "words_to_delete = ['Bitcoin', 'btc', 'ada', 'bitcoin']\n",
    "\n",
    "for word in words_to_delete:\n",
    "    tweets['tokens'] = tweets.tokens.apply(lambda x: [i for i in x if i != word])\n",
    "\n",
    "dictionary = dictionary_tweets(tweets['tokens'])"
   ],
   "metadata": {
    "collapsed": false,
    "pycharm": {
     "name": "#%%\n"
    }
   }
  },
  {
   "cell_type": "code",
   "execution_count": 39,
   "outputs": [
    {
     "name": "stdout",
     "output_type": "stream",
     "text": [
      "X.shape:       (20565, 39012)\n",
      "X_train.shape: (19180, 39012)\n"
     ]
    }
   ],
   "source": [
    "# BOW and X creation:\n",
    "X = bow_tweets(tweets['tokens'], dictionary)\n",
    "\n",
    "X_train = train_bow_tweets(X, min_n_words=3)\n",
    "print(f'X.shape:       {X.shape}')\n",
    "print(f'X_train.shape: {X_train.shape}')"
   ],
   "metadata": {
    "collapsed": false,
    "pycharm": {
     "name": "#%%\n"
    }
   }
  },
  {
   "cell_type": "markdown",
   "metadata": {},
   "source": [
    "### Biterm analysis"
   ]
  },
  {
   "cell_type": "code",
   "execution_count": 40,
   "metadata": {
    "collapsed": false,
    "jupyter": {
     "outputs_hidden": false
    },
    "pycharm": {
     "name": "#%%\n"
    }
   },
   "outputs": [],
   "source": [
    "#Here we show an histogram of biterms:\n",
    "\n",
    "bob = bag_biterms(X)\n",
    "bob_df = pd.DataFrame((list(map(str, bob))), columns=['biterms']).groupby(['biterms']).size().reset_index(name='counts').sort_values('counts', ascending=0)\n",
    "bob_df['biterm_text'] = bob_df['biterms'].apply(lambda x: x.strip(' []').split(' '))"
   ]
  },
  {
   "cell_type": "code",
   "execution_count": 41,
   "outputs": [
    {
     "data": {
      "text/plain": "              biterms  counts    biterm_text\n887646        [38 39]    1676       [38, 39]\n430711      [ 38 153]    1428      [38, 153]\n430859      [ 38 353]    1282      [38, 353]\n430990      [ 38 544]    1047      [38, 544]\n731000      [153 353]     984     [153, 353]\n...               ...     ...            ...\n341714  [ 2129 26120]       1  [2129, 26120]\n341715  [ 2129 26327]       1  [2129, 26327]\n341716  [ 2129 27082]       1  [2129, 27082]\n341717  [ 2129 27346]       1  [2129, 27346]\n940885    [9998 9999]       1   [9998, 9999]\n\n[940886 rows x 3 columns]",
      "text/html": "<div>\n<style scoped>\n    .dataframe tbody tr th:only-of-type {\n        vertical-align: middle;\n    }\n\n    .dataframe tbody tr th {\n        vertical-align: top;\n    }\n\n    .dataframe thead th {\n        text-align: right;\n    }\n</style>\n<table border=\"1\" class=\"dataframe\">\n  <thead>\n    <tr style=\"text-align: right;\">\n      <th></th>\n      <th>biterms</th>\n      <th>counts</th>\n      <th>biterm_text</th>\n    </tr>\n  </thead>\n  <tbody>\n    <tr>\n      <th>887646</th>\n      <td>[38 39]</td>\n      <td>1676</td>\n      <td>[38, 39]</td>\n    </tr>\n    <tr>\n      <th>430711</th>\n      <td>[ 38 153]</td>\n      <td>1428</td>\n      <td>[38, 153]</td>\n    </tr>\n    <tr>\n      <th>430859</th>\n      <td>[ 38 353]</td>\n      <td>1282</td>\n      <td>[38, 353]</td>\n    </tr>\n    <tr>\n      <th>430990</th>\n      <td>[ 38 544]</td>\n      <td>1047</td>\n      <td>[38, 544]</td>\n    </tr>\n    <tr>\n      <th>731000</th>\n      <td>[153 353]</td>\n      <td>984</td>\n      <td>[153, 353]</td>\n    </tr>\n    <tr>\n      <th>...</th>\n      <td>...</td>\n      <td>...</td>\n      <td>...</td>\n    </tr>\n    <tr>\n      <th>341714</th>\n      <td>[ 2129 26120]</td>\n      <td>1</td>\n      <td>[2129, 26120]</td>\n    </tr>\n    <tr>\n      <th>341715</th>\n      <td>[ 2129 26327]</td>\n      <td>1</td>\n      <td>[2129, 26327]</td>\n    </tr>\n    <tr>\n      <th>341716</th>\n      <td>[ 2129 27082]</td>\n      <td>1</td>\n      <td>[2129, 27082]</td>\n    </tr>\n    <tr>\n      <th>341717</th>\n      <td>[ 2129 27346]</td>\n      <td>1</td>\n      <td>[2129, 27346]</td>\n    </tr>\n    <tr>\n      <th>940885</th>\n      <td>[9998 9999]</td>\n      <td>1</td>\n      <td>[9998, 9999]</td>\n    </tr>\n  </tbody>\n</table>\n<p>940886 rows × 3 columns</p>\n</div>"
     },
     "execution_count": 41,
     "metadata": {},
     "output_type": "execute_result"
    }
   ],
   "source": [
    "bob_df"
   ],
   "metadata": {
    "collapsed": false,
    "pycharm": {
     "name": "#%%\n"
    }
   }
  },
  {
   "cell_type": "code",
   "execution_count": 42,
   "metadata": {},
   "outputs": [
    {
     "data": {
      "text/plain": "<Figure size 720x360 with 1 Axes>",
      "image/png": "[encoded data removed]"
     },
     "metadata": {
      "needs_background": "light"
     },
     "output_type": "display_data"
    }
   ],
   "source": [
    "bob_df['biterm_text'] = bob_df['biterm_text'].apply(lambda x: f'{dictionary[int(x[0])]},{dictionary[int(x[1])]}')\n",
    "ax =  bob_df[0:40].plot.bar(x='biterm_text' ,y='counts', figsize=(10,5))\n",
    "plt.show()"
   ]
  },
  {
   "cell_type": "markdown",
   "metadata": {},
   "source": [
    "### Topic (BTM) creation (slow, only once)"
   ]
  },
  {
   "cell_type": "code",
   "execution_count": 43,
   "metadata": {
    "collapsed": false,
    "jupyter": {
     "outputs_hidden": false
    },
    "pycharm": {
     "name": "#%%\n"
    }
   },
   "outputs": [
    {
     "name": "stderr",
     "output_type": "stream",
     "text": [
      "2022-04-08 20:36:03,361 : INFO : MainProcess : 111559 : btm.fit(n_topics=5)\n",
      "2022-04-08 20:36:03,361 : INFO : MainProcess : 111559 : btm.fit(n_topics=10)\n",
      "2022-04-08 20:36:03,361 : INFO : MainProcess : 111559 : btm.fit(n_topics=15)\n",
      "2022-04-08 20:36:03,362 : INFO : MainProcess : 111559 : btm.fit(n_topics=20)\n",
      "2022-04-08 20:36:31,989 : INFO : MainProcess : 111559 : Last iteration (400 of max_iter: 10000): score(p): 27018988.7124, δp/score_tol: -167.2883,(δp/p)/score_precision: 0.6191 \n",
      "2022-04-08 20:36:31,989 : INFO : MainProcess : 111559 : Convergence of score achieved\n",
      "2022-04-08 20:36:42,287 : INFO : MainProcess : 111559 : Iteration: 500 of max_iter: 10000, score(p): 26706797.4689, δp/score_tol: -7967.9858,(δp/p)/score_precision: 29.8261 \n",
      "2022-04-08 20:36:53,299 : INFO : MainProcess : 111559 : Iteration: 500 of max_iter: 10000, score(p): 26538853.8237, δp/score_tol: -1924.7700,(δp/p)/score_precision: 7.2521 \n",
      "2022-04-08 20:36:58,250 : INFO : MainProcess : 111559 : Last iteration (900 of max_iter: 10000): score(p): 26691306.4313, δp/score_tol: -165.5673,(δp/p)/score_precision: 0.6203 \n",
      "2022-04-08 20:36:58,250 : INFO : MainProcess : 111559 : Convergence of score achieved\n",
      "2022-04-08 20:37:06,186 : INFO : MainProcess : 111559 : Iteration: 500 of max_iter: 10000, score(p): 26417734.2660, δp/score_tol: -1442.3949,(δp/p)/score_precision: 5.4597 \n",
      "2022-04-08 20:37:17,126 : INFO : MainProcess : 111559 : Last iteration (900 of max_iter: 10000): score(p): 26535886.6178, δp/score_tol: -58.5435,(δp/p)/score_precision: 0.2206 \n",
      "2022-04-08 20:37:17,126 : INFO : MainProcess : 111559 : Convergence of score achieved\n",
      "2022-04-08 20:37:30,594 : INFO : MainProcess : 111559 : Last iteration (800 of max_iter: 10000): score(p): 26416121.2480, δp/score_tol: -181.8466,(δp/p)/score_precision: 0.6884 \n",
      "2022-04-08 20:37:30,595 : INFO : MainProcess : 111559 : Convergence of score achieved\n"
     ]
    }
   ],
   "source": [
    "# It st\n",
    "prms = {'verbose':1,\n",
    "        'log_every':500,\n",
    "        'max_iter':10000,\n",
    "        'score_precision':1e-7,\n",
    "        'check_score_every':100}\n",
    "\n",
    "\n",
    "def btm_fit(n_topics, X):\n",
    "    logging.info(f'btm.fit(n_topics={n_topics})')\n",
    "\n",
    "    btm = BTM_EM(n_topics=n_topics, alpha=50/n_topics,**prms)\n",
    "    btm.fit(X)\n",
    "    return btm\n",
    "\n",
    "with joblib.Parallel(n_jobs=len(n_topics_list), prefer='threads') as parallel:\n",
    "    btm_list = parallel(\n",
    "        joblib.delayed(btm_fit)(n_topics, X_train) for n_topics in n_topics_list\n",
    "    )"
   ]
  },
  {
   "cell_type": "markdown",
   "metadata": {
    "pycharm": {
     "name": "#%% md\n"
    }
   },
   "source": [
    "### Save objects to s3"
   ]
  },
  {
   "cell_type": "code",
   "execution_count": 46,
   "metadata": {
    "collapsed": false,
    "jupyter": {
     "outputs_hidden": false
    },
    "pycharm": {
     "name": "#%%\n"
    }
   },
   "outputs": [
    {
     "name": "stdout",
     "output_type": "stream",
     "text": [
      "/home/hugopobil/PycharmProjects/mrh_i3_twitter/scratches/hpobil/analisis_tweets_neurona_podemos_bankinter/models/btm_em_tfm5.joblib\n",
      "/home/hugopobil/PycharmProjects/mrh_i3_twitter/scratches/hpobil/analisis_tweets_neurona_podemos_bankinter/models/btm_em_tfm10.joblib\n",
      "/home/hugopobil/PycharmProjects/mrh_i3_twitter/scratches/hpobil/analisis_tweets_neurona_podemos_bankinter/models/btm_em_tfm15.joblib\n",
      "/home/hugopobil/PycharmProjects/mrh_i3_twitter/scratches/hpobil/analisis_tweets_neurona_podemos_bankinter/models/btm_em_tfm20.joblib\n"
     ]
    }
   ],
   "source": [
    "# Store them in s3:\n",
    "for btm in btm_list:\n",
    "    fn = model_fn_map[btm.n_topics]\n",
    "    print(fn)\n",
    "    joblib.dump(btm, fn)"
   ]
  }
 ],
 "metadata": {
  "kernelspec": {
   "name": "python3",
   "language": "python",
   "display_name": "Python 3 (ipykernel)"
  },
  "language_info": {
   "codemirror_mode": {
    "name": "ipython",
    "version": 3
   },
   "file_extension": ".py",
   "mimetype": "text/x-python",
   "name": "python",
   "nbconvert_exporter": "python",
   "pygments_lexer": "ipython3",
   "version": "3.8.7"
  }
 },
 "nbformat": 4,
 "nbformat_minor": 4
}