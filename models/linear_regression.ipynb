{
 "cells": [
  {
   "cell_type": "markdown",
   "source": [
    "## Linear Regression Model\n",
    "\n",
    "The first model to try is linear regression. This is a very simple model that uses the matrix of X to determine if there is a linear regression between the BOW and returns."
   ],
   "metadata": {
    "collapsed": false,
    "pycharm": {
     "name": "#%% md\n"
    }
   }
  },
  {
   "cell_type": "code",
   "execution_count": 2,
   "metadata": {
    "collapsed": true
   },
   "outputs": [],
   "source": [
    "import pandas as pd\n",
    "import joblib\n",
    "from sklearn.linear_model import LinearRegression\n",
    "from sklearn.model_selection import train_test_split\n",
    "from sklearn.metrics import r2_score, mean_squared_error, mean_absolute_error"
   ]
  },
  {
   "cell_type": "code",
   "execution_count": 3,
   "outputs": [],
   "source": [
    "dirct = '/Users/hpp/PycharmProjects/tfm_hugopobil/data'\n",
    "data = pd.read_csv(f'{dirct}/model_data/model_data.csv')\n",
    "\n",
    "# Model variables\n",
    "X = joblib.load(f'{dirct}/model_data/X_model_data.joblib')\n",
    "y = data['return']"
   ],
   "metadata": {
    "collapsed": false,
    "pycharm": {
     "name": "#%%\n"
    }
   }
  },
  {
   "cell_type": "code",
   "execution_count": 4,
   "outputs": [
    {
     "name": "stdout",
     "output_type": "stream",
     "text": [
      "(107, 3)\n"
     ]
    },
    {
     "data": {
      "text/plain": "   date_clean                                             tokens    return\n0  2021-02-07  ['crypto', 'trader', 'stressing', 'cryptocurre... -0.009234\n1  2021-02-08  ['btc', 'going', 'signal', 'minute', 'chart', ...  0.187465\n2  2021-02-09  ['psychological', 'barrier', 'know', 'real', '...  0.006162\n3  2021-02-10  ['join', 'nai', '1swimhw', 'write', 'articles'... -0.033625\n4  2021-02-13  ['dash', 'expected', 'move', 'beginning', 'upp... -0.008406",
      "text/html": "<div>\n<style scoped>\n    .dataframe tbody tr th:only-of-type {\n        vertical-align: middle;\n    }\n\n    .dataframe tbody tr th {\n        vertical-align: top;\n    }\n\n    .dataframe thead th {\n        text-align: right;\n    }\n</style>\n<table border=\"1\" class=\"dataframe\">\n  <thead>\n    <tr style=\"text-align: right;\">\n      <th></th>\n      <th>date_clean</th>\n      <th>tokens</th>\n      <th>return</th>\n    </tr>\n  </thead>\n  <tbody>\n    <tr>\n      <th>0</th>\n      <td>2021-02-07</td>\n      <td>['crypto', 'trader', 'stressing', 'cryptocurre...</td>\n      <td>-0.009234</td>\n    </tr>\n    <tr>\n      <th>1</th>\n      <td>2021-02-08</td>\n      <td>['btc', 'going', 'signal', 'minute', 'chart', ...</td>\n      <td>0.187465</td>\n    </tr>\n    <tr>\n      <th>2</th>\n      <td>2021-02-09</td>\n      <td>['psychological', 'barrier', 'know', 'real', '...</td>\n      <td>0.006162</td>\n    </tr>\n    <tr>\n      <th>3</th>\n      <td>2021-02-10</td>\n      <td>['join', 'nai', '1swimhw', 'write', 'articles'...</td>\n      <td>-0.033625</td>\n    </tr>\n    <tr>\n      <th>4</th>\n      <td>2021-02-13</td>\n      <td>['dash', 'expected', 'move', 'beginning', 'upp...</td>\n      <td>-0.008406</td>\n    </tr>\n  </tbody>\n</table>\n</div>"
     },
     "execution_count": 4,
     "metadata": {},
     "output_type": "execute_result"
    }
   ],
   "source": [
    "print(data.shape)\n",
    "data.head()"
   ],
   "metadata": {
    "collapsed": false,
    "pycharm": {
     "name": "#%%\n"
    }
   }
  },
  {
   "cell_type": "markdown",
   "source": [
    "**Divide the data set:**"
   ],
   "metadata": {
    "collapsed": false,
    "pycharm": {
     "name": "#%% md\n"
    }
   }
  },
  {
   "cell_type": "code",
   "execution_count": 5,
   "outputs": [],
   "source": [
    "X_train, X_test, y_train, y_test = train_test_split(X, y, test_size=0.1, random_state=12345)"
   ],
   "metadata": {
    "collapsed": false,
    "pycharm": {
     "name": "#%%\n"
    }
   }
  },
  {
   "cell_type": "code",
   "execution_count": 6,
   "outputs": [],
   "source": [
    "model = LinearRegression(n_jobs=-1)\n",
    "model = model.fit(X_train, y_train)\n",
    "y_pred = model.predict(X_test)"
   ],
   "metadata": {
    "collapsed": false,
    "pycharm": {
     "name": "#%%\n"
    }
   }
  },
  {
   "cell_type": "code",
   "execution_count": 8,
   "outputs": [
    {
     "data": {
      "text/plain": "0.03162829678943283"
     },
     "execution_count": 8,
     "metadata": {},
     "output_type": "execute_result"
    }
   ],
   "source": [
    "mean_absolute_error(y_test, y_pred)"
   ],
   "metadata": {
    "collapsed": false,
    "pycharm": {
     "name": "#%%\n"
    }
   }
  },
  {
   "cell_type": "markdown",
   "source": [
    "El resultado del modelo es malo. Lo esperado. El siguiente paso es aumentar la muestra de datos y utilizar otros modelos de regressión."
   ],
   "metadata": {
    "collapsed": false,
    "pycharm": {
     "name": "#%% md\n"
    }
   }
  },
  {
   "cell_type": "code",
   "execution_count": 270,
   "outputs": [],
   "source": [
    "y_pred_df = pd.DataFrame(y_pred)\n",
    "y_test_df = pd.DataFrame(y_test.reset_index())"
   ],
   "metadata": {
    "collapsed": false,
    "pycharm": {
     "name": "#%%\n"
    }
   }
  },
  {
   "cell_type": "code",
   "execution_count": 271,
   "outputs": [
    {
     "data": {
      "text/plain": "           0  index    return\n0   0.011900     62  0.058616\n1   0.020507     49  0.039255\n2   0.060266      4 -0.008406\n3   0.028455     63 -0.014571\n4  -0.023104     40  0.017862\n5   0.037637     60  0.040622\n6  -0.007087     19  0.006886\n7   0.013595     58  0.028229\n8   0.008069     54  0.014946\n9  -0.000434     16  0.040590\n10  0.009064     74 -0.041228",
      "text/html": "<div>\n<style scoped>\n    .dataframe tbody tr th:only-of-type {\n        vertical-align: middle;\n    }\n\n    .dataframe tbody tr th {\n        vertical-align: top;\n    }\n\n    .dataframe thead th {\n        text-align: right;\n    }\n</style>\n<table border=\"1\" class=\"dataframe\">\n  <thead>\n    <tr style=\"text-align: right;\">\n      <th></th>\n      <th>0</th>\n      <th>index</th>\n      <th>return</th>\n    </tr>\n  </thead>\n  <tbody>\n    <tr>\n      <th>0</th>\n      <td>0.011900</td>\n      <td>62</td>\n      <td>0.058616</td>\n    </tr>\n    <tr>\n      <th>1</th>\n      <td>0.020507</td>\n      <td>49</td>\n      <td>0.039255</td>\n    </tr>\n    <tr>\n      <th>2</th>\n      <td>0.060266</td>\n      <td>4</td>\n      <td>-0.008406</td>\n    </tr>\n    <tr>\n      <th>3</th>\n      <td>0.028455</td>\n      <td>63</td>\n      <td>-0.014571</td>\n    </tr>\n    <tr>\n      <th>4</th>\n      <td>-0.023104</td>\n      <td>40</td>\n      <td>0.017862</td>\n    </tr>\n    <tr>\n      <th>5</th>\n      <td>0.037637</td>\n      <td>60</td>\n      <td>0.040622</td>\n    </tr>\n    <tr>\n      <th>6</th>\n      <td>-0.007087</td>\n      <td>19</td>\n      <td>0.006886</td>\n    </tr>\n    <tr>\n      <th>7</th>\n      <td>0.013595</td>\n      <td>58</td>\n      <td>0.028229</td>\n    </tr>\n    <tr>\n      <th>8</th>\n      <td>0.008069</td>\n      <td>54</td>\n      <td>0.014946</td>\n    </tr>\n    <tr>\n      <th>9</th>\n      <td>-0.000434</td>\n      <td>16</td>\n      <td>0.040590</td>\n    </tr>\n    <tr>\n      <th>10</th>\n      <td>0.009064</td>\n      <td>74</td>\n      <td>-0.041228</td>\n    </tr>\n  </tbody>\n</table>\n</div>"
     },
     "execution_count": 271,
     "metadata": {},
     "output_type": "execute_result"
    }
   ],
   "source": [
    "y_pred_df.join(y_test_df)"
   ],
   "metadata": {
    "collapsed": false,
    "pycharm": {
     "name": "#%%\n"
    }
   }
  }
 ],
 "metadata": {
  "kernelspec": {
   "display_name": "Python 3",
   "language": "python",
   "name": "python3"
  },
  "language_info": {
   "codemirror_mode": {
    "name": "ipython",
    "version": 2
   },
   "file_extension": ".py",
   "mimetype": "text/x-python",
   "name": "python",
   "nbconvert_exporter": "python",
   "pygments_lexer": "ipython2",
   "version": "2.7.6"
  }
 },
 "nbformat": 4,
 "nbformat_minor": 0
}