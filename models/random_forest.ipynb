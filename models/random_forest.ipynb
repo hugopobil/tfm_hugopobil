{
 "cells": [
  {
   "cell_type": "code",
   "execution_count": 3,
   "metadata": {
    "collapsed": true
   },
   "outputs": [],
   "source": [
    "import pandas as pd\n",
    "from sklearn.ensemble import RandomForestClassifier\n",
    "from sklearn.model_selection import train_test_split\n",
    "from sklearn.metrics import confusion_matrix, accuracy_score"
   ]
  },
  {
   "cell_type": "code",
   "execution_count": 4,
   "outputs": [
    {
     "data": {
      "text/plain": "   Unnamed: 0                                             tweets  \\\n0           0  Airdrop is live , dont be late sir :)\\n\\n\\n\\n\\...   \n1           1  something Big is coming \\n$KLV Klever 💜🌟\\n\\nBT...   \n2           2  Easy money with \\n\\n bsc bnb BinanceSmartChain...   \n3           3  NanoDogecoin is the King👑of the BSC Blockchain...   \n4           4  Bitcoin News Roundup for June 17, 2020 cryptoc...   \n\n                                      cleaned_tweets  date_clean  \\\n0  Airdrop live dont late sir Airdrop Airdrops Ai...  2021-10-28   \n1  something Big coming KLV Klever BTC ETH BNB TR...  2021-10-22   \n2  Easy money bsc bnb BinanceSmartChain binance g...  2021-08-16   \n3  NanoDogecoin King BSC Blockchain DeFi altcoins...  2021-10-19   \n4  Bitcoin News Roundup June cryptocurrencies bit...  2021-12-30   \n\n   subjectivity  polarity sentiment crypto_sentiment  target  \n0      0.550000 -0.081818  negative         positive   False  \n1      0.100000  0.000000   neutral         positive   False  \n2      0.833333  0.433333  positive         positive    True  \n3      0.733333  0.433333  positive         negative   False  \n4      0.000000  0.000000   neutral         positive   False  ",
      "text/html": "<div>\n<style scoped>\n    .dataframe tbody tr th:only-of-type {\n        vertical-align: middle;\n    }\n\n    .dataframe tbody tr th {\n        vertical-align: top;\n    }\n\n    .dataframe thead th {\n        text-align: right;\n    }\n</style>\n<table border=\"1\" class=\"dataframe\">\n  <thead>\n    <tr style=\"text-align: right;\">\n      <th></th>\n      <th>Unnamed: 0</th>\n      <th>tweets</th>\n      <th>cleaned_tweets</th>\n      <th>date_clean</th>\n      <th>subjectivity</th>\n      <th>polarity</th>\n      <th>sentiment</th>\n      <th>crypto_sentiment</th>\n      <th>target</th>\n    </tr>\n  </thead>\n  <tbody>\n    <tr>\n      <th>0</th>\n      <td>0</td>\n      <td>Airdrop is live , dont be late sir :)\\n\\n\\n\\n\\...</td>\n      <td>Airdrop live dont late sir Airdrop Airdrops Ai...</td>\n      <td>2021-10-28</td>\n      <td>0.550000</td>\n      <td>-0.081818</td>\n      <td>negative</td>\n      <td>positive</td>\n      <td>False</td>\n    </tr>\n    <tr>\n      <th>1</th>\n      <td>1</td>\n      <td>something Big is coming \\n$KLV Klever 💜🌟\\n\\nBT...</td>\n      <td>something Big coming KLV Klever BTC ETH BNB TR...</td>\n      <td>2021-10-22</td>\n      <td>0.100000</td>\n      <td>0.000000</td>\n      <td>neutral</td>\n      <td>positive</td>\n      <td>False</td>\n    </tr>\n    <tr>\n      <th>2</th>\n      <td>2</td>\n      <td>Easy money with \\n\\n bsc bnb BinanceSmartChain...</td>\n      <td>Easy money bsc bnb BinanceSmartChain binance g...</td>\n      <td>2021-08-16</td>\n      <td>0.833333</td>\n      <td>0.433333</td>\n      <td>positive</td>\n      <td>positive</td>\n      <td>True</td>\n    </tr>\n    <tr>\n      <th>3</th>\n      <td>3</td>\n      <td>NanoDogecoin is the King👑of the BSC Blockchain...</td>\n      <td>NanoDogecoin King BSC Blockchain DeFi altcoins...</td>\n      <td>2021-10-19</td>\n      <td>0.733333</td>\n      <td>0.433333</td>\n      <td>positive</td>\n      <td>negative</td>\n      <td>False</td>\n    </tr>\n    <tr>\n      <th>4</th>\n      <td>4</td>\n      <td>Bitcoin News Roundup for June 17, 2020 cryptoc...</td>\n      <td>Bitcoin News Roundup June cryptocurrencies bit...</td>\n      <td>2021-12-30</td>\n      <td>0.000000</td>\n      <td>0.000000</td>\n      <td>neutral</td>\n      <td>positive</td>\n      <td>False</td>\n    </tr>\n  </tbody>\n</table>\n</div>"
     },
     "execution_count": 4,
     "metadata": {},
     "output_type": "execute_result"
    }
   ],
   "source": [
    "directory = '~/PycharmProjects/tfm_hugopobil'\n",
    "data = pd.read_csv(f'{directory}/data/tweets_nlp_modelling.csv')\n",
    "data.head()"
   ],
   "metadata": {
    "collapsed": false,
    "pycharm": {
     "name": "#%%\n"
    }
   }
  },
  {
   "cell_type": "code",
   "execution_count": 5,
   "outputs": [],
   "source": [
    "X = data['polarity']\n",
    "y = data['target']\n",
    "\n",
    "dummies = pd.get_dummies(data[['sentiment', 'crypto_sentiment']])\n",
    "frames = [X, dummies]\n",
    "X = pd.concat(frames, axis=1)"
   ],
   "metadata": {
    "collapsed": false,
    "pycharm": {
     "name": "#%%\n"
    }
   }
  },
  {
   "cell_type": "code",
   "execution_count": 6,
   "outputs": [],
   "source": [
    "X_train, X_test, y_train, y_test = train_test_split(X, y, test_size=0.1,\n",
    "                                                    random_state=123)"
   ],
   "metadata": {
    "collapsed": false,
    "pycharm": {
     "name": "#%%\n"
    }
   }
  },
  {
   "cell_type": "code",
   "execution_count": 7,
   "outputs": [
    {
     "name": "stdout",
     "output_type": "stream",
     "text": [
      "Index(['polarity', 'sentiment_negative', 'sentiment_neutral',\n",
      "       'sentiment_positive', 'crypto_sentiment_negative',\n",
      "       'crypto_sentiment_positive'],\n",
      "      dtype='object')\n"
     ]
    },
    {
     "data": {
      "text/plain": "       polarity  sentiment_negative  sentiment_neutral  sentiment_positive  \\\n5508   0.500000                   0                  0                   1   \n11462  0.000000                   0                  1                   0   \n7464   0.000000                   0                  1                   0   \n3517   0.000000                   0                  1                   0   \n68     0.666667                   0                  0                   1   \n\n       crypto_sentiment_negative  crypto_sentiment_positive  \n5508                           0                          1  \n11462                          0                          1  \n7464                           0                          1  \n3517                           1                          0  \n68                             0                          1  ",
      "text/html": "<div>\n<style scoped>\n    .dataframe tbody tr th:only-of-type {\n        vertical-align: middle;\n    }\n\n    .dataframe tbody tr th {\n        vertical-align: top;\n    }\n\n    .dataframe thead th {\n        text-align: right;\n    }\n</style>\n<table border=\"1\" class=\"dataframe\">\n  <thead>\n    <tr style=\"text-align: right;\">\n      <th></th>\n      <th>polarity</th>\n      <th>sentiment_negative</th>\n      <th>sentiment_neutral</th>\n      <th>sentiment_positive</th>\n      <th>crypto_sentiment_negative</th>\n      <th>crypto_sentiment_positive</th>\n    </tr>\n  </thead>\n  <tbody>\n    <tr>\n      <th>5508</th>\n      <td>0.500000</td>\n      <td>0</td>\n      <td>0</td>\n      <td>1</td>\n      <td>0</td>\n      <td>1</td>\n    </tr>\n    <tr>\n      <th>11462</th>\n      <td>0.000000</td>\n      <td>0</td>\n      <td>1</td>\n      <td>0</td>\n      <td>0</td>\n      <td>1</td>\n    </tr>\n    <tr>\n      <th>7464</th>\n      <td>0.000000</td>\n      <td>0</td>\n      <td>1</td>\n      <td>0</td>\n      <td>0</td>\n      <td>1</td>\n    </tr>\n    <tr>\n      <th>3517</th>\n      <td>0.000000</td>\n      <td>0</td>\n      <td>1</td>\n      <td>0</td>\n      <td>1</td>\n      <td>0</td>\n    </tr>\n    <tr>\n      <th>68</th>\n      <td>0.666667</td>\n      <td>0</td>\n      <td>0</td>\n      <td>1</td>\n      <td>0</td>\n      <td>1</td>\n    </tr>\n  </tbody>\n</table>\n</div>"
     },
     "execution_count": 7,
     "metadata": {},
     "output_type": "execute_result"
    }
   ],
   "source": [
    "print(X_train.columns)\n",
    "X_train.head()"
   ],
   "metadata": {
    "collapsed": false,
    "pycharm": {
     "name": "#%%\n"
    }
   }
  },
  {
   "cell_type": "code",
   "execution_count": 12,
   "outputs": [],
   "source": [
    "model = RandomForestClassifier(max_depth=100, random_state=123)\n",
    "model_fit = model.fit(X_train, y_train)\n",
    "y_pred = model.predict(X_test)"
   ],
   "metadata": {
    "collapsed": false,
    "pycharm": {
     "name": "#%%\n"
    }
   }
  },
  {
   "cell_type": "code",
   "execution_count": 13,
   "outputs": [
    {
     "data": {
      "text/plain": "1.0"
     },
     "execution_count": 13,
     "metadata": {},
     "output_type": "execute_result"
    }
   ],
   "source": [
    "accuracy_score(y_test, y_pred)"
   ],
   "metadata": {
    "collapsed": false,
    "pycharm": {
     "name": "#%%\n"
    }
   }
  },
  {
   "cell_type": "code",
   "execution_count": 14,
   "outputs": [
    {
     "data": {
      "text/plain": "array([[1700,    0],\n       [   0,  632]])"
     },
     "execution_count": 14,
     "metadata": {},
     "output_type": "execute_result"
    }
   ],
   "source": [
    "confusion_matrix(y_test, y_pred)"
   ],
   "metadata": {
    "collapsed": false,
    "pycharm": {
     "name": "#%%\n"
    }
   }
  }
 ],
 "metadata": {
  "kernelspec": {
   "display_name": "Python 3",
   "language": "python",
   "name": "python3"
  },
  "language_info": {
   "codemirror_mode": {
    "name": "ipython",
    "version": 2
   },
   "file_extension": ".py",
   "mimetype": "text/x-python",
   "name": "python",
   "nbconvert_exporter": "python",
   "pygments_lexer": "ipython2",
   "version": "2.7.6"
  }
 },
 "nbformat": 4,
 "nbformat_minor": 0
}