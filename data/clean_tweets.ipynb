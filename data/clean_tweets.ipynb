{
 "cells": [
  {
   "cell_type": "code",
   "execution_count": 40,
   "metadata": {
    "collapsed": true
   },
   "outputs": [],
   "source": [
    "import pandas as pd\n",
    "\n",
    "# Own functions\n",
    "from functions.tweets import clean_tweets"
   ]
  },
  {
   "cell_type": "markdown",
   "source": [
    "The tweets have #Bitcoin and #btc hashtag.\n",
    "\n",
    "Collection star started on 6/2/2021, with an initial 100,000 tweets"
   ],
   "metadata": {
    "collapsed": false,
    "pycharm": {
     "name": "#%% md\n"
    }
   }
  },
  {
   "cell_type": "code",
   "execution_count": 51,
   "outputs": [
    {
     "name": "stderr",
     "output_type": "stream",
     "text": [
      "/var/folders/79/vrkgvtgs11v73pnty27_x1100000gn/T/ipykernel_12191/726559077.py:1: DtypeWarning: Columns (5,6,7,12) have mixed types. Specify dtype option on import or set low_memory=False.\n",
      "  btc = pd.read_csv('bitcoin_tweets.csv')\n"
     ]
    }
   ],
   "source": [
    "btc = pd.read_csv('bitcoin_tweets.csv')\n",
    "btc = btc.set_index('date')"
   ],
   "metadata": {
    "collapsed": false,
    "pycharm": {
     "name": "#%%\n"
    }
   }
  },
  {
   "cell_type": "code",
   "execution_count": 52,
   "outputs": [
    {
     "data": {
      "text/plain": "                                                    user_name  \\\ndate                                                            \n2021-02-10 23:59:04                             DeSota Wilson   \n2021-02-10 23:58:48                                  CryptoND   \n2021-02-10 23:54:48                                 Tdlmatias   \n2021-02-10 23:54:33                      Crypto is the future   \n2021-02-10 23:54:06  Alex Kirchmaier 🇦🇹🇸🇪 #FactsSuperspreader   \n\n                       user_location  \\\ndate                                   \n2021-02-10 23:59:04      Atlanta, GA   \n2021-02-10 23:58:48              NaN   \n2021-02-10 23:54:48  London, England   \n2021-02-10 23:54:33              NaN   \n2021-02-10 23:54:06           Europa   \n\n                                                      user_description  \\\ndate                                                                     \n2021-02-10 23:59:04  Biz Consultant, real estate, fintech, startups...   \n2021-02-10 23:58:48  😎 BITCOINLIVE is a Dutch platform aimed at inf...   \n2021-02-10 23:54:48  IM Academy : The best #forex, #SelfEducation, ...   \n2021-02-10 23:54:33  I will post a lot of buying signals for BTC tr...   \n2021-02-10 23:54:06  Co-founder @RENJERJerky | Forbes 30Under30 | I...   \n\n                            user_created  user_followers user_friends  \\\ndate                                                                    \n2021-02-10 23:59:04  2009-04-26 20:05:09          8534.0         7605   \n2021-02-10 23:58:48  2019-10-17 20:12:10          6769.0         1532   \n2021-02-10 23:54:48  2014-11-10 10:50:37           128.0          332   \n2021-02-10 23:54:33  2019-09-28 16:48:12           625.0          129   \n2021-02-10 23:54:06  2016-02-03 13:15:55          1249.0         1472   \n\n                    user_favourites user_verified  \\\ndate                                                \n2021-02-10 23:59:04            4838         False   \n2021-02-10 23:58:48           25483         False   \n2021-02-10 23:54:48             924         False   \n2021-02-10 23:54:33              14         False   \n2021-02-10 23:54:06           10482         False   \n\n                                                                  text  \\\ndate                                                                     \n2021-02-10 23:59:04  Blue Ridge Bank shares halted by NYSE after #b...   \n2021-02-10 23:58:48  😎 Today, that's this #Thursday, we will do a \"...   \n2021-02-10 23:54:48  Guys evening, I have read this article about B...   \n2021-02-10 23:54:33  $BTC A big chance in a billion! Price: \\487264...   \n2021-02-10 23:54:06  This network is secured by 9 508 nodes as of t...   \n\n                                                      hashtags  \\\ndate                                                             \n2021-02-10 23:59:04                                ['bitcoin']   \n2021-02-10 23:58:48  ['Thursday', 'Btc', 'wallet', 'security']   \n2021-02-10 23:54:48                                        NaN   \n2021-02-10 23:54:33         ['Bitcoin', 'FX', 'BTC', 'crypto']   \n2021-02-10 23:54:06                                    ['BTC']   \n\n                                  source is_retweet  \ndate                                                 \n2021-02-10 23:59:04      Twitter Web App      False  \n2021-02-10 23:58:48  Twitter for Android      False  \n2021-02-10 23:54:48      Twitter Web App      False  \n2021-02-10 23:54:33              dlvr.it      False  \n2021-02-10 23:54:06      Twitter Web App      False  ",
      "text/html": "<div>\n<style scoped>\n    .dataframe tbody tr th:only-of-type {\n        vertical-align: middle;\n    }\n\n    .dataframe tbody tr th {\n        vertical-align: top;\n    }\n\n    .dataframe thead th {\n        text-align: right;\n    }\n</style>\n<table border=\"1\" class=\"dataframe\">\n  <thead>\n    <tr style=\"text-align: right;\">\n      <th></th>\n      <th>user_name</th>\n      <th>user_location</th>\n      <th>user_description</th>\n      <th>user_created</th>\n      <th>user_followers</th>\n      <th>user_friends</th>\n      <th>user_favourites</th>\n      <th>user_verified</th>\n      <th>text</th>\n      <th>hashtags</th>\n      <th>source</th>\n      <th>is_retweet</th>\n    </tr>\n    <tr>\n      <th>date</th>\n      <th></th>\n      <th></th>\n      <th></th>\n      <th></th>\n      <th></th>\n      <th></th>\n      <th></th>\n      <th></th>\n      <th></th>\n      <th></th>\n      <th></th>\n      <th></th>\n    </tr>\n  </thead>\n  <tbody>\n    <tr>\n      <th>2021-02-10 23:59:04</th>\n      <td>DeSota Wilson</td>\n      <td>Atlanta, GA</td>\n      <td>Biz Consultant, real estate, fintech, startups...</td>\n      <td>2009-04-26 20:05:09</td>\n      <td>8534.0</td>\n      <td>7605</td>\n      <td>4838</td>\n      <td>False</td>\n      <td>Blue Ridge Bank shares halted by NYSE after #b...</td>\n      <td>['bitcoin']</td>\n      <td>Twitter Web App</td>\n      <td>False</td>\n    </tr>\n    <tr>\n      <th>2021-02-10 23:58:48</th>\n      <td>CryptoND</td>\n      <td>NaN</td>\n      <td>😎 BITCOINLIVE is a Dutch platform aimed at inf...</td>\n      <td>2019-10-17 20:12:10</td>\n      <td>6769.0</td>\n      <td>1532</td>\n      <td>25483</td>\n      <td>False</td>\n      <td>😎 Today, that's this #Thursday, we will do a \"...</td>\n      <td>['Thursday', 'Btc', 'wallet', 'security']</td>\n      <td>Twitter for Android</td>\n      <td>False</td>\n    </tr>\n    <tr>\n      <th>2021-02-10 23:54:48</th>\n      <td>Tdlmatias</td>\n      <td>London, England</td>\n      <td>IM Academy : The best #forex, #SelfEducation, ...</td>\n      <td>2014-11-10 10:50:37</td>\n      <td>128.0</td>\n      <td>332</td>\n      <td>924</td>\n      <td>False</td>\n      <td>Guys evening, I have read this article about B...</td>\n      <td>NaN</td>\n      <td>Twitter Web App</td>\n      <td>False</td>\n    </tr>\n    <tr>\n      <th>2021-02-10 23:54:33</th>\n      <td>Crypto is the future</td>\n      <td>NaN</td>\n      <td>I will post a lot of buying signals for BTC tr...</td>\n      <td>2019-09-28 16:48:12</td>\n      <td>625.0</td>\n      <td>129</td>\n      <td>14</td>\n      <td>False</td>\n      <td>$BTC A big chance in a billion! Price: \\487264...</td>\n      <td>['Bitcoin', 'FX', 'BTC', 'crypto']</td>\n      <td>dlvr.it</td>\n      <td>False</td>\n    </tr>\n    <tr>\n      <th>2021-02-10 23:54:06</th>\n      <td>Alex Kirchmaier 🇦🇹🇸🇪 #FactsSuperspreader</td>\n      <td>Europa</td>\n      <td>Co-founder @RENJERJerky | Forbes 30Under30 | I...</td>\n      <td>2016-02-03 13:15:55</td>\n      <td>1249.0</td>\n      <td>1472</td>\n      <td>10482</td>\n      <td>False</td>\n      <td>This network is secured by 9 508 nodes as of t...</td>\n      <td>['BTC']</td>\n      <td>Twitter Web App</td>\n      <td>False</td>\n    </tr>\n  </tbody>\n</table>\n</div>"
     },
     "execution_count": 52,
     "metadata": {},
     "output_type": "execute_result"
    }
   ],
   "source": [
    "btc.head()"
   ],
   "metadata": {
    "collapsed": false,
    "pycharm": {
     "name": "#%%\n"
    }
   }
  },
  {
   "cell_type": "code",
   "execution_count": 54,
   "outputs": [
    {
     "data": {
      "text/plain": "('2021-02-10 23:59:04', '2022-03-02 16:38:11')"
     },
     "execution_count": 54,
     "metadata": {},
     "output_type": "execute_result"
    }
   ],
   "source": [
    "btc.index[0], btc.index[-1]"
   ],
   "metadata": {
    "collapsed": false,
    "pycharm": {
     "name": "#%%\n"
    }
   }
  },
  {
   "cell_type": "code",
   "execution_count": 55,
   "outputs": [
    {
     "data": {
      "text/plain": "                                                    user_name  user_location  \\\ndate                                                                           \n2021-02-10 23:59:04                             DeSota Wilson    Atlanta, GA   \n2021-02-10 23:58:48                                  CryptoND            NaN   \n2021-02-10 23:54:33                      Crypto is the future            NaN   \n2021-02-10 23:54:06  Alex Kirchmaier 🇦🇹🇸🇪 #FactsSuperspreader         Europa   \n2021-02-10 23:53:30                       ZerrBenz™ ⚔ ✪ 20732  Bkk, Thailand   \n\n                                                      user_description  \\\ndate                                                                     \n2021-02-10 23:59:04  Biz Consultant, real estate, fintech, startups...   \n2021-02-10 23:58:48  😎 BITCOINLIVE is a Dutch platform aimed at inf...   \n2021-02-10 23:54:33  I will post a lot of buying signals for BTC tr...   \n2021-02-10 23:54:06  Co-founder @RENJERJerky | Forbes 30Under30 | I...   \n2021-02-10 23:53:30  I'm a cat slave 🐱 Interested in Blockchain · T...   \n\n                            user_created  user_followers user_friends  \\\ndate                                                                    \n2021-02-10 23:59:04  2009-04-26 20:05:09          8534.0         7605   \n2021-02-10 23:58:48  2019-10-17 20:12:10          6769.0         1532   \n2021-02-10 23:54:33  2019-09-28 16:48:12           625.0          129   \n2021-02-10 23:54:06  2016-02-03 13:15:55          1249.0         1472   \n2021-02-10 23:53:30  2010-01-12 07:00:04           742.0          716   \n\n                    user_favourites user_verified  \\\ndate                                                \n2021-02-10 23:59:04            4838         False   \n2021-02-10 23:58:48           25483         False   \n2021-02-10 23:54:33              14         False   \n2021-02-10 23:54:06           10482         False   \n2021-02-10 23:53:30            2444         False   \n\n                                                                  text  \\\ndate                                                                     \n2021-02-10 23:59:04  Blue Ridge Bank shares halted by NYSE after #b...   \n2021-02-10 23:58:48  😎 Today, that's this #Thursday, we will do a \"...   \n2021-02-10 23:54:33  $BTC A big chance in a billion! Price: \\487264...   \n2021-02-10 23:54:06  This network is secured by 9 508 nodes as of t...   \n2021-02-10 23:53:30  💹 Trade #Crypto on #Binance \\n\\n📌 Enjoy #Cashb...   \n\n                                                      hashtags  \\\ndate                                                             \n2021-02-10 23:59:04                                ['bitcoin']   \n2021-02-10 23:58:48  ['Thursday', 'Btc', 'wallet', 'security']   \n2021-02-10 23:54:33         ['Bitcoin', 'FX', 'BTC', 'crypto']   \n2021-02-10 23:54:06                                    ['BTC']   \n2021-02-10 23:53:30          ['Crypto', 'Binance', 'Cashback']   \n\n                                  source is_retweet  \ndate                                                 \n2021-02-10 23:59:04      Twitter Web App      False  \n2021-02-10 23:58:48  Twitter for Android      False  \n2021-02-10 23:54:33              dlvr.it      False  \n2021-02-10 23:54:06      Twitter Web App      False  \n2021-02-10 23:53:30      Twitter Web App      False  ",
      "text/html": "<div>\n<style scoped>\n    .dataframe tbody tr th:only-of-type {\n        vertical-align: middle;\n    }\n\n    .dataframe tbody tr th {\n        vertical-align: top;\n    }\n\n    .dataframe thead th {\n        text-align: right;\n    }\n</style>\n<table border=\"1\" class=\"dataframe\">\n  <thead>\n    <tr style=\"text-align: right;\">\n      <th></th>\n      <th>user_name</th>\n      <th>user_location</th>\n      <th>user_description</th>\n      <th>user_created</th>\n      <th>user_followers</th>\n      <th>user_friends</th>\n      <th>user_favourites</th>\n      <th>user_verified</th>\n      <th>text</th>\n      <th>hashtags</th>\n      <th>source</th>\n      <th>is_retweet</th>\n    </tr>\n    <tr>\n      <th>date</th>\n      <th></th>\n      <th></th>\n      <th></th>\n      <th></th>\n      <th></th>\n      <th></th>\n      <th></th>\n      <th></th>\n      <th></th>\n      <th></th>\n      <th></th>\n      <th></th>\n    </tr>\n  </thead>\n  <tbody>\n    <tr>\n      <th>2021-02-10 23:59:04</th>\n      <td>DeSota Wilson</td>\n      <td>Atlanta, GA</td>\n      <td>Biz Consultant, real estate, fintech, startups...</td>\n      <td>2009-04-26 20:05:09</td>\n      <td>8534.0</td>\n      <td>7605</td>\n      <td>4838</td>\n      <td>False</td>\n      <td>Blue Ridge Bank shares halted by NYSE after #b...</td>\n      <td>['bitcoin']</td>\n      <td>Twitter Web App</td>\n      <td>False</td>\n    </tr>\n    <tr>\n      <th>2021-02-10 23:58:48</th>\n      <td>CryptoND</td>\n      <td>NaN</td>\n      <td>😎 BITCOINLIVE is a Dutch platform aimed at inf...</td>\n      <td>2019-10-17 20:12:10</td>\n      <td>6769.0</td>\n      <td>1532</td>\n      <td>25483</td>\n      <td>False</td>\n      <td>😎 Today, that's this #Thursday, we will do a \"...</td>\n      <td>['Thursday', 'Btc', 'wallet', 'security']</td>\n      <td>Twitter for Android</td>\n      <td>False</td>\n    </tr>\n    <tr>\n      <th>2021-02-10 23:54:33</th>\n      <td>Crypto is the future</td>\n      <td>NaN</td>\n      <td>I will post a lot of buying signals for BTC tr...</td>\n      <td>2019-09-28 16:48:12</td>\n      <td>625.0</td>\n      <td>129</td>\n      <td>14</td>\n      <td>False</td>\n      <td>$BTC A big chance in a billion! Price: \\487264...</td>\n      <td>['Bitcoin', 'FX', 'BTC', 'crypto']</td>\n      <td>dlvr.it</td>\n      <td>False</td>\n    </tr>\n    <tr>\n      <th>2021-02-10 23:54:06</th>\n      <td>Alex Kirchmaier 🇦🇹🇸🇪 #FactsSuperspreader</td>\n      <td>Europa</td>\n      <td>Co-founder @RENJERJerky | Forbes 30Under30 | I...</td>\n      <td>2016-02-03 13:15:55</td>\n      <td>1249.0</td>\n      <td>1472</td>\n      <td>10482</td>\n      <td>False</td>\n      <td>This network is secured by 9 508 nodes as of t...</td>\n      <td>['BTC']</td>\n      <td>Twitter Web App</td>\n      <td>False</td>\n    </tr>\n    <tr>\n      <th>2021-02-10 23:53:30</th>\n      <td>ZerrBenz™ ⚔ ✪ 20732</td>\n      <td>Bkk, Thailand</td>\n      <td>I'm a cat slave 🐱 Interested in Blockchain · T...</td>\n      <td>2010-01-12 07:00:04</td>\n      <td>742.0</td>\n      <td>716</td>\n      <td>2444</td>\n      <td>False</td>\n      <td>💹 Trade #Crypto on #Binance \\n\\n📌 Enjoy #Cashb...</td>\n      <td>['Crypto', 'Binance', 'Cashback']</td>\n      <td>Twitter Web App</td>\n      <td>False</td>\n    </tr>\n  </tbody>\n</table>\n</div>"
     },
     "execution_count": 55,
     "metadata": {},
     "output_type": "execute_result"
    }
   ],
   "source": [
    "# Delete the values NAN from the hashtag column\n",
    "btc.dropna(subset=['hashtags'], inplace=True)\n",
    "btc.head()"
   ],
   "metadata": {
    "collapsed": false,
    "pycharm": {
     "name": "#%%\n"
    }
   }
  },
  {
   "cell_type": "code",
   "execution_count": 56,
   "outputs": [
    {
     "name": "stdout",
     "output_type": "stream",
     "text": [
      "Tweets size:  2330479\n"
     ]
    }
   ],
   "source": [
    "# The size of the dataset\n",
    "print('Tweets size: ', len(btc))"
   ],
   "metadata": {
    "collapsed": false,
    "pycharm": {
     "name": "#%%\n"
    }
   }
  },
  {
   "cell_type": "code",
   "execution_count": 58,
   "outputs": [],
   "source": [
    "# Clean the text body for all tweets\n",
    "btc['clean_text'] = btc['text'].apply(lambda x: clean_tweets(x))"
   ],
   "metadata": {
    "collapsed": false,
    "pycharm": {
     "name": "#%%\n"
    }
   }
  },
  {
   "cell_type": "code",
   "execution_count": 59,
   "outputs": [
    {
     "data": {
      "text/plain": "                                                    user_name  \\\ndate                                                            \n2021-02-10 23:59:04                             DeSota Wilson   \n2021-02-10 23:58:48                                  CryptoND   \n2021-02-10 23:54:33                      Crypto is the future   \n2021-02-10 23:54:06  Alex Kirchmaier 🇦🇹🇸🇪 #FactsSuperspreader   \n2021-02-10 23:53:30                       ZerrBenz™ ⚔ ✪ 20732   \n...                                                       ...   \n2022-03-02 16:38:23                                Pyscho Ape   \n2022-03-02 16:38:21                       🇺🇦 Thomas T. Thai 🌻   \n2022-03-02 16:38:21                              Bitcoin Bot🤖   \n2022-03-02 16:38:14                            Sajjad Hossain   \n2022-03-02 16:38:11                                   Kotha40   \n\n                       user_location  \\\ndate                                   \n2021-02-10 23:59:04      Atlanta, GA   \n2021-02-10 23:58:48              NaN   \n2021-02-10 23:54:33              NaN   \n2021-02-10 23:54:06           Europa   \n2021-02-10 23:53:30    Bkk, Thailand   \n...                              ...   \n2022-03-02 16:38:23    New York, USA   \n2022-03-02 16:38:21              NaN   \n2022-03-02 16:38:21           server   \n2022-03-02 16:38:14              NaN   \n2022-03-02 16:38:11  Soudersburg, PA   \n\n                                                      user_description  \\\ndate                                                                     \n2021-02-10 23:59:04  Biz Consultant, real estate, fintech, startups...   \n2021-02-10 23:58:48  😎 BITCOINLIVE is a Dutch platform aimed at inf...   \n2021-02-10 23:54:33  I will post a lot of buying signals for BTC tr...   \n2021-02-10 23:54:06  Co-founder @RENJERJerky | Forbes 30Under30 | I...   \n2021-02-10 23:53:30  I'm a cat slave 🐱 Interested in Blockchain · T...   \n...                                                                ...   \n2022-03-02 16:38:23  Meet Psycho Ape unique NFT project build on #p...   \n2022-03-02 16:38:21  Simple guy skilled in leadership, business, fi...   \n2022-03-02 16:38:21  I Tweet the latest #Bitcoin price every 5 min....   \n2022-03-02 16:38:14           Follow me and 💯💯💯💯💯💯💯💯💯💯\\nFollow back...   \n2022-03-02 16:38:11                💯 💯 💯 💯 💯 💯 💯 💯 💯 💯 💯 💯 💯 💯 💯 💯 💯 💯   \n\n                            user_created  user_followers user_friends  \\\ndate                                                                    \n2021-02-10 23:59:04  2009-04-26 20:05:09          8534.0         7605   \n2021-02-10 23:58:48  2019-10-17 20:12:10          6769.0         1532   \n2021-02-10 23:54:33  2019-09-28 16:48:12           625.0          129   \n2021-02-10 23:54:06  2016-02-03 13:15:55          1249.0         1472   \n2021-02-10 23:53:30  2010-01-12 07:00:04           742.0          716   \n...                                  ...             ...          ...   \n2022-03-02 16:38:23  2019-12-17 00:57:37          1959.0       5002.0   \n2022-03-02 16:38:21  2018-02-23 07:51:16          3745.0         14.0   \n2022-03-02 16:38:21  2021-10-01 17:41:03           725.0          1.0   \n2022-03-02 16:38:14  2021-04-10 15:39:16          4069.0       4697.0   \n2022-03-02 16:38:11  2017-09-14 06:41:03         10357.0      10602.0   \n\n                    user_favourites user_verified  \\\ndate                                                \n2021-02-10 23:59:04            4838         False   \n2021-02-10 23:58:48           25483         False   \n2021-02-10 23:54:33              14         False   \n2021-02-10 23:54:06           10482         False   \n2021-02-10 23:53:30            2444         False   \n...                             ...           ...   \n2022-03-02 16:38:23          4472.0         False   \n2022-03-02 16:38:21          3193.0         False   \n2022-03-02 16:38:21            26.0         False   \n2022-03-02 16:38:14          1205.0         False   \n2022-03-02 16:38:11          7052.0         False   \n\n                                                                  text  \\\ndate                                                                     \n2021-02-10 23:59:04  Blue Ridge Bank shares halted by NYSE after #b...   \n2021-02-10 23:58:48  😎 Today, that's this #Thursday, we will do a \"...   \n2021-02-10 23:54:33  $BTC A big chance in a billion! Price: \\487264...   \n2021-02-10 23:54:06  This network is secured by 9 508 nodes as of t...   \n2021-02-10 23:53:30  💹 Trade #Crypto on #Binance \\n\\n📌 Enjoy #Cashb...   \n...                                                                ...   \n2022-03-02 16:38:23  👑Psycho Ape is an exclusive collection of uniq...   \n2022-03-02 16:38:21  #Russia (#Putin) invaliding #Ukraine is unfort...   \n2022-03-02 16:38:21      Current #Bitcoin Price is $44370 #BTC #Crypto   \n2022-03-02 16:38:14  #11MINUTES #BTC #CRYPTO\\n\\nThis is very intere...   \n2022-03-02 16:38:11  #Orijin #Polygon #IDO #BSC #Eth #BTC #Airdrop ...   \n\n                                                              hashtags  \\\ndate                                                                     \n2021-02-10 23:59:04                                        ['bitcoin']   \n2021-02-10 23:58:48          ['Thursday', 'Btc', 'wallet', 'security']   \n2021-02-10 23:54:33                 ['Bitcoin', 'FX', 'BTC', 'crypto']   \n2021-02-10 23:54:06                                            ['BTC']   \n2021-02-10 23:53:30                  ['Crypto', 'Binance', 'Cashback']   \n...                                                                ...   \n2022-03-02 16:38:23  ['NFTCommunity', 'NFTGiveaway', 'art', 'NFTdro...   \n2022-03-02 16:38:21  ['Russia', 'Putin', 'Ukraine', 'crypto', 'BTC'...   \n2022-03-02 16:38:21                       ['Bitcoin', 'BTC', 'Crypto']   \n2022-03-02 16:38:14                     ['11MINUTES', 'BTC', 'CRYPTO']   \n2022-03-02 16:38:11  ['Orijin', 'Polygon', 'IDO', 'BSC', 'Eth', 'BT...   \n\n                                  source is_retweet  \\\ndate                                                  \n2021-02-10 23:59:04      Twitter Web App      False   \n2021-02-10 23:58:48  Twitter for Android      False   \n2021-02-10 23:54:33              dlvr.it      False   \n2021-02-10 23:54:06      Twitter Web App      False   \n2021-02-10 23:53:30      Twitter Web App      False   \n...                                  ...        ...   \n2022-03-02 16:38:23   Twitter for iPhone      False   \n2022-03-02 16:38:21      Twitter Web App      False   \n2022-03-02 16:38:21        IAmBitcoinBot      False   \n2022-03-02 16:38:14  Twitter for Android      False   \n2022-03-02 16:38:11  Twitter for Android      False   \n\n                                                            clean_text  \ndate                                                                    \n2021-02-10 23:59:04  Blue Ridge Bank shares halted by NYSE after bi...  \n2021-02-10 23:58:48  😎 Today, that's this , we will do a \"🎬 Take 2\"...  \n2021-02-10 23:54:33  $BTC A big chance in a billion! Price: \\487264...  \n2021-02-10 23:54:06  This network is secured by 9 508 nodes as of t...  \n2021-02-10 23:53:30  💹 Trade  on  📌 Enjoy  10% of the Trading fee📌 ...  \n...                                                                ...  \n2022-03-02 16:38:23  👑Psycho Ape is an exclusive collection of uniq...  \n2022-03-02 16:38:21   () invaliding  is unfortunate and unnecessary...  \n2022-03-02 16:38:21                  Current Bitcoin Price is $44370    \n2022-03-02 16:38:14    This is very interesting project with big go...  \n2022-03-02 16:38:11          this is Really a strong project, all p...  \n\n[2330479 rows x 13 columns]",
      "text/html": "<div>\n<style scoped>\n    .dataframe tbody tr th:only-of-type {\n        vertical-align: middle;\n    }\n\n    .dataframe tbody tr th {\n        vertical-align: top;\n    }\n\n    .dataframe thead th {\n        text-align: right;\n    }\n</style>\n<table border=\"1\" class=\"dataframe\">\n  <thead>\n    <tr style=\"text-align: right;\">\n      <th></th>\n      <th>user_name</th>\n      <th>user_location</th>\n      <th>user_description</th>\n      <th>user_created</th>\n      <th>user_followers</th>\n      <th>user_friends</th>\n      <th>user_favourites</th>\n      <th>user_verified</th>\n      <th>text</th>\n      <th>hashtags</th>\n      <th>source</th>\n      <th>is_retweet</th>\n      <th>clean_text</th>\n    </tr>\n    <tr>\n      <th>date</th>\n      <th></th>\n      <th></th>\n      <th></th>\n      <th></th>\n      <th></th>\n      <th></th>\n      <th></th>\n      <th></th>\n      <th></th>\n      <th></th>\n      <th></th>\n      <th></th>\n      <th></th>\n    </tr>\n  </thead>\n  <tbody>\n    <tr>\n      <th>2021-02-10 23:59:04</th>\n      <td>DeSota Wilson</td>\n      <td>Atlanta, GA</td>\n      <td>Biz Consultant, real estate, fintech, startups...</td>\n      <td>2009-04-26 20:05:09</td>\n      <td>8534.0</td>\n      <td>7605</td>\n      <td>4838</td>\n      <td>False</td>\n      <td>Blue Ridge Bank shares halted by NYSE after #b...</td>\n      <td>['bitcoin']</td>\n      <td>Twitter Web App</td>\n      <td>False</td>\n      <td>Blue Ridge Bank shares halted by NYSE after bi...</td>\n    </tr>\n    <tr>\n      <th>2021-02-10 23:58:48</th>\n      <td>CryptoND</td>\n      <td>NaN</td>\n      <td>😎 BITCOINLIVE is a Dutch platform aimed at inf...</td>\n      <td>2019-10-17 20:12:10</td>\n      <td>6769.0</td>\n      <td>1532</td>\n      <td>25483</td>\n      <td>False</td>\n      <td>😎 Today, that's this #Thursday, we will do a \"...</td>\n      <td>['Thursday', 'Btc', 'wallet', 'security']</td>\n      <td>Twitter for Android</td>\n      <td>False</td>\n      <td>😎 Today, that's this , we will do a \"🎬 Take 2\"...</td>\n    </tr>\n    <tr>\n      <th>2021-02-10 23:54:33</th>\n      <td>Crypto is the future</td>\n      <td>NaN</td>\n      <td>I will post a lot of buying signals for BTC tr...</td>\n      <td>2019-09-28 16:48:12</td>\n      <td>625.0</td>\n      <td>129</td>\n      <td>14</td>\n      <td>False</td>\n      <td>$BTC A big chance in a billion! Price: \\487264...</td>\n      <td>['Bitcoin', 'FX', 'BTC', 'crypto']</td>\n      <td>dlvr.it</td>\n      <td>False</td>\n      <td>$BTC A big chance in a billion! Price: \\487264...</td>\n    </tr>\n    <tr>\n      <th>2021-02-10 23:54:06</th>\n      <td>Alex Kirchmaier 🇦🇹🇸🇪 #FactsSuperspreader</td>\n      <td>Europa</td>\n      <td>Co-founder @RENJERJerky | Forbes 30Under30 | I...</td>\n      <td>2016-02-03 13:15:55</td>\n      <td>1249.0</td>\n      <td>1472</td>\n      <td>10482</td>\n      <td>False</td>\n      <td>This network is secured by 9 508 nodes as of t...</td>\n      <td>['BTC']</td>\n      <td>Twitter Web App</td>\n      <td>False</td>\n      <td>This network is secured by 9 508 nodes as of t...</td>\n    </tr>\n    <tr>\n      <th>2021-02-10 23:53:30</th>\n      <td>ZerrBenz™ ⚔ ✪ 20732</td>\n      <td>Bkk, Thailand</td>\n      <td>I'm a cat slave 🐱 Interested in Blockchain · T...</td>\n      <td>2010-01-12 07:00:04</td>\n      <td>742.0</td>\n      <td>716</td>\n      <td>2444</td>\n      <td>False</td>\n      <td>💹 Trade #Crypto on #Binance \\n\\n📌 Enjoy #Cashb...</td>\n      <td>['Crypto', 'Binance', 'Cashback']</td>\n      <td>Twitter Web App</td>\n      <td>False</td>\n      <td>💹 Trade  on  📌 Enjoy  10% of the Trading fee📌 ...</td>\n    </tr>\n    <tr>\n      <th>...</th>\n      <td>...</td>\n      <td>...</td>\n      <td>...</td>\n      <td>...</td>\n      <td>...</td>\n      <td>...</td>\n      <td>...</td>\n      <td>...</td>\n      <td>...</td>\n      <td>...</td>\n      <td>...</td>\n      <td>...</td>\n      <td>...</td>\n    </tr>\n    <tr>\n      <th>2022-03-02 16:38:23</th>\n      <td>Pyscho Ape</td>\n      <td>New York, USA</td>\n      <td>Meet Psycho Ape unique NFT project build on #p...</td>\n      <td>2019-12-17 00:57:37</td>\n      <td>1959.0</td>\n      <td>5002.0</td>\n      <td>4472.0</td>\n      <td>False</td>\n      <td>👑Psycho Ape is an exclusive collection of uniq...</td>\n      <td>['NFTCommunity', 'NFTGiveaway', 'art', 'NFTdro...</td>\n      <td>Twitter for iPhone</td>\n      <td>False</td>\n      <td>👑Psycho Ape is an exclusive collection of uniq...</td>\n    </tr>\n    <tr>\n      <th>2022-03-02 16:38:21</th>\n      <td>🇺🇦 Thomas T. Thai 🌻</td>\n      <td>NaN</td>\n      <td>Simple guy skilled in leadership, business, fi...</td>\n      <td>2018-02-23 07:51:16</td>\n      <td>3745.0</td>\n      <td>14.0</td>\n      <td>3193.0</td>\n      <td>False</td>\n      <td>#Russia (#Putin) invaliding #Ukraine is unfort...</td>\n      <td>['Russia', 'Putin', 'Ukraine', 'crypto', 'BTC'...</td>\n      <td>Twitter Web App</td>\n      <td>False</td>\n      <td>() invaliding  is unfortunate and unnecessary...</td>\n    </tr>\n    <tr>\n      <th>2022-03-02 16:38:21</th>\n      <td>Bitcoin Bot🤖</td>\n      <td>server</td>\n      <td>I Tweet the latest #Bitcoin price every 5 min....</td>\n      <td>2021-10-01 17:41:03</td>\n      <td>725.0</td>\n      <td>1.0</td>\n      <td>26.0</td>\n      <td>False</td>\n      <td>Current #Bitcoin Price is $44370 #BTC #Crypto</td>\n      <td>['Bitcoin', 'BTC', 'Crypto']</td>\n      <td>IAmBitcoinBot</td>\n      <td>False</td>\n      <td>Current Bitcoin Price is $44370</td>\n    </tr>\n    <tr>\n      <th>2022-03-02 16:38:14</th>\n      <td>Sajjad Hossain</td>\n      <td>NaN</td>\n      <td>Follow me and 💯💯💯💯💯💯💯💯💯💯\\nFollow back...</td>\n      <td>2021-04-10 15:39:16</td>\n      <td>4069.0</td>\n      <td>4697.0</td>\n      <td>1205.0</td>\n      <td>False</td>\n      <td>#11MINUTES #BTC #CRYPTO\\n\\nThis is very intere...</td>\n      <td>['11MINUTES', 'BTC', 'CRYPTO']</td>\n      <td>Twitter for Android</td>\n      <td>False</td>\n      <td>This is very interesting project with big go...</td>\n    </tr>\n    <tr>\n      <th>2022-03-02 16:38:11</th>\n      <td>Kotha40</td>\n      <td>Soudersburg, PA</td>\n      <td>💯 💯 💯 💯 💯 💯 💯 💯 💯 💯 💯 💯 💯 💯 💯 💯 💯 💯</td>\n      <td>2017-09-14 06:41:03</td>\n      <td>10357.0</td>\n      <td>10602.0</td>\n      <td>7052.0</td>\n      <td>False</td>\n      <td>#Orijin #Polygon #IDO #BSC #Eth #BTC #Airdrop ...</td>\n      <td>['Orijin', 'Polygon', 'IDO', 'BSC', 'Eth', 'BT...</td>\n      <td>Twitter for Android</td>\n      <td>False</td>\n      <td>this is Really a strong project, all p...</td>\n    </tr>\n  </tbody>\n</table>\n<p>2330479 rows × 13 columns</p>\n</div>"
     },
     "execution_count": 59,
     "metadata": {},
     "output_type": "execute_result"
    }
   ],
   "source": [
    "btc"
   ],
   "metadata": {
    "collapsed": false,
    "pycharm": {
     "name": "#%%\n"
    }
   }
  },
  {
   "cell_type": "markdown",
   "source": [
    "### Save to local clean dataset"
   ],
   "metadata": {
    "collapsed": false,
    "pycharm": {
     "name": "#%% md\n"
    }
   }
  },
  {
   "cell_type": "code",
   "execution_count": 60,
   "outputs": [],
   "source": [
    "btc.to_csv('btc_clean.csv', index=False)"
   ],
   "metadata": {
    "collapsed": false,
    "pycharm": {
     "name": "#%%\n"
    }
   }
  }
 ],
 "metadata": {
  "kernelspec": {
   "display_name": "Python 3",
   "language": "python",
   "name": "python3"
  },
  "language_info": {
   "codemirror_mode": {
    "name": "ipython",
    "version": 2
   },
   "file_extension": ".py",
   "mimetype": "text/x-python",
   "name": "python",
   "nbconvert_exporter": "python",
   "pygments_lexer": "ipython2",
   "version": "2.7.6"
  }
 },
 "nbformat": 4,
 "nbformat_minor": 0
}