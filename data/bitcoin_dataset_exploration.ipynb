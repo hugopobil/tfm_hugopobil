{
 "cells": [
  {
   "cell_type": "code",
   "execution_count": 1,
   "metadata": {
    "collapsed": true
   },
   "outputs": [],
   "source": [
    "import pandas as pd"
   ]
  },
  {
   "cell_type": "code",
   "execution_count": 2,
   "outputs": [
    {
     "name": "stderr",
     "output_type": "stream",
     "text": [
      "/var/folders/79/vrkgvtgs11v73pnty27_x1100000gn/T/ipykernel_10433/2508748427.py:1: DtypeWarning: Columns (5,6,7,12) have mixed types. Specify dtype option on import or set low_memory=False.\n",
      "  btc = pd.read_csv('bitcoin_tweets.csv')\n"
     ]
    }
   ],
   "source": [
    "btc = pd.read_csv('bitcoin_tweets.csv')"
   ],
   "metadata": {
    "collapsed": false,
    "pycharm": {
     "name": "#%%\n"
    }
   }
  },
  {
   "cell_type": "code",
   "execution_count": 5,
   "outputs": [
    {
     "data": {
      "text/plain": "0          Blue Ridge Bank shares halted by NYSE after #b...\n1          😎 Today, that's this #Thursday, we will do a \"...\n2          Guys evening, I have read this article about B...\n3          $BTC A big chance in a billion! Price: \\487264...\n4          This network is secured by 9 508 nodes as of t...\n                                 ...                        \n2347465    👑Psycho Ape is an exclusive collection of uniq...\n2347466    #Russia (#Putin) invaliding #Ukraine is unfort...\n2347467        Current #Bitcoin Price is $44370 #BTC #Crypto\n2347468    #11MINUTES #BTC #CRYPTO\\n\\nThis is very intere...\n2347469    #Orijin #Polygon #IDO #BSC #Eth #BTC #Airdrop ...\nName: text, Length: 2347470, dtype: object"
     },
     "execution_count": 5,
     "metadata": {},
     "output_type": "execute_result"
    }
   ],
   "source": [
    "btc['text']"
   ],
   "metadata": {
    "collapsed": false,
    "pycharm": {
     "name": "#%%\n"
    }
   }
  },
  {
   "cell_type": "code",
   "execution_count": 4,
   "outputs": [
    {
     "data": {
      "text/plain": "user_name           2347439\nuser_location       1209385\nuser_description    2065561\nuser_created        2347470\nuser_followers      2347470\nuser_friends        2347470\nuser_favourites     2347470\nuser_verified       2347470\ndate                2347470\ntext                2347470\nhashtags            2330479\nsource              2343911\nis_retweet          2347225\ndtype: int64"
     },
     "execution_count": 4,
     "metadata": {},
     "output_type": "execute_result"
    }
   ],
   "source": [
    "btc.count()"
   ],
   "metadata": {
    "collapsed": false,
    "pycharm": {
     "name": "#%%\n"
    }
   }
  },
  {
   "cell_type": "code",
   "execution_count": null,
   "outputs": [],
   "source": [],
   "metadata": {
    "collapsed": false,
    "pycharm": {
     "name": "#%%\n"
    }
   }
  }
 ],
 "metadata": {
  "kernelspec": {
   "display_name": "Python 3",
   "language": "python",
   "name": "python3"
  },
  "language_info": {
   "codemirror_mode": {
    "name": "ipython",
    "version": 2
   },
   "file_extension": ".py",
   "mimetype": "text/x-python",
   "name": "python",
   "nbconvert_exporter": "python",
   "pygments_lexer": "ipython2",
   "version": "2.7.6"
  }
 },
 "nbformat": 4,
 "nbformat_minor": 0
}