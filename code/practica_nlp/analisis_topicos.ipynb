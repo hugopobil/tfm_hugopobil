{
 "nbformat": 4,
 "nbformat_minor": 0,
 "metadata": {
  "colab": {
   "name": "clasificador_noticias.ipynb",
   "provenance": []
  },
  "kernelspec": {
   "name": "python3",
   "display_name": "Python 3"
  },
  "language_info": {
   "name": "python"
  },
  "accelerator": "GPU"
 },
 "cells": [
  {
   "cell_type": "markdown",
   "source": [
    "## Ejercicio practico NLP\n",
    "\n",
    "1. Crear un clasificador de noticias falsas o verdaderas. Partimos de un dataset con noticias en inglés.\n",
    "2. Análisis de tópicos de las noticias en linea temporal\n",
    "\n",
    "**Clasificador**\n",
    "Lo primero que hacemos es limpiar los datos, tokennizar y lematizar para trasnformar el texto en las palabras que introduciremos al modelo. En este caso una red neuronal que suelo utilizar para este tipo de problemas, me ayuda a haya buenos resultados.\n",
    "\n",
    "**Analisis de tópicos**\n",
    "Para analizar los tópicos utilizamos los mismos datos, partiendo de un conjunto de texto ya procesado y tokenizado aplicamos un modelo BTM para hayar los BITERMS y agrupar por cada uno de los tópicos."
   ],
   "metadata": {
    "id": "B6hLdUEfjObZ"
   }
  },
  {
   "cell_type": "markdown",
   "source": [
    "## Librerias"
   ],
   "metadata": {
    "collapsed": false,
    "pycharm": {
     "name": "#%% md\n"
    }
   }
  },
  {
   "cell_type": "code",
   "execution_count": 13,
   "metadata": {
    "id": "Dk9X1cMCip1W"
   },
   "outputs": [],
   "source": [
    "import pandas as pd\n",
    "import re, string\n",
    "from gensim.utils import simple_preprocess\n",
    "from gensim import corpora\n",
    "import matplotlib.pyplot as plt\n",
    "from tqdm import tqdm"
   ]
  },
  {
   "cell_type": "markdown",
   "source": [
    "### Datos\n",
    "\n",
    "Cargamos los datos en formato CSV. Los datos se han descargado de CUNEF. El archivo contiene noticias con una clasificación.\n",
    "Para la práctica unicamente vamos a utilizar el cuerpo de la noticia. Aunque es interesante considerar la posibilidad de unir ambos textos para procesar el título de la noticia, el cual puede contener información y palabras clave para determinar si la noticia es flasa o no.\n",
    "\n",
    "Por el momento vamos a utilizar únicamente el cuerpo. Confiamos en que nos proporcione la suficiente información."
   ],
   "metadata": {
    "collapsed": false,
    "pycharm": {
     "name": "#%% md\n"
    }
   }
  },
  {
   "cell_type": "code",
   "source": [
    "news = pd.read_csv('/Users/hpp/PycharmProjects/tfm_hugopobil/data/fake_or_real_news.csv')\n",
    "news = news.drop(columns='Unnamed: 0')\n",
    "print(news.shape)\n",
    "news.head()"
   ],
   "metadata": {
    "colab": {
     "base_uri": "https://localhost:8080/",
     "height": 223
    },
    "id": "_fTYyXCQjDVY",
    "outputId": "1d58cad2-4eef-49ab-c2d4-968b7c007dbc"
   },
   "execution_count": 14,
   "outputs": [
    {
     "name": "stdout",
     "output_type": "stream",
     "text": [
      "(6335, 3)\n"
     ]
    },
    {
     "data": {
      "text/plain": "                                               title  \\\n0                       You Can Smell Hillary’s Fear   \n1  Watch The Exact Moment Paul Ryan Committed Pol...   \n2        Kerry to go to Paris in gesture of sympathy   \n3  Bernie supporters on Twitter erupt in anger ag...   \n4   The Battle of New York: Why This Primary Matters   \n\n                                                text label  \n0  Daniel Greenfield, a Shillman Journalism Fello...  FAKE  \n1  Google Pinterest Digg Linkedin Reddit Stumbleu...  FAKE  \n2  U.S. Secretary of State John F. Kerry said Mon...  REAL  \n3  — Kaydee King (@KaydeeKing) November 9, 2016 T...  FAKE  \n4  It's primary day in New York and front-runners...  REAL  ",
      "text/html": "<div>\n<style scoped>\n    .dataframe tbody tr th:only-of-type {\n        vertical-align: middle;\n    }\n\n    .dataframe tbody tr th {\n        vertical-align: top;\n    }\n\n    .dataframe thead th {\n        text-align: right;\n    }\n</style>\n<table border=\"1\" class=\"dataframe\">\n  <thead>\n    <tr style=\"text-align: right;\">\n      <th></th>\n      <th>title</th>\n      <th>text</th>\n      <th>label</th>\n    </tr>\n  </thead>\n  <tbody>\n    <tr>\n      <th>0</th>\n      <td>You Can Smell Hillary’s Fear</td>\n      <td>Daniel Greenfield, a Shillman Journalism Fello...</td>\n      <td>FAKE</td>\n    </tr>\n    <tr>\n      <th>1</th>\n      <td>Watch The Exact Moment Paul Ryan Committed Pol...</td>\n      <td>Google Pinterest Digg Linkedin Reddit Stumbleu...</td>\n      <td>FAKE</td>\n    </tr>\n    <tr>\n      <th>2</th>\n      <td>Kerry to go to Paris in gesture of sympathy</td>\n      <td>U.S. Secretary of State John F. Kerry said Mon...</td>\n      <td>REAL</td>\n    </tr>\n    <tr>\n      <th>3</th>\n      <td>Bernie supporters on Twitter erupt in anger ag...</td>\n      <td>— Kaydee King (@KaydeeKing) November 9, 2016 T...</td>\n      <td>FAKE</td>\n    </tr>\n    <tr>\n      <th>4</th>\n      <td>The Battle of New York: Why This Primary Matters</td>\n      <td>It's primary day in New York and front-runners...</td>\n      <td>REAL</td>\n    </tr>\n  </tbody>\n</table>\n</div>"
     },
     "execution_count": 14,
     "metadata": {},
     "output_type": "execute_result"
    }
   ]
  },
  {
   "cell_type": "markdown",
   "source": [
    "Cambiamos el formato de la variable target definiendo la siguiente función y aplicandola a la ya existente variable label de los datos."
   ],
   "metadata": {
    "collapsed": false,
    "pycharm": {
     "name": "#%% md\n"
    }
   }
  },
  {
   "cell_type": "code",
   "source": [
    "# def news_label(label):\n",
    "#    if label == 'FAKE':\n",
    "#        return 0\n",
    "#    else:\n",
    "#        return 1"
   ],
   "metadata": {
    "id": "lrT5IladjgRZ"
   },
   "execution_count": 15,
   "outputs": []
  },
  {
   "cell_type": "code",
   "execution_count": 16,
   "outputs": [],
   "source": [
    "# news['label'] = news.label.apply(lambda x: news_label(x))"
   ],
   "metadata": {
    "collapsed": false,
    "pycharm": {
     "name": "#%%\n"
    }
   }
  },
  {
   "cell_type": "markdown",
   "source": [
    "### Limpieza del texto\n",
    "\n",
    "La siguiente celda elimina del texto los links y las paginas webs, ademas de quitar la puncuación que definimos con la siguiente función:"
   ],
   "metadata": {
    "collapsed": false,
    "pycharm": {
     "name": "#%% md\n"
    }
   }
  },
  {
   "cell_type": "code",
   "execution_count": 17,
   "outputs": [],
   "source": [
    "def remove_punctuation(text):\n",
    "  return re.sub('[%s]' % re.escape(string.punctuation), ' ', text)"
   ],
   "metadata": {
    "collapsed": false,
    "pycharm": {
     "name": "#%%\n"
    }
   }
  },
  {
   "cell_type": "code",
   "source": [
    "dd = news.copy()\n",
    "\n",
    "for i, s in enumerate(tqdm(dd['text'], position=0, leave=True)):\n",
    "    text = str(dd.loc[i, 'text'])\n",
    "    text = re.sub('https?://(?:[-\\w.]|(?:%[\\da-fA-F]{2}))+', '', text, flags=re.MULTILINE)\n",
    "    text = re.sub('@\\\\w+ *', '', text, flags=re.MULTILINE)\n",
    "    text = text.apply(lambda x: remove_punctuation(x))\n",
    "    dd.loc[i, 'text'] = text"
   ],
   "metadata": {
    "colab": {
     "base_uri": "https://localhost:8080/"
    },
    "id": "c91D_mq9jgMH",
    "outputId": "809ddc22-e62d-4d07-ac38-214ce565794f"
   },
   "execution_count": 19,
   "outputs": [
    {
     "name": "stderr",
     "output_type": "stream",
     "text": [
      "  0%|          | 0/6335 [00:00<?, ?it/s]\n"
     ]
    },
    {
     "ename": "AttributeError",
     "evalue": "'str' object has no attribute 'apply'",
     "output_type": "error",
     "traceback": [
      "\u001B[0;31m---------------------------------------------------------------------------\u001B[0m",
      "\u001B[0;31mAttributeError\u001B[0m                            Traceback (most recent call last)",
      "Input \u001B[0;32mIn [19]\u001B[0m, in \u001B[0;36m<cell line: 3>\u001B[0;34m()\u001B[0m\n\u001B[1;32m      5\u001B[0m text \u001B[38;5;241m=\u001B[39m re\u001B[38;5;241m.\u001B[39msub(\u001B[38;5;124m'\u001B[39m\u001B[38;5;124mhttps?://(?:[-\u001B[39m\u001B[38;5;124m\\\u001B[39m\u001B[38;5;124mw.]|(?:\u001B[39m\u001B[38;5;124m%\u001B[39m\u001B[38;5;124m[\u001B[39m\u001B[38;5;124m\\\u001B[39m\u001B[38;5;124mda-fA-F]\u001B[39m\u001B[38;5;132;01m{2}\u001B[39;00m\u001B[38;5;124m))+\u001B[39m\u001B[38;5;124m'\u001B[39m, \u001B[38;5;124m'\u001B[39m\u001B[38;5;124m'\u001B[39m, text, flags\u001B[38;5;241m=\u001B[39mre\u001B[38;5;241m.\u001B[39mMULTILINE)\n\u001B[1;32m      6\u001B[0m text \u001B[38;5;241m=\u001B[39m re\u001B[38;5;241m.\u001B[39msub(\u001B[38;5;124m'\u001B[39m\u001B[38;5;124m@\u001B[39m\u001B[38;5;130;01m\\\\\u001B[39;00m\u001B[38;5;124mw+ *\u001B[39m\u001B[38;5;124m'\u001B[39m, \u001B[38;5;124m'\u001B[39m\u001B[38;5;124m'\u001B[39m, text, flags\u001B[38;5;241m=\u001B[39mre\u001B[38;5;241m.\u001B[39mMULTILINE)\n\u001B[0;32m----> 7\u001B[0m text \u001B[38;5;241m=\u001B[39m \u001B[43mtext\u001B[49m\u001B[38;5;241;43m.\u001B[39;49m\u001B[43mapply\u001B[49m(\u001B[38;5;28;01mlambda\u001B[39;00m x: remove_punctuation(x))\n\u001B[1;32m      8\u001B[0m dd\u001B[38;5;241m.\u001B[39mloc[i, \u001B[38;5;124m'\u001B[39m\u001B[38;5;124mtext\u001B[39m\u001B[38;5;124m'\u001B[39m] \u001B[38;5;241m=\u001B[39m text\n",
      "\u001B[0;31mAttributeError\u001B[0m: 'str' object has no attribute 'apply'"
     ]
    }
   ]
  },
  {
   "cell_type": "code",
   "source": [
    "y = pd.get_dummies(dd['label']).values\n",
    "X = dd['text']\n",
    "num_classes = dd['label'].nunique()\n",
    "seed=39\n",
    "X_train, X_test, y_train, y_test = train_test_split(X, y, \n",
    "                                                    test_size=0.2,\n",
    "                                                    stratify=y,\n",
    "                                                    random_state=seed)\n",
    "\n",
    "# shapes\n",
    "print(X_train.shape, X_test.shape, y_train.shape, y_test.shape)"
   ],
   "metadata": {
    "colab": {
     "base_uri": "https://localhost:8080/"
    },
    "id": "87sT1BhDjgG-",
    "outputId": "4b0e50d7-ac40-457c-956a-0517db04db95"
   },
   "execution_count": 95,
   "outputs": [
    {
     "output_type": "stream",
     "name": "stdout",
     "text": [
      "(5068,) (1267,) (5068, 2) (1267, 2)\n"
     ]
    }
   ]
  },
  {
   "cell_type": "markdown",
   "source": [
    "### Evaluación del modelo\n",
    "\n",
    "Definimos la siguiente formula para evaluar nuestro modelo posteriormente:"
   ],
   "metadata": {
    "collapsed": false,
    "pycharm": {
     "name": "#%% md\n"
    }
   }
  },
  {
   "cell_type": "code",
   "source": [
    "def f1_score(precision, recall):\n",
    "    f1_val = 2*(precision*recall)/(precision+recall+K.epsilon())\n",
    "    return f1_val"
   ],
   "metadata": {
    "id": "DCTlHCCTjgBx"
   },
   "execution_count": 96,
   "outputs": []
  },
  {
   "cell_type": "markdown",
   "source": [
    "### Tokenización del texto"
   ],
   "metadata": {
    "collapsed": false,
    "pycharm": {
     "name": "#%% md\n"
    }
   }
  },
  {
   "cell_type": "code",
   "source": [
    "max_features = 20000\n",
    "tokenizer = Tokenizer(num_words=max_features)\n",
    "tokenizer.fit_on_texts(list(X_train))\n",
    "X_train = tokenizer.texts_to_sequences(X_train)\n",
    "X_test = tokenizer.texts_to_sequences(X_test)"
   ],
   "metadata": {
    "id": "nJ-ei64qjfx9"
   },
   "execution_count": 98,
   "outputs": []
  },
  {
   "cell_type": "markdown",
   "source": [
    "### Secuencia"
   ],
   "metadata": {
    "collapsed": false,
    "pycharm": {
     "name": "#%% md\n"
    }
   }
  },
  {
   "cell_type": "code",
   "source": [
    "max_words = 30\n",
    "X_train = sequence.pad_sequences(X_train, maxlen=max_words)\n",
    "X_test = sequence.pad_sequences(X_test, maxlen=max_words)\n",
    "print(X_train.shape,X_test.shape)"
   ],
   "metadata": {
    "colab": {
     "base_uri": "https://localhost:8080/"
    },
    "id": "KRv1KrQkjfvd",
    "outputId": "74128309-ef5e-4eba-e904-ec67a4feae49"
   },
   "execution_count": 100,
   "outputs": [
    {
     "output_type": "stream",
     "name": "stdout",
     "text": [
      "(5068, 30) (1267, 30)\n"
     ]
    }
   ]
  },
  {
   "cell_type": "markdown",
   "source": [
    "## Modelo de Red Neuronal Sequencial"
   ],
   "metadata": {
    "collapsed": false,
    "pycharm": {
     "name": "#%% md\n"
    }
   }
  },
  {
   "cell_type": "code",
   "source": [
    "batch_size = 100\n",
    "epochs = 50\n",
    "\n",
    "max_features = 20000\n",
    "embed_dim = 100\n",
    "\n",
    "np.random.seed(seed)\n",
    "K.clear_session()\n",
    "model = Sequential()\n",
    "model.add(Embedding(max_features, embed_dim, input_length=X_train.shape[1]))\n",
    "model.add(Conv1D(filters=32, kernel_size=3, padding='same', activation='relu'))\n",
    "model.add(MaxPooling1D(pool_size=2))\n",
    "model.add(Conv1D(filters=32, kernel_size=3, padding='same', activation='relu'))\n",
    "model.add(MaxPooling1D(pool_size=2))    \n",
    "model.add(LSTM(100, dropout=0.2, recurrent_dropout=0.2))\n",
    "model.add(Dense(2, activation='sigmoid'))\n",
    "model.compile(loss='binary_crossentropy', optimizer='adam', metrics=['accuracy'])\n",
    "model.summary()"
   ],
   "metadata": {
    "colab": {
     "base_uri": "https://localhost:8080/"
    },
    "id": "DrErcCIzjfsz",
    "outputId": "86632050-0567-46e6-ee0c-9bd6462b6c54"
   },
   "execution_count": 107,
   "outputs": [
    {
     "output_type": "stream",
     "name": "stdout",
     "text": [
      "Model: \"sequential\"\n",
      "_________________________________________________________________\n",
      " Layer (type)                Output Shape              Param #   \n",
      "=================================================================\n",
      " embedding (Embedding)       (None, 30, 100)           2000000   \n",
      "                                                                 \n",
      " conv1d (Conv1D)             (None, 30, 32)            9632      \n",
      "                                                                 \n",
      " max_pooling1d (MaxPooling1D  (None, 15, 32)           0         \n",
      " )                                                               \n",
      "                                                                 \n",
      " conv1d_1 (Conv1D)           (None, 15, 32)            3104      \n",
      "                                                                 \n",
      " max_pooling1d_1 (MaxPooling  (None, 7, 32)            0         \n",
      " 1D)                                                             \n",
      "                                                                 \n",
      " lstm (LSTM)                 (None, 100)               53200     \n",
      "                                                                 \n",
      " dense (Dense)               (None, 2)                 202       \n",
      "                                                                 \n",
      "=================================================================\n",
      "Total params: 2,066,138\n",
      "Trainable params: 2,066,138\n",
      "Non-trainable params: 0\n",
      "_________________________________________________________________\n"
     ]
    }
   ]
  },
  {
   "cell_type": "markdown",
   "source": [
    "### Entrenamiento del modelo"
   ],
   "metadata": {
    "collapsed": false,
    "pycharm": {
     "name": "#%% md\n"
    }
   }
  },
  {
   "cell_type": "code",
   "source": [
    "history = model.fit(X_train, y_train, validation_data=(X_test, y_test), \n",
    "                          epochs=epochs, batch_size=batch_size)"
   ],
   "metadata": {
    "colab": {
     "base_uri": "https://localhost:8080/"
    },
    "id": "rCSsUAgAjfqa",
    "outputId": "3e99b594-f1aa-4de7-b68c-a85f6ba631ce"
   },
   "execution_count": 108,
   "outputs": [
    {
     "output_type": "stream",
     "name": "stdout",
     "text": [
      "Epoch 1/50\n",
      "51/51 [==============================] - 7s 82ms/step - loss: 0.6473 - accuracy: 0.6101 - val_loss: 0.4626 - val_accuracy: 0.7743\n",
      "Epoch 2/50\n",
      "51/51 [==============================] - 3s 61ms/step - loss: 0.3048 - accuracy: 0.8735 - val_loss: 0.3671 - val_accuracy: 0.8256\n",
      "Epoch 3/50\n",
      "51/51 [==============================] - 3s 62ms/step - loss: 0.0692 - accuracy: 0.9783 - val_loss: 0.6339 - val_accuracy: 0.8066\n",
      "Epoch 4/50\n",
      "51/51 [==============================] - 3s 62ms/step - loss: 0.0129 - accuracy: 0.9970 - val_loss: 0.7465 - val_accuracy: 0.8090\n",
      "Epoch 5/50\n",
      "51/51 [==============================] - 3s 62ms/step - loss: 0.0033 - accuracy: 0.9992 - val_loss: 0.9428 - val_accuracy: 0.8011\n",
      "Epoch 6/50\n",
      "51/51 [==============================] - 3s 61ms/step - loss: 0.0020 - accuracy: 0.9996 - val_loss: 1.1696 - val_accuracy: 0.8003\n",
      "Epoch 7/50\n",
      "51/51 [==============================] - 3s 61ms/step - loss: 0.0063 - accuracy: 0.9976 - val_loss: 1.0792 - val_accuracy: 0.7853\n",
      "Epoch 8/50\n",
      "51/51 [==============================] - 3s 61ms/step - loss: 0.0056 - accuracy: 0.9982 - val_loss: 1.0235 - val_accuracy: 0.8058\n",
      "Epoch 9/50\n",
      "51/51 [==============================] - 3s 62ms/step - loss: 0.0091 - accuracy: 0.9968 - val_loss: 0.7965 - val_accuracy: 0.8106\n",
      "Epoch 10/50\n",
      "51/51 [==============================] - 3s 62ms/step - loss: 0.0078 - accuracy: 0.9978 - val_loss: 0.9782 - val_accuracy: 0.8043\n",
      "Epoch 11/50\n",
      "51/51 [==============================] - 3s 61ms/step - loss: 0.0032 - accuracy: 0.9992 - val_loss: 1.0726 - val_accuracy: 0.7987\n",
      "Epoch 12/50\n",
      "51/51 [==============================] - 3s 62ms/step - loss: 5.0161e-04 - accuracy: 1.0000 - val_loss: 1.2557 - val_accuracy: 0.7916\n",
      "Epoch 13/50\n",
      "51/51 [==============================] - 3s 62ms/step - loss: 1.6656e-04 - accuracy: 1.0000 - val_loss: 1.3713 - val_accuracy: 0.7924\n",
      "Epoch 14/50\n",
      "51/51 [==============================] - 3s 62ms/step - loss: 1.1009e-04 - accuracy: 1.0000 - val_loss: 1.3792 - val_accuracy: 0.7940\n",
      "Epoch 15/50\n",
      "51/51 [==============================] - 3s 62ms/step - loss: 1.3272e-04 - accuracy: 1.0000 - val_loss: 1.3739 - val_accuracy: 0.7979\n",
      "Epoch 16/50\n",
      "51/51 [==============================] - 3s 61ms/step - loss: 5.1870e-05 - accuracy: 1.0000 - val_loss: 1.4346 - val_accuracy: 0.7940\n",
      "Epoch 17/50\n",
      "51/51 [==============================] - 3s 62ms/step - loss: 4.7609e-05 - accuracy: 1.0000 - val_loss: 1.4735 - val_accuracy: 0.7979\n",
      "Epoch 18/50\n",
      "51/51 [==============================] - 3s 61ms/step - loss: 4.6881e-05 - accuracy: 1.0000 - val_loss: 1.4848 - val_accuracy: 0.7972\n",
      "Epoch 19/50\n",
      "51/51 [==============================] - 3s 61ms/step - loss: 4.9103e-05 - accuracy: 1.0000 - val_loss: 1.5128 - val_accuracy: 0.7940\n",
      "Epoch 20/50\n",
      "51/51 [==============================] - 3s 61ms/step - loss: 3.3013e-05 - accuracy: 1.0000 - val_loss: 1.5411 - val_accuracy: 0.7932\n",
      "Epoch 21/50\n",
      "51/51 [==============================] - 3s 62ms/step - loss: 2.6373e-05 - accuracy: 1.0000 - val_loss: 1.5703 - val_accuracy: 0.7940\n",
      "Epoch 22/50\n",
      "51/51 [==============================] - 3s 62ms/step - loss: 2.7557e-05 - accuracy: 1.0000 - val_loss: 1.5810 - val_accuracy: 0.7924\n",
      "Epoch 23/50\n",
      "51/51 [==============================] - 3s 62ms/step - loss: 1.7943e-05 - accuracy: 1.0000 - val_loss: 1.6074 - val_accuracy: 0.7924\n",
      "Epoch 24/50\n",
      "51/51 [==============================] - 3s 63ms/step - loss: 2.8271e-05 - accuracy: 1.0000 - val_loss: 1.6103 - val_accuracy: 0.7908\n",
      "Epoch 25/50\n",
      "51/51 [==============================] - 3s 62ms/step - loss: 3.7075e-05 - accuracy: 1.0000 - val_loss: 1.5906 - val_accuracy: 0.7901\n",
      "Epoch 26/50\n",
      "51/51 [==============================] - 3s 62ms/step - loss: 2.1287e-05 - accuracy: 1.0000 - val_loss: 1.6337 - val_accuracy: 0.7924\n",
      "Epoch 27/50\n",
      "51/51 [==============================] - 3s 63ms/step - loss: 1.3487e-05 - accuracy: 1.0000 - val_loss: 1.6622 - val_accuracy: 0.7908\n",
      "Epoch 28/50\n",
      "51/51 [==============================] - 3s 63ms/step - loss: 9.4811e-06 - accuracy: 1.0000 - val_loss: 1.6809 - val_accuracy: 0.7893\n",
      "Epoch 29/50\n",
      "51/51 [==============================] - 3s 63ms/step - loss: 2.0758e-05 - accuracy: 1.0000 - val_loss: 1.6607 - val_accuracy: 0.7893\n",
      "Epoch 30/50\n",
      "51/51 [==============================] - 3s 63ms/step - loss: 1.4324e-05 - accuracy: 1.0000 - val_loss: 1.6792 - val_accuracy: 0.7885\n",
      "Epoch 31/50\n",
      "51/51 [==============================] - 3s 62ms/step - loss: 1.1394e-05 - accuracy: 1.0000 - val_loss: 1.6966 - val_accuracy: 0.7877\n",
      "Epoch 32/50\n",
      "51/51 [==============================] - 3s 64ms/step - loss: 1.4094e-05 - accuracy: 1.0000 - val_loss: 1.7045 - val_accuracy: 0.7893\n",
      "Epoch 33/50\n",
      "51/51 [==============================] - 3s 64ms/step - loss: 1.1157e-05 - accuracy: 1.0000 - val_loss: 1.7169 - val_accuracy: 0.7901\n",
      "Epoch 34/50\n",
      "51/51 [==============================] - 3s 64ms/step - loss: 1.1558e-05 - accuracy: 1.0000 - val_loss: 1.7174 - val_accuracy: 0.7908\n",
      "Epoch 35/50\n",
      "51/51 [==============================] - 4s 76ms/step - loss: 9.9972e-06 - accuracy: 1.0000 - val_loss: 1.7360 - val_accuracy: 0.7908\n",
      "Epoch 36/50\n",
      "51/51 [==============================] - 3s 63ms/step - loss: 1.4993e-05 - accuracy: 1.0000 - val_loss: 1.7400 - val_accuracy: 0.7893\n",
      "Epoch 37/50\n",
      "51/51 [==============================] - 3s 64ms/step - loss: 1.1126e-05 - accuracy: 1.0000 - val_loss: 1.7538 - val_accuracy: 0.7893\n",
      "Epoch 38/50\n",
      "51/51 [==============================] - 3s 63ms/step - loss: 9.7461e-06 - accuracy: 1.0000 - val_loss: 1.7718 - val_accuracy: 0.7869\n",
      "Epoch 39/50\n",
      "51/51 [==============================] - 3s 63ms/step - loss: 8.2991e-06 - accuracy: 1.0000 - val_loss: 1.7713 - val_accuracy: 0.7924\n",
      "Epoch 40/50\n",
      "51/51 [==============================] - 3s 64ms/step - loss: 8.8824e-06 - accuracy: 1.0000 - val_loss: 1.7826 - val_accuracy: 0.7861\n",
      "Epoch 41/50\n",
      "51/51 [==============================] - 3s 63ms/step - loss: 7.0726e-06 - accuracy: 1.0000 - val_loss: 1.7968 - val_accuracy: 0.7877\n",
      "Epoch 42/50\n",
      "51/51 [==============================] - 3s 65ms/step - loss: 1.4012e-05 - accuracy: 1.0000 - val_loss: 1.7967 - val_accuracy: 0.7885\n",
      "Epoch 43/50\n",
      "51/51 [==============================] - 3s 64ms/step - loss: 5.1668e-06 - accuracy: 1.0000 - val_loss: 1.8204 - val_accuracy: 0.7877\n",
      "Epoch 44/50\n",
      "51/51 [==============================] - 3s 63ms/step - loss: 6.2219e-06 - accuracy: 1.0000 - val_loss: 1.8325 - val_accuracy: 0.7861\n",
      "Epoch 45/50\n",
      "51/51 [==============================] - 3s 63ms/step - loss: 1.2852e-05 - accuracy: 1.0000 - val_loss: 1.8194 - val_accuracy: 0.7893\n",
      "Epoch 46/50\n",
      "51/51 [==============================] - 3s 64ms/step - loss: 7.4279e-06 - accuracy: 1.0000 - val_loss: 1.8391 - val_accuracy: 0.7885\n",
      "Epoch 47/50\n",
      "51/51 [==============================] - 3s 63ms/step - loss: 4.8777e-06 - accuracy: 1.0000 - val_loss: 1.8561 - val_accuracy: 0.7869\n",
      "Epoch 48/50\n",
      "51/51 [==============================] - 3s 65ms/step - loss: 5.6340e-06 - accuracy: 1.0000 - val_loss: 1.8641 - val_accuracy: 0.7869\n",
      "Epoch 49/50\n",
      "51/51 [==============================] - 3s 64ms/step - loss: 4.7171e-06 - accuracy: 1.0000 - val_loss: 1.8740 - val_accuracy: 0.7869\n",
      "Epoch 50/50\n",
      "51/51 [==============================] - 3s 63ms/step - loss: 6.1494e-06 - accuracy: 1.0000 - val_loss: 1.8881 - val_accuracy: 0.7861\n"
     ]
    }
   ]
  },
  {
   "cell_type": "markdown",
   "source": [
    "### Validación y Loss"
   ],
   "metadata": {
    "collapsed": false,
    "pycharm": {
     "name": "#%% md\n"
    }
   }
  },
  {
   "cell_type": "code",
   "source": [
    "def plot_training_hist(history):\n",
    "    '''Function to plot history for accuracy and loss'''\n",
    "    \n",
    "    fig, ax = plt.subplots(1,2, figsize=(10,4))\n",
    "    # first plot\n",
    "    ax[0].plot(history.history['accuracy'])\n",
    "    ax[0].plot(history.history['val_accuracy'])\n",
    "    ax[0].set_title('Model Accuracy')\n",
    "    ax[0].set_xlabel('epoch')\n",
    "    ax[0].set_ylabel('accuracy')\n",
    "    ax[0].legend(['train', 'validation'], loc='best')\n",
    "    \n",
    "    # second plot\n",
    "    ax[1].plot(history.history['loss'])\n",
    "    ax[1].plot(history.history['val_loss'])\n",
    "    ax[1].set_title('Model Loss')\n",
    "    ax[1].set_xlabel('epoch')\n",
    "    ax[1].set_ylabel('loss')\n",
    "    ax[1].legend(['train', 'validation'], loc='best')\n",
    "    \n",
    "plot_training_hist(history)"
   ],
   "metadata": {
    "colab": {
     "base_uri": "https://localhost:8080/",
     "height": 295
    },
    "id": "R6vBkOpEr2dU",
    "outputId": "ae6d31ad-0b5f-4923-d8ab-c6b762611c72"
   },
   "execution_count": 109,
   "outputs": [
    {
     "output_type": "display_data",
     "data": {
      "text/plain": [
       "<Figure size 720x288 with 2 Axes>"
      ],
      "image/png": "[encoded data removed]"
     },
     "metadata": {
      "needs_background": "light"
     }
    }
   ]
  },
  {
   "cell_type": "markdown",
   "source": [
    "### Resultados predicción clasificación"
   ],
   "metadata": {
    "collapsed": false,
    "pycharm": {
     "name": "#%% md\n"
    }
   }
  },
  {
   "cell_type": "code",
   "source": [
    "# predict class with test set\n",
    "y_pred_test =  np.argmax(model.predict(X_test), axis=1)\n",
    "print('Accuracy:\\t{:0.1f}%'.format(accuracy_score(np.argmax(y_test,axis=1),y_pred_test)*100))\n",
    "print(classification_report(np.argmax(y_test,axis=1), y_pred_test))"
   ],
   "metadata": {
    "colab": {
     "base_uri": "https://localhost:8080/"
    },
    "id": "sRBJSthQr6i-",
    "outputId": "609a9612-289d-41bf-e503-434f385b756b"
   },
   "execution_count": 110,
   "outputs": [
    {
     "output_type": "stream",
     "name": "stdout",
     "text": [
      "Accuracy:\t78.6%\n",
      "              precision    recall  f1-score   support\n",
      "\n",
      "           0       0.80      0.76      0.78       633\n",
      "           1       0.77      0.81      0.79       634\n",
      "\n",
      "    accuracy                           0.79      1267\n",
      "   macro avg       0.79      0.79      0.79      1267\n",
      "weighted avg       0.79      0.79      0.79      1267\n",
      "\n"
     ]
    }
   ]
  },
  {
   "cell_type": "markdown",
   "source": [
    "### Matriz de confusión problema binario"
   ],
   "metadata": {
    "collapsed": false,
    "pycharm": {
     "name": "#%% md\n"
    }
   }
  },
  {
   "cell_type": "code",
   "source": [
    "def plot_confusion_matrix(model, X_test, y_test):\n",
    "    '''Function to plot confusion matrix for the passed model and the data'''\n",
    "    \n",
    "    sentiment_classes = ['FAKE','REAL']\n",
    "    # use model to do the prediction\n",
    "    y_pred = model.predict(X_test)\n",
    "    # compute confusion matrix\n",
    "    cm = confusion_matrix(np.argmax(y_pred, axis=1),np.argmax(np.array(y_test),axis=1))\n",
    "    \n",
    "    print(pd.Series(np.argmax(np.array(y_test),axis=1)).value_counts())\n",
    "    print(pd.Series(np.argmax(y_pred, axis=1)).value_counts())\n",
    "    \n",
    "    # plot confusion matrix\n",
    "    plt.figure(figsize=(8,6))\n",
    "    sns.heatmap(cm, cmap=plt.cm.Blues, annot=True, fmt='d', \n",
    "                xticklabels=sentiment_classes,\n",
    "                yticklabels=sentiment_classes)\n",
    "    plt.title('Confusion matrix', fontsize=16)\n",
    "    plt.xlabel('Actual label', fontsize=12)\n",
    "    plt.ylabel('Predicted label', fontsize=12)\n",
    "    \n",
    "plot_confusion_matrix(model, X_test, y_test)"
   ],
   "metadata": {
    "colab": {
     "base_uri": "https://localhost:8080/",
     "height": 513
    },
    "id": "vnawKXIgjfng",
    "outputId": "18d7d023-5202-4da8-f603-9b468d9edb2d",
    "pycharm": {
     "name": "#%%\n"
    }
   },
   "execution_count": 111,
   "outputs": [
    {
     "output_type": "stream",
     "name": "stdout",
     "text": [
      "1    634\n",
      "0    633\n",
      "dtype: int64\n",
      "1    667\n",
      "0    600\n",
      "dtype: int64\n"
     ]
    },
    {
     "output_type": "display_data",
     "data": {
      "text/plain": [
       "<Figure size 576x432 with 2 Axes>"
      ],
      "image/png": "[encoded data removed]"
     },
     "metadata": {
      "needs_background": "light"
     }
    }
   ]
  }
 ]
}