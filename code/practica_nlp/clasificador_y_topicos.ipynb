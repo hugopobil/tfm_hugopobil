{
 "cells": [
  {
   "cell_type": "markdown",
   "metadata": {
    "id": "B6hLdUEfjObZ"
   },
   "source": [
    "## Ejercicio practico NLP\n",
    "\n",
    "1. Crear un clasificador de noticias falsas o verdaderas. Partimos de un dataset con noticias en inglés.\n",
    "2. Análisis de tópicos de las noticias en linea temporal\n",
    "\n",
    "**Clasificador**\n",
    "Lo primero que hacemos es limpiar los datos, tokennizar y lematizar para trasnformar el texto en las palabras que introduciremos al modelo. En este caso una red neuronal que suelo utilizar para este tipo de problemas, me ayuda a haya buenos resultados.\n",
    "\n",
    "**Analisis de tópicos**\n",
    "Para analizar los tópicos utilizamos los mismos datos, partiendo de un conjunto de texto ya procesado y tokenizado, obtener los tópicos por palabras."
   ]
  },
  {
   "cell_type": "markdown",
   "metadata": {
    "id": "oZllbBxnBrvl",
    "pycharm": {
     "name": "#%% md\n"
    }
   },
   "source": [
    "## Librerias"
   ]
  },
  {
   "cell_type": "code",
   "execution_count": 1,
   "metadata": {
    "id": "Dk9X1cMCip1W"
   },
   "outputs": [
    {
     "ename": "ModuleNotFoundError",
     "evalue": "No module named 'gensim'",
     "output_type": "error",
     "traceback": [
      "\u001b[0;31m---------------------------------------------------------------------------\u001b[0m",
      "\u001b[0;31mModuleNotFoundError\u001b[0m                       Traceback (most recent call last)",
      "Input \u001b[0;32mIn [1]\u001b[0m, in \u001b[0;36m<cell line: 4>\u001b[0;34m()\u001b[0m\n\u001b[1;32m      2\u001b[0m \u001b[38;5;28;01mimport\u001b[39;00m \u001b[38;5;21;01mpandas\u001b[39;00m \u001b[38;5;28;01mas\u001b[39;00m \u001b[38;5;21;01mpd\u001b[39;00m\n\u001b[1;32m      3\u001b[0m \u001b[38;5;28;01mfrom\u001b[39;00m \u001b[38;5;21;01mtqdm\u001b[39;00m \u001b[38;5;28;01mimport\u001b[39;00m tqdm\n\u001b[0;32m----> 4\u001b[0m \u001b[38;5;28;01mfrom\u001b[39;00m \u001b[38;5;21;01mgensim\u001b[39;00m\u001b[38;5;21;01m.\u001b[39;00m\u001b[38;5;21;01mutils\u001b[39;00m \u001b[38;5;28;01mimport\u001b[39;00m simple_preprocess\n\u001b[1;32m      5\u001b[0m \u001b[38;5;28;01mfrom\u001b[39;00m \u001b[38;5;21;01mgensim\u001b[39;00m \u001b[38;5;28;01mimport\u001b[39;00m corpora\n\u001b[1;32m      6\u001b[0m \u001b[38;5;28;01mfrom\u001b[39;00m \u001b[38;5;21;01mgensim\u001b[39;00m \u001b[38;5;28;01mimport\u001b[39;00m models\n",
      "\u001b[0;31mModuleNotFoundError\u001b[0m: No module named 'gensim'"
     ]
    }
   ],
   "source": [
    "import re, string\n",
    "import pandas as pd\n",
    "from tqdm import tqdm\n",
    "from gensim.utils import simple_preprocess\n",
    "from gensim import corpora\n",
    "from gensim import models\n",
    "import seaborn as sns\n",
    "import pickle\n",
    "\n",
    "\n",
    "import numpy as np\n",
    "import matplotlib.pyplot as plt\n",
    "from tensorflow.keras.preprocessing import sequence\n",
    "from tensorflow.keras.preprocessing.text import Tokenizer\n",
    "from sklearn.model_selection import train_test_split\n",
    "import tensorflow.keras.backend as K\n",
    "from tensorflow.keras.models import Sequential\n",
    "from tensorflow.keras.layers import Dense,Embedding,Conv1D,MaxPooling1D,LSTM\n",
    "from sklearn.metrics import accuracy_score,confusion_matrix,classification_report\n",
    "import seaborn as sns"
   ]
  },
  {
   "cell_type": "markdown",
   "metadata": {
    "id": "wm21Se43Brvn",
    "pycharm": {
     "name": "#%% md\n"
    }
   },
   "source": [
    "### Datos\n",
    "\n",
    "Cargamos los datos en formato CSV. Los datos se han descargado de CUNEF. El archivo contiene noticias con una clasificación.\n",
    "Para la práctica unicamente vamos a utilizar el cuerpo de la noticia. Aunque es interesante considerar la posibilidad de unir ambos textos para procesar el título de la noticia, el cual puede contener información y palabras clave para determinar si la noticia es flasa o no.\n",
    "\n",
    "Por el momento vamos a utilizar únicamente el cuerpo. Confiamos en que nos proporcione la suficiente información."
   ]
  },
  {
   "cell_type": "code",
   "execution_count": 4,
   "metadata": {
    "colab": {
     "base_uri": "https://localhost:8080/",
     "height": 223
    },
    "id": "_fTYyXCQjDVY",
    "outputId": "c5888d01-4fdd-4c85-e624-72efa25178eb"
   },
   "outputs": [
    {
     "name": "stdout",
     "output_type": "stream",
     "text": [
      "(6335, 3)\n"
     ]
    },
    {
     "data": {
      "text/html": [
       "\n",
       "  <div id=\"df-c86ffc0b-43b0-46fe-ac50-796cc0f1569f\">\n",
       "    <div class=\"colab-df-container\">\n",
       "      <div>\n",
       "<style scoped>\n",
       "    .dataframe tbody tr th:only-of-type {\n",
       "        vertical-align: middle;\n",
       "    }\n",
       "\n",
       "    .dataframe tbody tr th {\n",
       "        vertical-align: top;\n",
       "    }\n",
       "\n",
       "    .dataframe thead th {\n",
       "        text-align: right;\n",
       "    }\n",
       "</style>\n",
       "<table border=\"1\" class=\"dataframe\">\n",
       "  <thead>\n",
       "    <tr style=\"text-align: right;\">\n",
       "      <th></th>\n",
       "      <th>title</th>\n",
       "      <th>text</th>\n",
       "      <th>label</th>\n",
       "    </tr>\n",
       "  </thead>\n",
       "  <tbody>\n",
       "    <tr>\n",
       "      <th>0</th>\n",
       "      <td>You Can Smell Hillary’s Fear</td>\n",
       "      <td>Daniel Greenfield, a Shillman Journalism Fello...</td>\n",
       "      <td>FAKE</td>\n",
       "    </tr>\n",
       "    <tr>\n",
       "      <th>1</th>\n",
       "      <td>Watch The Exact Moment Paul Ryan Committed Pol...</td>\n",
       "      <td>Google Pinterest Digg Linkedin Reddit Stumbleu...</td>\n",
       "      <td>FAKE</td>\n",
       "    </tr>\n",
       "    <tr>\n",
       "      <th>2</th>\n",
       "      <td>Kerry to go to Paris in gesture of sympathy</td>\n",
       "      <td>U.S. Secretary of State John F. Kerry said Mon...</td>\n",
       "      <td>REAL</td>\n",
       "    </tr>\n",
       "    <tr>\n",
       "      <th>3</th>\n",
       "      <td>Bernie supporters on Twitter erupt in anger ag...</td>\n",
       "      <td>— Kaydee King (@KaydeeKing) November 9, 2016 T...</td>\n",
       "      <td>FAKE</td>\n",
       "    </tr>\n",
       "    <tr>\n",
       "      <th>4</th>\n",
       "      <td>The Battle of New York: Why This Primary Matters</td>\n",
       "      <td>It's primary day in New York and front-runners...</td>\n",
       "      <td>REAL</td>\n",
       "    </tr>\n",
       "  </tbody>\n",
       "</table>\n",
       "</div>\n",
       "      <button class=\"colab-df-convert\" onclick=\"convertToInteractive('df-c86ffc0b-43b0-46fe-ac50-796cc0f1569f')\"\n",
       "              title=\"Convert this dataframe to an interactive table.\"\n",
       "              style=\"display:none;\">\n",
       "        \n",
       "  <svg xmlns=\"http://www.w3.org/2000/svg\" height=\"24px\"viewBox=\"0 0 24 24\"\n",
       "       width=\"24px\">\n",
       "    <path d=\"M0 0h24v24H0V0z\" fill=\"none\"/>\n",
       "    <path d=\"M18.56 5.44l.94 2.06.94-2.06 2.06-.94-2.06-.94-.94-2.06-.94 2.06-2.06.94zm-11 1L8.5 8.5l.94-2.06 2.06-.94-2.06-.94L8.5 2.5l-.94 2.06-2.06.94zm10 10l.94 2.06.94-2.06 2.06-.94-2.06-.94-.94-2.06-.94 2.06-2.06.94z\"/><path d=\"M17.41 7.96l-1.37-1.37c-.4-.4-.92-.59-1.43-.59-.52 0-1.04.2-1.43.59L10.3 9.45l-7.72 7.72c-.78.78-.78 2.05 0 2.83L4 21.41c.39.39.9.59 1.41.59.51 0 1.02-.2 1.41-.59l7.78-7.78 2.81-2.81c.8-.78.8-2.07 0-2.86zM5.41 20L4 18.59l7.72-7.72 1.47 1.35L5.41 20z\"/>\n",
       "  </svg>\n",
       "      </button>\n",
       "      \n",
       "  <style>\n",
       "    .colab-df-container {\n",
       "      display:flex;\n",
       "      flex-wrap:wrap;\n",
       "      gap: 12px;\n",
       "    }\n",
       "\n",
       "    .colab-df-convert {\n",
       "      background-color: #E8F0FE;\n",
       "      border: none;\n",
       "      border-radius: 50%;\n",
       "      cursor: pointer;\n",
       "      display: none;\n",
       "      fill: #1967D2;\n",
       "      height: 32px;\n",
       "      padding: 0 0 0 0;\n",
       "      width: 32px;\n",
       "    }\n",
       "\n",
       "    .colab-df-convert:hover {\n",
       "      background-color: #E2EBFA;\n",
       "      box-shadow: 0px 1px 2px rgba(60, 64, 67, 0.3), 0px 1px 3px 1px rgba(60, 64, 67, 0.15);\n",
       "      fill: #174EA6;\n",
       "    }\n",
       "\n",
       "    [theme=dark] .colab-df-convert {\n",
       "      background-color: #3B4455;\n",
       "      fill: #D2E3FC;\n",
       "    }\n",
       "\n",
       "    [theme=dark] .colab-df-convert:hover {\n",
       "      background-color: #434B5C;\n",
       "      box-shadow: 0px 1px 3px 1px rgba(0, 0, 0, 0.15);\n",
       "      filter: drop-shadow(0px 1px 2px rgba(0, 0, 0, 0.3));\n",
       "      fill: #FFFFFF;\n",
       "    }\n",
       "  </style>\n",
       "\n",
       "      <script>\n",
       "        const buttonEl =\n",
       "          document.querySelector('#df-c86ffc0b-43b0-46fe-ac50-796cc0f1569f button.colab-df-convert');\n",
       "        buttonEl.style.display =\n",
       "          google.colab.kernel.accessAllowed ? 'block' : 'none';\n",
       "\n",
       "        async function convertToInteractive(key) {\n",
       "          const element = document.querySelector('#df-c86ffc0b-43b0-46fe-ac50-796cc0f1569f');\n",
       "          const dataTable =\n",
       "            await google.colab.kernel.invokeFunction('convertToInteractive',\n",
       "                                                     [key], {});\n",
       "          if (!dataTable) return;\n",
       "\n",
       "          const docLinkHtml = 'Like what you see? Visit the ' +\n",
       "            '<a target=\"_blank\" href=https://colab.research.google.com/notebooks/data_table.ipynb>data table notebook</a>'\n",
       "            + ' to learn more about interactive tables.';\n",
       "          element.innerHTML = '';\n",
       "          dataTable['output_type'] = 'display_data';\n",
       "          await google.colab.output.renderOutput(dataTable, element);\n",
       "          const docLink = document.createElement('div');\n",
       "          docLink.innerHTML = docLinkHtml;\n",
       "          element.appendChild(docLink);\n",
       "        }\n",
       "      </script>\n",
       "    </div>\n",
       "  </div>\n",
       "  "
      ],
      "text/plain": [
       "                                               title  \\\n",
       "0                       You Can Smell Hillary’s Fear   \n",
       "1  Watch The Exact Moment Paul Ryan Committed Pol...   \n",
       "2        Kerry to go to Paris in gesture of sympathy   \n",
       "3  Bernie supporters on Twitter erupt in anger ag...   \n",
       "4   The Battle of New York: Why This Primary Matters   \n",
       "\n",
       "                                                text label  \n",
       "0  Daniel Greenfield, a Shillman Journalism Fello...  FAKE  \n",
       "1  Google Pinterest Digg Linkedin Reddit Stumbleu...  FAKE  \n",
       "2  U.S. Secretary of State John F. Kerry said Mon...  REAL  \n",
       "3  — Kaydee King (@KaydeeKing) November 9, 2016 T...  FAKE  \n",
       "4  It's primary day in New York and front-runners...  REAL  "
      ]
     },
     "execution_count": 4,
     "metadata": {},
     "output_type": "execute_result"
    }
   ],
   "source": [
    "news = pd.read_csv('/content/fake_or_real_news.csv')\n",
    "news = news.drop(columns='Unnamed: 0')\n",
    "print(news.shape)\n",
    "news.head()"
   ]
  },
  {
   "cell_type": "markdown",
   "metadata": {
    "id": "Jt2rOSc-Brvo",
    "pycharm": {
     "name": "#%% md\n"
    }
   },
   "source": [
    "Cambiamos el formato de la variable target definiendo la siguiente función y aplicandola a la ya existente variable label de los datos."
   ]
  },
  {
   "cell_type": "code",
   "execution_count": 5,
   "metadata": {
    "id": "lrT5IladjgRZ"
   },
   "outputs": [],
   "source": [
    "def news_label(label):\n",
    "    if label == 'FAKE':\n",
    "        return 0\n",
    "    else:\n",
    "        return 1"
   ]
  },
  {
   "cell_type": "code",
   "execution_count": 6,
   "metadata": {
    "id": "__tLPoLYjgOo"
   },
   "outputs": [],
   "source": [
    "news['label'] = news.label.apply(lambda x: news_label(x))"
   ]
  },
  {
   "cell_type": "markdown",
   "metadata": {
    "id": "bhn32itSBrvq",
    "pycharm": {
     "name": "#%% md\n"
    }
   },
   "source": [
    "### Limpieza del texto\n",
    "\n",
    "La siguiente celda elimina del texto los links y las paginas webs, ademas de quitar la puncuación que definimos con la siguiente función:"
   ]
  },
  {
   "cell_type": "code",
   "execution_count": 7,
   "metadata": {
    "id": "8LHSeCisBrvr",
    "pycharm": {
     "name": "#%%\n"
    }
   },
   "outputs": [],
   "source": [
    "def remove_punctuation(text):\n",
    "  return re.sub('[%s]' % re.escape(string.punctuation), ' ', text)"
   ]
  },
  {
   "cell_type": "code",
   "execution_count": 10,
   "metadata": {
    "colab": {
     "base_uri": "https://localhost:8080/"
    },
    "id": "c91D_mq9jgMH",
    "outputId": "83c65927-9f4c-411a-e18c-08ebcdb9a7d1"
   },
   "outputs": [
    {
     "name": "stderr",
     "output_type": "stream",
     "text": [
      "100%|██████████| 6335/6335 [00:11<00:00, 549.47it/s]\n"
     ]
    }
   ],
   "source": [
    "dd = news.copy()\n",
    "\n",
    "for i, s in enumerate(tqdm(dd['text'], position=0, leave=True)):\n",
    "    text = str(dd.loc[i, 'text'])\n",
    "    text = re.sub('https?://(?:[-\\w.]|(?:%[\\da-fA-F]{2}))+', '', text, flags=re.MULTILINE)\n",
    "    text = re.sub('@\\\\w+ *', '', text, flags=re.MULTILINE)\n",
    "    dd.loc[i, 'text'] = text"
   ]
  },
  {
   "cell_type": "code",
   "execution_count": 15,
   "metadata": {
    "id": "9frzAtpsC0cY"
   },
   "outputs": [],
   "source": [
    "dd['text'] = dd.text.apply(lambda x: remove_punctuation(x))"
   ]
  },
  {
   "cell_type": "code",
   "execution_count": 17,
   "metadata": {
    "colab": {
     "base_uri": "https://localhost:8080/"
    },
    "id": "87sT1BhDjgG-",
    "outputId": "8d2f4e53-422b-42a7-cd26-a6d6ffe79c2c"
   },
   "outputs": [
    {
     "name": "stdout",
     "output_type": "stream",
     "text": [
      "(5068,) (1267,) (5068, 2) (1267, 2)\n"
     ]
    }
   ],
   "source": [
    "y = pd.get_dummies(dd['label']).values\n",
    "X = dd['text']\n",
    "num_classes = dd['label'].nunique()\n",
    "seed=39\n",
    "X_train, X_test, y_train, y_test = train_test_split(X, y, \n",
    "                                                    test_size=0.2,\n",
    "                                                    stratify=y,\n",
    "                                                    random_state=seed)\n",
    "\n",
    "# shapes\n",
    "print(X_train.shape, X_test.shape, y_train.shape, y_test.shape)"
   ]
  },
  {
   "cell_type": "markdown",
   "metadata": {
    "id": "zgnLk7OaBrvs",
    "pycharm": {
     "name": "#%% md\n"
    }
   },
   "source": [
    "### Evaluación del modelo\n",
    "\n",
    "Definimos la siguiente formula para evaluar nuestro modelo posteriormente:"
   ]
  },
  {
   "cell_type": "code",
   "execution_count": null,
   "metadata": {
    "id": "DCTlHCCTjgBx"
   },
   "outputs": [],
   "source": [
    "def f1_score(precision, recall):\n",
    "    f1_val = 2*(precision*recall)/(precision+recall+K.epsilon())\n",
    "    return f1_val"
   ]
  },
  {
   "cell_type": "markdown",
   "metadata": {
    "id": "Int0IFuUBrvt",
    "pycharm": {
     "name": "#%% md\n"
    }
   },
   "source": [
    "### Tokenización del texto"
   ]
  },
  {
   "cell_type": "code",
   "execution_count": null,
   "metadata": {
    "id": "nJ-ei64qjfx9"
   },
   "outputs": [],
   "source": [
    "max_features = 20000\n",
    "tokenizer = Tokenizer(num_words=max_features)\n",
    "tokenizer.fit_on_texts(list(X_train))\n",
    "X_train = tokenizer.texts_to_sequences(X_train)\n",
    "X_test = tokenizer.texts_to_sequences(X_test)"
   ]
  },
  {
   "cell_type": "markdown",
   "metadata": {
    "id": "G5KhifGlBrvu",
    "pycharm": {
     "name": "#%% md\n"
    }
   },
   "source": [
    "### Secuencia"
   ]
  },
  {
   "cell_type": "code",
   "execution_count": null,
   "metadata": {
    "colab": {
     "base_uri": "https://localhost:8080/"
    },
    "id": "KRv1KrQkjfvd",
    "outputId": "74128309-ef5e-4eba-e904-ec67a4feae49"
   },
   "outputs": [
    {
     "name": "stdout",
     "output_type": "stream",
     "text": [
      "(5068, 30) (1267, 30)\n"
     ]
    }
   ],
   "source": [
    "max_words = 30\n",
    "X_train = sequence.pad_sequences(X_train, maxlen=max_words)\n",
    "X_test = sequence.pad_sequences(X_test, maxlen=max_words)\n",
    "print(X_train.shape,X_test.shape)"
   ]
  },
  {
   "cell_type": "markdown",
   "metadata": {
    "id": "sQ68zLvVBrvu",
    "pycharm": {
     "name": "#%% md\n"
    }
   },
   "source": [
    "## Modelo de Red Neuronal Sequencial"
   ]
  },
  {
   "cell_type": "code",
   "execution_count": null,
   "metadata": {
    "colab": {
     "base_uri": "https://localhost:8080/"
    },
    "id": "DrErcCIzjfsz",
    "outputId": "86632050-0567-46e6-ee0c-9bd6462b6c54"
   },
   "outputs": [
    {
     "name": "stdout",
     "output_type": "stream",
     "text": [
      "Model: \"sequential\"\n",
      "_________________________________________________________________\n",
      " Layer (type)                Output Shape              Param #   \n",
      "=================================================================\n",
      " embedding (Embedding)       (None, 30, 100)           2000000   \n",
      "                                                                 \n",
      " conv1d (Conv1D)             (None, 30, 32)            9632      \n",
      "                                                                 \n",
      " max_pooling1d (MaxPooling1D  (None, 15, 32)           0         \n",
      " )                                                               \n",
      "                                                                 \n",
      " conv1d_1 (Conv1D)           (None, 15, 32)            3104      \n",
      "                                                                 \n",
      " max_pooling1d_1 (MaxPooling  (None, 7, 32)            0         \n",
      " 1D)                                                             \n",
      "                                                                 \n",
      " lstm (LSTM)                 (None, 100)               53200     \n",
      "                                                                 \n",
      " dense (Dense)               (None, 2)                 202       \n",
      "                                                                 \n",
      "=================================================================\n",
      "Total params: 2,066,138\n",
      "Trainable params: 2,066,138\n",
      "Non-trainable params: 0\n",
      "_________________________________________________________________\n"
     ]
    }
   ],
   "source": [
    "batch_size = 100\n",
    "epochs = 50\n",
    "\n",
    "max_features = 20000\n",
    "embed_dim = 100\n",
    "\n",
    "np.random.seed(seed)\n",
    "K.clear_session()\n",
    "model = Sequential()\n",
    "model.add(Embedding(max_features, embed_dim, input_length=X_train.shape[1]))\n",
    "model.add(Conv1D(filters=32, kernel_size=3, padding='same', activation='relu'))\n",
    "model.add(MaxPooling1D(pool_size=2))\n",
    "model.add(Conv1D(filters=32, kernel_size=3, padding='same', activation='relu'))\n",
    "model.add(MaxPooling1D(pool_size=2))    \n",
    "model.add(LSTM(100, dropout=0.2, recurrent_dropout=0.2))\n",
    "model.add(Dense(2, activation='sigmoid'))\n",
    "model.compile(loss='binary_crossentropy', optimizer='adam', metrics=['accuracy'])\n",
    "model.summary()"
   ]
  },
  {
   "cell_type": "markdown",
   "metadata": {
    "id": "7dkqSRFYBrvv",
    "pycharm": {
     "name": "#%% md\n"
    }
   },
   "source": [
    "### Entrenamiento del modelo"
   ]
  },
  {
   "cell_type": "code",
   "execution_count": null,
   "metadata": {
    "colab": {
     "base_uri": "https://localhost:8080/"
    },
    "id": "rCSsUAgAjfqa",
    "outputId": "3e99b594-f1aa-4de7-b68c-a85f6ba631ce"
   },
   "outputs": [
    {
     "name": "stdout",
     "output_type": "stream",
     "text": [
      "Epoch 1/50\n",
      "51/51 [==============================] - 7s 82ms/step - loss: 0.6473 - accuracy: 0.6101 - val_loss: 0.4626 - val_accuracy: 0.7743\n",
      "Epoch 2/50\n",
      "51/51 [==============================] - 3s 61ms/step - loss: 0.3048 - accuracy: 0.8735 - val_loss: 0.3671 - val_accuracy: 0.8256\n",
      "Epoch 3/50\n",
      "51/51 [==============================] - 3s 62ms/step - loss: 0.0692 - accuracy: 0.9783 - val_loss: 0.6339 - val_accuracy: 0.8066\n",
      "Epoch 4/50\n",
      "51/51 [==============================] - 3s 62ms/step - loss: 0.0129 - accuracy: 0.9970 - val_loss: 0.7465 - val_accuracy: 0.8090\n",
      "Epoch 5/50\n",
      "51/51 [==============================] - 3s 62ms/step - loss: 0.0033 - accuracy: 0.9992 - val_loss: 0.9428 - val_accuracy: 0.8011\n",
      "Epoch 6/50\n",
      "51/51 [==============================] - 3s 61ms/step - loss: 0.0020 - accuracy: 0.9996 - val_loss: 1.1696 - val_accuracy: 0.8003\n",
      "Epoch 7/50\n",
      "51/51 [==============================] - 3s 61ms/step - loss: 0.0063 - accuracy: 0.9976 - val_loss: 1.0792 - val_accuracy: 0.7853\n",
      "Epoch 8/50\n",
      "51/51 [==============================] - 3s 61ms/step - loss: 0.0056 - accuracy: 0.9982 - val_loss: 1.0235 - val_accuracy: 0.8058\n",
      "Epoch 9/50\n",
      "51/51 [==============================] - 3s 62ms/step - loss: 0.0091 - accuracy: 0.9968 - val_loss: 0.7965 - val_accuracy: 0.8106\n",
      "Epoch 10/50\n",
      "51/51 [==============================] - 3s 62ms/step - loss: 0.0078 - accuracy: 0.9978 - val_loss: 0.9782 - val_accuracy: 0.8043\n",
      "Epoch 11/50\n",
      "51/51 [==============================] - 3s 61ms/step - loss: 0.0032 - accuracy: 0.9992 - val_loss: 1.0726 - val_accuracy: 0.7987\n",
      "Epoch 12/50\n",
      "51/51 [==============================] - 3s 62ms/step - loss: 5.0161e-04 - accuracy: 1.0000 - val_loss: 1.2557 - val_accuracy: 0.7916\n",
      "Epoch 13/50\n",
      "51/51 [==============================] - 3s 62ms/step - loss: 1.6656e-04 - accuracy: 1.0000 - val_loss: 1.3713 - val_accuracy: 0.7924\n",
      "Epoch 14/50\n",
      "51/51 [==============================] - 3s 62ms/step - loss: 1.1009e-04 - accuracy: 1.0000 - val_loss: 1.3792 - val_accuracy: 0.7940\n",
      "Epoch 15/50\n",
      "51/51 [==============================] - 3s 62ms/step - loss: 1.3272e-04 - accuracy: 1.0000 - val_loss: 1.3739 - val_accuracy: 0.7979\n",
      "Epoch 16/50\n",
      "51/51 [==============================] - 3s 61ms/step - loss: 5.1870e-05 - accuracy: 1.0000 - val_loss: 1.4346 - val_accuracy: 0.7940\n",
      "Epoch 17/50\n",
      "51/51 [==============================] - 3s 62ms/step - loss: 4.7609e-05 - accuracy: 1.0000 - val_loss: 1.4735 - val_accuracy: 0.7979\n",
      "Epoch 18/50\n",
      "51/51 [==============================] - 3s 61ms/step - loss: 4.6881e-05 - accuracy: 1.0000 - val_loss: 1.4848 - val_accuracy: 0.7972\n",
      "Epoch 19/50\n",
      "51/51 [==============================] - 3s 61ms/step - loss: 4.9103e-05 - accuracy: 1.0000 - val_loss: 1.5128 - val_accuracy: 0.7940\n",
      "Epoch 20/50\n",
      "51/51 [==============================] - 3s 61ms/step - loss: 3.3013e-05 - accuracy: 1.0000 - val_loss: 1.5411 - val_accuracy: 0.7932\n",
      "Epoch 21/50\n",
      "51/51 [==============================] - 3s 62ms/step - loss: 2.6373e-05 - accuracy: 1.0000 - val_loss: 1.5703 - val_accuracy: 0.7940\n",
      "Epoch 22/50\n",
      "51/51 [==============================] - 3s 62ms/step - loss: 2.7557e-05 - accuracy: 1.0000 - val_loss: 1.5810 - val_accuracy: 0.7924\n",
      "Epoch 23/50\n",
      "51/51 [==============================] - 3s 62ms/step - loss: 1.7943e-05 - accuracy: 1.0000 - val_loss: 1.6074 - val_accuracy: 0.7924\n",
      "Epoch 24/50\n",
      "51/51 [==============================] - 3s 63ms/step - loss: 2.8271e-05 - accuracy: 1.0000 - val_loss: 1.6103 - val_accuracy: 0.7908\n",
      "Epoch 25/50\n",
      "51/51 [==============================] - 3s 62ms/step - loss: 3.7075e-05 - accuracy: 1.0000 - val_loss: 1.5906 - val_accuracy: 0.7901\n",
      "Epoch 26/50\n",
      "51/51 [==============================] - 3s 62ms/step - loss: 2.1287e-05 - accuracy: 1.0000 - val_loss: 1.6337 - val_accuracy: 0.7924\n",
      "Epoch 27/50\n",
      "51/51 [==============================] - 3s 63ms/step - loss: 1.3487e-05 - accuracy: 1.0000 - val_loss: 1.6622 - val_accuracy: 0.7908\n",
      "Epoch 28/50\n",
      "51/51 [==============================] - 3s 63ms/step - loss: 9.4811e-06 - accuracy: 1.0000 - val_loss: 1.6809 - val_accuracy: 0.7893\n",
      "Epoch 29/50\n",
      "51/51 [==============================] - 3s 63ms/step - loss: 2.0758e-05 - accuracy: 1.0000 - val_loss: 1.6607 - val_accuracy: 0.7893\n",
      "Epoch 30/50\n",
      "51/51 [==============================] - 3s 63ms/step - loss: 1.4324e-05 - accuracy: 1.0000 - val_loss: 1.6792 - val_accuracy: 0.7885\n",
      "Epoch 31/50\n",
      "51/51 [==============================] - 3s 62ms/step - loss: 1.1394e-05 - accuracy: 1.0000 - val_loss: 1.6966 - val_accuracy: 0.7877\n",
      "Epoch 32/50\n",
      "51/51 [==============================] - 3s 64ms/step - loss: 1.4094e-05 - accuracy: 1.0000 - val_loss: 1.7045 - val_accuracy: 0.7893\n",
      "Epoch 33/50\n",
      "51/51 [==============================] - 3s 64ms/step - loss: 1.1157e-05 - accuracy: 1.0000 - val_loss: 1.7169 - val_accuracy: 0.7901\n",
      "Epoch 34/50\n",
      "51/51 [==============================] - 3s 64ms/step - loss: 1.1558e-05 - accuracy: 1.0000 - val_loss: 1.7174 - val_accuracy: 0.7908\n",
      "Epoch 35/50\n",
      "51/51 [==============================] - 4s 76ms/step - loss: 9.9972e-06 - accuracy: 1.0000 - val_loss: 1.7360 - val_accuracy: 0.7908\n",
      "Epoch 36/50\n",
      "51/51 [==============================] - 3s 63ms/step - loss: 1.4993e-05 - accuracy: 1.0000 - val_loss: 1.7400 - val_accuracy: 0.7893\n",
      "Epoch 37/50\n",
      "51/51 [==============================] - 3s 64ms/step - loss: 1.1126e-05 - accuracy: 1.0000 - val_loss: 1.7538 - val_accuracy: 0.7893\n",
      "Epoch 38/50\n",
      "51/51 [==============================] - 3s 63ms/step - loss: 9.7461e-06 - accuracy: 1.0000 - val_loss: 1.7718 - val_accuracy: 0.7869\n",
      "Epoch 39/50\n",
      "51/51 [==============================] - 3s 63ms/step - loss: 8.2991e-06 - accuracy: 1.0000 - val_loss: 1.7713 - val_accuracy: 0.7924\n",
      "Epoch 40/50\n",
      "51/51 [==============================] - 3s 64ms/step - loss: 8.8824e-06 - accuracy: 1.0000 - val_loss: 1.7826 - val_accuracy: 0.7861\n",
      "Epoch 41/50\n",
      "51/51 [==============================] - 3s 63ms/step - loss: 7.0726e-06 - accuracy: 1.0000 - val_loss: 1.7968 - val_accuracy: 0.7877\n",
      "Epoch 42/50\n",
      "51/51 [==============================] - 3s 65ms/step - loss: 1.4012e-05 - accuracy: 1.0000 - val_loss: 1.7967 - val_accuracy: 0.7885\n",
      "Epoch 43/50\n",
      "51/51 [==============================] - 3s 64ms/step - loss: 5.1668e-06 - accuracy: 1.0000 - val_loss: 1.8204 - val_accuracy: 0.7877\n",
      "Epoch 44/50\n",
      "51/51 [==============================] - 3s 63ms/step - loss: 6.2219e-06 - accuracy: 1.0000 - val_loss: 1.8325 - val_accuracy: 0.7861\n",
      "Epoch 45/50\n",
      "51/51 [==============================] - 3s 63ms/step - loss: 1.2852e-05 - accuracy: 1.0000 - val_loss: 1.8194 - val_accuracy: 0.7893\n",
      "Epoch 46/50\n",
      "51/51 [==============================] - 3s 64ms/step - loss: 7.4279e-06 - accuracy: 1.0000 - val_loss: 1.8391 - val_accuracy: 0.7885\n",
      "Epoch 47/50\n",
      "51/51 [==============================] - 3s 63ms/step - loss: 4.8777e-06 - accuracy: 1.0000 - val_loss: 1.8561 - val_accuracy: 0.7869\n",
      "Epoch 48/50\n",
      "51/51 [==============================] - 3s 65ms/step - loss: 5.6340e-06 - accuracy: 1.0000 - val_loss: 1.8641 - val_accuracy: 0.7869\n",
      "Epoch 49/50\n",
      "51/51 [==============================] - 3s 64ms/step - loss: 4.7171e-06 - accuracy: 1.0000 - val_loss: 1.8740 - val_accuracy: 0.7869\n",
      "Epoch 50/50\n",
      "51/51 [==============================] - 3s 63ms/step - loss: 6.1494e-06 - accuracy: 1.0000 - val_loss: 1.8881 - val_accuracy: 0.7861\n"
     ]
    }
   ],
   "source": [
    "history = model.fit(X_train, y_train, validation_data=(X_test, y_test), \n",
    "                          epochs=epochs, batch_size=batch_size)"
   ]
  },
  {
   "cell_type": "markdown",
   "metadata": {
    "id": "lqK5x3Y1Brvv",
    "pycharm": {
     "name": "#%% md\n"
    }
   },
   "source": [
    "### Validación y Loss"
   ]
  },
  {
   "cell_type": "code",
   "execution_count": null,
   "metadata": {
    "colab": {
     "base_uri": "https://localhost:8080/",
     "height": 295
    },
    "id": "R6vBkOpEr2dU",
    "outputId": "ae6d31ad-0b5f-4923-d8ab-c6b762611c72"
   },
   "outputs": [
    {
     "data": {
      "image/png": "[encoded data removed]",
      "text/plain": [
       "<Figure size 720x288 with 2 Axes>"
      ]
     },
     "metadata": {
      "needs_background": "light"
     },
     "output_type": "display_data"
    }
   ],
   "source": [
    "def plot_training_hist(history):\n",
    "    '''Function to plot history for accuracy and loss'''\n",
    "    \n",
    "    fig, ax = plt.subplots(1,2, figsize=(10,4))\n",
    "    # first plot\n",
    "    ax[0].plot(history.history['accuracy'])\n",
    "    ax[0].plot(history.history['val_accuracy'])\n",
    "    ax[0].set_title('Model Accuracy')\n",
    "    ax[0].set_xlabel('epoch')\n",
    "    ax[0].set_ylabel('accuracy')\n",
    "    ax[0].legend(['train', 'validation'], loc='best')\n",
    "    \n",
    "    # second plot\n",
    "    ax[1].plot(history.history['loss'])\n",
    "    ax[1].plot(history.history['val_loss'])\n",
    "    ax[1].set_title('Model Loss')\n",
    "    ax[1].set_xlabel('epoch')\n",
    "    ax[1].set_ylabel('loss')\n",
    "    ax[1].legend(['train', 'validation'], loc='best')\n",
    "    \n",
    "plot_training_hist(history)"
   ]
  },
  {
   "cell_type": "markdown",
   "metadata": {
    "id": "kpaQso7SBrvv",
    "pycharm": {
     "name": "#%% md\n"
    }
   },
   "source": [
    "### Resultados predicción clasificación"
   ]
  },
  {
   "cell_type": "code",
   "execution_count": null,
   "metadata": {
    "colab": {
     "base_uri": "https://localhost:8080/"
    },
    "id": "sRBJSthQr6i-",
    "outputId": "609a9612-289d-41bf-e503-434f385b756b"
   },
   "outputs": [
    {
     "name": "stdout",
     "output_type": "stream",
     "text": [
      "Accuracy:\t78.6%\n",
      "              precision    recall  f1-score   support\n",
      "\n",
      "           0       0.80      0.76      0.78       633\n",
      "           1       0.77      0.81      0.79       634\n",
      "\n",
      "    accuracy                           0.79      1267\n",
      "   macro avg       0.79      0.79      0.79      1267\n",
      "weighted avg       0.79      0.79      0.79      1267\n",
      "\n"
     ]
    }
   ],
   "source": [
    "# predict class with test set\n",
    "y_pred_test =  np.argmax(model.predict(X_test), axis=1)\n",
    "print('Accuracy:\\t{:0.1f}%'.format(accuracy_score(np.argmax(y_test,axis=1),y_pred_test)*100))\n",
    "print(classification_report(np.argmax(y_test,axis=1), y_pred_test))"
   ]
  },
  {
   "cell_type": "markdown",
   "metadata": {
    "id": "02nmTD01Brvw",
    "pycharm": {
     "name": "#%% md\n"
    }
   },
   "source": [
    "### Matriz de confusión problema binario"
   ]
  },
  {
   "cell_type": "code",
   "execution_count": null,
   "metadata": {
    "colab": {
     "base_uri": "https://localhost:8080/",
     "height": 513
    },
    "id": "vnawKXIgjfng",
    "outputId": "18d7d023-5202-4da8-f603-9b468d9edb2d",
    "pycharm": {
     "name": "#%%\n"
    }
   },
   "outputs": [
    {
     "name": "stdout",
     "output_type": "stream",
     "text": [
      "1    634\n",
      "0    633\n",
      "dtype: int64\n",
      "1    667\n",
      "0    600\n",
      "dtype: int64\n"
     ]
    },
    {
     "data": {
      "image/png": "[encoded data removed]",
      "text/plain": [
       "<Figure size 576x432 with 2 Axes>"
      ]
     },
     "metadata": {
      "needs_background": "light"
     },
     "output_type": "display_data"
    }
   ],
   "source": [
    "def plot_confusion_matrix(model, X_test, y_test):\n",
    "    sentiment_classes = ['FAKE','REAL']\n",
    "    # use model to do the prediction\n",
    "    y_pred = model.predict(X_test)\n",
    "    # compute confusion matrix\n",
    "    cm = confusion_matrix(np.argmax(y_pred, axis=1),np.argmax(np.array(y_test),axis=1))\n",
    "    \n",
    "    print(pd.Series(np.argmax(np.array(y_test),axis=1)).value_counts())\n",
    "    print(pd.Series(np.argmax(y_pred, axis=1)).value_counts())\n",
    "    \n",
    "    # plot confusion matrix\n",
    "    plt.figure(figsize=(8,6))\n",
    "    sns.heatmap(cm, cmap=plt.cm.Blues, annot=True, fmt='d', \n",
    "                xticklabels=sentiment_classes,\n",
    "                yticklabels=sentiment_classes)\n",
    "    plt.title('Confusion matrix', fontsize=16)\n",
    "    plt.xlabel('Actual label', fontsize=12)\n",
    "    plt.ylabel('Predicted label', fontsize=12)\n",
    "    \n",
    "plot_confusion_matrix(model, X_test, y_test)"
   ]
  },
  {
   "cell_type": "markdown",
   "metadata": {
    "id": "_pqYVvZXDSDF"
   },
   "source": [
    "### Analisis de topicos"
   ]
  },
  {
   "cell_type": "code",
   "execution_count": 18,
   "metadata": {
    "colab": {
     "base_uri": "https://localhost:8080/",
     "height": 206
    },
    "id": "evID-c6VDUm0",
    "outputId": "16d10625-d4f7-49f5-e5e5-24c478ee544b"
   },
   "outputs": [
    {
     "data": {
      "text/html": [
       "\n",
       "  <div id=\"df-e17e85a3-55fb-4d7f-95c1-5ad71925b9e1\">\n",
       "    <div class=\"colab-df-container\">\n",
       "      <div>\n",
       "<style scoped>\n",
       "    .dataframe tbody tr th:only-of-type {\n",
       "        vertical-align: middle;\n",
       "    }\n",
       "\n",
       "    .dataframe tbody tr th {\n",
       "        vertical-align: top;\n",
       "    }\n",
       "\n",
       "    .dataframe thead th {\n",
       "        text-align: right;\n",
       "    }\n",
       "</style>\n",
       "<table border=\"1\" class=\"dataframe\">\n",
       "  <thead>\n",
       "    <tr style=\"text-align: right;\">\n",
       "      <th></th>\n",
       "      <th>title</th>\n",
       "      <th>text</th>\n",
       "      <th>label</th>\n",
       "    </tr>\n",
       "  </thead>\n",
       "  <tbody>\n",
       "    <tr>\n",
       "      <th>0</th>\n",
       "      <td>You Can Smell Hillary’s Fear</td>\n",
       "      <td>Daniel Greenfield  a Shillman Journalism Fello...</td>\n",
       "      <td>0</td>\n",
       "    </tr>\n",
       "    <tr>\n",
       "      <th>1</th>\n",
       "      <td>Watch The Exact Moment Paul Ryan Committed Pol...</td>\n",
       "      <td>Google Pinterest Digg Linkedin Reddit Stumbleu...</td>\n",
       "      <td>0</td>\n",
       "    </tr>\n",
       "    <tr>\n",
       "      <th>2</th>\n",
       "      <td>Kerry to go to Paris in gesture of sympathy</td>\n",
       "      <td>U S  Secretary of State John F  Kerry said Mon...</td>\n",
       "      <td>1</td>\n",
       "    </tr>\n",
       "    <tr>\n",
       "      <th>3</th>\n",
       "      <td>Bernie supporters on Twitter erupt in anger ag...</td>\n",
       "      <td>— Kaydee King    November 9  2016 The lesson f...</td>\n",
       "      <td>0</td>\n",
       "    </tr>\n",
       "    <tr>\n",
       "      <th>4</th>\n",
       "      <td>The Battle of New York: Why This Primary Matters</td>\n",
       "      <td>It s primary day in New York and front runners...</td>\n",
       "      <td>1</td>\n",
       "    </tr>\n",
       "  </tbody>\n",
       "</table>\n",
       "</div>\n",
       "      <button class=\"colab-df-convert\" onclick=\"convertToInteractive('df-e17e85a3-55fb-4d7f-95c1-5ad71925b9e1')\"\n",
       "              title=\"Convert this dataframe to an interactive table.\"\n",
       "              style=\"display:none;\">\n",
       "        \n",
       "  <svg xmlns=\"http://www.w3.org/2000/svg\" height=\"24px\"viewBox=\"0 0 24 24\"\n",
       "       width=\"24px\">\n",
       "    <path d=\"M0 0h24v24H0V0z\" fill=\"none\"/>\n",
       "    <path d=\"M18.56 5.44l.94 2.06.94-2.06 2.06-.94-2.06-.94-.94-2.06-.94 2.06-2.06.94zm-11 1L8.5 8.5l.94-2.06 2.06-.94-2.06-.94L8.5 2.5l-.94 2.06-2.06.94zm10 10l.94 2.06.94-2.06 2.06-.94-2.06-.94-.94-2.06-.94 2.06-2.06.94z\"/><path d=\"M17.41 7.96l-1.37-1.37c-.4-.4-.92-.59-1.43-.59-.52 0-1.04.2-1.43.59L10.3 9.45l-7.72 7.72c-.78.78-.78 2.05 0 2.83L4 21.41c.39.39.9.59 1.41.59.51 0 1.02-.2 1.41-.59l7.78-7.78 2.81-2.81c.8-.78.8-2.07 0-2.86zM5.41 20L4 18.59l7.72-7.72 1.47 1.35L5.41 20z\"/>\n",
       "  </svg>\n",
       "      </button>\n",
       "      \n",
       "  <style>\n",
       "    .colab-df-container {\n",
       "      display:flex;\n",
       "      flex-wrap:wrap;\n",
       "      gap: 12px;\n",
       "    }\n",
       "\n",
       "    .colab-df-convert {\n",
       "      background-color: #E8F0FE;\n",
       "      border: none;\n",
       "      border-radius: 50%;\n",
       "      cursor: pointer;\n",
       "      display: none;\n",
       "      fill: #1967D2;\n",
       "      height: 32px;\n",
       "      padding: 0 0 0 0;\n",
       "      width: 32px;\n",
       "    }\n",
       "\n",
       "    .colab-df-convert:hover {\n",
       "      background-color: #E2EBFA;\n",
       "      box-shadow: 0px 1px 2px rgba(60, 64, 67, 0.3), 0px 1px 3px 1px rgba(60, 64, 67, 0.15);\n",
       "      fill: #174EA6;\n",
       "    }\n",
       "\n",
       "    [theme=dark] .colab-df-convert {\n",
       "      background-color: #3B4455;\n",
       "      fill: #D2E3FC;\n",
       "    }\n",
       "\n",
       "    [theme=dark] .colab-df-convert:hover {\n",
       "      background-color: #434B5C;\n",
       "      box-shadow: 0px 1px 3px 1px rgba(0, 0, 0, 0.15);\n",
       "      filter: drop-shadow(0px 1px 2px rgba(0, 0, 0, 0.3));\n",
       "      fill: #FFFFFF;\n",
       "    }\n",
       "  </style>\n",
       "\n",
       "      <script>\n",
       "        const buttonEl =\n",
       "          document.querySelector('#df-e17e85a3-55fb-4d7f-95c1-5ad71925b9e1 button.colab-df-convert');\n",
       "        buttonEl.style.display =\n",
       "          google.colab.kernel.accessAllowed ? 'block' : 'none';\n",
       "\n",
       "        async function convertToInteractive(key) {\n",
       "          const element = document.querySelector('#df-e17e85a3-55fb-4d7f-95c1-5ad71925b9e1');\n",
       "          const dataTable =\n",
       "            await google.colab.kernel.invokeFunction('convertToInteractive',\n",
       "                                                     [key], {});\n",
       "          if (!dataTable) return;\n",
       "\n",
       "          const docLinkHtml = 'Like what you see? Visit the ' +\n",
       "            '<a target=\"_blank\" href=https://colab.research.google.com/notebooks/data_table.ipynb>data table notebook</a>'\n",
       "            + ' to learn more about interactive tables.';\n",
       "          element.innerHTML = '';\n",
       "          dataTable['output_type'] = 'display_data';\n",
       "          await google.colab.output.renderOutput(dataTable, element);\n",
       "          const docLink = document.createElement('div');\n",
       "          docLink.innerHTML = docLinkHtml;\n",
       "          element.appendChild(docLink);\n",
       "        }\n",
       "      </script>\n",
       "    </div>\n",
       "  </div>\n",
       "  "
      ],
      "text/plain": [
       "                                               title  \\\n",
       "0                       You Can Smell Hillary’s Fear   \n",
       "1  Watch The Exact Moment Paul Ryan Committed Pol...   \n",
       "2        Kerry to go to Paris in gesture of sympathy   \n",
       "3  Bernie supporters on Twitter erupt in anger ag...   \n",
       "4   The Battle of New York: Why This Primary Matters   \n",
       "\n",
       "                                                text  label  \n",
       "0  Daniel Greenfield  a Shillman Journalism Fello...      0  \n",
       "1  Google Pinterest Digg Linkedin Reddit Stumbleu...      0  \n",
       "2  U S  Secretary of State John F  Kerry said Mon...      1  \n",
       "3  — Kaydee King    November 9  2016 The lesson f...      0  \n",
       "4  It s primary day in New York and front runners...      1  "
      ]
     },
     "execution_count": 18,
     "metadata": {},
     "output_type": "execute_result"
    }
   ],
   "source": [
    "dd.head()"
   ]
  },
  {
   "cell_type": "code",
   "execution_count": 21,
   "metadata": {
    "id": "OF-u-exADWYp"
   },
   "outputs": [],
   "source": [
    "texts = dd.text.apply(simple_preprocess)"
   ]
  },
  {
   "cell_type": "code",
   "execution_count": 22,
   "metadata": {
    "id": "raHU6BGIDfno"
   },
   "outputs": [],
   "source": [
    "dictionary = corpora.Dictionary(texts)\n",
    "dictionary.filter_extremes(no_below=5, no_above=0.5)\n",
    "\n",
    "corpus = [dictionary.doc2bow(text) for text in texts]"
   ]
  },
  {
   "cell_type": "markdown",
   "metadata": {
    "id": "uoZKqiZFERoI"
   },
   "source": [
    "### Modelo de tópicos\n",
    "\n",
    "Construimos el modelo y ajustamos a los datos ya procesados anteriormente."
   ]
  },
  {
   "cell_type": "code",
   "execution_count": 24,
   "metadata": {
    "id": "q-xO8LGUDuqx"
   },
   "outputs": [],
   "source": [
    "tfidf = models.TfidfModel(corpus)\n",
    "corpus_tfidf = tfidf[corpus]"
   ]
  },
  {
   "cell_type": "markdown",
   "metadata": {
    "id": "RRIKV4BlEYU4"
   },
   "source": [
    "El número de tópicos puede variar. Elegimos 15 ya que los documentos son extensos al ser noticias de un número elevado de tokens por noticia."
   ]
  },
  {
   "cell_type": "code",
   "execution_count": 25,
   "metadata": {
    "id": "BohTaLFKD03F"
   },
   "outputs": [],
   "source": [
    "n_topics = 15\n",
    "lsi_model = models.LsiModel(corpus_tfidf,\n",
    "                            id2word=dictionary,\n",
    "                            num_topics=n_topics)"
   ]
  },
  {
   "cell_type": "code",
   "execution_count": 26,
   "metadata": {
    "colab": {
     "base_uri": "https://localhost:8080/"
    },
    "id": "zy7Ya1d1D3a_",
    "outputId": "c54cd978-35dd-4169-ab95-2bd093a6e3eb"
   },
   "outputs": [
    {
     "data": {
      "text/plain": [
       "[(0,\n",
       "  '0.284*\"trump\" + 0.203*\"clinton\" + 0.121*\"sanders\" + 0.121*\"her\" + 0.118*\"she\" + 0.090*\"cruz\" + 0.088*\"campaign\" + 0.087*\"hillary\" + 0.087*\"obama\" + 0.083*\"party\"'),\n",
       " (1,\n",
       "  '-0.411*\"dismantling\" + -0.318*\"obamacare\" + -0.278*\"killing\" + -0.275*\"pushing\" + -0.269*\"tax\" + -0.263*\"reform\" + -0.244*\"rules\" + -0.228*\"list\" + -0.208*\"administration\" + 0.185*\"trump\"'),\n",
       " (2,\n",
       "  '-0.291*\"trump\" + -0.218*\"dismantling\" + -0.205*\"cruz\" + -0.182*\"sanders\" + -0.159*\"obamacare\" + -0.142*\"pushing\" + 0.139*\"russia\" + -0.139*\"reform\" + -0.134*\"rules\" + -0.134*\"tax\"'),\n",
       " (3,\n",
       "  '0.392*\"clinton\" + 0.308*\"fbi\" + 0.241*\"emails\" + 0.220*\"comey\" + 0.218*\"her\" + -0.185*\"cruz\" + 0.176*\"she\" + 0.174*\"sanders\" + 0.168*\"investigation\" + 0.162*\"hillary\"'),\n",
       " (4,\n",
       "  '-0.613*\"sanders\" + 0.382*\"trump\" + 0.174*\"fbi\" + -0.158*\"iran\" + 0.145*\"comey\" + -0.144*\"clinton\" + -0.129*\"delegates\" + -0.118*\"bernie\" + -0.116*\"democratic\" + 0.091*\"investigation\"'),\n",
       " (5,\n",
       "  '-0.337*\"trump\" + -0.277*\"russia\" + -0.212*\"russian\" + -0.197*\"syria\" + -0.128*\"putin\" + -0.125*\"clinton\" + 0.125*\"court\" + -0.124*\"isis\" + 0.121*\"police\" + -0.115*\"syrian\"'),\n",
       " (6,\n",
       "  '-0.391*\"iran\" + -0.193*\"nuclear\" + -0.183*\"deal\" + -0.178*\"fbi\" + -0.163*\"cruz\" + 0.161*\"sanders\" + -0.155*\"rubio\" + -0.152*\"comey\" + -0.144*\"netanyahu\" + 0.141*\"trump\"'),\n",
       " (7,\n",
       "  '0.338*\"trump\" + -0.298*\"cruz\" + -0.274*\"rubio\" + 0.256*\"iran\" + -0.175*\"bush\" + 0.156*\"nuclear\" + -0.140*\"police\" + -0.130*\"isis\" + -0.126*\"fbi\" + 0.121*\"deal\"'),\n",
       " (8,\n",
       "  '-0.368*\"startups\" + -0.313*\"verdict\" + -0.273*\"sweeping\" + -0.264*\"tech\" + 0.242*\"police\" + -0.219*\"consequences\" + 0.191*\"iran\" + -0.149*\"percent\" + -0.142*\"russia\" + -0.109*\"russian\"'),\n",
       " (9,\n",
       "  '-0.425*\"startups\" + -0.365*\"verdict\" + -0.312*\"sweeping\" + -0.303*\"tech\" + -0.242*\"consequences\" + -0.208*\"police\" + -0.167*\"iran\" + 0.132*\"percent\" + 0.115*\"russia\" + -0.090*\"officers\"'),\n",
       " (10,\n",
       "  '-0.255*\"bush\" + -0.251*\"rubio\" + 0.189*\"police\" + 0.174*\"trump\" + -0.160*\"she\" + 0.156*\"ryan\" + -0.153*\"her\" + 0.132*\"delegates\" + 0.128*\"boehner\" + -0.114*\"debate\"'),\n",
       " (11,\n",
       "  '0.249*\"cruz\" + 0.232*\"delegates\" + -0.224*\"she\" + -0.213*\"her\" + 0.177*\"fbi\" + 0.161*\"comey\" + -0.158*\"bush\" + 0.147*\"sanders\" + -0.142*\"clinton\" + -0.135*\"isis\"'),\n",
       " (12,\n",
       "  '0.346*\"percent\" + -0.258*\"cruz\" + 0.207*\"quotes\" + 0.199*\"photos\" + 0.183*\"poll\" + 0.178*\"police\" + -0.165*\"delegates\" + 0.152*\"numbers\" + 0.148*\"voters\" + 0.144*\"election\"'),\n",
       " (13,\n",
       "  '-0.474*\"quotes\" + -0.452*\"photos\" + -0.269*\"numbers\" + -0.236*\"center\" + -0.216*\"election\" + -0.216*\"candidates\" + 0.200*\"percent\" + -0.119*\"court\" + -0.117*\"marriage\" + -0.089*\"two\"'),\n",
       " (14,\n",
       "  '-0.327*\"russia\" + -0.240*\"russian\" + 0.230*\"isis\" + -0.230*\"police\" + -0.181*\"court\" + 0.164*\"mosul\" + -0.163*\"putin\" + -0.139*\"marriage\" + 0.137*\"iraqi\" + 0.106*\"iraq\"')]"
      ]
     },
     "execution_count": 26,
     "metadata": {},
     "output_type": "execute_result"
    }
   ],
   "source": [
    "lsi_model.print_topics()"
   ]
  },
  {
   "cell_type": "code",
   "execution_count": 27,
   "metadata": {
    "colab": {
     "base_uri": "https://localhost:8080/",
     "height": 206
    },
    "id": "N4cdI295D3YT",
    "outputId": "cee34c6d-c519-46e3-a3ba-90a24d185f3a"
   },
   "outputs": [
    {
     "data": {
      "text/html": [
       "\n",
       "  <div id=\"df-892a6520-c328-407a-b928-726286bcc238\">\n",
       "    <div class=\"colab-df-container\">\n",
       "      <div>\n",
       "<style scoped>\n",
       "    .dataframe tbody tr th:only-of-type {\n",
       "        vertical-align: middle;\n",
       "    }\n",
       "\n",
       "    .dataframe tbody tr th {\n",
       "        vertical-align: top;\n",
       "    }\n",
       "\n",
       "    .dataframe thead th {\n",
       "        text-align: right;\n",
       "    }\n",
       "</style>\n",
       "<table border=\"1\" class=\"dataframe\">\n",
       "  <thead>\n",
       "    <tr style=\"text-align: right;\">\n",
       "      <th></th>\n",
       "      <th>value</th>\n",
       "      <th>word</th>\n",
       "      <th>topic</th>\n",
       "    </tr>\n",
       "  </thead>\n",
       "  <tbody>\n",
       "    <tr>\n",
       "      <th>0</th>\n",
       "      <td>0.284396</td>\n",
       "      <td>trump</td>\n",
       "      <td>0</td>\n",
       "    </tr>\n",
       "    <tr>\n",
       "      <th>1</th>\n",
       "      <td>0.202510</td>\n",
       "      <td>clinton</td>\n",
       "      <td>0</td>\n",
       "    </tr>\n",
       "    <tr>\n",
       "      <th>2</th>\n",
       "      <td>0.121212</td>\n",
       "      <td>sanders</td>\n",
       "      <td>0</td>\n",
       "    </tr>\n",
       "    <tr>\n",
       "      <th>3</th>\n",
       "      <td>0.120739</td>\n",
       "      <td>her</td>\n",
       "      <td>0</td>\n",
       "    </tr>\n",
       "    <tr>\n",
       "      <th>4</th>\n",
       "      <td>0.117729</td>\n",
       "      <td>she</td>\n",
       "      <td>0</td>\n",
       "    </tr>\n",
       "  </tbody>\n",
       "</table>\n",
       "</div>\n",
       "      <button class=\"colab-df-convert\" onclick=\"convertToInteractive('df-892a6520-c328-407a-b928-726286bcc238')\"\n",
       "              title=\"Convert this dataframe to an interactive table.\"\n",
       "              style=\"display:none;\">\n",
       "        \n",
       "  <svg xmlns=\"http://www.w3.org/2000/svg\" height=\"24px\"viewBox=\"0 0 24 24\"\n",
       "       width=\"24px\">\n",
       "    <path d=\"M0 0h24v24H0V0z\" fill=\"none\"/>\n",
       "    <path d=\"M18.56 5.44l.94 2.06.94-2.06 2.06-.94-2.06-.94-.94-2.06-.94 2.06-2.06.94zm-11 1L8.5 8.5l.94-2.06 2.06-.94-2.06-.94L8.5 2.5l-.94 2.06-2.06.94zm10 10l.94 2.06.94-2.06 2.06-.94-2.06-.94-.94-2.06-.94 2.06-2.06.94z\"/><path d=\"M17.41 7.96l-1.37-1.37c-.4-.4-.92-.59-1.43-.59-.52 0-1.04.2-1.43.59L10.3 9.45l-7.72 7.72c-.78.78-.78 2.05 0 2.83L4 21.41c.39.39.9.59 1.41.59.51 0 1.02-.2 1.41-.59l7.78-7.78 2.81-2.81c.8-.78.8-2.07 0-2.86zM5.41 20L4 18.59l7.72-7.72 1.47 1.35L5.41 20z\"/>\n",
       "  </svg>\n",
       "      </button>\n",
       "      \n",
       "  <style>\n",
       "    .colab-df-container {\n",
       "      display:flex;\n",
       "      flex-wrap:wrap;\n",
       "      gap: 12px;\n",
       "    }\n",
       "\n",
       "    .colab-df-convert {\n",
       "      background-color: #E8F0FE;\n",
       "      border: none;\n",
       "      border-radius: 50%;\n",
       "      cursor: pointer;\n",
       "      display: none;\n",
       "      fill: #1967D2;\n",
       "      height: 32px;\n",
       "      padding: 0 0 0 0;\n",
       "      width: 32px;\n",
       "    }\n",
       "\n",
       "    .colab-df-convert:hover {\n",
       "      background-color: #E2EBFA;\n",
       "      box-shadow: 0px 1px 2px rgba(60, 64, 67, 0.3), 0px 1px 3px 1px rgba(60, 64, 67, 0.15);\n",
       "      fill: #174EA6;\n",
       "    }\n",
       "\n",
       "    [theme=dark] .colab-df-convert {\n",
       "      background-color: #3B4455;\n",
       "      fill: #D2E3FC;\n",
       "    }\n",
       "\n",
       "    [theme=dark] .colab-df-convert:hover {\n",
       "      background-color: #434B5C;\n",
       "      box-shadow: 0px 1px 3px 1px rgba(0, 0, 0, 0.15);\n",
       "      filter: drop-shadow(0px 1px 2px rgba(0, 0, 0, 0.3));\n",
       "      fill: #FFFFFF;\n",
       "    }\n",
       "  </style>\n",
       "\n",
       "      <script>\n",
       "        const buttonEl =\n",
       "          document.querySelector('#df-892a6520-c328-407a-b928-726286bcc238 button.colab-df-convert');\n",
       "        buttonEl.style.display =\n",
       "          google.colab.kernel.accessAllowed ? 'block' : 'none';\n",
       "\n",
       "        async function convertToInteractive(key) {\n",
       "          const element = document.querySelector('#df-892a6520-c328-407a-b928-726286bcc238');\n",
       "          const dataTable =\n",
       "            await google.colab.kernel.invokeFunction('convertToInteractive',\n",
       "                                                     [key], {});\n",
       "          if (!dataTable) return;\n",
       "\n",
       "          const docLinkHtml = 'Like what you see? Visit the ' +\n",
       "            '<a target=\"_blank\" href=https://colab.research.google.com/notebooks/data_table.ipynb>data table notebook</a>'\n",
       "            + ' to learn more about interactive tables.';\n",
       "          element.innerHTML = '';\n",
       "          dataTable['output_type'] = 'display_data';\n",
       "          await google.colab.output.renderOutput(dataTable, element);\n",
       "          const docLink = document.createElement('div');\n",
       "          docLink.innerHTML = docLinkHtml;\n",
       "          element.appendChild(docLink);\n",
       "        }\n",
       "      </script>\n",
       "    </div>\n",
       "  </div>\n",
       "  "
      ],
      "text/plain": [
       "      value     word  topic\n",
       "0  0.284396    trump      0\n",
       "1  0.202510  clinton      0\n",
       "2  0.121212  sanders      0\n",
       "3  0.120739      her      0\n",
       "4  0.117729      she      0"
      ]
     },
     "execution_count": 27,
     "metadata": {},
     "output_type": "execute_result"
    }
   ],
   "source": [
    "n_words = 10\n",
    "\n",
    "topic_words = pd.DataFrame({})\n",
    "\n",
    "for i, topic in enumerate(lsi_model.get_topics()):\n",
    "    top_feature_ids = topic.argsort()[-n_words:][::-1]\n",
    "    feature_values = topic[top_feature_ids]\n",
    "    words = [dictionary[id] for id in top_feature_ids]\n",
    "    topic_df = pd.DataFrame({'value': feature_values, 'word': words, 'topic': i})\n",
    "    topic_words = pd.concat([topic_words, topic_df], ignore_index=True)\n",
    "\n",
    "topic_words.head()"
   ]
  },
  {
   "cell_type": "markdown",
   "metadata": {
    "id": "rHg_ZUFREMaw"
   },
   "source": [
    "### Visualización tópicos con palabras mas comunes\n",
    "\n",
    "Los tópicos se analizan y utilizando una muestra de las noticias, se les atribuye un nombre representativo a cada tópico."
   ]
  },
  {
   "cell_type": "code",
   "execution_count": 28,
   "metadata": {
    "colab": {
     "base_uri": "https://localhost:8080/",
     "height": 1000
    },
    "id": "mmuOitsID3Va",
    "outputId": "bb36d130-5a7e-4f55-d23e-9ecc30e76003"
   },
   "outputs": [
    {
     "data": {
      "text/plain": [
       "<seaborn.axisgrid.FacetGrid at 0x7f5dd517d690>"
      ]
     },
     "execution_count": 28,
     "metadata": {},
     "output_type": "execute_result"
    },
    {
     "data": {
      "image/png": "[encoded data removed]",
      "text/plain": [
       "<Figure size 648x1080 with 15 Axes>"
      ]
     },
     "metadata": {
      "needs_background": "light"
     },
     "output_type": "display_data"
    }
   ],
   "source": [
    "g = sns.FacetGrid(topic_words, col=\"topic\", col_wrap=3, sharey=False)\n",
    "g.map(plt.barh, \"word\", \"value\")"
   ]
  }
 ],
 "metadata": {
  "accelerator": "GPU",
  "colab": {
   "name": "clasificador_noticias.ipynb",
   "provenance": []
  },
  "kernelspec": {
   "display_name": "Python 3 (ipykernel)",
   "language": "python",
   "name": "python3"
  },
  "language_info": {
   "codemirror_mode": {
    "name": "ipython",
    "version": 3
   },
   "file_extension": ".py",
   "mimetype": "text/x-python",
   "name": "python",
   "nbconvert_exporter": "python",
   "pygments_lexer": "ipython3",
   "version": "3.8.8"
  }
 },
 "nbformat": 4,
 "nbformat_minor": 1
}
