{
 "cells": [
  {
   "cell_type": "markdown",
   "source": [
    "## Data processing for BOW\n",
    "\n",
    "This notebooks receives the cleaned tweets from the file tweets_nlp_modelling_V2. Which is a second version with stratified sampling.\n",
    "\n",
    "This file will be processed to obtain the tokens and then apply the BOW function.\n",
    "Tokens will be grouped by date, in order to include all the tokens for each day."
   ],
   "metadata": {
    "collapsed": false,
    "pycharm": {
     "name": "#%% md\n"
    }
   }
  },
  {
   "cell_type": "markdown",
   "source": [
    "Libraries and stopwords:"
   ],
   "metadata": {
    "collapsed": false,
    "pycharm": {
     "name": "#%% md\n"
    }
   }
  },
  {
   "cell_type": "code",
   "execution_count": 13,
   "metadata": {
    "collapsed": true
   },
   "outputs": [],
   "source": [
    "import pandas as pd\n",
    "from itertools import chain\n",
    "import nltk\n",
    "import joblib\n",
    "from functions.tweets_tokenization import \\\n",
    "    tokenize_tweets, \\\n",
    "    dictionary_tweets, \\\n",
    "    bow_tweets\n",
    "\n",
    "stopwords = nltk.corpus.stopwords.words(['english'])"
   ]
  },
  {
   "cell_type": "markdown",
   "source": [
    "Import the data from CSV:\n",
    "\n",
    "Import the bitcoin and tweets files."
   ],
   "metadata": {
    "collapsed": false,
    "pycharm": {
     "name": "#%% md\n"
    }
   }
  },
  {
   "cell_type": "code",
   "execution_count": 14,
   "outputs": [],
   "source": [
    "directory = '~/PycharmProjects/tfm_hugopobil'\n",
    "df = pd.read_csv(f'{directory}/data/sampled_data/tweets_nlp_modelling_v3.csv')\n",
    "btc_usd_grouped = pd.read_csv(f'{directory}/data/sampled_data/btc_usd_grouped_v2.csv')\n",
    "df = df.set_index('date_clean')"
   ],
   "metadata": {
    "collapsed": false,
    "pycharm": {
     "name": "#%%\n"
    }
   }
  },
  {
   "cell_type": "code",
   "execution_count": 15,
   "outputs": [
    {
     "name": "stdout",
     "output_type": "stream",
     "text": [
      "(20565, 7)\n"
     ]
    },
    {
     "data": {
      "text/plain": "                                                       tweets  \\\ndate_clean                                                      \n2021-02-06  \"Will Institutional Investment Keep Pouring In...   \n2021-02-06  BTC Bitcoin  You know where the WSB money is g...   \n2021-02-06  🔼🔼 ₿1 = $38,868 (00:56 UTC)\\n$BTC prices conti...   \n2021-02-06    BTC Bitcoin All the way up! 🚀 🚀 💵 💵 /xVyLbbWRiu   \n2021-02-06                             Keep going BTC bitcoin   \n\n                                               cleaned_tweets  \\\ndate_clean                                                      \n2021-02-06  Will Institutional Investment Keep Pouring Int...   \n2021-02-06  BTC Bitcoin You know WSB money going WallStree...   \n2021-02-06  UTC BTC price continue rise Change since midni...   \n2021-02-06                     BTC Bitcoin All way xVyLbbWRiu   \n2021-02-06                             Keep going BTC bitcoin   \n\n           crypto_sentiment  subjectivity  polarity sentiment  target  \ndate_clean                                                             \n2021-02-06         positive           0.0       0.0  positive    True  \n2021-02-06         positive           0.0       0.0  positive    True  \n2021-02-06         positive           0.0       0.0  positive    True  \n2021-02-06         positive           0.0       0.0  positive    True  \n2021-02-06         positive           0.0       0.0  positive    True  ",
      "text/html": "<div>\n<style scoped>\n    .dataframe tbody tr th:only-of-type {\n        vertical-align: middle;\n    }\n\n    .dataframe tbody tr th {\n        vertical-align: top;\n    }\n\n    .dataframe thead th {\n        text-align: right;\n    }\n</style>\n<table border=\"1\" class=\"dataframe\">\n  <thead>\n    <tr style=\"text-align: right;\">\n      <th></th>\n      <th>tweets</th>\n      <th>cleaned_tweets</th>\n      <th>crypto_sentiment</th>\n      <th>subjectivity</th>\n      <th>polarity</th>\n      <th>sentiment</th>\n      <th>target</th>\n    </tr>\n    <tr>\n      <th>date_clean</th>\n      <th></th>\n      <th></th>\n      <th></th>\n      <th></th>\n      <th></th>\n      <th></th>\n      <th></th>\n    </tr>\n  </thead>\n  <tbody>\n    <tr>\n      <th>2021-02-06</th>\n      <td>\"Will Institutional Investment Keep Pouring In...</td>\n      <td>Will Institutional Investment Keep Pouring Int...</td>\n      <td>positive</td>\n      <td>0.0</td>\n      <td>0.0</td>\n      <td>positive</td>\n      <td>True</td>\n    </tr>\n    <tr>\n      <th>2021-02-06</th>\n      <td>BTC Bitcoin  You know where the WSB money is g...</td>\n      <td>BTC Bitcoin You know WSB money going WallStree...</td>\n      <td>positive</td>\n      <td>0.0</td>\n      <td>0.0</td>\n      <td>positive</td>\n      <td>True</td>\n    </tr>\n    <tr>\n      <th>2021-02-06</th>\n      <td>🔼🔼 ₿1 = $38,868 (00:56 UTC)\\n$BTC prices conti...</td>\n      <td>UTC BTC price continue rise Change since midni...</td>\n      <td>positive</td>\n      <td>0.0</td>\n      <td>0.0</td>\n      <td>positive</td>\n      <td>True</td>\n    </tr>\n    <tr>\n      <th>2021-02-06</th>\n      <td>BTC Bitcoin All the way up! 🚀 🚀 💵 💵 /xVyLbbWRiu</td>\n      <td>BTC Bitcoin All way xVyLbbWRiu</td>\n      <td>positive</td>\n      <td>0.0</td>\n      <td>0.0</td>\n      <td>positive</td>\n      <td>True</td>\n    </tr>\n    <tr>\n      <th>2021-02-06</th>\n      <td>Keep going BTC bitcoin</td>\n      <td>Keep going BTC bitcoin</td>\n      <td>positive</td>\n      <td>0.0</td>\n      <td>0.0</td>\n      <td>positive</td>\n      <td>True</td>\n    </tr>\n  </tbody>\n</table>\n</div>"
     },
     "execution_count": 15,
     "metadata": {},
     "output_type": "execute_result"
    }
   ],
   "source": [
    "print(df.shape)\n",
    "df.head()"
   ],
   "metadata": {
    "collapsed": false,
    "pycharm": {
     "name": "#%%\n"
    }
   }
  },
  {
   "cell_type": "markdown",
   "source": [
    "### Tweets tokenization without grouping\n",
    "\n",
    "### Group TOKENS by date:\n",
    "\n",
    "This will create a dataframe with the accumulation of all tokens with the same date to obtain a grouped tokens."
   ],
   "metadata": {
    "collapsed": false,
    "pycharm": {
     "name": "#%% md\n"
    }
   }
  },
  {
   "cell_type": "code",
   "execution_count": 16,
   "outputs": [],
   "source": [
    "df['tokens'] = tokenize_tweets(df.tweets.to_list())"
   ],
   "metadata": {
    "collapsed": false,
    "pycharm": {
     "name": "#%%\n"
    }
   }
  },
  {
   "cell_type": "code",
   "execution_count": 5,
   "outputs": [],
   "source": [
    "# df_grouped = df.groupby(df.index).agg({'tokens': lambda x: list(chain(*x.to_list()))})"
   ],
   "metadata": {
    "collapsed": false,
    "pycharm": {
     "name": "#%%\n"
    }
   }
  },
  {
   "cell_type": "markdown",
   "source": [
    "### Model Data Preparation\n",
    "\n",
    "X = BOW for grouped tweets by days\n",
    "Y (target) = Bitcoin returns"
   ],
   "metadata": {
    "collapsed": false,
    "pycharm": {
     "name": "#%% md\n"
    }
   }
  },
  {
   "cell_type": "code",
   "execution_count": 17,
   "outputs": [
    {
     "data": {
      "text/plain": "                                                       tweets  \\\ndate_clean                                                      \n2021-02-06  \"Will Institutional Investment Keep Pouring In...   \n2021-02-06  BTC Bitcoin  You know where the WSB money is g...   \n2021-02-06  🔼🔼 ₿1 = $38,868 (00:56 UTC)\\n$BTC prices conti...   \n2021-02-06    BTC Bitcoin All the way up! 🚀 🚀 💵 💵 /xVyLbbWRiu   \n2021-02-06                             Keep going BTC bitcoin   \n...                                                       ...   \n2022-01-22  Let’s be honest after watching this video plea...   \n2022-01-22  🚀 We got hashing! Alot more to onboard but sup...   \n2022-01-22  What surprises me most is that people are will...   \n2022-01-22  BNB dumped -20.243% 1d , current price is $ 34...   \n2022-01-22  🎁FIRST GIVEAWAY🎁\\n\\n               1 NFT DogeD...   \n\n                                               cleaned_tweets  \\\ndate_clean                                                      \n2021-02-06  Will Institutional Investment Keep Pouring Int...   \n2021-02-06  BTC Bitcoin You know WSB money going WallStree...   \n2021-02-06  UTC BTC price continue rise Change since midni...   \n2021-02-06                     BTC Bitcoin All way xVyLbbWRiu   \n2021-02-06                             Keep going BTC bitcoin   \n...                                                       ...   \n2022-01-22  Let honest watching video please tell bullish ...   \n2022-01-22  We got hashing Alot onboard super excited new ...   \n2022-01-22     What surprise people willing spend NFT Bitcoin   \n2022-01-22  BNB dumped current price Want buy dip Sigh Up ...   \n2022-01-22  FIRST GIVEAWAY NFT DogeDash k subscriber fast ...   \n\n           crypto_sentiment  subjectivity  polarity sentiment  target  \\\ndate_clean                                                              \n2021-02-06         positive      0.000000  0.000000  positive    True   \n2021-02-06         positive      0.000000  0.000000  positive    True   \n2021-02-06         positive      0.000000  0.000000  positive    True   \n2021-02-06         positive      0.000000  0.000000  positive    True   \n2021-02-06         positive      0.000000  0.000000  positive    True   \n...                     ...           ...       ...       ...     ...   \n2022-01-22         positive      0.775000  0.475000   neutral   False   \n2022-01-22         positive      0.445202  0.074116   neutral   False   \n2022-01-22         positive      0.750000  0.250000   neutral   False   \n2022-01-22         positive      0.400000  0.000000  positive    True   \n2022-01-22         positive      0.511111  0.383333   neutral   False   \n\n                                                       tokens  \ndate_clean                                                     \n2021-02-06  [institutional, investment, keep, pouring, bit...  \n2021-02-06  [btc, bitcoin, know, wsb, money, going, wallst...  \n2021-02-06  [utc, btc, prices, continue, rise, change, sin...  \n2021-02-06                    [btc, bitcoin, way, xvylbbwriu]  \n2021-02-06                        [keep, going, btc, bitcoin]  \n...                                                       ...  \n2022-01-22  [let, honest, watching, video, please, tell, b...  \n2022-01-22  [got, hashing, alot, onboard, super, excited, ...  \n2022-01-22  [surprises, people, willing, spend, nft, bitcoin]  \n2022-01-22  [bnb, dumped, 1d, current, price, want, buy, d...  \n2022-01-22  [first, giveaway, nft, dogedash, 1k, subscribe...  \n\n[20565 rows x 8 columns]",
      "text/html": "<div>\n<style scoped>\n    .dataframe tbody tr th:only-of-type {\n        vertical-align: middle;\n    }\n\n    .dataframe tbody tr th {\n        vertical-align: top;\n    }\n\n    .dataframe thead th {\n        text-align: right;\n    }\n</style>\n<table border=\"1\" class=\"dataframe\">\n  <thead>\n    <tr style=\"text-align: right;\">\n      <th></th>\n      <th>tweets</th>\n      <th>cleaned_tweets</th>\n      <th>crypto_sentiment</th>\n      <th>subjectivity</th>\n      <th>polarity</th>\n      <th>sentiment</th>\n      <th>target</th>\n      <th>tokens</th>\n    </tr>\n    <tr>\n      <th>date_clean</th>\n      <th></th>\n      <th></th>\n      <th></th>\n      <th></th>\n      <th></th>\n      <th></th>\n      <th></th>\n      <th></th>\n    </tr>\n  </thead>\n  <tbody>\n    <tr>\n      <th>2021-02-06</th>\n      <td>\"Will Institutional Investment Keep Pouring In...</td>\n      <td>Will Institutional Investment Keep Pouring Int...</td>\n      <td>positive</td>\n      <td>0.000000</td>\n      <td>0.000000</td>\n      <td>positive</td>\n      <td>True</td>\n      <td>[institutional, investment, keep, pouring, bit...</td>\n    </tr>\n    <tr>\n      <th>2021-02-06</th>\n      <td>BTC Bitcoin  You know where the WSB money is g...</td>\n      <td>BTC Bitcoin You know WSB money going WallStree...</td>\n      <td>positive</td>\n      <td>0.000000</td>\n      <td>0.000000</td>\n      <td>positive</td>\n      <td>True</td>\n      <td>[btc, bitcoin, know, wsb, money, going, wallst...</td>\n    </tr>\n    <tr>\n      <th>2021-02-06</th>\n      <td>🔼🔼 ₿1 = $38,868 (00:56 UTC)\\n$BTC prices conti...</td>\n      <td>UTC BTC price continue rise Change since midni...</td>\n      <td>positive</td>\n      <td>0.000000</td>\n      <td>0.000000</td>\n      <td>positive</td>\n      <td>True</td>\n      <td>[utc, btc, prices, continue, rise, change, sin...</td>\n    </tr>\n    <tr>\n      <th>2021-02-06</th>\n      <td>BTC Bitcoin All the way up! 🚀 🚀 💵 💵 /xVyLbbWRiu</td>\n      <td>BTC Bitcoin All way xVyLbbWRiu</td>\n      <td>positive</td>\n      <td>0.000000</td>\n      <td>0.000000</td>\n      <td>positive</td>\n      <td>True</td>\n      <td>[btc, bitcoin, way, xvylbbwriu]</td>\n    </tr>\n    <tr>\n      <th>2021-02-06</th>\n      <td>Keep going BTC bitcoin</td>\n      <td>Keep going BTC bitcoin</td>\n      <td>positive</td>\n      <td>0.000000</td>\n      <td>0.000000</td>\n      <td>positive</td>\n      <td>True</td>\n      <td>[keep, going, btc, bitcoin]</td>\n    </tr>\n    <tr>\n      <th>...</th>\n      <td>...</td>\n      <td>...</td>\n      <td>...</td>\n      <td>...</td>\n      <td>...</td>\n      <td>...</td>\n      <td>...</td>\n      <td>...</td>\n    </tr>\n    <tr>\n      <th>2022-01-22</th>\n      <td>Let’s be honest after watching this video plea...</td>\n      <td>Let honest watching video please tell bullish ...</td>\n      <td>positive</td>\n      <td>0.775000</td>\n      <td>0.475000</td>\n      <td>neutral</td>\n      <td>False</td>\n      <td>[let, honest, watching, video, please, tell, b...</td>\n    </tr>\n    <tr>\n      <th>2022-01-22</th>\n      <td>🚀 We got hashing! Alot more to onboard but sup...</td>\n      <td>We got hashing Alot onboard super excited new ...</td>\n      <td>positive</td>\n      <td>0.445202</td>\n      <td>0.074116</td>\n      <td>neutral</td>\n      <td>False</td>\n      <td>[got, hashing, alot, onboard, super, excited, ...</td>\n    </tr>\n    <tr>\n      <th>2022-01-22</th>\n      <td>What surprises me most is that people are will...</td>\n      <td>What surprise people willing spend NFT Bitcoin</td>\n      <td>positive</td>\n      <td>0.750000</td>\n      <td>0.250000</td>\n      <td>neutral</td>\n      <td>False</td>\n      <td>[surprises, people, willing, spend, nft, bitcoin]</td>\n    </tr>\n    <tr>\n      <th>2022-01-22</th>\n      <td>BNB dumped -20.243% 1d , current price is $ 34...</td>\n      <td>BNB dumped current price Want buy dip Sigh Up ...</td>\n      <td>positive</td>\n      <td>0.400000</td>\n      <td>0.000000</td>\n      <td>positive</td>\n      <td>True</td>\n      <td>[bnb, dumped, 1d, current, price, want, buy, d...</td>\n    </tr>\n    <tr>\n      <th>2022-01-22</th>\n      <td>🎁FIRST GIVEAWAY🎁\\n\\n               1 NFT DogeD...</td>\n      <td>FIRST GIVEAWAY NFT DogeDash k subscriber fast ...</td>\n      <td>positive</td>\n      <td>0.511111</td>\n      <td>0.383333</td>\n      <td>neutral</td>\n      <td>False</td>\n      <td>[first, giveaway, nft, dogedash, 1k, subscribe...</td>\n    </tr>\n  </tbody>\n</table>\n<p>20565 rows × 8 columns</p>\n</div>"
     },
     "execution_count": 17,
     "metadata": {},
     "output_type": "execute_result"
    }
   ],
   "source": [
    "df"
   ],
   "metadata": {
    "collapsed": false,
    "pycharm": {
     "name": "#%%\n"
    }
   }
  },
  {
   "cell_type": "markdown",
   "source": [
    "Join both dataframes and drop NA values, so we end up with a dataframe that includes the tokens and daily returns as our target variable for Tweets and Bitcoin."
   ],
   "metadata": {
    "collapsed": false,
    "pycharm": {
     "name": "#%% md\n"
    }
   }
  },
  {
   "cell_type": "markdown",
   "source": [
    "Calculate BOW and Train Set for documents with less than 3 words."
   ],
   "metadata": {
    "collapsed": false,
    "pycharm": {
     "name": "#%% md\n"
    }
   }
  },
  {
   "cell_type": "code",
   "execution_count": 18,
   "outputs": [
    {
     "data": {
      "text/plain": "(20565, 43663)"
     },
     "execution_count": 18,
     "metadata": {},
     "output_type": "execute_result"
    }
   ],
   "source": [
    "dictionary_model_data = dictionary_tweets(df['tokens'])\n",
    "X_model_data, doc2bow_model_data = bow_tweets(df['tokens'], dictionary_model_data)\n",
    "X_model_data.shape"
   ],
   "metadata": {
    "collapsed": false,
    "pycharm": {
     "name": "#%%\n"
    }
   }
  },
  {
   "cell_type": "markdown",
   "source": [
    "Save to local:"
   ],
   "metadata": {
    "collapsed": false,
    "pycharm": {
     "name": "#%% md\n"
    }
   }
  },
  {
   "cell_type": "code",
   "execution_count": 19,
   "outputs": [
    {
     "data": {
      "text/plain": "['/Users/hpp/PycharmProjects/tfm_hugopobil/models/topic_analisis/dictionary.joblib']"
     },
     "execution_count": 19,
     "metadata": {},
     "output_type": "execute_result"
    }
   ],
   "source": [
    "joblib.dump(dictionary_model_data, '/Users/hpp/PycharmProjects/tfm_hugopobil/models/topic_analisis/dictionary.joblib')"
   ],
   "metadata": {
    "collapsed": false,
    "pycharm": {
     "name": "#%%\n"
    }
   }
  },
  {
   "cell_type": "code",
   "execution_count": 20,
   "outputs": [
    {
     "data": {
      "text/plain": "['/Users/hpp/PycharmProjects/tfm_hugopobil/models/topic_analisis/X_model_data.joblib']"
     },
     "execution_count": 20,
     "metadata": {},
     "output_type": "execute_result"
    }
   ],
   "source": [
    "joblib.dump(doc2bow_model_data, '/Users/hpp/PycharmProjects/tfm_hugopobil/models/topic_analisis/doc2bow.joblib')\n",
    "df.to_csv('/Users/hpp/PycharmProjects/tfm_hugopobil//models/topic_analisis/model_data.csv')\n",
    "joblib.dump(X_model_data, '/Users/hpp/PycharmProjects/tfm_hugopobil/models/topic_analisis/X_model_data.joblib')"
   ],
   "metadata": {
    "collapsed": false,
    "pycharm": {
     "name": "#%%\n"
    }
   }
  }
 ],
 "metadata": {
  "kernelspec": {
   "display_name": "Python 3",
   "language": "python",
   "name": "python3"
  },
  "language_info": {
   "codemirror_mode": {
    "name": "ipython",
    "version": 2
   },
   "file_extension": ".py",
   "mimetype": "text/x-python",
   "name": "python",
   "nbconvert_exporter": "python",
   "pygments_lexer": "ipython2",
   "version": "2.7.6"
  }
 },
 "nbformat": 4,
 "nbformat_minor": 0
}