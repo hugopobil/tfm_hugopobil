{
 "cells": [
  {
   "cell_type": "code",
   "execution_count": 1,
   "metadata": {
    "pycharm": {
     "name": "#%%\n"
    }
   },
   "outputs": [],
   "source": [
    "import pandas as pd\n",
    "import numpy as np\n",
    "import re\n",
    "import nltk\n",
    "from textblob import TextBlob\n",
    "\n",
    "from nltk.tokenize import TweetTokenizer\n",
    "from nltk.stem.wordnet import WordNetLemmatizer"
   ]
  },
  {
   "cell_type": "code",
   "execution_count": 2,
   "metadata": {
    "pycharm": {
     "name": "#%%\n"
    }
   },
   "outputs": [],
   "source": [
    "directory = '~/PycharmProjects/tfm_hugopobil'\n",
    "\n",
    "btc_usd_grouped = pd.read_csv(f'{directory}/data/sampled_data/btc_usd_grouped_v2.csv')\n",
    "tweets_grouped = pd.read_csv(f'{directory}/data/sampled_data/tweets_grouped_v2.csv')"
   ]
  },
  {
   "cell_type": "code",
   "execution_count": 3,
   "metadata": {
    "pycharm": {
     "name": "#%%\n"
    }
   },
   "outputs": [
    {
     "data": {
      "text/plain": "   index                                          user_name    user_location  \\\n0  21518                           Lion Period with MR.Emre  Los Angeles, CA   \n1  21497  ₿ullrun Opinions - Litecoin / BTC/ DOT/ ETH/ UDOO              NaN   \n2  21469                                      BittrexPrices              NaN   \n3  21456                                     mr.tomsquirrle              NaN   \n4  21439                             Cryptocurrencies / USD              NaN   \n\n                                    user_description         user_created  \\\n0  A Lion Story (Private group closed)\\n#CryptoMo...  2020-11-22 16:06:54   \n1  Person with informed opinions about Litecoin, ...  2017-12-11 14:48:20   \n2  Scans Bittrex’s main currencies hourly | Also ...  2018-05-25 20:30:07   \n3  New to twitter... Lost my job due to covid 19....  2020-12-30 13:16:53   \n4  Stay updated on the main cryptocurrencies of t...  2018-08-02 10:06:05   \n\n   user_followers  user_friends  user_favourites  user_verified  \\\n0            69.0          52.0            191.0          False   \n1          1553.0        1317.0           9895.0          False   \n2          3130.0           1.0             18.0          False   \n3             3.0          41.0              2.0          False   \n4          3928.0           1.0             10.0          False   \n\n                  date                                               text  \\\n0  2021-02-05 10:54:52   perl 0 06  i have insisted that since 0 02 it...   \n1  2021-02-05 11:10:09    are we talking about bitcoin  sure  17 usd d...   \n2  2021-02-05 11:28:46    prices update in  usdt  1 hour     btc   376...   \n3  2021-02-05 11:38:33  dominus and johnewbanks i messed up in my firs...   \n4  2021-02-05 11:46:23    prices update in  usd  1 hour     btc     37...   \n\n                             hashtags                          source  \\\n0                  ['bitcoin', 'btc']             Twitter for Android   \n1                         ['Bitcoin']                 Twitter Web App   \n2                                 NaN                  Bittrex Prices   \n3  ['dominus', 'johnewbanks', 'pump']              Twitter for iPhone   \n4                                 NaN  Cryptocurrencies prices to USD   \n\n  is_retweet sample_date  \n0      False  2021-02-05  \n1      False  2021-02-05  \n2      False  2021-02-05  \n3      False  2021-02-05  \n4      False  2021-02-05  ",
      "text/html": "<div>\n<style scoped>\n    .dataframe tbody tr th:only-of-type {\n        vertical-align: middle;\n    }\n\n    .dataframe tbody tr th {\n        vertical-align: top;\n    }\n\n    .dataframe thead th {\n        text-align: right;\n    }\n</style>\n<table border=\"1\" class=\"dataframe\">\n  <thead>\n    <tr style=\"text-align: right;\">\n      <th></th>\n      <th>index</th>\n      <th>user_name</th>\n      <th>user_location</th>\n      <th>user_description</th>\n      <th>user_created</th>\n      <th>user_followers</th>\n      <th>user_friends</th>\n      <th>user_favourites</th>\n      <th>user_verified</th>\n      <th>date</th>\n      <th>text</th>\n      <th>hashtags</th>\n      <th>source</th>\n      <th>is_retweet</th>\n      <th>sample_date</th>\n    </tr>\n  </thead>\n  <tbody>\n    <tr>\n      <th>0</th>\n      <td>21518</td>\n      <td>Lion Period with MR.Emre</td>\n      <td>Los Angeles, CA</td>\n      <td>A Lion Story (Private group closed)\\n#CryptoMo...</td>\n      <td>2020-11-22 16:06:54</td>\n      <td>69.0</td>\n      <td>52.0</td>\n      <td>191.0</td>\n      <td>False</td>\n      <td>2021-02-05 10:54:52</td>\n      <td>perl 0 06  i have insisted that since 0 02 it...</td>\n      <td>['bitcoin', 'btc']</td>\n      <td>Twitter for Android</td>\n      <td>False</td>\n      <td>2021-02-05</td>\n    </tr>\n    <tr>\n      <th>1</th>\n      <td>21497</td>\n      <td>₿ullrun Opinions - Litecoin / BTC/ DOT/ ETH/ UDOO</td>\n      <td>NaN</td>\n      <td>Person with informed opinions about Litecoin, ...</td>\n      <td>2017-12-11 14:48:20</td>\n      <td>1553.0</td>\n      <td>1317.0</td>\n      <td>9895.0</td>\n      <td>False</td>\n      <td>2021-02-05 11:10:09</td>\n      <td>are we talking about bitcoin  sure  17 usd d...</td>\n      <td>['Bitcoin']</td>\n      <td>Twitter Web App</td>\n      <td>False</td>\n      <td>2021-02-05</td>\n    </tr>\n    <tr>\n      <th>2</th>\n      <td>21469</td>\n      <td>BittrexPrices</td>\n      <td>NaN</td>\n      <td>Scans Bittrex’s main currencies hourly | Also ...</td>\n      <td>2018-05-25 20:30:07</td>\n      <td>3130.0</td>\n      <td>1.0</td>\n      <td>18.0</td>\n      <td>False</td>\n      <td>2021-02-05 11:28:46</td>\n      <td>prices update in  usdt  1 hour     btc   376...</td>\n      <td>NaN</td>\n      <td>Bittrex Prices</td>\n      <td>False</td>\n      <td>2021-02-05</td>\n    </tr>\n    <tr>\n      <th>3</th>\n      <td>21456</td>\n      <td>mr.tomsquirrle</td>\n      <td>NaN</td>\n      <td>New to twitter... Lost my job due to covid 19....</td>\n      <td>2020-12-30 13:16:53</td>\n      <td>3.0</td>\n      <td>41.0</td>\n      <td>2.0</td>\n      <td>False</td>\n      <td>2021-02-05 11:38:33</td>\n      <td>dominus and johnewbanks i messed up in my firs...</td>\n      <td>['dominus', 'johnewbanks', 'pump']</td>\n      <td>Twitter for iPhone</td>\n      <td>False</td>\n      <td>2021-02-05</td>\n    </tr>\n    <tr>\n      <th>4</th>\n      <td>21439</td>\n      <td>Cryptocurrencies / USD</td>\n      <td>NaN</td>\n      <td>Stay updated on the main cryptocurrencies of t...</td>\n      <td>2018-08-02 10:06:05</td>\n      <td>3928.0</td>\n      <td>1.0</td>\n      <td>10.0</td>\n      <td>False</td>\n      <td>2021-02-05 11:46:23</td>\n      <td>prices update in  usd  1 hour     btc     37...</td>\n      <td>NaN</td>\n      <td>Cryptocurrencies prices to USD</td>\n      <td>False</td>\n      <td>2021-02-05</td>\n    </tr>\n  </tbody>\n</table>\n</div>"
     },
     "execution_count": 3,
     "metadata": {},
     "output_type": "execute_result"
    }
   ],
   "source": [
    "df_clean = pd.read_csv(f'{directory}/data/sampled_data/tweets_clean_v2.csv')\n",
    "df_clean.head()"
   ]
  },
  {
   "cell_type": "code",
   "execution_count": 4,
   "metadata": {
    "pycharm": {
     "name": "#%%\n"
    }
   },
   "outputs": [
    {
     "data": {
      "text/plain": "                                              tweets\n0   perl 0 06  i have insisted that since 0 02 it...\n1    are we talking about bitcoin  sure  17 usd d...\n3  dominus and johnewbanks i messed up in my firs...\n6  bitcoin can breakout any second     technicala...\n7   for cheap network fees coming next month  in ...",
      "text/html": "<div>\n<style scoped>\n    .dataframe tbody tr th:only-of-type {\n        vertical-align: middle;\n    }\n\n    .dataframe tbody tr th {\n        vertical-align: top;\n    }\n\n    .dataframe thead th {\n        text-align: right;\n    }\n</style>\n<table border=\"1\" class=\"dataframe\">\n  <thead>\n    <tr style=\"text-align: right;\">\n      <th></th>\n      <th>tweets</th>\n    </tr>\n  </thead>\n  <tbody>\n    <tr>\n      <th>0</th>\n      <td>perl 0 06  i have insisted that since 0 02 it...</td>\n    </tr>\n    <tr>\n      <th>1</th>\n      <td>are we talking about bitcoin  sure  17 usd d...</td>\n    </tr>\n    <tr>\n      <th>3</th>\n      <td>dominus and johnewbanks i messed up in my firs...</td>\n    </tr>\n    <tr>\n      <th>6</th>\n      <td>bitcoin can breakout any second     technicala...</td>\n    </tr>\n    <tr>\n      <th>7</th>\n      <td>for cheap network fees coming next month  in ...</td>\n    </tr>\n  </tbody>\n</table>\n</div>"
     },
     "execution_count": 4,
     "metadata": {},
     "output_type": "execute_result"
    }
   ],
   "source": [
    "df_clean.dropna(subset=['hashtags'], inplace=True)\n",
    "df = df_clean[['text']]\n",
    "df.columns = ['tweets']\n",
    "df.head()"
   ]
  },
  {
   "cell_type": "code",
   "execution_count": 5,
   "metadata": {
    "pycharm": {
     "name": "#%%\n"
    }
   },
   "outputs": [
    {
     "name": "stdout",
     "output_type": "stream",
     "text": [
      "['i', 'me', 'my', 'myself', 'we', 'our', 'ours', 'ourselves', 'you', \"you're\", \"you've\", \"you'll\", \"you'd\", 'your', 'yours', 'yourself', 'yourselves', 'he', 'him', 'his', 'himself', 'she', \"she's\", 'her', 'hers', 'herself', 'it', \"it's\", 'its', 'itself', 'they', 'them', 'their', 'theirs', 'themselves', 'what', 'which', 'who', 'whom', 'this', 'that', \"that'll\", 'these', 'those', 'am', 'is', 'are', 'was', 'were', 'be', 'been', 'being', 'have', 'has', 'had', 'having', 'do', 'does', 'did', 'doing', 'a', 'an', 'the', 'and', 'but', 'if', 'or', 'because', 'as', 'until', 'while', 'of', 'at', 'by', 'for', 'with', 'about', 'against', 'between', 'into', 'through', 'during', 'before', 'after', 'above', 'below', 'to', 'from', 'up', 'down', 'in', 'out', 'on', 'off', 'over', 'under', 'again', 'further', 'then', 'once', 'here', 'there', 'when', 'where', 'why', 'how', 'all', 'any', 'both', 'each', 'few', 'more', 'most', 'other', 'some', 'such', 'no', 'nor', 'not', 'only', 'own', 'same', 'so', 'than', 'too', 'very', 's', 't', 'can', 'will', 'just', 'don', \"don't\", 'should', \"should've\", 'now', 'd', 'll', 'm', 'o', 're', 've', 'y', 'ain', 'aren', \"aren't\", 'couldn', \"couldn't\", 'didn', \"didn't\", 'doesn', \"doesn't\", 'hadn', \"hadn't\", 'hasn', \"hasn't\", 'haven', \"haven't\", 'isn', \"isn't\", 'ma', 'mightn', \"mightn't\", 'mustn', \"mustn't\", 'needn', \"needn't\", 'shan', \"shan't\", 'shouldn', \"shouldn't\", 'wasn', \"wasn't\", 'weren', \"weren't\", 'won', \"won't\", 'wouldn', \"wouldn't\"]\n"
     ]
    }
   ],
   "source": [
    "# nltk.download('wordnet')\n",
    "# nltk.download('stopwords')\n",
    "# nltk.download('punkt')\n",
    "stop_words = nltk.corpus.stopwords.words(['english'])\n",
    "\n",
    "print(stop_words)"
   ]
  },
  {
   "cell_type": "code",
   "execution_count": 6,
   "metadata": {
    "pycharm": {
     "name": "#%%\n"
    }
   },
   "outputs": [],
   "source": [
    "lem = WordNetLemmatizer()"
   ]
  },
  {
   "cell_type": "code",
   "execution_count": 7,
   "metadata": {
    "pycharm": {
     "name": "#%%\n"
    }
   },
   "outputs": [],
   "source": [
    "def cleaning(data):\n",
    "    tweet_without_url = re.sub(r'http\\S+',' ', data)\n",
    "    tweet_without_hashtag = re.sub(r'#\\w+', ' ', tweet_without_url)\n",
    "    tweet_without_mentions = re.sub(r'@\\w+',' ', tweet_without_hashtag)\n",
    "    precleaned_tweet = re.sub('[^A-Za-z]+', ' ', tweet_without_mentions)\n",
    "\n",
    "    # Tokenization\n",
    "    tweet_tokens = TweetTokenizer().tokenize(precleaned_tweet)\n",
    "    tokens_without_punc = [w for w in tweet_tokens if w.isalpha()]\n",
    "    tokens_without_sw = [t for t in tokens_without_punc if t not in stop_words]\n",
    "\n",
    "    text_cleaned = [lem.lemmatize(t) for t in tokens_without_sw]\n",
    "\n",
    "    return \" \".join(text_cleaned)"
   ]
  },
  {
   "cell_type": "code",
   "execution_count": 8,
   "metadata": {
    "pycharm": {
     "name": "#%%\n"
    }
   },
   "outputs": [
    {
     "name": "stderr",
     "output_type": "stream",
     "text": [
      "/var/folders/79/vrkgvtgs11v73pnty27_x1100000gn/T/ipykernel_19156/2555527066.py:1: SettingWithCopyWarning: \n",
      "A value is trying to be set on a copy of a slice from a DataFrame.\n",
      "Try using .loc[row_indexer,col_indexer] = value instead\n",
      "\n",
      "See the caveats in the documentation: https://pandas.pydata.org/pandas-docs/stable/user_guide/indexing.html#returning-a-view-versus-a-copy\n",
      "  df['cleaned_tweets'] = df['tweets'].apply(lambda x: cleaning(x))\n",
      "/var/folders/79/vrkgvtgs11v73pnty27_x1100000gn/T/ipykernel_19156/2555527066.py:2: SettingWithCopyWarning: \n",
      "A value is trying to be set on a copy of a slice from a DataFrame.\n",
      "Try using .loc[row_indexer,col_indexer] = value instead\n",
      "\n",
      "See the caveats in the documentation: https://pandas.pydata.org/pandas-docs/stable/user_guide/indexing.html#returning-a-view-versus-a-copy\n",
      "  df['date'] = df_clean['date']\n",
      "/var/folders/79/vrkgvtgs11v73pnty27_x1100000gn/T/ipykernel_19156/2555527066.py:3: SettingWithCopyWarning: \n",
      "A value is trying to be set on a copy of a slice from a DataFrame.\n",
      "Try using .loc[row_indexer,col_indexer] = value instead\n",
      "\n",
      "See the caveats in the documentation: https://pandas.pydata.org/pandas-docs/stable/user_guide/indexing.html#returning-a-view-versus-a-copy\n",
      "  df['date_clean'] = pd.to_datetime(df['date']).dt.strftime('%Y-%m-%d')\n",
      "/var/folders/79/vrkgvtgs11v73pnty27_x1100000gn/T/ipykernel_19156/2555527066.py:4: SettingWithCopyWarning: \n",
      "A value is trying to be set on a copy of a slice from a DataFrame\n",
      "\n",
      "See the caveats in the documentation: https://pandas.pydata.org/pandas-docs/stable/user_guide/indexing.html#returning-a-view-versus-a-copy\n",
      "  df.drop(columns='date',inplace=True)\n"
     ]
    },
    {
     "data": {
      "text/plain": "                                              tweets  \\\n0   perl 0 06  i have insisted that since 0 02 it...   \n1    are we talking about bitcoin  sure  17 usd d...   \n3  dominus and johnewbanks i messed up in my firs...   \n6  bitcoin can breakout any second     technicala...   \n7   for cheap network fees coming next month  in ...   \n\n                                      cleaned_tweets  date_clean  \n0    perl insisted since increased month bitcoin btc  2021-02-05  \n1       talking bitcoin sure usd make sense afford u  2021-02-05  \n3  dominus johnewbanks messed first pump please h...  2021-02-05  \n6  bitcoin breakout second technicalanalysis intr...  2021-02-05  \n7  cheap network fee coming next month testnet xo...  2021-02-05  ",
      "text/html": "<div>\n<style scoped>\n    .dataframe tbody tr th:only-of-type {\n        vertical-align: middle;\n    }\n\n    .dataframe tbody tr th {\n        vertical-align: top;\n    }\n\n    .dataframe thead th {\n        text-align: right;\n    }\n</style>\n<table border=\"1\" class=\"dataframe\">\n  <thead>\n    <tr style=\"text-align: right;\">\n      <th></th>\n      <th>tweets</th>\n      <th>cleaned_tweets</th>\n      <th>date_clean</th>\n    </tr>\n  </thead>\n  <tbody>\n    <tr>\n      <th>0</th>\n      <td>perl 0 06  i have insisted that since 0 02 it...</td>\n      <td>perl insisted since increased month bitcoin btc</td>\n      <td>2021-02-05</td>\n    </tr>\n    <tr>\n      <th>1</th>\n      <td>are we talking about bitcoin  sure  17 usd d...</td>\n      <td>talking bitcoin sure usd make sense afford u</td>\n      <td>2021-02-05</td>\n    </tr>\n    <tr>\n      <th>3</th>\n      <td>dominus and johnewbanks i messed up in my firs...</td>\n      <td>dominus johnewbanks messed first pump please h...</td>\n      <td>2021-02-05</td>\n    </tr>\n    <tr>\n      <th>6</th>\n      <td>bitcoin can breakout any second     technicala...</td>\n      <td>bitcoin breakout second technicalanalysis intr...</td>\n      <td>2021-02-05</td>\n    </tr>\n    <tr>\n      <th>7</th>\n      <td>for cheap network fees coming next month  in ...</td>\n      <td>cheap network fee coming next month testnet xo...</td>\n      <td>2021-02-05</td>\n    </tr>\n  </tbody>\n</table>\n</div>"
     },
     "execution_count": 8,
     "metadata": {},
     "output_type": "execute_result"
    }
   ],
   "source": [
    "df['cleaned_tweets'] = df['tweets'].apply(lambda x: cleaning(x))\n",
    "df['date'] = df_clean['date']\n",
    "df['date_clean'] = pd.to_datetime(df['date']).dt.strftime('%Y-%m-%d')\n",
    "df.drop(columns='date',inplace=True)\n",
    "df.head()"
   ]
  },
  {
   "cell_type": "code",
   "execution_count": 9,
   "metadata": {
    "pycharm": {
     "name": "#%%\n"
    }
   },
   "outputs": [],
   "source": [
    "def get_Subjectivity(tweet):\n",
    "    return TextBlob(tweet).sentiment.subjectivity\n",
    "\n",
    "def get_Polarity(tweet):\n",
    "    return TextBlob(tweet).sentiment.polarity"
   ]
  },
  {
   "cell_type": "code",
   "execution_count": 10,
   "metadata": {
    "pycharm": {
     "name": "#%%\n"
    }
   },
   "outputs": [],
   "source": [
    "btc_usd_grouped = btc_usd_grouped.set_index('Date')"
   ]
  },
  {
   "cell_type": "code",
   "execution_count": 11,
   "metadata": {
    "pycharm": {
     "name": "#%%\n"
    }
   },
   "outputs": [
    {
     "data": {
      "text/plain": "               Adj Close\nDate                    \n2021-02-06  39266.011719\n2021-02-07  38903.441406\n2021-02-08  46196.464844\n2021-02-09  46481.105469\n2021-02-10  44918.183594\n...                  ...\n2022-01-24  36654.328125\n2022-01-25  36954.003906\n2022-01-26  36852.121094\n2022-01-27  37138.234375\n2022-01-28  36435.585938\n\n[357 rows x 1 columns]",
      "text/html": "<div>\n<style scoped>\n    .dataframe tbody tr th:only-of-type {\n        vertical-align: middle;\n    }\n\n    .dataframe tbody tr th {\n        vertical-align: top;\n    }\n\n    .dataframe thead th {\n        text-align: right;\n    }\n</style>\n<table border=\"1\" class=\"dataframe\">\n  <thead>\n    <tr style=\"text-align: right;\">\n      <th></th>\n      <th>Adj Close</th>\n    </tr>\n    <tr>\n      <th>Date</th>\n      <th></th>\n    </tr>\n  </thead>\n  <tbody>\n    <tr>\n      <th>2021-02-06</th>\n      <td>39266.011719</td>\n    </tr>\n    <tr>\n      <th>2021-02-07</th>\n      <td>38903.441406</td>\n    </tr>\n    <tr>\n      <th>2021-02-08</th>\n      <td>46196.464844</td>\n    </tr>\n    <tr>\n      <th>2021-02-09</th>\n      <td>46481.105469</td>\n    </tr>\n    <tr>\n      <th>2021-02-10</th>\n      <td>44918.183594</td>\n    </tr>\n    <tr>\n      <th>...</th>\n      <td>...</td>\n    </tr>\n    <tr>\n      <th>2022-01-24</th>\n      <td>36654.328125</td>\n    </tr>\n    <tr>\n      <th>2022-01-25</th>\n      <td>36954.003906</td>\n    </tr>\n    <tr>\n      <th>2022-01-26</th>\n      <td>36852.121094</td>\n    </tr>\n    <tr>\n      <th>2022-01-27</th>\n      <td>37138.234375</td>\n    </tr>\n    <tr>\n      <th>2022-01-28</th>\n      <td>36435.585938</td>\n    </tr>\n  </tbody>\n</table>\n<p>357 rows × 1 columns</p>\n</div>"
     },
     "execution_count": 11,
     "metadata": {},
     "output_type": "execute_result"
    }
   ],
   "source": [
    "btc_usd_grouped"
   ]
  },
  {
   "cell_type": "code",
   "execution_count": 12,
   "metadata": {
    "pycharm": {
     "name": "#%%\n"
    }
   },
   "outputs": [],
   "source": [
    "def btc_price_cate(score):\n",
    "    if score < 1:\n",
    "        return 'negative'\n",
    "    elif score == 1:\n",
    "        return 'neutral'\n",
    "    else:\n",
    "        return 'positive'\n",
    "\n",
    "\n",
    "def observe_period(period):\n",
    "    res = btc_usd_grouped['Adj Close'].shift(period)/btc_usd_grouped['Adj Close']\n",
    "    res = res.apply(btc_price_cate)\n",
    "    return res"
   ]
  },
  {
   "cell_type": "code",
   "execution_count": 13,
   "metadata": {
    "pycharm": {
     "name": "#%%\n"
    }
   },
   "outputs": [
    {
     "data": {
      "text/plain": "Index(['2021-02-06', '2021-02-07', '2021-02-08', '2021-02-09', '2021-02-10',\n       '2021-02-11', '2021-02-12', '2021-02-13', '2021-02-14', '2021-02-15',\n       ...\n       '2022-01-19', '2022-01-20', '2022-01-21', '2022-01-22', '2022-01-23',\n       '2022-01-24', '2022-01-25', '2022-01-26', '2022-01-27', '2022-01-28'],\n      dtype='object', name='Date', length=357)"
     },
     "execution_count": 13,
     "metadata": {},
     "output_type": "execute_result"
    }
   ],
   "source": [
    "# Explain in report\n",
    "# 7 is the days bitcoin price if shifted, to we will predict for week returns\n",
    "time_sentiment = observe_period(7)\n",
    "time_sentiment.index"
   ]
  },
  {
   "cell_type": "code",
   "execution_count": 14,
   "metadata": {
    "pycharm": {
     "name": "#%%\n"
    }
   },
   "outputs": [
    {
     "name": "stderr",
     "output_type": "stream",
     "text": [
      "/var/folders/79/vrkgvtgs11v73pnty27_x1100000gn/T/ipykernel_19156/2522087232.py:2: SettingWithCopyWarning: \n",
      "A value is trying to be set on a copy of a slice from a DataFrame.\n",
      "Try using .loc[row_indexer,col_indexer] = value instead\n",
      "\n",
      "See the caveats in the documentation: https://pandas.pydata.org/pandas-docs/stable/user_guide/indexing.html#returning-a-view-versus-a-copy\n",
      "  df['crypto_sentiment'] = df.date_clean.apply(lambda x: time_sentiment[x] if x in time_sentiment else np.nan)\n"
     ]
    }
   ],
   "source": [
    "# CHECK\n",
    "df['crypto_sentiment'] = df.date_clean.apply(lambda x: time_sentiment[x] if x in time_sentiment else np.nan)"
   ]
  },
  {
   "cell_type": "code",
   "execution_count": 15,
   "outputs": [
    {
     "data": {
      "text/plain": "((20594, 4), (22142, 4))"
     },
     "execution_count": 15,
     "metadata": {},
     "output_type": "execute_result"
    }
   ],
   "source": [
    "# We are going to drop the days for which we cannot measure the crypto_sentiment with the shift\n",
    "df_2 = df.copy()\n",
    "df_2 = df_2.dropna()\n",
    "df_2.shape, df.shape"
   ],
   "metadata": {
    "collapsed": false,
    "pycharm": {
     "name": "#%%\n"
    }
   }
  },
  {
   "cell_type": "code",
   "execution_count": 16,
   "metadata": {
    "pycharm": {
     "name": "#%%\n"
    }
   },
   "outputs": [
    {
     "name": "stdout",
     "output_type": "stream",
     "text": [
      "(20594, 6)\n"
     ]
    },
    {
     "data": {
      "text/plain": "                                                tweets  \\\n200    03 00   bitcoin   38 312 0052   bitcoin btc ...   \n202  all we need is for bitcoin  to break the  3867...   \n203  the good news for eth hodlers about insane gas...   \n204    hbar  buy signal  pair  hbar btc   signal  p...   \n205   sorry i have to correct you  btc 7 figures 20...   \n\n                                        cleaned_tweets  date_clean  \\\n200                         bitcoin bitcoin btc btcusd  2021-02-06   \n202  need bitcoin break level go new ath btc btc cr...  2021-02-06   \n203  good news eth hodlers insane gas fee btc bitco...  2021-02-06   \n204  hbar buy signal pair hbar btc signal price cro...  2021-02-06   \n205      sorry correct btc figure next halving bitcoin  2021-02-06   \n\n    crypto_sentiment  subjectivity  polarity  \n200         positive      0.000000  0.000000  \n202         positive      0.454545  0.136364  \n203         positive      0.800000 -0.150000  \n204         positive      0.000000  0.000000  \n205         positive      0.500000 -0.250000  ",
      "text/html": "<div>\n<style scoped>\n    .dataframe tbody tr th:only-of-type {\n        vertical-align: middle;\n    }\n\n    .dataframe tbody tr th {\n        vertical-align: top;\n    }\n\n    .dataframe thead th {\n        text-align: right;\n    }\n</style>\n<table border=\"1\" class=\"dataframe\">\n  <thead>\n    <tr style=\"text-align: right;\">\n      <th></th>\n      <th>tweets</th>\n      <th>cleaned_tweets</th>\n      <th>date_clean</th>\n      <th>crypto_sentiment</th>\n      <th>subjectivity</th>\n      <th>polarity</th>\n    </tr>\n  </thead>\n  <tbody>\n    <tr>\n      <th>200</th>\n      <td>03 00   bitcoin   38 312 0052   bitcoin btc ...</td>\n      <td>bitcoin bitcoin btc btcusd</td>\n      <td>2021-02-06</td>\n      <td>positive</td>\n      <td>0.000000</td>\n      <td>0.000000</td>\n    </tr>\n    <tr>\n      <th>202</th>\n      <td>all we need is for bitcoin  to break the  3867...</td>\n      <td>need bitcoin break level go new ath btc btc cr...</td>\n      <td>2021-02-06</td>\n      <td>positive</td>\n      <td>0.454545</td>\n      <td>0.136364</td>\n    </tr>\n    <tr>\n      <th>203</th>\n      <td>the good news for eth hodlers about insane gas...</td>\n      <td>good news eth hodlers insane gas fee btc bitco...</td>\n      <td>2021-02-06</td>\n      <td>positive</td>\n      <td>0.800000</td>\n      <td>-0.150000</td>\n    </tr>\n    <tr>\n      <th>204</th>\n      <td>hbar  buy signal  pair  hbar btc   signal  p...</td>\n      <td>hbar buy signal pair hbar btc signal price cro...</td>\n      <td>2021-02-06</td>\n      <td>positive</td>\n      <td>0.000000</td>\n      <td>0.000000</td>\n    </tr>\n    <tr>\n      <th>205</th>\n      <td>sorry i have to correct you  btc 7 figures 20...</td>\n      <td>sorry correct btc figure next halving bitcoin</td>\n      <td>2021-02-06</td>\n      <td>positive</td>\n      <td>0.500000</td>\n      <td>-0.250000</td>\n    </tr>\n  </tbody>\n</table>\n</div>"
     },
     "execution_count": 16,
     "metadata": {},
     "output_type": "execute_result"
    }
   ],
   "source": [
    "df_2['subjectivity'] = df_2['cleaned_tweets'].apply(get_Subjectivity)\n",
    "df_2['polarity'] = df_2['cleaned_tweets'].apply(get_Polarity)\n",
    "print(df_2.shape)\n",
    "df_2.head()"
   ]
  },
  {
   "cell_type": "code",
   "execution_count": 46,
   "metadata": {
    "pycharm": {
     "name": "#%%\n"
    }
   },
   "outputs": [
    {
     "data": {
      "text/plain": "                                                tweets  \\\n205  \"Will Institutional Investment Keep Pouring In...   \n206  BTC Bitcoin  You know where the WSB money is g...   \n208  🔼🔼 ₿1 = $38,868 (00:56 UTC)\\n$BTC prices conti...   \n209    BTC Bitcoin All the way up! 🚀 🚀 💵 💵 /xVyLbbWRiu   \n210                             Keep going BTC bitcoin   \n\n                                        cleaned_tweets  date_clean  \\\n205  Will Institutional Investment Keep Pouring Int...  2021-02-06   \n206  BTC Bitcoin You know WSB money going WallStree...  2021-02-06   \n208  UTC BTC price continue rise Change since midni...  2021-02-06   \n209                     BTC Bitcoin All way xVyLbbWRiu  2021-02-06   \n210                             Keep going BTC bitcoin  2021-02-06   \n\n    crypto_sentiment  subjectivity  polarity sentiment  target  \n205         positive           0.0       0.0  positive    True  \n206         positive           0.0       0.0  positive    True  \n208         positive           0.0       0.0  positive    True  \n209         positive           0.0       0.0  positive    True  \n210         positive           0.0       0.0  positive    True  ",
      "text/html": "<div>\n<style scoped>\n    .dataframe tbody tr th:only-of-type {\n        vertical-align: middle;\n    }\n\n    .dataframe tbody tr th {\n        vertical-align: top;\n    }\n\n    .dataframe thead th {\n        text-align: right;\n    }\n</style>\n<table border=\"1\" class=\"dataframe\">\n  <thead>\n    <tr style=\"text-align: right;\">\n      <th></th>\n      <th>tweets</th>\n      <th>cleaned_tweets</th>\n      <th>date_clean</th>\n      <th>crypto_sentiment</th>\n      <th>subjectivity</th>\n      <th>polarity</th>\n      <th>sentiment</th>\n      <th>target</th>\n    </tr>\n  </thead>\n  <tbody>\n    <tr>\n      <th>205</th>\n      <td>\"Will Institutional Investment Keep Pouring In...</td>\n      <td>Will Institutional Investment Keep Pouring Int...</td>\n      <td>2021-02-06</td>\n      <td>positive</td>\n      <td>0.0</td>\n      <td>0.0</td>\n      <td>positive</td>\n      <td>True</td>\n    </tr>\n    <tr>\n      <th>206</th>\n      <td>BTC Bitcoin  You know where the WSB money is g...</td>\n      <td>BTC Bitcoin You know WSB money going WallStree...</td>\n      <td>2021-02-06</td>\n      <td>positive</td>\n      <td>0.0</td>\n      <td>0.0</td>\n      <td>positive</td>\n      <td>True</td>\n    </tr>\n    <tr>\n      <th>208</th>\n      <td>🔼🔼 ₿1 = $38,868 (00:56 UTC)\\n$BTC prices conti...</td>\n      <td>UTC BTC price continue rise Change since midni...</td>\n      <td>2021-02-06</td>\n      <td>positive</td>\n      <td>0.0</td>\n      <td>0.0</td>\n      <td>positive</td>\n      <td>True</td>\n    </tr>\n    <tr>\n      <th>209</th>\n      <td>BTC Bitcoin All the way up! 🚀 🚀 💵 💵 /xVyLbbWRiu</td>\n      <td>BTC Bitcoin All way xVyLbbWRiu</td>\n      <td>2021-02-06</td>\n      <td>positive</td>\n      <td>0.0</td>\n      <td>0.0</td>\n      <td>positive</td>\n      <td>True</td>\n    </tr>\n    <tr>\n      <th>210</th>\n      <td>Keep going BTC bitcoin</td>\n      <td>Keep going BTC bitcoin</td>\n      <td>2021-02-06</td>\n      <td>positive</td>\n      <td>0.0</td>\n      <td>0.0</td>\n      <td>positive</td>\n      <td>True</td>\n    </tr>\n  </tbody>\n</table>\n</div>"
     },
     "execution_count": 46,
     "metadata": {},
     "output_type": "execute_result"
    }
   ],
   "source": [
    "def getSentiment(score, threshold=0.5):\n",
    "    if score < 0:\n",
    "        return 'negative'\n",
    "    elif 0.001 < score < threshold:\n",
    "        return 'neutral'\n",
    "    else:\n",
    "        return 'positive'\n",
    "\n",
    "df_2['sentiment'] = df_2['polarity'].apply(getSentiment)\n",
    "df_2['target'] = df_2['sentiment'] == df_2['crypto_sentiment']\n",
    "df_2.head()"
   ]
  },
  {
   "cell_type": "code",
   "execution_count": 49,
   "metadata": {
    "pycharm": {
     "name": "#%%\n"
    }
   },
   "outputs": [
    {
     "data": {
      "text/plain": "False    0.679115\nTrue     0.320885\nName: target, dtype: float64"
     },
     "execution_count": 49,
     "metadata": {},
     "output_type": "execute_result"
    }
   ],
   "source": [
    "df_2.target.value_counts(normalize=True)"
   ]
  },
  {
   "cell_type": "code",
   "execution_count": 50,
   "metadata": {
    "pycharm": {
     "name": "#%%\n"
    }
   },
   "outputs": [
    {
     "data": {
      "text/plain": "positive    10534\nnegative    10031\nName: crypto_sentiment, dtype: int64"
     },
     "execution_count": 50,
     "metadata": {},
     "output_type": "execute_result"
    }
   ],
   "source": [
    "df_2.crypto_sentiment.value_counts()"
   ]
  },
  {
   "cell_type": "code",
   "execution_count": 51,
   "metadata": {
    "pycharm": {
     "name": "#%%\n"
    }
   },
   "outputs": [
    {
     "data": {
      "text/plain": "positive    0.542086\nneutral     0.348796\nnegative    0.109117\nName: sentiment, dtype: float64"
     },
     "execution_count": 51,
     "metadata": {},
     "output_type": "execute_result"
    }
   ],
   "source": [
    "df_2.sentiment.value_counts(normalize=True)"
   ]
  },
  {
   "cell_type": "code",
   "execution_count": 52,
   "metadata": {
    "pycharm": {
     "name": "#%%\n"
    }
   },
   "outputs": [
    {
     "data": {
      "text/plain": "                                                       tweets  \\\ndate_clean                                                      \n2021-02-06  \"Will Institutional Investment Keep Pouring In...   \n2021-02-06  BTC Bitcoin  You know where the WSB money is g...   \n2021-02-06  🔼🔼 ₿1 = $38,868 (00:56 UTC)\\n$BTC prices conti...   \n2021-02-06    BTC Bitcoin All the way up! 🚀 🚀 💵 💵 /xVyLbbWRiu   \n2021-02-06                             Keep going BTC bitcoin   \n\n                                               cleaned_tweets  \\\ndate_clean                                                      \n2021-02-06  Will Institutional Investment Keep Pouring Int...   \n2021-02-06  BTC Bitcoin You know WSB money going WallStree...   \n2021-02-06  UTC BTC price continue rise Change since midni...   \n2021-02-06                     BTC Bitcoin All way xVyLbbWRiu   \n2021-02-06                             Keep going BTC bitcoin   \n\n           crypto_sentiment  subjectivity  polarity sentiment  target  \ndate_clean                                                             \n2021-02-06         positive           0.0       0.0  positive    True  \n2021-02-06         positive           0.0       0.0  positive    True  \n2021-02-06         positive           0.0       0.0  positive    True  \n2021-02-06         positive           0.0       0.0  positive    True  \n2021-02-06         positive           0.0       0.0  positive    True  ",
      "text/html": "<div>\n<style scoped>\n    .dataframe tbody tr th:only-of-type {\n        vertical-align: middle;\n    }\n\n    .dataframe tbody tr th {\n        vertical-align: top;\n    }\n\n    .dataframe thead th {\n        text-align: right;\n    }\n</style>\n<table border=\"1\" class=\"dataframe\">\n  <thead>\n    <tr style=\"text-align: right;\">\n      <th></th>\n      <th>tweets</th>\n      <th>cleaned_tweets</th>\n      <th>crypto_sentiment</th>\n      <th>subjectivity</th>\n      <th>polarity</th>\n      <th>sentiment</th>\n      <th>target</th>\n    </tr>\n    <tr>\n      <th>date_clean</th>\n      <th></th>\n      <th></th>\n      <th></th>\n      <th></th>\n      <th></th>\n      <th></th>\n      <th></th>\n    </tr>\n  </thead>\n  <tbody>\n    <tr>\n      <th>2021-02-06</th>\n      <td>\"Will Institutional Investment Keep Pouring In...</td>\n      <td>Will Institutional Investment Keep Pouring Int...</td>\n      <td>positive</td>\n      <td>0.0</td>\n      <td>0.0</td>\n      <td>positive</td>\n      <td>True</td>\n    </tr>\n    <tr>\n      <th>2021-02-06</th>\n      <td>BTC Bitcoin  You know where the WSB money is g...</td>\n      <td>BTC Bitcoin You know WSB money going WallStree...</td>\n      <td>positive</td>\n      <td>0.0</td>\n      <td>0.0</td>\n      <td>positive</td>\n      <td>True</td>\n    </tr>\n    <tr>\n      <th>2021-02-06</th>\n      <td>🔼🔼 ₿1 = $38,868 (00:56 UTC)\\n$BTC prices conti...</td>\n      <td>UTC BTC price continue rise Change since midni...</td>\n      <td>positive</td>\n      <td>0.0</td>\n      <td>0.0</td>\n      <td>positive</td>\n      <td>True</td>\n    </tr>\n    <tr>\n      <th>2021-02-06</th>\n      <td>BTC Bitcoin All the way up! 🚀 🚀 💵 💵 /xVyLbbWRiu</td>\n      <td>BTC Bitcoin All way xVyLbbWRiu</td>\n      <td>positive</td>\n      <td>0.0</td>\n      <td>0.0</td>\n      <td>positive</td>\n      <td>True</td>\n    </tr>\n    <tr>\n      <th>2021-02-06</th>\n      <td>Keep going BTC bitcoin</td>\n      <td>Keep going BTC bitcoin</td>\n      <td>positive</td>\n      <td>0.0</td>\n      <td>0.0</td>\n      <td>positive</td>\n      <td>True</td>\n    </tr>\n  </tbody>\n</table>\n</div>"
     },
     "execution_count": 52,
     "metadata": {},
     "output_type": "execute_result"
    }
   ],
   "source": [
    "df_2 = df_2.set_index('date_clean')\n",
    "df_2.head()"
   ]
  },
  {
   "cell_type": "code",
   "execution_count": 53,
   "metadata": {
    "pycharm": {
     "name": "#%%\n"
    }
   },
   "outputs": [],
   "source": [
    "df_2.to_csv(f'{directory}/data/sampled_data/tweets_nlp_modelling_v3.csv')"
   ]
  }
 ],
 "metadata": {
  "kernelspec": {
   "display_name": "Python 3 (ipykernel)",
   "language": "python",
   "name": "python3"
  },
  "language_info": {
   "codemirror_mode": {
    "name": "ipython",
    "version": 3
   },
   "file_extension": ".py",
   "mimetype": "text/x-python",
   "name": "python",
   "nbconvert_exporter": "python",
   "pygments_lexer": "ipython3",
   "version": "3.8.8"
  }
 },
 "nbformat": 4,
 "nbformat_minor": 1
}