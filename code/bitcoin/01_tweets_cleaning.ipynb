{
 "cells": [
  {
   "cell_type": "markdown",
   "source": [
    "#### The following notebook includes:\n",
    "1. Initial analysis of the data\n",
    "2. Sampling for computation ease\n",
    "3. Regular Expression Transformation"
   ],
   "metadata": {
    "collapsed": false,
    "pycharm": {
     "name": "#%% md\n"
    }
   }
  },
  {
   "cell_type": "markdown",
   "source": [
    "## Libraries"
   ],
   "metadata": {
    "collapsed": false,
    "pycharm": {
     "name": "#%% md\n"
    }
   }
  },
  {
   "cell_type": "code",
   "execution_count": 1,
   "metadata": {
    "collapsed": true
   },
   "outputs": [],
   "source": [
    "import re\n",
    "import pandas as pd\n",
    "from tqdm import tqdm"
   ]
  },
  {
   "cell_type": "markdown",
   "source": [
    "File names:"
   ],
   "metadata": {
    "collapsed": false,
    "pycharm": {
     "name": "#%% md\n"
    }
   }
  },
  {
   "cell_type": "code",
   "execution_count": 2,
   "outputs": [],
   "source": [
    "directory = '~/PycharmProjects/tfm_hugopobil'\n",
    "tweets_fn = f'{directory}/data/bitcoin_tweets.csv'\n",
    "bitcoin_price_fn = f'{directory}/dataBTC-USD.csv'"
   ],
   "metadata": {
    "collapsed": false,
    "pycharm": {
     "name": "#%%\n"
    }
   }
  },
  {
   "cell_type": "markdown",
   "source": [
    "## Visualization\n",
    "\n",
    "We import the dataset which includes the tweets we have downloaded from Internet. These tweets include date ranges from 10th February 2021 until 2 March 2022.\n",
    "\n",
    "In order to perform all the computation we will reduce the dataset to 1% of total data. Meaning we will analyse and predict using 23470 initial tweets."
   ],
   "metadata": {
    "collapsed": false,
    "pycharm": {
     "name": "#%% md\n"
    }
   }
  },
  {
   "cell_type": "code",
   "execution_count": 3,
   "outputs": [
    {
     "name": "stdout",
     "output_type": "stream",
     "text": [
      "Shape : (2347470, 13)\n",
      "Tweets DataFrame Initial Date : 2021-02-10 23:59:04\n",
      "Tweets DataFrame Final Date : 2022-03-02 16:38:11\n"
     ]
    },
    {
     "data": {
      "text/plain": "                                  user_name    user_location  \\\n0                             DeSota Wilson      Atlanta, GA   \n1                                  CryptoND              NaN   \n2                                 Tdlmatias  London, England   \n3                      Crypto is the future              NaN   \n4  Alex Kirchmaier 🇦🇹🇸🇪 #FactsSuperspreader           Europa   \n\n                                    user_description         user_created  \\\n0  Biz Consultant, real estate, fintech, startups...  2009-04-26 20:05:09   \n1  😎 BITCOINLIVE is a Dutch platform aimed at inf...  2019-10-17 20:12:10   \n2  IM Academy : The best #forex, #SelfEducation, ...  2014-11-10 10:50:37   \n3  I will post a lot of buying signals for BTC tr...  2019-09-28 16:48:12   \n4  Co-founder @RENJERJerky | Forbes 30Under30 | I...  2016-02-03 13:15:55   \n\n   user_followers user_friends user_favourites user_verified  \\\n0          8534.0         7605            4838         False   \n1          6769.0         1532           25483         False   \n2           128.0          332             924         False   \n3           625.0          129              14         False   \n4          1249.0         1472           10482         False   \n\n                  date                                               text  \\\n0  2021-02-10 23:59:04  Blue Ridge Bank shares halted by NYSE after #b...   \n1  2021-02-10 23:58:48  😎 Today, that's this #Thursday, we will do a \"...   \n2  2021-02-10 23:54:48  Guys evening, I have read this article about B...   \n3  2021-02-10 23:54:33  $BTC A big chance in a billion! Price: \\487264...   \n4  2021-02-10 23:54:06  This network is secured by 9 508 nodes as of t...   \n\n                                    hashtags               source is_retweet  \n0                                ['bitcoin']      Twitter Web App      False  \n1  ['Thursday', 'Btc', 'wallet', 'security']  Twitter for Android      False  \n2                                        NaN      Twitter Web App      False  \n3         ['Bitcoin', 'FX', 'BTC', 'crypto']              dlvr.it      False  \n4                                    ['BTC']      Twitter Web App      False  ",
      "text/html": "<div>\n<style scoped>\n    .dataframe tbody tr th:only-of-type {\n        vertical-align: middle;\n    }\n\n    .dataframe tbody tr th {\n        vertical-align: top;\n    }\n\n    .dataframe thead th {\n        text-align: right;\n    }\n</style>\n<table border=\"1\" class=\"dataframe\">\n  <thead>\n    <tr style=\"text-align: right;\">\n      <th></th>\n      <th>user_name</th>\n      <th>user_location</th>\n      <th>user_description</th>\n      <th>user_created</th>\n      <th>user_followers</th>\n      <th>user_friends</th>\n      <th>user_favourites</th>\n      <th>user_verified</th>\n      <th>date</th>\n      <th>text</th>\n      <th>hashtags</th>\n      <th>source</th>\n      <th>is_retweet</th>\n    </tr>\n  </thead>\n  <tbody>\n    <tr>\n      <th>0</th>\n      <td>DeSota Wilson</td>\n      <td>Atlanta, GA</td>\n      <td>Biz Consultant, real estate, fintech, startups...</td>\n      <td>2009-04-26 20:05:09</td>\n      <td>8534.0</td>\n      <td>7605</td>\n      <td>4838</td>\n      <td>False</td>\n      <td>2021-02-10 23:59:04</td>\n      <td>Blue Ridge Bank shares halted by NYSE after #b...</td>\n      <td>['bitcoin']</td>\n      <td>Twitter Web App</td>\n      <td>False</td>\n    </tr>\n    <tr>\n      <th>1</th>\n      <td>CryptoND</td>\n      <td>NaN</td>\n      <td>😎 BITCOINLIVE is a Dutch platform aimed at inf...</td>\n      <td>2019-10-17 20:12:10</td>\n      <td>6769.0</td>\n      <td>1532</td>\n      <td>25483</td>\n      <td>False</td>\n      <td>2021-02-10 23:58:48</td>\n      <td>😎 Today, that's this #Thursday, we will do a \"...</td>\n      <td>['Thursday', 'Btc', 'wallet', 'security']</td>\n      <td>Twitter for Android</td>\n      <td>False</td>\n    </tr>\n    <tr>\n      <th>2</th>\n      <td>Tdlmatias</td>\n      <td>London, England</td>\n      <td>IM Academy : The best #forex, #SelfEducation, ...</td>\n      <td>2014-11-10 10:50:37</td>\n      <td>128.0</td>\n      <td>332</td>\n      <td>924</td>\n      <td>False</td>\n      <td>2021-02-10 23:54:48</td>\n      <td>Guys evening, I have read this article about B...</td>\n      <td>NaN</td>\n      <td>Twitter Web App</td>\n      <td>False</td>\n    </tr>\n    <tr>\n      <th>3</th>\n      <td>Crypto is the future</td>\n      <td>NaN</td>\n      <td>I will post a lot of buying signals for BTC tr...</td>\n      <td>2019-09-28 16:48:12</td>\n      <td>625.0</td>\n      <td>129</td>\n      <td>14</td>\n      <td>False</td>\n      <td>2021-02-10 23:54:33</td>\n      <td>$BTC A big chance in a billion! Price: \\487264...</td>\n      <td>['Bitcoin', 'FX', 'BTC', 'crypto']</td>\n      <td>dlvr.it</td>\n      <td>False</td>\n    </tr>\n    <tr>\n      <th>4</th>\n      <td>Alex Kirchmaier 🇦🇹🇸🇪 #FactsSuperspreader</td>\n      <td>Europa</td>\n      <td>Co-founder @RENJERJerky | Forbes 30Under30 | I...</td>\n      <td>2016-02-03 13:15:55</td>\n      <td>1249.0</td>\n      <td>1472</td>\n      <td>10482</td>\n      <td>False</td>\n      <td>2021-02-10 23:54:06</td>\n      <td>This network is secured by 9 508 nodes as of t...</td>\n      <td>['BTC']</td>\n      <td>Twitter Web App</td>\n      <td>False</td>\n    </tr>\n  </tbody>\n</table>\n</div>"
     },
     "execution_count": 3,
     "metadata": {},
     "output_type": "execute_result"
    }
   ],
   "source": [
    "# Do not execute, 2 million tweets coming...\n",
    "tweets = pd.read_csv(tweets_fn, low_memory=False)\n",
    "print('Shape :', tweets.shape)\n",
    "print('Tweets DataFrame Initial Date :', tweets.date[0])\n",
    "print('Tweets DataFrame Final Date :', tweets.date.iloc[-1])\n",
    "tweets.head()"
   ],
   "metadata": {
    "collapsed": false,
    "pycharm": {
     "name": "#%%\n"
    }
   }
  },
  {
   "cell_type": "code",
   "execution_count": 4,
   "outputs": [
    {
     "data": {
      "text/plain": "Index(['user_name', 'user_location', 'user_description', 'user_created',\n       'user_followers', 'user_friends', 'user_favourites', 'user_verified',\n       'date', 'text', 'hashtags', 'source', 'is_retweet'],\n      dtype='object')"
     },
     "execution_count": 4,
     "metadata": {},
     "output_type": "execute_result"
    }
   ],
   "source": [
    "tweets.columns"
   ],
   "metadata": {
    "collapsed": false,
    "pycharm": {
     "name": "#%%\n"
    }
   }
  },
  {
   "cell_type": "code",
   "execution_count": 7,
   "outputs": [
    {
     "data": {
      "text/plain": "                                                 user_name  \\\n2339103                               Hodlers Journey 🍁 ⚡️   \n2339102             The Crypto Curator #BTC100K 🔥 🚀 🏳️‍🌈 🟩   \n2339101                                      Raquel morina   \n2339100       Blessed Mom of 3 kiddos~I 💗 them so much~🕊️🥀   \n2339099                                     Gery Rodriguez   \n2339098                                      Ryan de Mateo   \n2339097                                     kei arisa mugo   \n2341203                                    illegalmonkey77   \n2339096                                                Hem   \n1811149                                 jadii nine is 9 :D   \n1347699                                              amp=l   \n64943    Can roam the world，It's nine to five againᵕᴗᵕ)...   \n1513850                 My_Facebook http://t.co/tof8V41sTA   \n180575                   • Learn n To Do d'Best...!!!!!!!!   \n1067665                            YOU'LL NEVER WALK ALONE   \n1611481                            https://t.co/atJqp3g7I2   \n693194                               FB- Xiomara Castañeda   \n697397           Pin bb : 26ea62f8 . Line : baliratih_bali   \n137068    *Muhammad Yasir* hello stalker nice to tweet ...   \n1393938               💰 based on the latest AI innovations   \n\n               user_location  \\\n2339103                  NaN   \n2339102       Everywhere ;)    \n2339101            Australia   \n2339100      Albuquerque, NM   \n2339099         Across Space   \n2339098                  NaN   \n2339097                  NaN   \n2341203                   NH   \n2339096                  NaN   \n1811149  2011-01-20 02:00:55   \n1347699  2013-01-02 07:40:53   \n64943    2020-11-09 19:44:24   \n1513850  2012-08-24 20:37:55   \n180575   2010-08-16 10:55:09   \n1067665  2012-08-29 10:32:29   \n1611481  2014-11-16 20:10:32   \n693194   2015-12-21 18:17:12   \n697397   2012-06-01 01:08:25   \n137068   2009-08-31 07:40:42   \n1393938  2021-03-31 11:02:58   \n\n                                          user_description  \\\n2339103                                           #bitcoin   \n2339102  #Bitcoin Evangelist and Aficionado. Military #...   \n2339101                                 Graduated student🙄   \n2339100  💜Mom of Doom, G-Ray & CeeJ💜#TheBeKindImpact 💝 ...   \n2339099                                           #Bitcoin   \n2339098                                                NaN   \n2339097                                                NaN   \n2341203  I am no one and everyone. I see all, yet am bl...   \n2339096                                                NaN   \n1811149                                              200.0   \n1347699                                                9.0   \n64943                                                    9   \n1513850                                              285.0   \n180575                                                52.0   \n1067665                                               71.0   \n1611481                                                2.0   \n693194                                                 9.0   \n697397                                                 4.0   \n137068                                               280.0   \n1393938                                                4.0   \n\n                user_created  user_followers user_friends  \\\n2339103  2021-04-08 18:39:21           236.0         1126   \n2339102  2009-01-17 13:25:27         27860.0        10162   \n2339101  2021-12-10 07:03:14            94.0          137   \n2339100  2011-06-07 14:40:15           336.0          878   \n2339099  2011-12-23 18:49:39           214.0          234   \n2339098  2019-03-06 11:27:39             3.0          155   \n2339097  2021-08-27 20:30:14            15.0           52   \n2341203  2012-02-03 12:51:14           110.0           84   \n2339096  2020-02-13 08:56:22            19.0           79   \n1811149                  229            44.0        False   \n1347699                   33             0.0        False   \n64943                    141            36.0        False   \n1513850                  933           389.0        False   \n180575                   277           127.0        False   \n1067665                  314          1968.0        False   \n1611481                   32            20.0        False   \n693194                    81           531.0        False   \n697397                   110            21.0        False   \n137068                   623           499.0        False   \n1393938                   26             0.0        False   \n\n             user_favourites  \\\n2339103                  715   \n2339102               139886   \n2339101                  102   \n2339100                11043   \n2339099                 4698   \n2339098                   27   \n2339097                   34   \n2341203                 4383   \n2339096                  196   \n1811149  2021-11-18 13:26:39   \n1347699  2021-10-22 21:33:06   \n64943    2021-04-07 16:23:03   \n1513850  2021-10-29 08:22:59   \n180575   2021-06-22 13:31:16   \n1067665  2021-08-16 16:39:27   \n1611481  2021-11-06 04:05:58   \n693194   2021-07-26 11:54:15   \n697397   2021-07-26 11:48:46   \n137068   2021-06-23 14:51:12   \n1393938  2021-10-21 18:12:08   \n\n                                             user_verified  \\\n2339103                                              False   \n2339102                                              False   \n2339101                                              False   \n2339100                                              False   \n2339099                                              False   \n2339098                                              False   \n2339097                                              False   \n2341203                                              False   \n2339096                                              False   \n1811149  @airdropinspect Good and special project\\n@anc...   \n1347699  @bloodgoodBTC5\\n\\n#Bitcoin   \\n\\nShort term tr...   \n64943    @krakenfx  #ETH #BTC  If you want to become po...   \n1513850  @pythonwealth Good Project 🎉🎉🎉🎉\\n\\n@nurull_pad...   \n180575   @pufferswap Nice project\\n\\n@karnoto_hendrik \\...   \n1067665  @DogCakeFinance @DogCakeFinance Great project\\...   \n1611481         @iftikharpost the world is flat #bitcoin 💪   \n693194                           #btc to the moon 🚀🚀 77774   \n697397                           #btc to the moon 🚀🚀 46059   \n137068   Official ESHOP Airdrop. If You Missed Meme Tok...   \n1393938  🤯Mind-blowing 99.7% of all Bitcoin holders are...   \n\n                                                      date  \\\n2339103                                2022-03-02 23:59:49   \n2339102                                2022-03-02 23:59:51   \n2339101                                2022-03-02 23:59:51   \n2339100                                2022-03-02 23:59:52   \n2339099                                2022-03-02 23:59:53   \n2339098                                2022-03-02 23:59:55   \n2339097                                2022-03-02 23:59:56   \n2341203                                2022-03-02 23:59:56   \n2339096                                2022-03-02 23:59:59   \n1811149  ['Airdrop', 'Airdrops', 'Airdropinspector', 'B...   \n1347699                                        ['Bitcoin']   \n64943                            ['ETH', 'BTC', 'Bitcoin']   \n1513850  ['PW', 'pythonwealth', 'Presale', 'token', 'ic...   \n180575   ['YieldFarming', 'Airdrop', 'Binance', 'Bitcoi...   \n1067665  ['YieldFarming', 'Airdrop', 'PancakeSwap', 'Gi...   \n1611481                                        ['bitcoin']   \n693194                                             ['btc']   \n697397                                             ['btc']   \n137068   ['cryptocurrency', 'BSC', 'Bitcoin', 'Ethereum...   \n1393938  ['cryptotrading', 'crypto', 'tradingbots', 'bi...   \n\n                                                      text  \\\n2339103  @jkenney Now eliminate the debt and add #bitco...   \n2339102  @TartishaHill Congrats! Have you heard about $...   \n2339101  If anything, WOLVERINU is going to moon with t...   \n2339100  @TheMoonCarl #Solana #MATIC maybe #Ada but if ...   \n2339099  Whatever the mainstream media is narrating and...   \n2339098  create twitter tasks and pay with #bitcoin #et...   \n2339097  If anything, WOLVERINU is going to moon with t...   \n2341203  @MrDiamondhandz1 @saitanobi @InuSaitama @Shib_...   \n2339096  If anything, WOLVERINU is going to moon with t...   \n1811149                                    Twitter Web App   \n1347699                                 Twitter for iPhone   \n64943                                      Twitter Web App   \n1513850                                    Twitter Web App   \n180575                                     Twitter Web App   \n1067665                                Twitter for Android   \n1611481                                 Twitter for iPhone   \n693194                                     Twitter Web App   \n697397                                     Twitter Web App   \n137068                                 Twitter for Android   \n1393938                                 Twitter for iPhone   \n\n                                                  hashtags  \\\n2339103                                        ['bitcoin']   \n2339102                                        ['Bitcoin']   \n2339101  ['crypto', 'bitcoin', 'cryptocurrency', 'btc',...   \n2339100              ['Solana', 'MATIC', 'Ada', 'Bitcoin']   \n2339099                                        ['Bitcoin']   \n2339098                ['bitcoin', 'ethereum', 'litecoin']   \n2339097  ['crypto', 'bitcoin', 'cryptocurrency', 'btc',...   \n2341203  ['saitanobi', 'saitanobiRoadto1b', 'eth', 'btc...   \n2339096  ['crypto', 'bitcoin', 'cryptocurrency', 'btc',...   \n1811149                                              False   \n1347699                                              False   \n64943                                                False   \n1513850                                              False   \n180575                                               False   \n1067665                                              False   \n1611481                                              False   \n693194                                               False   \n697397                                               False   \n137068                                               False   \n1393938                                              False   \n\n                      source is_retweet  \n2339103   Twitter for iPhone      False  \n2339102      Twitter Web App      False  \n2339101      Twitter Web App      False  \n2339100  Twitter for Android      False  \n2339099      Twitter Web App      False  \n2339098  Twitter for Android      False  \n2339097      Twitter Web App      False  \n2341203      Twitter Web App      False  \n2339096      Twitter Web App      False  \n1811149                  NaN        NaN  \n1347699                  NaN        NaN  \n64943                    NaN        NaN  \n1513850                  NaN        NaN  \n180575                   NaN        NaN  \n1067665                  NaN        NaN  \n1611481                  NaN        NaN  \n693194                   NaN        NaN  \n697397                   NaN        NaN  \n137068                   NaN        NaN  \n1393938                  NaN        NaN  ",
      "text/html": "<div>\n<style scoped>\n    .dataframe tbody tr th:only-of-type {\n        vertical-align: middle;\n    }\n\n    .dataframe tbody tr th {\n        vertical-align: top;\n    }\n\n    .dataframe thead th {\n        text-align: right;\n    }\n</style>\n<table border=\"1\" class=\"dataframe\">\n  <thead>\n    <tr style=\"text-align: right;\">\n      <th></th>\n      <th>user_name</th>\n      <th>user_location</th>\n      <th>user_description</th>\n      <th>user_created</th>\n      <th>user_followers</th>\n      <th>user_friends</th>\n      <th>user_favourites</th>\n      <th>user_verified</th>\n      <th>date</th>\n      <th>text</th>\n      <th>hashtags</th>\n      <th>source</th>\n      <th>is_retweet</th>\n    </tr>\n  </thead>\n  <tbody>\n    <tr>\n      <th>2339103</th>\n      <td>Hodlers Journey 🍁 ⚡️</td>\n      <td>NaN</td>\n      <td>#bitcoin</td>\n      <td>2021-04-08 18:39:21</td>\n      <td>236.0</td>\n      <td>1126</td>\n      <td>715</td>\n      <td>False</td>\n      <td>2022-03-02 23:59:49</td>\n      <td>@jkenney Now eliminate the debt and add #bitco...</td>\n      <td>['bitcoin']</td>\n      <td>Twitter for iPhone</td>\n      <td>False</td>\n    </tr>\n    <tr>\n      <th>2339102</th>\n      <td>The Crypto Curator #BTC100K 🔥 🚀 🏳️‍🌈 🟩</td>\n      <td>Everywhere ;)</td>\n      <td>#Bitcoin Evangelist and Aficionado. Military #...</td>\n      <td>2009-01-17 13:25:27</td>\n      <td>27860.0</td>\n      <td>10162</td>\n      <td>139886</td>\n      <td>False</td>\n      <td>2022-03-02 23:59:51</td>\n      <td>@TartishaHill Congrats! Have you heard about $...</td>\n      <td>['Bitcoin']</td>\n      <td>Twitter Web App</td>\n      <td>False</td>\n    </tr>\n    <tr>\n      <th>2339101</th>\n      <td>Raquel morina</td>\n      <td>Australia</td>\n      <td>Graduated student🙄</td>\n      <td>2021-12-10 07:03:14</td>\n      <td>94.0</td>\n      <td>137</td>\n      <td>102</td>\n      <td>False</td>\n      <td>2022-03-02 23:59:51</td>\n      <td>If anything, WOLVERINU is going to moon with t...</td>\n      <td>['crypto', 'bitcoin', 'cryptocurrency', 'btc',...</td>\n      <td>Twitter Web App</td>\n      <td>False</td>\n    </tr>\n    <tr>\n      <th>2339100</th>\n      <td>Blessed Mom of 3 kiddos~I 💗 them so much~🕊️🥀</td>\n      <td>Albuquerque, NM</td>\n      <td>💜Mom of Doom, G-Ray &amp; CeeJ💜#TheBeKindImpact 💝 ...</td>\n      <td>2011-06-07 14:40:15</td>\n      <td>336.0</td>\n      <td>878</td>\n      <td>11043</td>\n      <td>False</td>\n      <td>2022-03-02 23:59:52</td>\n      <td>@TheMoonCarl #Solana #MATIC maybe #Ada but if ...</td>\n      <td>['Solana', 'MATIC', 'Ada', 'Bitcoin']</td>\n      <td>Twitter for Android</td>\n      <td>False</td>\n    </tr>\n    <tr>\n      <th>2339099</th>\n      <td>Gery Rodriguez</td>\n      <td>Across Space</td>\n      <td>#Bitcoin</td>\n      <td>2011-12-23 18:49:39</td>\n      <td>214.0</td>\n      <td>234</td>\n      <td>4698</td>\n      <td>False</td>\n      <td>2022-03-02 23:59:53</td>\n      <td>Whatever the mainstream media is narrating and...</td>\n      <td>['Bitcoin']</td>\n      <td>Twitter Web App</td>\n      <td>False</td>\n    </tr>\n    <tr>\n      <th>2339098</th>\n      <td>Ryan de Mateo</td>\n      <td>NaN</td>\n      <td>NaN</td>\n      <td>2019-03-06 11:27:39</td>\n      <td>3.0</td>\n      <td>155</td>\n      <td>27</td>\n      <td>False</td>\n      <td>2022-03-02 23:59:55</td>\n      <td>create twitter tasks and pay with #bitcoin #et...</td>\n      <td>['bitcoin', 'ethereum', 'litecoin']</td>\n      <td>Twitter for Android</td>\n      <td>False</td>\n    </tr>\n    <tr>\n      <th>2339097</th>\n      <td>kei arisa mugo</td>\n      <td>NaN</td>\n      <td>NaN</td>\n      <td>2021-08-27 20:30:14</td>\n      <td>15.0</td>\n      <td>52</td>\n      <td>34</td>\n      <td>False</td>\n      <td>2022-03-02 23:59:56</td>\n      <td>If anything, WOLVERINU is going to moon with t...</td>\n      <td>['crypto', 'bitcoin', 'cryptocurrency', 'btc',...</td>\n      <td>Twitter Web App</td>\n      <td>False</td>\n    </tr>\n    <tr>\n      <th>2341203</th>\n      <td>illegalmonkey77</td>\n      <td>NH</td>\n      <td>I am no one and everyone. I see all, yet am bl...</td>\n      <td>2012-02-03 12:51:14</td>\n      <td>110.0</td>\n      <td>84</td>\n      <td>4383</td>\n      <td>False</td>\n      <td>2022-03-02 23:59:56</td>\n      <td>@MrDiamondhandz1 @saitanobi @InuSaitama @Shib_...</td>\n      <td>['saitanobi', 'saitanobiRoadto1b', 'eth', 'btc...</td>\n      <td>Twitter Web App</td>\n      <td>False</td>\n    </tr>\n    <tr>\n      <th>2339096</th>\n      <td>Hem</td>\n      <td>NaN</td>\n      <td>NaN</td>\n      <td>2020-02-13 08:56:22</td>\n      <td>19.0</td>\n      <td>79</td>\n      <td>196</td>\n      <td>False</td>\n      <td>2022-03-02 23:59:59</td>\n      <td>If anything, WOLVERINU is going to moon with t...</td>\n      <td>['crypto', 'bitcoin', 'cryptocurrency', 'btc',...</td>\n      <td>Twitter Web App</td>\n      <td>False</td>\n    </tr>\n    <tr>\n      <th>1811149</th>\n      <td>jadii nine is 9 :D</td>\n      <td>2011-01-20 02:00:55</td>\n      <td>200.0</td>\n      <td>229</td>\n      <td>44.0</td>\n      <td>False</td>\n      <td>2021-11-18 13:26:39</td>\n      <td>@airdropinspect Good and special project\\n@anc...</td>\n      <td>['Airdrop', 'Airdrops', 'Airdropinspector', 'B...</td>\n      <td>Twitter Web App</td>\n      <td>False</td>\n      <td>NaN</td>\n      <td>NaN</td>\n    </tr>\n    <tr>\n      <th>1347699</th>\n      <td>amp=l</td>\n      <td>2013-01-02 07:40:53</td>\n      <td>9.0</td>\n      <td>33</td>\n      <td>0.0</td>\n      <td>False</td>\n      <td>2021-10-22 21:33:06</td>\n      <td>@bloodgoodBTC5\\n\\n#Bitcoin   \\n\\nShort term tr...</td>\n      <td>['Bitcoin']</td>\n      <td>Twitter for iPhone</td>\n      <td>False</td>\n      <td>NaN</td>\n      <td>NaN</td>\n    </tr>\n    <tr>\n      <th>64943</th>\n      <td>Can roam the world，It's nine to five againᵕᴗᵕ)...</td>\n      <td>2020-11-09 19:44:24</td>\n      <td>9</td>\n      <td>141</td>\n      <td>36.0</td>\n      <td>False</td>\n      <td>2021-04-07 16:23:03</td>\n      <td>@krakenfx  #ETH #BTC  If you want to become po...</td>\n      <td>['ETH', 'BTC', 'Bitcoin']</td>\n      <td>Twitter Web App</td>\n      <td>False</td>\n      <td>NaN</td>\n      <td>NaN</td>\n    </tr>\n    <tr>\n      <th>1513850</th>\n      <td>My_Facebook http://t.co/tof8V41sTA</td>\n      <td>2012-08-24 20:37:55</td>\n      <td>285.0</td>\n      <td>933</td>\n      <td>389.0</td>\n      <td>False</td>\n      <td>2021-10-29 08:22:59</td>\n      <td>@pythonwealth Good Project 🎉🎉🎉🎉\\n\\n@nurull_pad...</td>\n      <td>['PW', 'pythonwealth', 'Presale', 'token', 'ic...</td>\n      <td>Twitter Web App</td>\n      <td>False</td>\n      <td>NaN</td>\n      <td>NaN</td>\n    </tr>\n    <tr>\n      <th>180575</th>\n      <td>• Learn n To Do d'Best...!!!!!!!!</td>\n      <td>2010-08-16 10:55:09</td>\n      <td>52.0</td>\n      <td>277</td>\n      <td>127.0</td>\n      <td>False</td>\n      <td>2021-06-22 13:31:16</td>\n      <td>@pufferswap Nice project\\n\\n@karnoto_hendrik \\...</td>\n      <td>['YieldFarming', 'Airdrop', 'Binance', 'Bitcoi...</td>\n      <td>Twitter Web App</td>\n      <td>False</td>\n      <td>NaN</td>\n      <td>NaN</td>\n    </tr>\n    <tr>\n      <th>1067665</th>\n      <td>YOU'LL NEVER WALK ALONE</td>\n      <td>2012-08-29 10:32:29</td>\n      <td>71.0</td>\n      <td>314</td>\n      <td>1968.0</td>\n      <td>False</td>\n      <td>2021-08-16 16:39:27</td>\n      <td>@DogCakeFinance @DogCakeFinance Great project\\...</td>\n      <td>['YieldFarming', 'Airdrop', 'PancakeSwap', 'Gi...</td>\n      <td>Twitter for Android</td>\n      <td>False</td>\n      <td>NaN</td>\n      <td>NaN</td>\n    </tr>\n    <tr>\n      <th>1611481</th>\n      <td>https://t.co/atJqp3g7I2</td>\n      <td>2014-11-16 20:10:32</td>\n      <td>2.0</td>\n      <td>32</td>\n      <td>20.0</td>\n      <td>False</td>\n      <td>2021-11-06 04:05:58</td>\n      <td>@iftikharpost the world is flat #bitcoin 💪</td>\n      <td>['bitcoin']</td>\n      <td>Twitter for iPhone</td>\n      <td>False</td>\n      <td>NaN</td>\n      <td>NaN</td>\n    </tr>\n    <tr>\n      <th>693194</th>\n      <td>FB- Xiomara Castañeda</td>\n      <td>2015-12-21 18:17:12</td>\n      <td>9.0</td>\n      <td>81</td>\n      <td>531.0</td>\n      <td>False</td>\n      <td>2021-07-26 11:54:15</td>\n      <td>#btc to the moon 🚀🚀 77774</td>\n      <td>['btc']</td>\n      <td>Twitter Web App</td>\n      <td>False</td>\n      <td>NaN</td>\n      <td>NaN</td>\n    </tr>\n    <tr>\n      <th>697397</th>\n      <td>Pin bb : 26ea62f8 . Line : baliratih_bali</td>\n      <td>2012-06-01 01:08:25</td>\n      <td>4.0</td>\n      <td>110</td>\n      <td>21.0</td>\n      <td>False</td>\n      <td>2021-07-26 11:48:46</td>\n      <td>#btc to the moon 🚀🚀 46059</td>\n      <td>['btc']</td>\n      <td>Twitter Web App</td>\n      <td>False</td>\n      <td>NaN</td>\n      <td>NaN</td>\n    </tr>\n    <tr>\n      <th>137068</th>\n      <td>*Muhammad Yasir* hello stalker nice to tweet ...</td>\n      <td>2009-08-31 07:40:42</td>\n      <td>280.0</td>\n      <td>623</td>\n      <td>499.0</td>\n      <td>False</td>\n      <td>2021-06-23 14:51:12</td>\n      <td>Official ESHOP Airdrop. If You Missed Meme Tok...</td>\n      <td>['cryptocurrency', 'BSC', 'Bitcoin', 'Ethereum...</td>\n      <td>Twitter for Android</td>\n      <td>False</td>\n      <td>NaN</td>\n      <td>NaN</td>\n    </tr>\n    <tr>\n      <th>1393938</th>\n      <td>💰 based on the latest AI innovations</td>\n      <td>2021-03-31 11:02:58</td>\n      <td>4.0</td>\n      <td>26</td>\n      <td>0.0</td>\n      <td>False</td>\n      <td>2021-10-21 18:12:08</td>\n      <td>🤯Mind-blowing 99.7% of all Bitcoin holders are...</td>\n      <td>['cryptotrading', 'crypto', 'tradingbots', 'bi...</td>\n      <td>Twitter for iPhone</td>\n      <td>False</td>\n      <td>NaN</td>\n      <td>NaN</td>\n    </tr>\n  </tbody>\n</table>\n</div>"
     },
     "execution_count": 7,
     "metadata": {},
     "output_type": "execute_result"
    }
   ],
   "source": [
    "tweets.sort_values(by = 'date').tail(20)"
   ],
   "metadata": {
    "collapsed": false,
    "pycharm": {
     "name": "#%%\n"
    }
   }
  },
  {
   "cell_type": "markdown",
   "source": [
    "### Stratified sampling:\n",
    "\n",
    "Data shows some imported rows give error, I delete those last 12 rows to avoid getting more errors."
   ],
   "metadata": {
    "collapsed": false,
    "pycharm": {
     "name": "#%% md\n"
    }
   }
  },
  {
   "cell_type": "code",
   "execution_count": 10,
   "outputs": [
    {
     "name": "stdout",
     "output_type": "stream",
     "text": [
      "<class 'pandas.core.series.Series'>\n"
     ]
    }
   ],
   "source": [
    "print(type(tweets.date))\n",
    "tweets = tweets.sort_values(by = 'date')\n",
    "tweets = tweets[0:len(tweets)-12]"
   ],
   "metadata": {
    "collapsed": false,
    "pycharm": {
     "name": "#%%\n"
    }
   }
  },
  {
   "cell_type": "code",
   "execution_count": 11,
   "outputs": [],
   "source": [
    "tweets['sample_date'] = tweets['date'].apply(lambda x: x.split(' ', 1)[0])\n",
    "tweets['sample_date'] = tweets.sample_date.apply(lambda x: pd.to_datetime(x))"
   ],
   "metadata": {
    "collapsed": false,
    "pycharm": {
     "name": "#%%\n"
    }
   }
  },
  {
   "cell_type": "code",
   "execution_count": 12,
   "outputs": [],
   "source": [
    "tweets_sample = tweets.groupby('sample_date', group_keys=False).apply(lambda x: x.sample(200))"
   ],
   "metadata": {
    "collapsed": false,
    "pycharm": {
     "name": "#%%\n"
    }
   }
  },
  {
   "cell_type": "code",
   "execution_count": 13,
   "outputs": [
    {
     "data": {
      "text/plain": "user_name           200\nuser_location       114\nuser_description    186\nuser_created        200\nuser_followers      200\nuser_friends        200\nuser_favourites     200\nuser_verified       200\ndate                200\ntext                200\nhashtags            148\nsource              199\nis_retweet          200\nsample_date         200\ndtype: int64"
     },
     "execution_count": 13,
     "metadata": {},
     "output_type": "execute_result"
    }
   ],
   "source": [
    "tweets_sample[tweets_sample.sample_date == '2021-02-05'].count()"
   ],
   "metadata": {
    "collapsed": false,
    "pycharm": {
     "name": "#%%\n"
    }
   }
  },
  {
   "cell_type": "code",
   "execution_count": 14,
   "outputs": [
    {
     "data": {
      "text/plain": "(23200, 14)"
     },
     "execution_count": 14,
     "metadata": {},
     "output_type": "execute_result"
    }
   ],
   "source": [
    "tweets_sample.shape"
   ],
   "metadata": {
    "collapsed": false,
    "pycharm": {
     "name": "#%%\n"
    }
   }
  },
  {
   "cell_type": "markdown",
   "source": [
    "## Data Cleaning\n",
    "\n",
    "The first step when dealing with tweets is to clean the tweet body data. By appliying the 1% reduction to all tweets, we then apply basic regular expression treatment and save the data to CSV."
   ],
   "metadata": {
    "collapsed": false,
    "pycharm": {
     "name": "#%% md\n"
    }
   }
  },
  {
   "cell_type": "code",
   "execution_count": 25,
   "outputs": [
    {
     "name": "stderr",
     "output_type": "stream",
     "text": [
      "100%|██████████| 23200/23200 [00:01<00:00, 16561.00it/s]\n"
     ]
    }
   ],
   "source": [
    "# clean tweets\n",
    "tweets_sample = tweets_sample.sort_values(by = 'date')\n",
    "\n",
    "# Select a 1% random sample of all tweets\n",
    "dd = tweets_sample.copy()\n",
    "dd = dd.reset_index()\n",
    "\n",
    "for i, s in enumerate(tqdm(dd['text'], position=0, leave=True)):\n",
    "    text = str(dd.loc[i, 'text'])\n",
    "    text = text.replace('#', '')\n",
    "    text = text.lower()\n",
    "    text = re.sub(\"@[A-Za-z0-9_]+\",\"\", text)\n",
    "    text = re.sub(\"#[A-Za-z0-9_]+\",\"\", text)\n",
    "    text = re.sub(r\"http\\S+\", \"\", text)\n",
    "    text = re.sub(r\"www.\\S+\", \"\", text)\n",
    "    text = re.sub('[()!?]', ' ', text)\n",
    "    text = re.sub('\\[.*?\\]',' ', text)\n",
    "    text = re.sub(\"[^a-z0-9]\",\" \", text)\n",
    "    text = re.sub('https?://(?:[-\\w.]|(?:%[\\da-fA-F]{2}))+', '', text, flags=re.MULTILINE)\n",
    "    text = re.sub('@\\\\w+ *', '', text, flags=re.MULTILINE)\n",
    "    dd.loc[i, 'text'] = text\n",
    "\n",
    "dd.to_csv(f'{directory}/data/sampled_data/tweets_clean_v2.csv', header=True, encoding='utf-8', index=False)"
   ],
   "metadata": {
    "collapsed": false,
    "pycharm": {
     "name": "#%%\n"
    }
   }
  },
  {
   "cell_type": "code",
   "execution_count": 27,
   "outputs": [
    {
     "data": {
      "text/plain": "0     perl 0 06  i have insisted that since 0 02 it...\n1      are we talking about bitcoin  sure  17 usd d...\n2      prices update in  usdt  1 hour     btc   376...\n3    dominus and johnewbanks i messed up in my firs...\n4      prices update in  usd  1 hour     btc     37...\n5    hey  the cscalp team recorded a video on how t...\n6    bitcoin can breakout any second     technicala...\n7     for cheap network fees coming next month  in ...\n8    hey guys  i want buy a gaming pc  donate me pl...\n9    surge in bitcoin energy consumption sparks deb...\nName: text, dtype: object"
     },
     "execution_count": 27,
     "metadata": {},
     "output_type": "execute_result"
    }
   ],
   "source": [
    "# Some examples of tweets processed\n",
    "dd.text.iloc[0:10]"
   ],
   "metadata": {
    "collapsed": false,
    "pycharm": {
     "name": "#%%\n"
    }
   }
  },
  {
   "cell_type": "markdown",
   "source": [
    "### End\n",
    "\n",
    "Save to local the data after processing visualization and cleaning. We will start the next steps using the CSV 'tweets_clean.csv'"
   ],
   "metadata": {
    "collapsed": false,
    "pycharm": {
     "name": "#%% md\n"
    }
   }
  }
 ],
 "metadata": {
  "kernelspec": {
   "display_name": "Python 3",
   "language": "python",
   "name": "python3"
  },
  "language_info": {
   "codemirror_mode": {
    "name": "ipython",
    "version": 2
   },
   "file_extension": ".py",
   "mimetype": "text/x-python",
   "name": "python",
   "nbconvert_exporter": "python",
   "pygments_lexer": "ipython2",
   "version": "2.7.6"
  }
 },
 "nbformat": 4,
 "nbformat_minor": 0
}