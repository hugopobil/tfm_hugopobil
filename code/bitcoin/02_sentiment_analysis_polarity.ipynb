{
 "cells": [
  {
   "cell_type": "markdown",
   "metadata": {
    "collapsed": true,
    "pycharm": {
     "name": "#%% md\n"
    }
   },
   "source": [
    "## Sentiment Intensity Analysis\n",
    "\n",
    "VADER (Valence Aware Dictionary and Sentiment Reasoner) is a lexicon and rule-based sentiment analysis tool that is specifically attuned to sentiments expressed in social media.\n",
    "\n",
    "We will use this sentiment analysis of the tweets to calculate a score that will represent the importance of each tweet."
   ]
  },
  {
   "cell_type": "markdown",
   "source": [
    "### Libraries"
   ],
   "metadata": {
    "collapsed": false,
    "pycharm": {
     "name": "#%% md\n"
    }
   }
  },
  {
   "cell_type": "code",
   "execution_count": 1,
   "outputs": [],
   "source": [
    "import numpy as np\n",
    "import pandas as pd\n",
    "from vaderSentiment.vaderSentiment import SentimentIntensityAnalyzer\n",
    "from tqdm import tqdm"
   ],
   "metadata": {
    "collapsed": false,
    "pycharm": {
     "name": "#%%\n"
    }
   }
  },
  {
   "cell_type": "markdown",
   "source": [
    "Some fixed variables:"
   ],
   "metadata": {
    "collapsed": false,
    "pycharm": {
     "name": "#%% md\n"
    }
   }
  },
  {
   "cell_type": "code",
   "execution_count": 3,
   "outputs": [],
   "source": [
    "directory = '~/PycharmProjects/tfm_hugopobil'\n",
    "tweets = pd.read_csv(f'{directory}/data/sampled_data/tweets_clean_v2.csv', low_memory=False)"
   ],
   "metadata": {
    "collapsed": false,
    "pycharm": {
     "name": "#%%\n"
    }
   }
  },
  {
   "cell_type": "code",
   "execution_count": 4,
   "outputs": [
    {
     "name": "stdout",
     "output_type": "stream",
     "text": [
      "(23200, 15)\n"
     ]
    },
    {
     "data": {
      "text/plain": "   index       user_name       user_location  \\\n0  21519    Rahul Chahal                 NaN   \n1  21507    Iconic Funds  Frankfurt, Germany   \n2  21491    CryptoSquawk           Australia   \n3  21483  Drew MacMartin                 NaN   \n4  21443    DeriBot.info         Chicago, IL   \n\n                                    user_description         user_created  \\\n0                                      #Bitcoin #BTC  2009-03-26 10:41:20   \n1  Professional Crypto Asset Management\\nhttps://...  2017-08-03 10:44:25   \n2  24x7 Crypto market real-time audio squawk for ...  2017-10-05 10:13:09   \n3  Co-Founder Wealth Playbook, Macro Economics & ...  2016-03-05 15:34:35   \n4  https://t.co/HsKyGWNVqh - The Fastest Cloud Se...  2013-07-27 07:40:54   \n\n   user_followers  user_friends  user_favourites  user_verified  \\\n0           100.0         388.0           3401.0          False   \n1         16813.0         818.0           1201.0          False   \n2          1282.0          25.0             72.0          False   \n3            73.0         122.0            274.0          False   \n4          1973.0         127.0            631.0          False   \n\n                  date                                               text  \\\n0  2021-02-05 10:53:49  Bitcoin and ETH both have bullish setups for a...   \n1  2021-02-05 11:00:24  4⃣  🎙️ Bloomberg LP CryptoOutlook 2021 with ⬇️...   \n2  2021-02-05 11:14:46  ⬇️⬇️ $BTC SELLING PRESSURE ALERT 📉 Price tradi...   \n3  2021-02-05 11:20:02  If hyperinflation does hit again, think of the...   \n4  2021-02-05 11:45:50  DeriBot Daily Trading Report 5.02.2021 11:42 U...   \n\n                                            hashtags              source  \\\n0                          ['Bitcoin', 'ETH', 'BTC']    Twitter for iPad   \n1  ['CryptoOutlook', 'cryptocurrency', 'bitcoin',...     Twitter Web App   \n2                       ['Bitcoin', 'BTC', 'crypto']     CryptoSquawkBot   \n3  ['hyperinflation', 'inflation', 'flood', 'GOLD...  Twitter for iPhone   \n4                                        ['Bitcoin']     Twitter Web App   \n\n  is_retweet sample_date  \n0      False  2021-02-05  \n1      False  2021-02-05  \n2      False  2021-02-05  \n3      False  2021-02-05  \n4      False  2021-02-05  ",
      "text/html": "<div>\n<style scoped>\n    .dataframe tbody tr th:only-of-type {\n        vertical-align: middle;\n    }\n\n    .dataframe tbody tr th {\n        vertical-align: top;\n    }\n\n    .dataframe thead th {\n        text-align: right;\n    }\n</style>\n<table border=\"1\" class=\"dataframe\">\n  <thead>\n    <tr style=\"text-align: right;\">\n      <th></th>\n      <th>index</th>\n      <th>user_name</th>\n      <th>user_location</th>\n      <th>user_description</th>\n      <th>user_created</th>\n      <th>user_followers</th>\n      <th>user_friends</th>\n      <th>user_favourites</th>\n      <th>user_verified</th>\n      <th>date</th>\n      <th>text</th>\n      <th>hashtags</th>\n      <th>source</th>\n      <th>is_retweet</th>\n      <th>sample_date</th>\n    </tr>\n  </thead>\n  <tbody>\n    <tr>\n      <th>0</th>\n      <td>21519</td>\n      <td>Rahul Chahal</td>\n      <td>NaN</td>\n      <td>#Bitcoin #BTC</td>\n      <td>2009-03-26 10:41:20</td>\n      <td>100.0</td>\n      <td>388.0</td>\n      <td>3401.0</td>\n      <td>False</td>\n      <td>2021-02-05 10:53:49</td>\n      <td>Bitcoin and ETH both have bullish setups for a...</td>\n      <td>['Bitcoin', 'ETH', 'BTC']</td>\n      <td>Twitter for iPad</td>\n      <td>False</td>\n      <td>2021-02-05</td>\n    </tr>\n    <tr>\n      <th>1</th>\n      <td>21507</td>\n      <td>Iconic Funds</td>\n      <td>Frankfurt, Germany</td>\n      <td>Professional Crypto Asset Management\\nhttps://...</td>\n      <td>2017-08-03 10:44:25</td>\n      <td>16813.0</td>\n      <td>818.0</td>\n      <td>1201.0</td>\n      <td>False</td>\n      <td>2021-02-05 11:00:24</td>\n      <td>4⃣  🎙️ Bloomberg LP CryptoOutlook 2021 with ⬇️...</td>\n      <td>['CryptoOutlook', 'cryptocurrency', 'bitcoin',...</td>\n      <td>Twitter Web App</td>\n      <td>False</td>\n      <td>2021-02-05</td>\n    </tr>\n    <tr>\n      <th>2</th>\n      <td>21491</td>\n      <td>CryptoSquawk</td>\n      <td>Australia</td>\n      <td>24x7 Crypto market real-time audio squawk for ...</td>\n      <td>2017-10-05 10:13:09</td>\n      <td>1282.0</td>\n      <td>25.0</td>\n      <td>72.0</td>\n      <td>False</td>\n      <td>2021-02-05 11:14:46</td>\n      <td>⬇️⬇️ $BTC SELLING PRESSURE ALERT 📉 Price tradi...</td>\n      <td>['Bitcoin', 'BTC', 'crypto']</td>\n      <td>CryptoSquawkBot</td>\n      <td>False</td>\n      <td>2021-02-05</td>\n    </tr>\n    <tr>\n      <th>3</th>\n      <td>21483</td>\n      <td>Drew MacMartin</td>\n      <td>NaN</td>\n      <td>Co-Founder Wealth Playbook, Macro Economics &amp; ...</td>\n      <td>2016-03-05 15:34:35</td>\n      <td>73.0</td>\n      <td>122.0</td>\n      <td>274.0</td>\n      <td>False</td>\n      <td>2021-02-05 11:20:02</td>\n      <td>If hyperinflation does hit again, think of the...</td>\n      <td>['hyperinflation', 'inflation', 'flood', 'GOLD...</td>\n      <td>Twitter for iPhone</td>\n      <td>False</td>\n      <td>2021-02-05</td>\n    </tr>\n    <tr>\n      <th>4</th>\n      <td>21443</td>\n      <td>DeriBot.info</td>\n      <td>Chicago, IL</td>\n      <td>https://t.co/HsKyGWNVqh - The Fastest Cloud Se...</td>\n      <td>2013-07-27 07:40:54</td>\n      <td>1973.0</td>\n      <td>127.0</td>\n      <td>631.0</td>\n      <td>False</td>\n      <td>2021-02-05 11:45:50</td>\n      <td>DeriBot Daily Trading Report 5.02.2021 11:42 U...</td>\n      <td>['Bitcoin']</td>\n      <td>Twitter Web App</td>\n      <td>False</td>\n      <td>2021-02-05</td>\n    </tr>\n  </tbody>\n</table>\n</div>"
     },
     "execution_count": 4,
     "metadata": {},
     "output_type": "execute_result"
    }
   ],
   "source": [
    "print(tweets.shape)\n",
    "tweets.head()"
   ],
   "metadata": {
    "collapsed": false,
    "pycharm": {
     "name": "#%%\n"
    }
   }
  },
  {
   "cell_type": "markdown",
   "source": [
    "### Analyzer model definition\n",
    "\n",
    "Define the analyzer method and apply to tweets. We obtain a polarity score that will be defined as Compound in the dataframe."
   ],
   "metadata": {
    "collapsed": false,
    "pycharm": {
     "name": "#%% md\n"
    }
   }
  },
  {
   "cell_type": "code",
   "execution_count": 5,
   "outputs": [
    {
     "name": "stderr",
     "output_type": "stream",
     "text": [
      "100%|██████████| 23200/23200 [00:02<00:00, 9932.85it/s] \n"
     ]
    },
    {
     "data": {
      "text/plain": "   index       user_name       user_location  \\\n0  21519    Rahul Chahal                 NaN   \n1  21507    Iconic Funds  Frankfurt, Germany   \n2  21491    CryptoSquawk           Australia   \n3  21483  Drew MacMartin                 NaN   \n4  21443    DeriBot.info         Chicago, IL   \n\n                                    user_description         user_created  \\\n0                                      #Bitcoin #BTC  2009-03-26 10:41:20   \n1  Professional Crypto Asset Management\\nhttps://...  2017-08-03 10:44:25   \n2  24x7 Crypto market real-time audio squawk for ...  2017-10-05 10:13:09   \n3  Co-Founder Wealth Playbook, Macro Economics & ...  2016-03-05 15:34:35   \n4  https://t.co/HsKyGWNVqh - The Fastest Cloud Se...  2013-07-27 07:40:54   \n\n   user_followers  user_friends  user_favourites  user_verified  \\\n0           100.0         388.0           3401.0          False   \n1         16813.0         818.0           1201.0          False   \n2          1282.0          25.0             72.0          False   \n3            73.0         122.0            274.0          False   \n4          1973.0         127.0            631.0          False   \n\n                  date                                               text  \\\n0  2021-02-05 10:53:49  Bitcoin and ETH both have bullish setups for a...   \n1  2021-02-05 11:00:24  4⃣  🎙️ Bloomberg LP CryptoOutlook 2021 with ⬇️...   \n2  2021-02-05 11:14:46  ⬇️⬇️ $BTC SELLING PRESSURE ALERT 📉 Price tradi...   \n3  2021-02-05 11:20:02  If hyperinflation does hit again, think of the...   \n4  2021-02-05 11:45:50  DeriBot Daily Trading Report 5.02.2021 11:42 U...   \n\n                                            hashtags              source  \\\n0                          ['Bitcoin', 'ETH', 'BTC']    Twitter for iPad   \n1  ['CryptoOutlook', 'cryptocurrency', 'bitcoin',...     Twitter Web App   \n2                       ['Bitcoin', 'BTC', 'crypto']     CryptoSquawkBot   \n3  ['hyperinflation', 'inflation', 'flood', 'GOLD...  Twitter for iPhone   \n4                                        ['Bitcoin']     Twitter Web App   \n\n  is_retweet sample_date  compound  \n0      False  2021-02-05    0.6249  \n1      False  2021-02-05    0.0000  \n2      False  2021-02-05    0.0000  \n3      False  2021-02-05    0.4215  \n4      False  2021-02-05    0.0000  ",
      "text/html": "<div>\n<style scoped>\n    .dataframe tbody tr th:only-of-type {\n        vertical-align: middle;\n    }\n\n    .dataframe tbody tr th {\n        vertical-align: top;\n    }\n\n    .dataframe thead th {\n        text-align: right;\n    }\n</style>\n<table border=\"1\" class=\"dataframe\">\n  <thead>\n    <tr style=\"text-align: right;\">\n      <th></th>\n      <th>index</th>\n      <th>user_name</th>\n      <th>user_location</th>\n      <th>user_description</th>\n      <th>user_created</th>\n      <th>user_followers</th>\n      <th>user_friends</th>\n      <th>user_favourites</th>\n      <th>user_verified</th>\n      <th>date</th>\n      <th>text</th>\n      <th>hashtags</th>\n      <th>source</th>\n      <th>is_retweet</th>\n      <th>sample_date</th>\n      <th>compound</th>\n    </tr>\n  </thead>\n  <tbody>\n    <tr>\n      <th>0</th>\n      <td>21519</td>\n      <td>Rahul Chahal</td>\n      <td>NaN</td>\n      <td>#Bitcoin #BTC</td>\n      <td>2009-03-26 10:41:20</td>\n      <td>100.0</td>\n      <td>388.0</td>\n      <td>3401.0</td>\n      <td>False</td>\n      <td>2021-02-05 10:53:49</td>\n      <td>Bitcoin and ETH both have bullish setups for a...</td>\n      <td>['Bitcoin', 'ETH', 'BTC']</td>\n      <td>Twitter for iPad</td>\n      <td>False</td>\n      <td>2021-02-05</td>\n      <td>0.6249</td>\n    </tr>\n    <tr>\n      <th>1</th>\n      <td>21507</td>\n      <td>Iconic Funds</td>\n      <td>Frankfurt, Germany</td>\n      <td>Professional Crypto Asset Management\\nhttps://...</td>\n      <td>2017-08-03 10:44:25</td>\n      <td>16813.0</td>\n      <td>818.0</td>\n      <td>1201.0</td>\n      <td>False</td>\n      <td>2021-02-05 11:00:24</td>\n      <td>4⃣  🎙️ Bloomberg LP CryptoOutlook 2021 with ⬇️...</td>\n      <td>['CryptoOutlook', 'cryptocurrency', 'bitcoin',...</td>\n      <td>Twitter Web App</td>\n      <td>False</td>\n      <td>2021-02-05</td>\n      <td>0.0000</td>\n    </tr>\n    <tr>\n      <th>2</th>\n      <td>21491</td>\n      <td>CryptoSquawk</td>\n      <td>Australia</td>\n      <td>24x7 Crypto market real-time audio squawk for ...</td>\n      <td>2017-10-05 10:13:09</td>\n      <td>1282.0</td>\n      <td>25.0</td>\n      <td>72.0</td>\n      <td>False</td>\n      <td>2021-02-05 11:14:46</td>\n      <td>⬇️⬇️ $BTC SELLING PRESSURE ALERT 📉 Price tradi...</td>\n      <td>['Bitcoin', 'BTC', 'crypto']</td>\n      <td>CryptoSquawkBot</td>\n      <td>False</td>\n      <td>2021-02-05</td>\n      <td>0.0000</td>\n    </tr>\n    <tr>\n      <th>3</th>\n      <td>21483</td>\n      <td>Drew MacMartin</td>\n      <td>NaN</td>\n      <td>Co-Founder Wealth Playbook, Macro Economics &amp; ...</td>\n      <td>2016-03-05 15:34:35</td>\n      <td>73.0</td>\n      <td>122.0</td>\n      <td>274.0</td>\n      <td>False</td>\n      <td>2021-02-05 11:20:02</td>\n      <td>If hyperinflation does hit again, think of the...</td>\n      <td>['hyperinflation', 'inflation', 'flood', 'GOLD...</td>\n      <td>Twitter for iPhone</td>\n      <td>False</td>\n      <td>2021-02-05</td>\n      <td>0.4215</td>\n    </tr>\n    <tr>\n      <th>4</th>\n      <td>21443</td>\n      <td>DeriBot.info</td>\n      <td>Chicago, IL</td>\n      <td>https://t.co/HsKyGWNVqh - The Fastest Cloud Se...</td>\n      <td>2013-07-27 07:40:54</td>\n      <td>1973.0</td>\n      <td>127.0</td>\n      <td>631.0</td>\n      <td>False</td>\n      <td>2021-02-05 11:45:50</td>\n      <td>DeriBot Daily Trading Report 5.02.2021 11:42 U...</td>\n      <td>['Bitcoin']</td>\n      <td>Twitter Web App</td>\n      <td>False</td>\n      <td>2021-02-05</td>\n      <td>0.0000</td>\n    </tr>\n  </tbody>\n</table>\n</div>"
     },
     "execution_count": 5,
     "metadata": {},
     "output_type": "execute_result"
    }
   ],
   "source": [
    "analyzer = SentimentIntensityAnalyzer()\n",
    "# Compound is the score given to the intensity of sentiment detected in tweets\n",
    "\n",
    "compound = []\n",
    "\n",
    "for i, s in enumerate(tqdm(tweets['text'],\n",
    "                           position = 0,\n",
    "                           leave = True)):\n",
    "\n",
    "    # Variable vs can be modified to test different sentiment analysis\n",
    "    \n",
    "    vs = analyzer.polarity_scores(str(s))\n",
    "\n",
    "\n",
    "    compound.append(vs['compound'])\n",
    "\n",
    "tweets['compound'] = compound\n",
    "tweets.head()"
   ],
   "metadata": {
    "collapsed": false,
    "pycharm": {
     "name": "#%%\n"
    }
   }
  },
  {
   "cell_type": "markdown",
   "source": [
    "### Calculate score for each tweet\n",
    "\n",
    "We will give different weights to each score depending on the importante and relevance of the acount using the number of followers and user favourites.\n",
    "\n",
    "Score = Compound * user_followers * user_favourites / sum("
   ],
   "metadata": {
    "collapsed": false,
    "pycharm": {
     "name": "#%% md\n"
    }
   }
  },
  {
   "cell_type": "code",
   "execution_count": 6,
   "outputs": [
    {
     "name": "stderr",
     "output_type": "stream",
     "text": [
      "100%|██████████| 23200/23200 [00:00<00:00, 40252.20it/s]\n"
     ]
    }
   ],
   "source": [
    "scores = []\n",
    "for i, s in tqdm(tweets.iterrows(),\n",
    "                 total=tweets.shape[0],\n",
    "                 position=0,\n",
    "                 leave=True):\n",
    "\n",
    "    try:\n",
    "    # Scores are calculated using the relevance of the tweeter poster\n",
    "    # Divide by 1000 to scale the scores\n",
    "    # Divide by mean...\n",
    "        scores.append(s[\"compound\"] * (int(s[\"user_followers\"])+1) / 1000)\n",
    "\n",
    "    except:\n",
    "        scores.append(np.nan)\n",
    "\n",
    "tweets[\"score\"] = scores"
   ],
   "metadata": {
    "collapsed": false,
    "pycharm": {
     "name": "#%%\n"
    }
   }
  },
  {
   "cell_type": "markdown",
   "source": [
    "### Save to local:"
   ],
   "metadata": {
    "collapsed": false,
    "pycharm": {
     "name": "#%% md\n"
    }
   }
  },
  {
   "cell_type": "code",
   "execution_count": 7,
   "outputs": [],
   "source": [
    "tweets.to_csv(f'{directory}/data/sampled_data/tweets_scores_v2.csv')"
   ],
   "metadata": {
    "collapsed": false,
    "pycharm": {
     "name": "#%%\n"
    }
   }
  }
 ],
 "metadata": {
  "kernelspec": {
   "display_name": "Python 3",
   "language": "python",
   "name": "python3"
  },
  "language_info": {
   "codemirror_mode": {
    "name": "ipython",
    "version": 2
   },
   "file_extension": ".py",
   "mimetype": "text/x-python",
   "name": "python",
   "nbconvert_exporter": "python",
   "pygments_lexer": "ipython2",
   "version": "2.7.6"
  }
 },
 "nbformat": 4,
 "nbformat_minor": 0
}