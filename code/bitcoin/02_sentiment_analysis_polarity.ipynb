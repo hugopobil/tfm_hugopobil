{
 "cells": [
  {
   "cell_type": "markdown",
   "metadata": {
    "collapsed": true,
    "pycharm": {
     "name": "#%% md\n"
    }
   },
   "source": [
    "## Sentiment Intensity Analysis\n",
    "\n",
    "VADER (Valence Aware Dictionary and Sentiment Reasoner) is a lexicon and rule-based sentiment analysis tool that is specifically attuned to sentiments expressed in social media.\n",
    "\n",
    "We will use this sentiment analysis of the tweets to calculate a score that will represent the importance of each tweet."
   ]
  },
  {
   "cell_type": "markdown",
   "source": [
    "### Libraries"
   ],
   "metadata": {
    "collapsed": false,
    "pycharm": {
     "name": "#%% md\n"
    }
   }
  },
  {
   "cell_type": "code",
   "execution_count": 1,
   "outputs": [],
   "source": [
    "import numpy as np\n",
    "import pandas as pd\n",
    "from vaderSentiment.vaderSentiment import SentimentIntensityAnalyzer\n",
    "from tqdm import tqdm"
   ],
   "metadata": {
    "collapsed": false,
    "pycharm": {
     "name": "#%%\n"
    }
   }
  },
  {
   "cell_type": "markdown",
   "source": [
    "Some fixed variables:"
   ],
   "metadata": {
    "collapsed": false,
    "pycharm": {
     "name": "#%% md\n"
    }
   }
  },
  {
   "cell_type": "code",
   "execution_count": 2,
   "outputs": [],
   "source": [
    "directory = '~/PycharmProjects/tfm_hugopobil'\n",
    "tweets = pd.read_csv(f'{directory}/data/sampled_data/tweets_clean_v2.csv', low_memory=False)"
   ],
   "metadata": {
    "collapsed": false,
    "pycharm": {
     "name": "#%%\n"
    }
   }
  },
  {
   "cell_type": "code",
   "execution_count": 3,
   "outputs": [
    {
     "name": "stdout",
     "output_type": "stream",
     "text": [
      "(23200, 15)\n"
     ]
    },
    {
     "data": {
      "text/plain": "   index                                          user_name user_location  \\\n0  21512                                      Kur Kaç Oldu?           NaN   \n1  21499                                          EM_CryPT0     Nederland   \n2  21498                              aWebAnalysis | Crypto    Blockchain   \n3  21496                                      Mr Fulcanelli     Argentina   \n4  21490  PCEX Member: India's Trusted BTC & Crypto Exch...         India   \n\n                                    user_description         user_created  \\\n0  Günlük Döviz Kurları /\\n\\nDaily Currency Excha...  2016-08-14 08:28:42   \n1  ▪️@CryptoBrothers5 Team ▪️💯% #Crypto▪️#BTC ▪️N...  2010-07-12 17:04:23   \n2  Cryptocurrencies price monitor & analysis tool...  2017-08-30 19:26:58   \n3              be decentralized, be a smart contract  2010-08-23 20:41:38   \n4  PCEX Member is #India's fastest, reliable and ...  2020-04-15 08:18:20   \n\n   user_followers  user_friends  user_favourites  user_verified  \\\n0          2158.0           1.0              3.0          False   \n1         16100.0         602.0           1014.0          False   \n2          1878.0        1454.0             33.0          False   \n3           157.0          96.0           8570.0          False   \n4           319.0         135.0            455.0          False   \n\n                  date                                               text  \\\n0  2021-02-05 11:00:03                         bitcoin bitcoin btc btcusd   \n1  2021-02-05 11:08:30     to do or not to do crypto btc bitcoin ethereum   \n2  2021-02-05 11:10:02  bitcoin btc current price hour hours days btc ...   \n3  2021-02-05 11:10:39                    node for bitcoin blockchain btc   \n4  2021-02-05 11:14:54  there may be other currencies like it that may...   \n\n                                   hashtags              source is_retweet  \\\n0              ['bitcoin', 'btc', 'BTCUSD']          KurKacOldu      False   \n1  ['crypto', 'btc', 'Bitcoin', 'Ethereum']  Twitter for iPhone      False   \n2                        ['btc', 'bitcoin']        AwebAnalysis      False   \n3          ['Bitcoin', 'blockchain', 'BTC']  Twitter for iPhone      False   \n4                                       NaN     Twitter Web App      False   \n\n  sample_date  \n0  2021-02-05  \n1  2021-02-05  \n2  2021-02-05  \n3  2021-02-05  \n4  2021-02-05  ",
      "text/html": "<div>\n<style scoped>\n    .dataframe tbody tr th:only-of-type {\n        vertical-align: middle;\n    }\n\n    .dataframe tbody tr th {\n        vertical-align: top;\n    }\n\n    .dataframe thead th {\n        text-align: right;\n    }\n</style>\n<table border=\"1\" class=\"dataframe\">\n  <thead>\n    <tr style=\"text-align: right;\">\n      <th></th>\n      <th>index</th>\n      <th>user_name</th>\n      <th>user_location</th>\n      <th>user_description</th>\n      <th>user_created</th>\n      <th>user_followers</th>\n      <th>user_friends</th>\n      <th>user_favourites</th>\n      <th>user_verified</th>\n      <th>date</th>\n      <th>text</th>\n      <th>hashtags</th>\n      <th>source</th>\n      <th>is_retweet</th>\n      <th>sample_date</th>\n    </tr>\n  </thead>\n  <tbody>\n    <tr>\n      <th>0</th>\n      <td>21512</td>\n      <td>Kur Kaç Oldu?</td>\n      <td>NaN</td>\n      <td>Günlük Döviz Kurları /\\n\\nDaily Currency Excha...</td>\n      <td>2016-08-14 08:28:42</td>\n      <td>2158.0</td>\n      <td>1.0</td>\n      <td>3.0</td>\n      <td>False</td>\n      <td>2021-02-05 11:00:03</td>\n      <td>bitcoin bitcoin btc btcusd</td>\n      <td>['bitcoin', 'btc', 'BTCUSD']</td>\n      <td>KurKacOldu</td>\n      <td>False</td>\n      <td>2021-02-05</td>\n    </tr>\n    <tr>\n      <th>1</th>\n      <td>21499</td>\n      <td>EM_CryPT0</td>\n      <td>Nederland</td>\n      <td>▪️@CryptoBrothers5 Team ▪️💯% #Crypto▪️#BTC ▪️N...</td>\n      <td>2010-07-12 17:04:23</td>\n      <td>16100.0</td>\n      <td>602.0</td>\n      <td>1014.0</td>\n      <td>False</td>\n      <td>2021-02-05 11:08:30</td>\n      <td>to do or not to do crypto btc bitcoin ethereum</td>\n      <td>['crypto', 'btc', 'Bitcoin', 'Ethereum']</td>\n      <td>Twitter for iPhone</td>\n      <td>False</td>\n      <td>2021-02-05</td>\n    </tr>\n    <tr>\n      <th>2</th>\n      <td>21498</td>\n      <td>aWebAnalysis | Crypto</td>\n      <td>Blockchain</td>\n      <td>Cryptocurrencies price monitor &amp; analysis tool...</td>\n      <td>2017-08-30 19:26:58</td>\n      <td>1878.0</td>\n      <td>1454.0</td>\n      <td>33.0</td>\n      <td>False</td>\n      <td>2021-02-05 11:10:02</td>\n      <td>bitcoin btc current price hour hours days btc ...</td>\n      <td>['btc', 'bitcoin']</td>\n      <td>AwebAnalysis</td>\n      <td>False</td>\n      <td>2021-02-05</td>\n    </tr>\n    <tr>\n      <th>3</th>\n      <td>21496</td>\n      <td>Mr Fulcanelli</td>\n      <td>Argentina</td>\n      <td>be decentralized, be a smart contract</td>\n      <td>2010-08-23 20:41:38</td>\n      <td>157.0</td>\n      <td>96.0</td>\n      <td>8570.0</td>\n      <td>False</td>\n      <td>2021-02-05 11:10:39</td>\n      <td>node for bitcoin blockchain btc</td>\n      <td>['Bitcoin', 'blockchain', 'BTC']</td>\n      <td>Twitter for iPhone</td>\n      <td>False</td>\n      <td>2021-02-05</td>\n    </tr>\n    <tr>\n      <th>4</th>\n      <td>21490</td>\n      <td>PCEX Member: India's Trusted BTC &amp; Crypto Exch...</td>\n      <td>India</td>\n      <td>PCEX Member is #India's fastest, reliable and ...</td>\n      <td>2020-04-15 08:18:20</td>\n      <td>319.0</td>\n      <td>135.0</td>\n      <td>455.0</td>\n      <td>False</td>\n      <td>2021-02-05 11:14:54</td>\n      <td>there may be other currencies like it that may...</td>\n      <td>NaN</td>\n      <td>Twitter Web App</td>\n      <td>False</td>\n      <td>2021-02-05</td>\n    </tr>\n  </tbody>\n</table>\n</div>"
     },
     "execution_count": 3,
     "metadata": {},
     "output_type": "execute_result"
    }
   ],
   "source": [
    "print(tweets.shape)\n",
    "tweets.head()"
   ],
   "metadata": {
    "collapsed": false,
    "pycharm": {
     "name": "#%%\n"
    }
   }
  },
  {
   "cell_type": "markdown",
   "source": [
    "### Analyzer model definition\n",
    "\n",
    "Define the analyzer method and apply to tweets. We obtain a polarity score that will be defined as Compound in the dataframe."
   ],
   "metadata": {
    "collapsed": false,
    "pycharm": {
     "name": "#%% md\n"
    }
   }
  },
  {
   "cell_type": "code",
   "execution_count": 4,
   "outputs": [
    {
     "name": "stderr",
     "output_type": "stream",
     "text": [
      "100%|██████████| 23200/23200 [00:02<00:00, 11249.55it/s]\n"
     ]
    },
    {
     "data": {
      "text/plain": "    index                                          user_name  \\\n0   21512                                      Kur Kaç Oldu?   \n1   21499                                          EM_CryPT0   \n2   21498                              aWebAnalysis | Crypto   \n3   21496                                      Mr Fulcanelli   \n4   21490  PCEX Member: India's Trusted BTC & Crypto Exch...   \n..    ...                                                ...   \n95  20782                                          HChaya 🇨🇦   \n96  20775                                       CryptoVision   \n97  20757                                         Kelvynn AB   \n98  20738                                         Aloha Maui   \n99  20730                                         PoScoin800   \n\n       user_location                                   user_description  \\\n0                NaN  Günlük Döviz Kurları /\\n\\nDaily Currency Excha...   \n1          Nederland  ▪️@CryptoBrothers5 Team ▪️💯% #Crypto▪️#BTC ▪️N...   \n2         Blockchain  Cryptocurrencies price monitor & analysis tool...   \n3          Argentina              be decentralized, be a smart contract   \n4              India  PCEX Member is #India's fastest, reliable and ...   \n..               ...                                                ...   \n95  Montréal, Canada                                Visual Artist - MBA   \n96               NaN                                                NaN   \n97               NaN                                       💜 RnB/Soul 💜   \n98               NaN  Self-made multi-millionaire - stocks, bonds, b...   \n99               NaN  PoS: The one and only proof of stake coin \\n w...   \n\n           user_created  user_followers  user_friends  user_favourites  \\\n0   2016-08-14 08:28:42          2158.0           1.0              3.0   \n1   2010-07-12 17:04:23         16100.0         602.0           1014.0   \n2   2017-08-30 19:26:58          1878.0        1454.0             33.0   \n3   2010-08-23 20:41:38           157.0          96.0           8570.0   \n4   2020-04-15 08:18:20           319.0         135.0            455.0   \n..                  ...             ...           ...              ...   \n95  2009-02-03 10:47:08            69.0         255.0            771.0   \n96  2019-12-10 17:49:36           382.0         549.0           2519.0   \n97  2015-06-16 09:19:10           601.0         385.0            743.0   \n98  2020-08-03 19:49:47           224.0         129.0            985.0   \n99  2018-08-13 10:02:09          1716.0        2199.0           4641.0   \n\n    user_verified                 date  \\\n0           False  2021-02-05 11:00:03   \n1           False  2021-02-05 11:08:30   \n2           False  2021-02-05 11:10:02   \n3           False  2021-02-05 11:10:39   \n4           False  2021-02-05 11:14:54   \n..            ...                  ...   \n95          False  2021-02-05 16:23:07   \n96          False  2021-02-05 16:27:14   \n97          False  2021-02-05 16:33:11   \n98          False  2021-02-05 16:44:19   \n99          False  2021-02-05 16:46:52   \n\n                                                 text  \\\n0                          bitcoin bitcoin btc btcusd   \n1      to do or not to do crypto btc bitcoin ethereum   \n2   bitcoin btc current price hour hours days btc ...   \n3                     node for bitcoin blockchain btc   \n4   there may be other currencies like it that may...   \n..                                                ...   \n95  hours availability degrees of services and saf...   \n96  cmefutures listing eth eth ethereum on monday ...   \n97  when other nations are out there making life e...   \n98  twitter ceo jack dorsey has set up his own bit...   \n99  discord lowcapcryptogems pos pos bitcoin btc t...   \n\n                                             hashtags              source  \\\n0                        ['bitcoin', 'btc', 'BTCUSD']          KurKacOldu   \n1            ['crypto', 'btc', 'Bitcoin', 'Ethereum']  Twitter for iPhone   \n2                                  ['btc', 'bitcoin']        AwebAnalysis   \n3                    ['Bitcoin', 'blockchain', 'BTC']  Twitter for iPhone   \n4                                                 NaN     Twitter Web App   \n..                                                ...                 ...   \n95                                 ['Bitcoin', 'btc']  Twitter for iPhone   \n96           ['cmefutures', 'eth', 'ethereum', 'btc']     Twitter Web App   \n97                                                NaN  Twitter for iPhone   \n98                      ['BTC', 'Bitcoin', 'Twitter']    Twitter for iPad   \n99  ['lowcapcryptogems', 'POS', 'Bitcoin', 'BTC', ...     Twitter Web App   \n\n   is_retweet sample_date  compound  \n0       False  2021-02-05    0.0000  \n1       False  2021-02-05    0.0000  \n2       False  2021-02-05    0.0000  \n3       False  2021-02-05    0.0000  \n4       False  2021-02-05    0.4019  \n..        ...         ...       ...  \n95      False  2021-02-05    0.7269  \n96      False  2021-02-05    0.0000  \n97      False  2021-02-05    0.6908  \n98      False  2021-02-05    0.0000  \n99      False  2021-02-05   -0.4019  \n\n[100 rows x 16 columns]",
      "text/html": "<div>\n<style scoped>\n    .dataframe tbody tr th:only-of-type {\n        vertical-align: middle;\n    }\n\n    .dataframe tbody tr th {\n        vertical-align: top;\n    }\n\n    .dataframe thead th {\n        text-align: right;\n    }\n</style>\n<table border=\"1\" class=\"dataframe\">\n  <thead>\n    <tr style=\"text-align: right;\">\n      <th></th>\n      <th>index</th>\n      <th>user_name</th>\n      <th>user_location</th>\n      <th>user_description</th>\n      <th>user_created</th>\n      <th>user_followers</th>\n      <th>user_friends</th>\n      <th>user_favourites</th>\n      <th>user_verified</th>\n      <th>date</th>\n      <th>text</th>\n      <th>hashtags</th>\n      <th>source</th>\n      <th>is_retweet</th>\n      <th>sample_date</th>\n      <th>compound</th>\n    </tr>\n  </thead>\n  <tbody>\n    <tr>\n      <th>0</th>\n      <td>21512</td>\n      <td>Kur Kaç Oldu?</td>\n      <td>NaN</td>\n      <td>Günlük Döviz Kurları /\\n\\nDaily Currency Excha...</td>\n      <td>2016-08-14 08:28:42</td>\n      <td>2158.0</td>\n      <td>1.0</td>\n      <td>3.0</td>\n      <td>False</td>\n      <td>2021-02-05 11:00:03</td>\n      <td>bitcoin bitcoin btc btcusd</td>\n      <td>['bitcoin', 'btc', 'BTCUSD']</td>\n      <td>KurKacOldu</td>\n      <td>False</td>\n      <td>2021-02-05</td>\n      <td>0.0000</td>\n    </tr>\n    <tr>\n      <th>1</th>\n      <td>21499</td>\n      <td>EM_CryPT0</td>\n      <td>Nederland</td>\n      <td>▪️@CryptoBrothers5 Team ▪️💯% #Crypto▪️#BTC ▪️N...</td>\n      <td>2010-07-12 17:04:23</td>\n      <td>16100.0</td>\n      <td>602.0</td>\n      <td>1014.0</td>\n      <td>False</td>\n      <td>2021-02-05 11:08:30</td>\n      <td>to do or not to do crypto btc bitcoin ethereum</td>\n      <td>['crypto', 'btc', 'Bitcoin', 'Ethereum']</td>\n      <td>Twitter for iPhone</td>\n      <td>False</td>\n      <td>2021-02-05</td>\n      <td>0.0000</td>\n    </tr>\n    <tr>\n      <th>2</th>\n      <td>21498</td>\n      <td>aWebAnalysis | Crypto</td>\n      <td>Blockchain</td>\n      <td>Cryptocurrencies price monitor &amp; analysis tool...</td>\n      <td>2017-08-30 19:26:58</td>\n      <td>1878.0</td>\n      <td>1454.0</td>\n      <td>33.0</td>\n      <td>False</td>\n      <td>2021-02-05 11:10:02</td>\n      <td>bitcoin btc current price hour hours days btc ...</td>\n      <td>['btc', 'bitcoin']</td>\n      <td>AwebAnalysis</td>\n      <td>False</td>\n      <td>2021-02-05</td>\n      <td>0.0000</td>\n    </tr>\n    <tr>\n      <th>3</th>\n      <td>21496</td>\n      <td>Mr Fulcanelli</td>\n      <td>Argentina</td>\n      <td>be decentralized, be a smart contract</td>\n      <td>2010-08-23 20:41:38</td>\n      <td>157.0</td>\n      <td>96.0</td>\n      <td>8570.0</td>\n      <td>False</td>\n      <td>2021-02-05 11:10:39</td>\n      <td>node for bitcoin blockchain btc</td>\n      <td>['Bitcoin', 'blockchain', 'BTC']</td>\n      <td>Twitter for iPhone</td>\n      <td>False</td>\n      <td>2021-02-05</td>\n      <td>0.0000</td>\n    </tr>\n    <tr>\n      <th>4</th>\n      <td>21490</td>\n      <td>PCEX Member: India's Trusted BTC &amp; Crypto Exch...</td>\n      <td>India</td>\n      <td>PCEX Member is #India's fastest, reliable and ...</td>\n      <td>2020-04-15 08:18:20</td>\n      <td>319.0</td>\n      <td>135.0</td>\n      <td>455.0</td>\n      <td>False</td>\n      <td>2021-02-05 11:14:54</td>\n      <td>there may be other currencies like it that may...</td>\n      <td>NaN</td>\n      <td>Twitter Web App</td>\n      <td>False</td>\n      <td>2021-02-05</td>\n      <td>0.4019</td>\n    </tr>\n    <tr>\n      <th>...</th>\n      <td>...</td>\n      <td>...</td>\n      <td>...</td>\n      <td>...</td>\n      <td>...</td>\n      <td>...</td>\n      <td>...</td>\n      <td>...</td>\n      <td>...</td>\n      <td>...</td>\n      <td>...</td>\n      <td>...</td>\n      <td>...</td>\n      <td>...</td>\n      <td>...</td>\n      <td>...</td>\n    </tr>\n    <tr>\n      <th>95</th>\n      <td>20782</td>\n      <td>HChaya 🇨🇦</td>\n      <td>Montréal, Canada</td>\n      <td>Visual Artist - MBA</td>\n      <td>2009-02-03 10:47:08</td>\n      <td>69.0</td>\n      <td>255.0</td>\n      <td>771.0</td>\n      <td>False</td>\n      <td>2021-02-05 16:23:07</td>\n      <td>hours availability degrees of services and saf...</td>\n      <td>['Bitcoin', 'btc']</td>\n      <td>Twitter for iPhone</td>\n      <td>False</td>\n      <td>2021-02-05</td>\n      <td>0.7269</td>\n    </tr>\n    <tr>\n      <th>96</th>\n      <td>20775</td>\n      <td>CryptoVision</td>\n      <td>NaN</td>\n      <td>NaN</td>\n      <td>2019-12-10 17:49:36</td>\n      <td>382.0</td>\n      <td>549.0</td>\n      <td>2519.0</td>\n      <td>False</td>\n      <td>2021-02-05 16:27:14</td>\n      <td>cmefutures listing eth eth ethereum on monday ...</td>\n      <td>['cmefutures', 'eth', 'ethereum', 'btc']</td>\n      <td>Twitter Web App</td>\n      <td>False</td>\n      <td>2021-02-05</td>\n      <td>0.0000</td>\n    </tr>\n    <tr>\n      <th>97</th>\n      <td>20757</td>\n      <td>Kelvynn AB</td>\n      <td>NaN</td>\n      <td>💜 RnB/Soul 💜</td>\n      <td>2015-06-16 09:19:10</td>\n      <td>601.0</td>\n      <td>385.0</td>\n      <td>743.0</td>\n      <td>False</td>\n      <td>2021-02-05 16:33:11</td>\n      <td>when other nations are out there making life e...</td>\n      <td>NaN</td>\n      <td>Twitter for iPhone</td>\n      <td>False</td>\n      <td>2021-02-05</td>\n      <td>0.6908</td>\n    </tr>\n    <tr>\n      <th>98</th>\n      <td>20738</td>\n      <td>Aloha Maui</td>\n      <td>NaN</td>\n      <td>Self-made multi-millionaire - stocks, bonds, b...</td>\n      <td>2020-08-03 19:49:47</td>\n      <td>224.0</td>\n      <td>129.0</td>\n      <td>985.0</td>\n      <td>False</td>\n      <td>2021-02-05 16:44:19</td>\n      <td>twitter ceo jack dorsey has set up his own bit...</td>\n      <td>['BTC', 'Bitcoin', 'Twitter']</td>\n      <td>Twitter for iPad</td>\n      <td>False</td>\n      <td>2021-02-05</td>\n      <td>0.0000</td>\n    </tr>\n    <tr>\n      <th>99</th>\n      <td>20730</td>\n      <td>PoScoin800</td>\n      <td>NaN</td>\n      <td>PoS: The one and only proof of stake coin \\n w...</td>\n      <td>2018-08-13 10:02:09</td>\n      <td>1716.0</td>\n      <td>2199.0</td>\n      <td>4641.0</td>\n      <td>False</td>\n      <td>2021-02-05 16:46:52</td>\n      <td>discord lowcapcryptogems pos pos bitcoin btc t...</td>\n      <td>['lowcapcryptogems', 'POS', 'Bitcoin', 'BTC', ...</td>\n      <td>Twitter Web App</td>\n      <td>False</td>\n      <td>2021-02-05</td>\n      <td>-0.4019</td>\n    </tr>\n  </tbody>\n</table>\n<p>100 rows × 16 columns</p>\n</div>"
     },
     "execution_count": 4,
     "metadata": {},
     "output_type": "execute_result"
    }
   ],
   "source": [
    "analyzer = SentimentIntensityAnalyzer()\n",
    "# Compound is the score given to the intensity of sentiment detected in tweets\n",
    "\n",
    "compound = []\n",
    "\n",
    "for i, s in enumerate(tqdm(tweets['text'],\n",
    "                           position = 0,\n",
    "                           leave = True)):\n",
    "\n",
    "    # Variable vs can be modified to test different sentiment analysis\n",
    "    \n",
    "    vs = analyzer.polarity_scores(str(s))\n",
    "\n",
    "\n",
    "    compound.append(vs['compound'])\n",
    "\n",
    "tweets['compound'] = compound\n",
    "tweets.head(100)"
   ],
   "metadata": {
    "collapsed": false,
    "pycharm": {
     "name": "#%%\n"
    }
   }
  },
  {
   "cell_type": "markdown",
   "source": [
    "### Calculate score for each tweet\n",
    "\n",
    "We will give different weights to each score depending on the importante and relevance of the acount using the number of followers and user favourites.\n",
    "\n",
    "Score = Compound * user_followers * user_favourites / sum("
   ],
   "metadata": {
    "collapsed": false,
    "pycharm": {
     "name": "#%% md\n"
    }
   }
  },
  {
   "cell_type": "code",
   "execution_count": 5,
   "outputs": [
    {
     "name": "stderr",
     "output_type": "stream",
     "text": [
      "100%|██████████| 23200/23200 [00:00<00:00, 39169.22it/s]\n"
     ]
    }
   ],
   "source": [
    "scores = []\n",
    "for i, s in tqdm(tweets.iterrows(),\n",
    "                 total=tweets.shape[0],\n",
    "                 position=0,\n",
    "                 leave=True):\n",
    "\n",
    "    try:\n",
    "        scores.append(s[\"compound\"] * (int(s[\"user_followers\"])+1) / 1000)\n",
    "\n",
    "    except:\n",
    "        scores.append(np.nan)\n",
    "\n",
    "tweets[\"score\"] = scores"
   ],
   "metadata": {
    "collapsed": false,
    "pycharm": {
     "name": "#%%\n"
    }
   }
  },
  {
   "cell_type": "code",
   "execution_count": 6,
   "outputs": [
    {
     "data": {
      "text/plain": "Index(['index', 'user_name', 'user_location', 'user_description',\n       'user_created', 'user_followers', 'user_friends', 'user_favourites',\n       'user_verified', 'date', 'text', 'hashtags', 'source', 'is_retweet',\n       'sample_date', 'compound', 'score'],\n      dtype='object')"
     },
     "execution_count": 6,
     "metadata": {},
     "output_type": "execute_result"
    }
   ],
   "source": [
    "tweets.columns"
   ],
   "metadata": {
    "collapsed": false,
    "pycharm": {
     "name": "#%%\n"
    }
   }
  },
  {
   "cell_type": "code",
   "execution_count": 7,
   "outputs": [
    {
     "data": {
      "text/plain": "                                                text sample_date  \\\n0                         bitcoin bitcoin btc btcusd  2021-02-05   \n1     to do or not to do crypto btc bitcoin ethereum  2021-02-05   \n2  bitcoin btc current price hour hours days btc ...  2021-02-05   \n3                    node for bitcoin blockchain btc  2021-02-05   \n4  there may be other currencies like it that may...  2021-02-05   \n\n   user_followers  compound     score  \n0          2158.0    0.0000  0.000000  \n1         16100.0    0.0000  0.000000  \n2          1878.0    0.0000  0.000000  \n3           157.0    0.0000  0.000000  \n4           319.0    0.4019  0.128608  ",
      "text/html": "<div>\n<style scoped>\n    .dataframe tbody tr th:only-of-type {\n        vertical-align: middle;\n    }\n\n    .dataframe tbody tr th {\n        vertical-align: top;\n    }\n\n    .dataframe thead th {\n        text-align: right;\n    }\n</style>\n<table border=\"1\" class=\"dataframe\">\n  <thead>\n    <tr style=\"text-align: right;\">\n      <th></th>\n      <th>text</th>\n      <th>sample_date</th>\n      <th>user_followers</th>\n      <th>compound</th>\n      <th>score</th>\n    </tr>\n  </thead>\n  <tbody>\n    <tr>\n      <th>0</th>\n      <td>bitcoin bitcoin btc btcusd</td>\n      <td>2021-02-05</td>\n      <td>2158.0</td>\n      <td>0.0000</td>\n      <td>0.000000</td>\n    </tr>\n    <tr>\n      <th>1</th>\n      <td>to do or not to do crypto btc bitcoin ethereum</td>\n      <td>2021-02-05</td>\n      <td>16100.0</td>\n      <td>0.0000</td>\n      <td>0.000000</td>\n    </tr>\n    <tr>\n      <th>2</th>\n      <td>bitcoin btc current price hour hours days btc ...</td>\n      <td>2021-02-05</td>\n      <td>1878.0</td>\n      <td>0.0000</td>\n      <td>0.000000</td>\n    </tr>\n    <tr>\n      <th>3</th>\n      <td>node for bitcoin blockchain btc</td>\n      <td>2021-02-05</td>\n      <td>157.0</td>\n      <td>0.0000</td>\n      <td>0.000000</td>\n    </tr>\n    <tr>\n      <th>4</th>\n      <td>there may be other currencies like it that may...</td>\n      <td>2021-02-05</td>\n      <td>319.0</td>\n      <td>0.4019</td>\n      <td>0.128608</td>\n    </tr>\n  </tbody>\n</table>\n</div>"
     },
     "execution_count": 7,
     "metadata": {},
     "output_type": "execute_result"
    }
   ],
   "source": [
    "tweets[['text', 'sample_date', 'user_followers', 'compound', 'score']].head()"
   ],
   "metadata": {
    "collapsed": false,
    "pycharm": {
     "name": "#%%\n"
    }
   }
  },
  {
   "cell_type": "code",
   "execution_count": 9,
   "outputs": [
    {
     "data": {
      "text/plain": "index               7773\nuser_name           7773\nuser_location       4242\nuser_description    7234\nuser_created        7773\nuser_followers      7773\nuser_friends        7773\nuser_favourites     7773\nuser_verified       7773\ndate                7773\ntext                7771\nhashtags            7408\nsource              7641\nis_retweet          7772\nsample_date         7773\ncompound            7773\nscore               7773\ndtype: int64"
     },
     "execution_count": 9,
     "metadata": {},
     "output_type": "execute_result"
    }
   ],
   "source": [
    "tweets[tweets['score'] == 0].count()"
   ],
   "metadata": {
    "collapsed": false,
    "pycharm": {
     "name": "#%%\n"
    }
   }
  },
  {
   "cell_type": "markdown",
   "source": [
    "### Save to local:"
   ],
   "metadata": {
    "collapsed": false,
    "pycharm": {
     "name": "#%% md\n"
    }
   }
  },
  {
   "cell_type": "code",
   "execution_count": 7,
   "outputs": [],
   "source": [
    "tweets.to_csv(f'{directory}/data/sampled_data/tweets_scores_v2.csv')"
   ],
   "metadata": {
    "collapsed": false,
    "pycharm": {
     "name": "#%%\n"
    }
   }
  }
 ],
 "metadata": {
  "kernelspec": {
   "display_name": "Python 3",
   "language": "python",
   "name": "python3"
  },
  "language_info": {
   "codemirror_mode": {
    "name": "ipython",
    "version": 2
   },
   "file_extension": ".py",
   "mimetype": "text/x-python",
   "name": "python",
   "nbconvert_exporter": "python",
   "pygments_lexer": "ipython2",
   "version": "2.7.6"
  }
 },
 "nbformat": 4,
 "nbformat_minor": 0
}