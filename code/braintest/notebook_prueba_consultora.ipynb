{
 "cells": [
  {
   "cell_type": "markdown",
   "metadata": {
    "pycharm": {
     "name": "#%% md\n"
    }
   },
   "source": [
    "Instalar la siguiente libreria:\n",
    "\n",
    "'Nos ayuda a leer los archivos de excel'"
   ]
  },
  {
   "cell_type": "code",
   "execution_count": null,
   "metadata": {
    "pycharm": {
     "name": "#%%\n"
    }
   },
   "outputs": [],
   "source": [
    "!pip install openpyxl"
   ]
  },
  {
   "cell_type": "markdown",
   "metadata": {
    "pycharm": {
     "name": "#%% md\n"
    }
   },
   "source": [
    "### Librerias"
   ]
  },
  {
   "cell_type": "code",
   "execution_count": 2,
   "metadata": {},
   "outputs": [],
   "source": [
    "import pandas as pd\n",
    "import numpy as np"
   ]
  },
  {
   "cell_type": "markdown",
   "metadata": {
    "pycharm": {
     "name": "#%% md\n"
    }
   },
   "source": [
    "Importamos los datos enviados por Braintrust y seleccionamos la hoja BASE, la cual es la que contiene los datos. Las otras hojas contienen el enunciado, pero no nos interesa para procesar por aquí."
   ]
  },
  {
   "cell_type": "code",
   "execution_count": 3,
   "metadata": {
    "pycharm": {
     "name": "#%%\n"
    }
   },
   "outputs": [
    {
     "name": "stdout",
     "output_type": "stream",
     "text": [
      "(20000, 22)\n"
     ]
    },
    {
     "data": {
      "text/html": [
       "<div>\n",
       "<style scoped>\n",
       "    .dataframe tbody tr th:only-of-type {\n",
       "        vertical-align: middle;\n",
       "    }\n",
       "\n",
       "    .dataframe tbody tr th {\n",
       "        vertical-align: top;\n",
       "    }\n",
       "\n",
       "    .dataframe thead th {\n",
       "        text-align: right;\n",
       "    }\n",
       "</style>\n",
       "<table border=\"1\" class=\"dataframe\">\n",
       "  <thead>\n",
       "    <tr style=\"text-align: right;\">\n",
       "      <th></th>\n",
       "      <th>Clase_Bien_Inmueble</th>\n",
       "      <th>Parcela_Catastral</th>\n",
       "      <th>Numero_Secuencial_BI</th>\n",
       "      <th>Primer_Caracterl_Control</th>\n",
       "      <th>Segundo_Caracter_Control</th>\n",
       "      <th>Codigo_Provincia_INE</th>\n",
       "      <th>Nombre_Provincia</th>\n",
       "      <th>Codigo_Municipio_INE</th>\n",
       "      <th>Nombre_Municipio</th>\n",
       "      <th>Tipo_Via</th>\n",
       "      <th>...</th>\n",
       "      <th>Primera_Letra</th>\n",
       "      <th>Kilometro</th>\n",
       "      <th>Bloque</th>\n",
       "      <th>Escalera</th>\n",
       "      <th>Planta</th>\n",
       "      <th>Puerta</th>\n",
       "      <th>Codigo_Postal</th>\n",
       "      <th>Anio_Antiguedad</th>\n",
       "      <th>Usabilidad</th>\n",
       "      <th>Superficie_construida</th>\n",
       "    </tr>\n",
       "  </thead>\n",
       "  <tbody>\n",
       "    <tr>\n",
       "      <th>0</th>\n",
       "      <td>UR</td>\n",
       "      <td>2872510VK4727D</td>\n",
       "      <td>36</td>\n",
       "      <td>T</td>\n",
       "      <td>Q</td>\n",
       "      <td>28</td>\n",
       "      <td>MADRID</td>\n",
       "      <td>79</td>\n",
       "      <td>MADRID</td>\n",
       "      <td>CL</td>\n",
       "      <td>...</td>\n",
       "      <td>NaN</td>\n",
       "      <td>0</td>\n",
       "      <td>NaN</td>\n",
       "      <td>D</td>\n",
       "      <td>1</td>\n",
       "      <td>B</td>\n",
       "      <td>28002</td>\n",
       "      <td>1970</td>\n",
       "      <td>V</td>\n",
       "      <td>115</td>\n",
       "    </tr>\n",
       "    <tr>\n",
       "      <th>1</th>\n",
       "      <td>UR</td>\n",
       "      <td>3676124VK4737F</td>\n",
       "      <td>58</td>\n",
       "      <td>G</td>\n",
       "      <td>H</td>\n",
       "      <td>28</td>\n",
       "      <td>MADRID</td>\n",
       "      <td>79</td>\n",
       "      <td>MADRID</td>\n",
       "      <td>CL</td>\n",
       "      <td>...</td>\n",
       "      <td>NaN</td>\n",
       "      <td>0</td>\n",
       "      <td>NaN</td>\n",
       "      <td>NaN</td>\n",
       "      <td>-1</td>\n",
       "      <td>27</td>\n",
       "      <td>28002</td>\n",
       "      <td>1999</td>\n",
       "      <td>A</td>\n",
       "      <td>32</td>\n",
       "    </tr>\n",
       "    <tr>\n",
       "      <th>2</th>\n",
       "      <td>UR</td>\n",
       "      <td>9493306VK3799C</td>\n",
       "      <td>35</td>\n",
       "      <td>Q</td>\n",
       "      <td>K</td>\n",
       "      <td>28</td>\n",
       "      <td>MADRID</td>\n",
       "      <td>79</td>\n",
       "      <td>MADRID</td>\n",
       "      <td>CL</td>\n",
       "      <td>...</td>\n",
       "      <td>NaN</td>\n",
       "      <td>0</td>\n",
       "      <td>NaN</td>\n",
       "      <td>NaN</td>\n",
       "      <td>9</td>\n",
       "      <td>DA</td>\n",
       "      <td>28039</td>\n",
       "      <td>1960</td>\n",
       "      <td>V</td>\n",
       "      <td>81</td>\n",
       "    </tr>\n",
       "    <tr>\n",
       "      <th>3</th>\n",
       "      <td>UR</td>\n",
       "      <td>9198702VK3799E</td>\n",
       "      <td>75</td>\n",
       "      <td>S</td>\n",
       "      <td>K</td>\n",
       "      <td>28</td>\n",
       "      <td>MADRID</td>\n",
       "      <td>79</td>\n",
       "      <td>MADRID</td>\n",
       "      <td>CL</td>\n",
       "      <td>...</td>\n",
       "      <td>NaN</td>\n",
       "      <td>0</td>\n",
       "      <td>NaN</td>\n",
       "      <td>1</td>\n",
       "      <td>5</td>\n",
       "      <td>A</td>\n",
       "      <td>28039</td>\n",
       "      <td>1996</td>\n",
       "      <td>V</td>\n",
       "      <td>118</td>\n",
       "    </tr>\n",
       "    <tr>\n",
       "      <th>4</th>\n",
       "      <td>UR</td>\n",
       "      <td>0131201DF3803A</td>\n",
       "      <td>87</td>\n",
       "      <td>Z</td>\n",
       "      <td>L</td>\n",
       "      <td>8</td>\n",
       "      <td>BARCELONA</td>\n",
       "      <td>19</td>\n",
       "      <td>BARCELONA</td>\n",
       "      <td>PS</td>\n",
       "      <td>...</td>\n",
       "      <td>NaN</td>\n",
       "      <td>0</td>\n",
       "      <td>NaN</td>\n",
       "      <td>NaN</td>\n",
       "      <td>-2</td>\n",
       "      <td>15</td>\n",
       "      <td>8008</td>\n",
       "      <td>2001</td>\n",
       "      <td>A</td>\n",
       "      <td>44</td>\n",
       "    </tr>\n",
       "  </tbody>\n",
       "</table>\n",
       "<p>5 rows × 22 columns</p>\n",
       "</div>"
      ],
      "text/plain": [
       "  Clase_Bien_Inmueble Parcela_Catastral  Numero_Secuencial_BI  \\\n",
       "0                  UR    2872510VK4727D                    36   \n",
       "1                  UR    3676124VK4737F                    58   \n",
       "2                  UR    9493306VK3799C                    35   \n",
       "3                  UR    9198702VK3799E                    75   \n",
       "4                  UR    0131201DF3803A                    87   \n",
       "\n",
       "  Primer_Caracterl_Control Segundo_Caracter_Control  Codigo_Provincia_INE  \\\n",
       "0                        T                        Q                    28   \n",
       "1                        G                        H                    28   \n",
       "2                        Q                        K                    28   \n",
       "3                        S                        K                    28   \n",
       "4                        Z                        L                     8   \n",
       "\n",
       "  Nombre_Provincia  Codigo_Municipio_INE Nombre_Municipio Tipo_Via  ...  \\\n",
       "0           MADRID                    79           MADRID       CL  ...   \n",
       "1           MADRID                    79           MADRID       CL  ...   \n",
       "2           MADRID                    79           MADRID       CL  ...   \n",
       "3           MADRID                    79           MADRID       CL  ...   \n",
       "4        BARCELONA                    19        BARCELONA       PS  ...   \n",
       "\n",
       "  Primera_Letra  Kilometro Bloque  Escalera Planta Puerta Codigo_Postal  \\\n",
       "0           NaN          0    NaN         D      1      B         28002   \n",
       "1           NaN          0    NaN       NaN     -1     27         28002   \n",
       "2           NaN          0    NaN       NaN      9     DA         28039   \n",
       "3           NaN          0    NaN         1      5      A         28039   \n",
       "4           NaN          0    NaN       NaN     -2     15          8008   \n",
       "\n",
       "  Anio_Antiguedad  Usabilidad  Superficie_construida  \n",
       "0            1970           V                    115  \n",
       "1            1999           A                     32  \n",
       "2            1960           V                     81  \n",
       "3            1996           V                    118  \n",
       "4            2001           A                     44  \n",
       "\n",
       "[5 rows x 22 columns]"
      ]
     },
     "execution_count": 3,
     "metadata": {},
     "output_type": "execute_result"
    }
   ],
   "source": [
    "data = pd.read_excel('CatastroTest.xlsx', sheet_name='BASE')\n",
    "print(data.shape)\n",
    "data.head()"
   ]
  },
  {
   "cell_type": "markdown",
   "metadata": {
    "pycharm": {
     "name": "#%% md\n"
    }
   },
   "source": [
    "Comprobamos si nos falta algún dato:"
   ]
  },
  {
   "cell_type": "code",
   "execution_count": 4,
   "metadata": {
    "pycharm": {
     "name": "#%%\n"
    }
   },
   "outputs": [
    {
     "data": {
      "text/plain": [
       "Clase_Bien_Inmueble             0\n",
       "Parcela_Catastral               0\n",
       "Numero_Secuencial_BI            0\n",
       "Primer_Caracterl_Control        0\n",
       "Segundo_Caracter_Control        0\n",
       "Codigo_Provincia_INE            0\n",
       "Nombre_Provincia                0\n",
       "Codigo_Municipio_INE            0\n",
       "Nombre_Municipio                0\n",
       "Tipo_Via                        0\n",
       "Nombre_Via                      0\n",
       "Primer_Numero_Policia           0\n",
       "Primera_Letra               19140\n",
       "Kilometro                       0\n",
       "Bloque                      19648\n",
       "Escalera                     7183\n",
       "Planta                         12\n",
       "Puerta                         94\n",
       "Codigo_Postal                   0\n",
       "Anio_Antiguedad                 0\n",
       "Usabilidad                      0\n",
       "Superficie_construida           0\n",
       "dtype: int64"
      ]
     },
     "execution_count": 4,
     "metadata": {},
     "output_type": "execute_result"
    }
   ],
   "source": [
    "data.isna().sum()"
   ]
  },
  {
   "cell_type": "markdown",
   "metadata": {
    "pycharm": {
     "name": "#%% md\n"
    }
   },
   "source": [
    "### Pregunta 1\n",
    "\n",
    "Buscar el número distintos de provincias que existen en los datos:"
   ]
  },
  {
   "cell_type": "code",
   "execution_count": 5,
   "metadata": {
    "pycharm": {
     "name": "#%%\n"
    }
   },
   "outputs": [
    {
     "data": {
      "text/plain": [
       "['MADRID', 'BARCELONA', 'CIUDAD REAL', 'ALICANTE']"
      ]
     },
     "execution_count": 5,
     "metadata": {},
     "output_type": "execute_result"
    }
   ],
   "source": [
    "unique_provence = data.Nombre_Provincia.unique()\n",
    "unique_provence.tolist()"
   ]
  },
  {
   "cell_type": "markdown",
   "metadata": {},
   "source": [
    "Buscar el número distintos de códigos postales:"
   ]
  },
  {
   "cell_type": "code",
   "execution_count": 6,
   "metadata": {
    "pycharm": {
     "name": "#%%\n"
    }
   },
   "outputs": [
    {
     "data": {
      "text/plain": [
       "[28002, 28039, 8008, 13003, 3501, 8840, 28108, 3113]"
      ]
     },
     "execution_count": 6,
     "metadata": {},
     "output_type": "execute_result"
    }
   ],
   "source": [
    "unique_postal = data.Codigo_Postal.unique()\n",
    "unique_postal.tolist()"
   ]
  },
  {
   "cell_type": "markdown",
   "metadata": {},
   "source": [
    "### Pregunta 2"
   ]
  },
  {
   "cell_type": "markdown",
   "metadata": {
    "pycharm": {
     "name": "#%% md\n"
    }
   },
   "source": [
    "Respondiendo a la pregunta con el formato del enunciado:\n",
    "\n",
    "- Residencial-Viviendas: 12297 inmuebles\n",
    "\n",
    "- Oficinas: 494 inmuebles\n",
    "\n",
    "- Comercios: 924 inmuebles\n",
    "\n",
    "- Estacionamientos: 5635 inmuebles"
   ]
  },
  {
   "cell_type": "code",
   "execution_count": 7,
   "metadata": {
    "pycharm": {
     "name": "#%%\n"
    }
   },
   "outputs": [
    {
     "data": {
      "text/plain": [
       "V    12297\n",
       "A     5635\n",
       "C      924\n",
       "O      494\n",
       "I      337\n",
       "M      195\n",
       "G       73\n",
       "E       17\n",
       "K        9\n",
       "Y        8\n",
       "R        5\n",
       "P        5\n",
       "T        1\n",
       "Name: Usabilidad, dtype: int64"
      ]
     },
     "execution_count": 7,
     "metadata": {},
     "output_type": "execute_result"
    }
   ],
   "source": [
    "data.Usabilidad.value_counts()"
   ]
  },
  {
   "cell_type": "markdown",
   "metadata": {
    "pycharm": {
     "name": "#%% md\n"
    }
   },
   "source": [
    "Me he fijado que el 0 de uno de los códigos postales al princpio del dígito me impide procesar todos los datos uniformemente. Así que trasnformo el digito en string y asi puedo poner de input la variable como carácter.\n",
    "\n",
    "Tambien se definen algunas variables que vamos a usar. Para su mejor lectura y modificación."
   ]
  },
  {
   "cell_type": "code",
   "execution_count": 11,
   "metadata": {
    "pycharm": {
     "name": "#%%\n"
    }
   },
   "outputs": [],
   "source": [
    "data['Codigo_Postal_string'] = data.Codigo_Postal.map(str)\n",
    "\n",
    "codigos = ['28002', '3501', '13003', '8008']\n",
    "# anio_atual = 2022"
   ]
  },
  {
   "cell_type": "markdown",
   "metadata": {},
   "source": [
    "### Pregunta 3"
   ]
  },
  {
   "cell_type": "markdown",
   "metadata": {
    "pycharm": {
     "name": "#%% md\n"
    }
   },
   "source": [
    "Voy a definir las funciones que calculan los datos que se tiene que obtener por codigo postal.\n",
    "Los datos se introduciran en el Excel de manera manual para su correcta entrega."
   ]
  },
  {
   "cell_type": "code",
   "execution_count": 9,
   "metadata": {
    "pycharm": {
     "name": "#%%\n"
    }
   },
   "outputs": [],
   "source": [
    "def inmuebles(data, codigo):\n",
    "    data_2 = data[data['Codigo_Postal_string'] == codigo]\n",
    "    count = data_2.Parcela_Catastral.count()\n",
    "    \n",
    "    return count\n",
    "\n",
    "\n",
    "def edificios(data, codigo):\n",
    "    data_2 = data[data['Codigo_Postal_string'] == codigo]\n",
    "    count = data_2.groupby('Parcela_Catastral').count().shape[0]\n",
    "    \n",
    "    return count\n",
    "\n",
    "\n",
    "def antigu_media(data, codigo):\n",
    "    anios = data[data['Codigo_Postal_string'] == codigo]['Anio_Antiguedad']\n",
    "    edad = []\n",
    "    for i in anios:\n",
    "        edad.append(2022-i)\n",
    "    edad = np.average(edad)\n",
    "\n",
    "    return np.average(anios), edad\n",
    "\n",
    "\n",
    "def tamano_medio(data, codigo):\n",
    "    metros = data[data['Codigo_Postal_string'] == codigo]['Superficie_construida']\n",
    "    \n",
    "    return np.average(metros)"
   ]
  },
  {
   "cell_type": "code",
   "execution_count": 10,
   "metadata": {
    "pycharm": {
     "name": "#%%\n"
    },
    "scrolled": false
   },
   "outputs": [
    {
     "name": "stdout",
     "output_type": "stream",
     "text": [
      "Codigo Postal: 28002\n",
      "Numero de Edificios: 1420\n",
      "Numero de Inmuebles: 5831\n",
      "Antiguedad Media: (1970.187274909964, 51.81272509003601)\n",
      "Tamaño Medio: 135.07425827473847\n",
      "--------------------------------------------------\n",
      "Codigo Postal: 3501\n",
      "Numero de Edificios: 489\n",
      "Numero de Inmuebles: 2154\n",
      "Antiguedad Media: (1976.2149489322192, 45.78505106778087)\n",
      "Tamaño Medio: 96.09192200557104\n",
      "--------------------------------------------------\n",
      "Codigo Postal: 13003\n",
      "Numero de Edificios: 519\n",
      "Numero de Inmuebles: 2114\n",
      "Antiguedad Media: (1978.0056764427625, 43.994323557237465)\n",
      "Tamaño Medio: 81.57190160832545\n",
      "--------------------------------------------------\n",
      "Codigo Postal: 8008\n",
      "Numero de Edificios: 210\n",
      "Numero de Inmuebles: 703\n",
      "Antiguedad Media: (1954.3001422475106, 67.69985775248934)\n",
      "Tamaño Medio: 260.74395448079656\n",
      "--------------------------------------------------\n"
     ]
    }
   ],
   "source": [
    "for i in codigos:\n",
    "    print(f'Codigo Postal: {i}')\n",
    "    print(f'Numero de Edificios: {edificios(data, i)}')\n",
    "    print(f'Numero de Inmuebles: {inmuebles(data, i)}')\n",
    "    print(f'Antiguedad Media: {antigu_media(data, i)}')\n",
    "    print(f'Tamaño Medio: {tamano_medio(data, i)}')\n",
    "    print('--------------------------------------------------')"
   ]
  },
  {
   "cell_type": "markdown",
   "metadata": {
    "pycharm": {
     "name": "#%% md\n"
    }
   },
   "source": [
    "El resultado de la antiguedad media esta compuesto por la siguiente tupla:\n",
    "(Año medio, edad media)"
   ]
  },
  {
   "cell_type": "markdown",
   "metadata": {
    "pycharm": {
     "name": "#%% md\n"
    }
   },
   "source": [
    "### Pregunta 4\n",
    "\n",
    "SQL"
   ]
  },
  {
   "cell_type": "code",
   "execution_count": null,
   "metadata": {
    "pycharm": {
     "name": "#%%\n"
    }
   },
   "outputs": [],
   "source": [
    "query = '''\n",
    "SELECT Codigo_Postal, avg(Anio_Antiguedad) as Media_Antiguedad\n",
    "FROM Catastro\n",
    "GROUP BY Codigo_Postal\n",
    "ORDER BY Media_Antiguedad DESC;\n",
    "'''"
   ]
  }
 ],
 "metadata": {
  "kernelspec": {
   "display_name": "Python 3 (ipykernel)",
   "language": "python",
   "name": "python3"
  },
  "language_info": {
   "codemirror_mode": {
    "name": "ipython",
    "version": 3
   },
   "file_extension": ".py",
   "mimetype": "text/x-python",
   "name": "python",
   "nbconvert_exporter": "python",
   "pygments_lexer": "ipython3",
   "version": "3.8.8"
  }
 },
 "nbformat": 4,
 "nbformat_minor": 1
}