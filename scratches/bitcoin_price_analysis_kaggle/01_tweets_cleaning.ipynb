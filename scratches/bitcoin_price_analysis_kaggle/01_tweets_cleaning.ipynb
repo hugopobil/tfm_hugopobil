{
 "cells": [
  {
   "cell_type": "markdown",
   "source": [
    "#### The following notebook includes:\n",
    "1. Initial analysis of the data\n",
    "2. Sampling for computation ease\n",
    "3. Regular Expression Transformation"
   ],
   "metadata": {
    "collapsed": false,
    "pycharm": {
     "name": "#%% md\n"
    }
   }
  },
  {
   "cell_type": "markdown",
   "source": [
    "## Libraries"
   ],
   "metadata": {
    "collapsed": false,
    "pycharm": {
     "name": "#%% md\n"
    }
   }
  },
  {
   "cell_type": "code",
   "execution_count": 1,
   "metadata": {
    "collapsed": true
   },
   "outputs": [],
   "source": [
    "import re\n",
    "import pandas as pd\n",
    "from tqdm import tqdm"
   ]
  },
  {
   "cell_type": "markdown",
   "source": [
    "File names:"
   ],
   "metadata": {
    "collapsed": false,
    "pycharm": {
     "name": "#%% md\n"
    }
   }
  },
  {
   "cell_type": "code",
   "execution_count": 2,
   "outputs": [],
   "source": [
    "directory = '~/PycharmProjects/tfm_hugopobil'\n",
    "tweets_fn = f'{directory}/data/bitcoin_tweets.csv'\n",
    "bitcoin_price_fn = f'{directory}/dataBTC-USD.csv'"
   ],
   "metadata": {
    "collapsed": false,
    "pycharm": {
     "name": "#%%\n"
    }
   }
  },
  {
   "cell_type": "markdown",
   "source": [
    "## Visualization\n",
    "\n",
    "We import the dataset which includes the tweets we have downloaded from Internet. These tweets include date ranges from 10th February 2021 until 2 March 2022.\n",
    "\n",
    "In order to perform all the computation we will reduce the dataset to 1% of total data. Meaning we will analyse and predict using 23470 initial tweets."
   ],
   "metadata": {
    "collapsed": false,
    "pycharm": {
     "name": "#%% md\n"
    }
   }
  },
  {
   "cell_type": "code",
   "execution_count": 20,
   "outputs": [
    {
     "name": "stdout",
     "output_type": "stream",
     "text": [
      "Shape : (2347470, 13)\n",
      "Tweets DataFrame Initial Date : 2021-02-10 23:59:04\n",
      "Tweets DataFrame Final Date : 2022-03-02 16:38:11\n"
     ]
    },
    {
     "data": {
      "text/plain": "                                  user_name    user_location  \\\n0                             DeSota Wilson      Atlanta, GA   \n1                                  CryptoND              NaN   \n2                                 Tdlmatias  London, England   \n3                      Crypto is the future              NaN   \n4  Alex Kirchmaier 🇦🇹🇸🇪 #FactsSuperspreader           Europa   \n\n                                    user_description         user_created  \\\n0  Biz Consultant, real estate, fintech, startups...  2009-04-26 20:05:09   \n1  😎 BITCOINLIVE is a Dutch platform aimed at inf...  2019-10-17 20:12:10   \n2  IM Academy : The best #forex, #SelfEducation, ...  2014-11-10 10:50:37   \n3  I will post a lot of buying signals for BTC tr...  2019-09-28 16:48:12   \n4  Co-founder @RENJERJerky | Forbes 30Under30 | I...  2016-02-03 13:15:55   \n\n   user_followers user_friends user_favourites user_verified  \\\n0          8534.0         7605            4838         False   \n1          6769.0         1532           25483         False   \n2           128.0          332             924         False   \n3           625.0          129              14         False   \n4          1249.0         1472           10482         False   \n\n                  date                                               text  \\\n0  2021-02-10 23:59:04  Blue Ridge Bank shares halted by NYSE after #b...   \n1  2021-02-10 23:58:48  😎 Today, that's this #Thursday, we will do a \"...   \n2  2021-02-10 23:54:48  Guys evening, I have read this article about B...   \n3  2021-02-10 23:54:33  $BTC A big chance in a billion! Price: \\487264...   \n4  2021-02-10 23:54:06  This network is secured by 9 508 nodes as of t...   \n\n                                    hashtags               source is_retweet  \n0                                ['bitcoin']      Twitter Web App      False  \n1  ['Thursday', 'Btc', 'wallet', 'security']  Twitter for Android      False  \n2                                        NaN      Twitter Web App      False  \n3         ['Bitcoin', 'FX', 'BTC', 'crypto']              dlvr.it      False  \n4                                    ['BTC']      Twitter Web App      False  ",
      "text/html": "<div>\n<style scoped>\n    .dataframe tbody tr th:only-of-type {\n        vertical-align: middle;\n    }\n\n    .dataframe tbody tr th {\n        vertical-align: top;\n    }\n\n    .dataframe thead th {\n        text-align: right;\n    }\n</style>\n<table border=\"1\" class=\"dataframe\">\n  <thead>\n    <tr style=\"text-align: right;\">\n      <th></th>\n      <th>user_name</th>\n      <th>user_location</th>\n      <th>user_description</th>\n      <th>user_created</th>\n      <th>user_followers</th>\n      <th>user_friends</th>\n      <th>user_favourites</th>\n      <th>user_verified</th>\n      <th>date</th>\n      <th>text</th>\n      <th>hashtags</th>\n      <th>source</th>\n      <th>is_retweet</th>\n    </tr>\n  </thead>\n  <tbody>\n    <tr>\n      <th>0</th>\n      <td>DeSota Wilson</td>\n      <td>Atlanta, GA</td>\n      <td>Biz Consultant, real estate, fintech, startups...</td>\n      <td>2009-04-26 20:05:09</td>\n      <td>8534.0</td>\n      <td>7605</td>\n      <td>4838</td>\n      <td>False</td>\n      <td>2021-02-10 23:59:04</td>\n      <td>Blue Ridge Bank shares halted by NYSE after #b...</td>\n      <td>['bitcoin']</td>\n      <td>Twitter Web App</td>\n      <td>False</td>\n    </tr>\n    <tr>\n      <th>1</th>\n      <td>CryptoND</td>\n      <td>NaN</td>\n      <td>😎 BITCOINLIVE is a Dutch platform aimed at inf...</td>\n      <td>2019-10-17 20:12:10</td>\n      <td>6769.0</td>\n      <td>1532</td>\n      <td>25483</td>\n      <td>False</td>\n      <td>2021-02-10 23:58:48</td>\n      <td>😎 Today, that's this #Thursday, we will do a \"...</td>\n      <td>['Thursday', 'Btc', 'wallet', 'security']</td>\n      <td>Twitter for Android</td>\n      <td>False</td>\n    </tr>\n    <tr>\n      <th>2</th>\n      <td>Tdlmatias</td>\n      <td>London, England</td>\n      <td>IM Academy : The best #forex, #SelfEducation, ...</td>\n      <td>2014-11-10 10:50:37</td>\n      <td>128.0</td>\n      <td>332</td>\n      <td>924</td>\n      <td>False</td>\n      <td>2021-02-10 23:54:48</td>\n      <td>Guys evening, I have read this article about B...</td>\n      <td>NaN</td>\n      <td>Twitter Web App</td>\n      <td>False</td>\n    </tr>\n    <tr>\n      <th>3</th>\n      <td>Crypto is the future</td>\n      <td>NaN</td>\n      <td>I will post a lot of buying signals for BTC tr...</td>\n      <td>2019-09-28 16:48:12</td>\n      <td>625.0</td>\n      <td>129</td>\n      <td>14</td>\n      <td>False</td>\n      <td>2021-02-10 23:54:33</td>\n      <td>$BTC A big chance in a billion! Price: \\487264...</td>\n      <td>['Bitcoin', 'FX', 'BTC', 'crypto']</td>\n      <td>dlvr.it</td>\n      <td>False</td>\n    </tr>\n    <tr>\n      <th>4</th>\n      <td>Alex Kirchmaier 🇦🇹🇸🇪 #FactsSuperspreader</td>\n      <td>Europa</td>\n      <td>Co-founder @RENJERJerky | Forbes 30Under30 | I...</td>\n      <td>2016-02-03 13:15:55</td>\n      <td>1249.0</td>\n      <td>1472</td>\n      <td>10482</td>\n      <td>False</td>\n      <td>2021-02-10 23:54:06</td>\n      <td>This network is secured by 9 508 nodes as of t...</td>\n      <td>['BTC']</td>\n      <td>Twitter Web App</td>\n      <td>False</td>\n    </tr>\n  </tbody>\n</table>\n</div>"
     },
     "execution_count": 20,
     "metadata": {},
     "output_type": "execute_result"
    }
   ],
   "source": [
    "# Do not execute, 2 million tweets coming...\n",
    "tweets = pd.read_csv(tweets_fn, low_memory=False)\n",
    "print('Shape :', tweets.shape)\n",
    "print('Tweets DataFrame Initial Date :', tweets.date[0])\n",
    "print('Tweets DataFrame Final Date :', tweets.date.iloc[-1])\n",
    "tweets.head()"
   ],
   "metadata": {
    "collapsed": false,
    "pycharm": {
     "name": "#%%\n"
    }
   }
  },
  {
   "cell_type": "markdown",
   "source": [
    "### Stratified sampling:\n",
    "\n",
    "Why?..."
   ],
   "metadata": {
    "collapsed": false,
    "pycharm": {
     "name": "#%% md\n"
    }
   }
  },
  {
   "cell_type": "code",
   "execution_count": 28,
   "outputs": [
    {
     "name": "stdout",
     "output_type": "stream",
     "text": [
      "<class 'pandas.core.series.Series'>\n"
     ]
    }
   ],
   "source": [
    "print(type(tweets.date))\n",
    "tweets = tweets.sort_values(by = 'date')\n",
    "tweets = tweets[0:len(tweets)-12]"
   ],
   "metadata": {
    "collapsed": false,
    "pycharm": {
     "name": "#%%\n"
    }
   }
  },
  {
   "cell_type": "code",
   "execution_count": 29,
   "outputs": [],
   "source": [
    "tweets['sample_date'] = tweets['date'].apply(lambda x: x.split(' ', 1)[0])\n",
    "tweets['sample_date'] = tweets.sample_date.apply(lambda x: pd.to_datetime(x))"
   ],
   "metadata": {
    "collapsed": false,
    "pycharm": {
     "name": "#%%\n"
    }
   }
  },
  {
   "cell_type": "code",
   "execution_count": 37,
   "outputs": [],
   "source": [
    "tweets_sample = tweets.groupby('sample_date', group_keys=False).apply(lambda x: x.sample(200))"
   ],
   "metadata": {
    "collapsed": false,
    "pycharm": {
     "name": "#%%\n"
    }
   }
  },
  {
   "cell_type": "code",
   "execution_count": 38,
   "outputs": [
    {
     "data": {
      "text/plain": "                 user_name user_location  \\\n20754     LiveFreeDieHappy           NaN   \n20387          Praisewizzy           NaN   \n20014       Fracking Miner           NaN   \n20129     theCryptoJourney   Netherlands   \n19888  Crypto News Analyst   Atlanta, GA   \n\n                                        user_description         user_created  \\\n20754                                           #Bitcoin  2011-08-28 13:03:36   \n20387                                Don't Give A Fuck!!  2020-02-10 11:28:33   \n20014  Plug & play cryptocurrency mining platform and...  2018-10-25 14:59:32   \n20129  Follow me on my journey! Starting with $2000 a...  2021-01-29 09:51:50   \n19888  #Bitcoin  We aim to bring you the latest Headl...  2021-01-15 19:34:43   \n\n       user_followers user_friends user_favourites user_verified  \\\n20754            26.0          159             592         False   \n20387           272.0          490             187         False   \n20014            37.0            9              19         False   \n20129            59.0          226             177         False   \n19888            36.0           23             432         False   \n\n                      date                                               text  \\\n20754  2021-02-05 16:34:31  Did you know that #Bitcoin has a private and p...   \n20387  2021-02-05 18:58:55  This one wey piggy vest dey trend, Wetin dey o...   \n20014  2021-02-05 21:59:03  The CEO of CryptoQuant says a recent 15,200 BT...   \n20129  2021-02-05 21:02:42  #mycryptojourney Day 8: a late buy on #binance...   \n19888  2021-02-05 23:13:08  🚀It feels like there is something new brewing ...   \n\n                                                hashtags               source  \\\n20754                                 ['Bitcoin', 'BTC']   Twitter for iPhone   \n20387  ['PiggyVest', 'Bitcoin', 'cryptocurrency', 'BT...  Twitter for Android   \n20014                                                NaN           CoSchedule   \n20129  ['mycryptojourney', 'binance', 'VIB', 'crypto'...      Twitter Web App   \n19888                       ['DeFi', 'Ethereum', 'DeFi']  Twitter for Android   \n\n      is_retweet sample_date  \n20754      False  2021-02-05  \n20387      False  2021-02-05  \n20014      False  2021-02-05  \n20129      False  2021-02-05  \n19888      False  2021-02-05  ",
      "text/html": "<div>\n<style scoped>\n    .dataframe tbody tr th:only-of-type {\n        vertical-align: middle;\n    }\n\n    .dataframe tbody tr th {\n        vertical-align: top;\n    }\n\n    .dataframe thead th {\n        text-align: right;\n    }\n</style>\n<table border=\"1\" class=\"dataframe\">\n  <thead>\n    <tr style=\"text-align: right;\">\n      <th></th>\n      <th>user_name</th>\n      <th>user_location</th>\n      <th>user_description</th>\n      <th>user_created</th>\n      <th>user_followers</th>\n      <th>user_friends</th>\n      <th>user_favourites</th>\n      <th>user_verified</th>\n      <th>date</th>\n      <th>text</th>\n      <th>hashtags</th>\n      <th>source</th>\n      <th>is_retweet</th>\n      <th>sample_date</th>\n    </tr>\n  </thead>\n  <tbody>\n    <tr>\n      <th>20754</th>\n      <td>LiveFreeDieHappy</td>\n      <td>NaN</td>\n      <td>#Bitcoin</td>\n      <td>2011-08-28 13:03:36</td>\n      <td>26.0</td>\n      <td>159</td>\n      <td>592</td>\n      <td>False</td>\n      <td>2021-02-05 16:34:31</td>\n      <td>Did you know that #Bitcoin has a private and p...</td>\n      <td>['Bitcoin', 'BTC']</td>\n      <td>Twitter for iPhone</td>\n      <td>False</td>\n      <td>2021-02-05</td>\n    </tr>\n    <tr>\n      <th>20387</th>\n      <td>Praisewizzy</td>\n      <td>NaN</td>\n      <td>Don't Give A Fuck!!</td>\n      <td>2020-02-10 11:28:33</td>\n      <td>272.0</td>\n      <td>490</td>\n      <td>187</td>\n      <td>False</td>\n      <td>2021-02-05 18:58:55</td>\n      <td>This one wey piggy vest dey trend, Wetin dey o...</td>\n      <td>['PiggyVest', 'Bitcoin', 'cryptocurrency', 'BT...</td>\n      <td>Twitter for Android</td>\n      <td>False</td>\n      <td>2021-02-05</td>\n    </tr>\n    <tr>\n      <th>20014</th>\n      <td>Fracking Miner</td>\n      <td>NaN</td>\n      <td>Plug &amp; play cryptocurrency mining platform and...</td>\n      <td>2018-10-25 14:59:32</td>\n      <td>37.0</td>\n      <td>9</td>\n      <td>19</td>\n      <td>False</td>\n      <td>2021-02-05 21:59:03</td>\n      <td>The CEO of CryptoQuant says a recent 15,200 BT...</td>\n      <td>NaN</td>\n      <td>CoSchedule</td>\n      <td>False</td>\n      <td>2021-02-05</td>\n    </tr>\n    <tr>\n      <th>20129</th>\n      <td>theCryptoJourney</td>\n      <td>Netherlands</td>\n      <td>Follow me on my journey! Starting with $2000 a...</td>\n      <td>2021-01-29 09:51:50</td>\n      <td>59.0</td>\n      <td>226</td>\n      <td>177</td>\n      <td>False</td>\n      <td>2021-02-05 21:02:42</td>\n      <td>#mycryptojourney Day 8: a late buy on #binance...</td>\n      <td>['mycryptojourney', 'binance', 'VIB', 'crypto'...</td>\n      <td>Twitter Web App</td>\n      <td>False</td>\n      <td>2021-02-05</td>\n    </tr>\n    <tr>\n      <th>19888</th>\n      <td>Crypto News Analyst</td>\n      <td>Atlanta, GA</td>\n      <td>#Bitcoin  We aim to bring you the latest Headl...</td>\n      <td>2021-01-15 19:34:43</td>\n      <td>36.0</td>\n      <td>23</td>\n      <td>432</td>\n      <td>False</td>\n      <td>2021-02-05 23:13:08</td>\n      <td>🚀It feels like there is something new brewing ...</td>\n      <td>['DeFi', 'Ethereum', 'DeFi']</td>\n      <td>Twitter for Android</td>\n      <td>False</td>\n      <td>2021-02-05</td>\n    </tr>\n  </tbody>\n</table>\n</div>"
     },
     "execution_count": 38,
     "metadata": {},
     "output_type": "execute_result"
    }
   ],
   "source": [
    "tweets_sample.head()"
   ],
   "metadata": {
    "collapsed": false,
    "pycharm": {
     "name": "#%%\n"
    }
   }
  },
  {
   "cell_type": "markdown",
   "source": [
    "## Data Cleaning\n",
    "\n",
    "The first step when dealing with tweets is to clean the tweet body data. By appliying the 1% reduction to all tweets, we then apply basic regular expression treatment and save the data to CSV."
   ],
   "metadata": {
    "collapsed": false,
    "pycharm": {
     "name": "#%% md\n"
    }
   }
  },
  {
   "cell_type": "code",
   "execution_count": 40,
   "outputs": [
    {
     "name": "stderr",
     "output_type": "stream",
     "text": [
      "100%|██████████| 23200/23200 [00:01<00:00, 20041.90it/s]\n"
     ]
    }
   ],
   "source": [
    "# clean tweets\n",
    "tweets_sample = tweets_sample.sort_values(by = 'date')\n",
    "\n",
    "# Select a 1% random sample of all tweets\n",
    "dd = tweets_sample.copy()\n",
    "dd = dd.reset_index()\n",
    "\n",
    "for i, s in enumerate(tqdm(dd['text'], position=0, leave=True)):\n",
    "    text = str(dd.loc[i, 'text'])\n",
    "    text = text.replace('#', '')\n",
    "    text = re.sub('https?://(?:[-\\w.]|(?:%[\\da-fA-F]{2}))+', '', text, flags=re.MULTILINE)\n",
    "    text = re.sub('@\\\\w+ *', '', text, flags=re.MULTILINE)\n",
    "    dd.loc[i, 'text'] = text\n",
    "\n",
    "dd.to_csv(f'{directory}/data/sampled_data/tweets_clean_v2.csv', header=True, encoding='utf-8', index=False)"
   ],
   "metadata": {
    "collapsed": false,
    "pycharm": {
     "name": "#%%\n"
    }
   }
  },
  {
   "cell_type": "markdown",
   "source": [
    "### End\n",
    "\n",
    "Save to local the data after processing visualization and cleaning. We will start the next steps using the CSV 'tweets_clean.csv'"
   ],
   "metadata": {
    "collapsed": false,
    "pycharm": {
     "name": "#%% md\n"
    }
   }
  }
 ],
 "metadata": {
  "kernelspec": {
   "display_name": "Python 3",
   "language": "python",
   "name": "python3"
  },
  "language_info": {
   "codemirror_mode": {
    "name": "ipython",
    "version": 2
   },
   "file_extension": ".py",
   "mimetype": "text/x-python",
   "name": "python",
   "nbconvert_exporter": "python",
   "pygments_lexer": "ipython2",
   "version": "2.7.6"
  }
 },
 "nbformat": 4,
 "nbformat_minor": 0
}