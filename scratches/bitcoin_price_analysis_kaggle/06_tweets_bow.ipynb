{
 "cells": [
  {
   "cell_type": "code",
   "execution_count": 8,
   "metadata": {
    "collapsed": true
   },
   "outputs": [],
   "source": [
    "import pandas as pd\n",
    "import stanza\n",
    "from text_mining.text_processing.text2bow import Text2BowTransformerPhrases\n",
    "from text_mining.text_processing.tokenizer import Tokenizer"
   ]
  },
  {
   "cell_type": "code",
   "execution_count": 3,
   "outputs": [],
   "source": [
    "directory = '~/PycharmProjects/tfm_hugopobil'\n",
    "df = pd.read_csv(f'{directory}/data/tweets_nlp_modelling.csv')\n",
    "btc_usd_grouped = pd.read_csv(f'{directory}/data/btc_usd_grouped.csv')\n",
    "df = df.set_index('date_clean')"
   ],
   "metadata": {
    "collapsed": false,
    "pycharm": {
     "name": "#%%\n"
    }
   }
  },
  {
   "cell_type": "code",
   "execution_count": 9,
   "outputs": [],
   "source": [
    "stanza.download('en')"
   ],
   "metadata": {
    "collapsed": false,
    "pycharm": {
     "name": "#%%\n"
    }
   }
  },
  {
   "cell_type": "code",
   "execution_count": 15,
   "outputs": [],
   "source": [
    "def head_body2bow(df, language='en'):\n",
    "    X = df['cleaned_tweets']\n",
    "    tokenizer = Tokenizer(tokenizer_model='stanza', language=language)\n",
    "    text2bow = Text2BowTransformerPhrases(tokenizer=tokenizer, form_phrases=False)\n",
    "\n",
    "    print('Starting bow creation')\n",
    "\n",
    "    corpus_bow = text2bow.fit_transform(X)\n",
    "    df['bow'] = corpus_bow\n",
    "\n",
    "    print('End bow creation')\n",
    "\n",
    "    return df"
   ],
   "metadata": {
    "collapsed": false,
    "pycharm": {
     "name": "#%%\n"
    }
   }
  },
  {
   "cell_type": "code",
   "execution_count": 32,
   "outputs": [
    {
     "name": "stdout",
     "output_type": "stream",
     "text": [
      "10\n"
     ]
    }
   ],
   "source": [
    "tokenizer = Tokenizer(tokenizer_model='stanza', language='en')\n",
    "text2bow = Text2BowTransformerPhrases(tokenizer=tokenizer, form_phrases=False)\n",
    "\n",
    "results = []\n",
    "count = 0\n",
    "\n",
    "for ind, row in df.iterrows():\n",
    "    results.append(text2bow.fit_transform(row.cleaned_tweets))\n",
    "    count +=1\n",
    "    if count % 10 == 0:\n",
    "        print(count)"
   ],
   "metadata": {
    "collapsed": false,
    "pycharm": {
     "name": "#%%\n"
    }
   }
  },
  {
   "cell_type": "code",
   "execution_count": 33,
   "outputs": [
    {
     "name": "stderr",
     "output_type": "stream",
     "text": [
      "/var/folders/79/vrkgvtgs11v73pnty27_x1100000gn/T/ipykernel_76027/1733204128.py:1: SettingWithCopyWarning: \n",
      "A value is trying to be set on a copy of a slice from a DataFrame.\n",
      "Try using .loc[row_indexer,col_indexer] = value instead\n",
      "\n",
      "See the caveats in the documentation: https://pandas.pydata.org/pandas-docs/stable/user_guide/indexing.html#returning-a-view-versus-a-copy\n",
      "  df['bow'] = results\n"
     ]
    },
    {
     "data": {
      "text/plain": "                                                       tweets  \\\ndate_clean                                                      \n2021-10-28  Airdrop is live , dont be late sir :)\\n\\n\\n\\n\\...   \n2021-10-22  something Big is coming \\n$KLV Klever 💜🌟\\n\\nBT...   \n2021-08-16  Easy money with \\n\\n bsc bnb BinanceSmartChain...   \n2021-10-19  NanoDogecoin is the King👑of the BSC Blockchain...   \n2021-12-30  Bitcoin News Roundup for June 17, 2020 cryptoc...   \n\n                                               cleaned_tweets  \\\ndate_clean                                                      \n2021-10-28  Airdrop live dont late sir Airdrop Airdrops Ai...   \n2021-10-22  something Big coming KLV Klever BTC ETH BNB TR...   \n2021-08-16  Easy money bsc bnb BinanceSmartChain binance g...   \n2021-10-19  NanoDogecoin King BSC Blockchain DeFi altcoins...   \n2021-12-30  Bitcoin News Roundup June cryptocurrencies bit...   \n\n           crypto_sentiment  subjectivity  polarity sentiment  target  \\\ndate_clean                                                              \n2021-10-28         negative      0.550000 -0.081818  negative    True   \n2021-10-22         negative      0.100000  0.000000  positive   False   \n2021-08-16         negative      0.833333  0.433333   neutral   False   \n2021-10-19         negative      0.733333  0.433333   neutral   False   \n2021-12-30         positive      0.000000  0.000000  positive    True   \n\n                                                          bow  \ndate_clean                                                     \n2021-10-28  [[], [], [], [], [], [], [], [], [], [], [], [...  \n2021-10-22  [[], [], [], [], [], [], [], [], [], [], [], [...  \n2021-08-16  [[], [], [], [], [], [], [], [], [], [], [], [...  \n2021-10-19  [[(0, 1)], [], [(0, 1)], [(1, 1)], [], [(1, 1)...  \n2021-12-30  [[], [], [], [], [], [], [], [], [], [], [], [...  ",
      "text/html": "<div>\n<style scoped>\n    .dataframe tbody tr th:only-of-type {\n        vertical-align: middle;\n    }\n\n    .dataframe tbody tr th {\n        vertical-align: top;\n    }\n\n    .dataframe thead th {\n        text-align: right;\n    }\n</style>\n<table border=\"1\" class=\"dataframe\">\n  <thead>\n    <tr style=\"text-align: right;\">\n      <th></th>\n      <th>tweets</th>\n      <th>cleaned_tweets</th>\n      <th>crypto_sentiment</th>\n      <th>subjectivity</th>\n      <th>polarity</th>\n      <th>sentiment</th>\n      <th>target</th>\n      <th>bow</th>\n    </tr>\n    <tr>\n      <th>date_clean</th>\n      <th></th>\n      <th></th>\n      <th></th>\n      <th></th>\n      <th></th>\n      <th></th>\n      <th></th>\n      <th></th>\n    </tr>\n  </thead>\n  <tbody>\n    <tr>\n      <th>2021-10-28</th>\n      <td>Airdrop is live , dont be late sir :)\\n\\n\\n\\n\\...</td>\n      <td>Airdrop live dont late sir Airdrop Airdrops Ai...</td>\n      <td>negative</td>\n      <td>0.550000</td>\n      <td>-0.081818</td>\n      <td>negative</td>\n      <td>True</td>\n      <td>[[], [], [], [], [], [], [], [], [], [], [], [...</td>\n    </tr>\n    <tr>\n      <th>2021-10-22</th>\n      <td>something Big is coming \\n$KLV Klever 💜🌟\\n\\nBT...</td>\n      <td>something Big coming KLV Klever BTC ETH BNB TR...</td>\n      <td>negative</td>\n      <td>0.100000</td>\n      <td>0.000000</td>\n      <td>positive</td>\n      <td>False</td>\n      <td>[[], [], [], [], [], [], [], [], [], [], [], [...</td>\n    </tr>\n    <tr>\n      <th>2021-08-16</th>\n      <td>Easy money with \\n\\n bsc bnb BinanceSmartChain...</td>\n      <td>Easy money bsc bnb BinanceSmartChain binance g...</td>\n      <td>negative</td>\n      <td>0.833333</td>\n      <td>0.433333</td>\n      <td>neutral</td>\n      <td>False</td>\n      <td>[[], [], [], [], [], [], [], [], [], [], [], [...</td>\n    </tr>\n    <tr>\n      <th>2021-10-19</th>\n      <td>NanoDogecoin is the King👑of the BSC Blockchain...</td>\n      <td>NanoDogecoin King BSC Blockchain DeFi altcoins...</td>\n      <td>negative</td>\n      <td>0.733333</td>\n      <td>0.433333</td>\n      <td>neutral</td>\n      <td>False</td>\n      <td>[[(0, 1)], [], [(0, 1)], [(1, 1)], [], [(1, 1)...</td>\n    </tr>\n    <tr>\n      <th>2021-12-30</th>\n      <td>Bitcoin News Roundup for June 17, 2020 cryptoc...</td>\n      <td>Bitcoin News Roundup June cryptocurrencies bit...</td>\n      <td>positive</td>\n      <td>0.000000</td>\n      <td>0.000000</td>\n      <td>positive</td>\n      <td>True</td>\n      <td>[[], [], [], [], [], [], [], [], [], [], [], [...</td>\n    </tr>\n  </tbody>\n</table>\n</div>"
     },
     "execution_count": 33,
     "metadata": {},
     "output_type": "execute_result"
    }
   ],
   "source": [
    "df['bow'] = results\n",
    "df.head()"
   ],
   "metadata": {
    "collapsed": false,
    "pycharm": {
     "name": "#%%\n"
    }
   }
  },
  {
   "cell_type": "code",
   "execution_count": 38,
   "outputs": [],
   "source": [
    "df.to_csv(f'{directory}/data/tweets_nlp_bow.csv')"
   ],
   "metadata": {
    "collapsed": false,
    "pycharm": {
     "name": "#%%\n"
    }
   }
  }
 ],
 "metadata": {
  "kernelspec": {
   "display_name": "Python 3",
   "language": "python",
   "name": "python3"
  },
  "language_info": {
   "codemirror_mode": {
    "name": "ipython",
    "version": 2
   },
   "file_extension": ".py",
   "mimetype": "text/x-python",
   "name": "python",
   "nbconvert_exporter": "python",
   "pygments_lexer": "ipython2",
   "version": "2.7.6"
  }
 },
 "nbformat": 4,
 "nbformat_minor": 0
}