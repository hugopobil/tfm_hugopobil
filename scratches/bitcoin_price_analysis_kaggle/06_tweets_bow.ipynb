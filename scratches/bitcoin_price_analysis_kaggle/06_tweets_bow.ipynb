{
 "cells": [
  {
   "cell_type": "markdown",
   "source": [
    "## Data processing for BOW\n",
    "\n",
    "This notebooks receives the cleaned tweets from the file tweets_nlp_modelling_V2. Which is a second version with stratified sampling.\n",
    "\n",
    "This file will be processed to obtain the tokens and then apply the BOW function.\n",
    "Tokens will be grouped by date, in order to include all the tokens for each day."
   ],
   "metadata": {
    "collapsed": false,
    "pycharm": {
     "name": "#%% md\n"
    }
   }
  },
  {
   "cell_type": "markdown",
   "source": [
    "Libraries and stopwords:"
   ],
   "metadata": {
    "collapsed": false,
    "pycharm": {
     "name": "#%% md\n"
    }
   }
  },
  {
   "cell_type": "code",
   "execution_count": 24,
   "metadata": {
    "collapsed": true
   },
   "outputs": [],
   "source": [
    "import pandas as pd\n",
    "from itertools import chain\n",
    "import nltk\n",
    "import joblib\n",
    "from functions.tweets_tokenization import \\\n",
    "    tokenize_tweets, \\\n",
    "    dictionary_tweets, \\\n",
    "    bow_tweets\n",
    "\n",
    "stopwords = nltk.corpus.stopwords.words(['english'])"
   ]
  },
  {
   "cell_type": "markdown",
   "source": [
    "Import the data from CSV:\n",
    "\n",
    "Import the bitcoin and tweets files."
   ],
   "metadata": {
    "collapsed": false,
    "pycharm": {
     "name": "#%% md\n"
    }
   }
  },
  {
   "cell_type": "code",
   "execution_count": 25,
   "outputs": [],
   "source": [
    "directory = '~/PycharmProjects/tfm_hugopobil'\n",
    "df = pd.read_csv(f'{directory}/data/sampled_data/tweets_nlp_modelling_v2.csv')\n",
    "btc_usd_grouped = pd.read_csv(f'{directory}/data/sampled_data/btc_usd_grouped_v2.csv')\n",
    "df = df.set_index('date_clean')"
   ],
   "metadata": {
    "collapsed": false,
    "pycharm": {
     "name": "#%%\n"
    }
   }
  },
  {
   "cell_type": "code",
   "execution_count": 26,
   "outputs": [
    {
     "name": "stdout",
     "output_type": "stream",
     "text": [
      "(22120, 7)\n"
     ]
    },
    {
     "data": {
      "text/plain": "                                                       tweets  \\\ndate_clean                                                      \n2021-02-05  Bitcoin and ETH both have bullish setups for a...   \n2021-02-05  4⃣  🎙️ Bloomberg LP CryptoOutlook 2021 with ⬇️...   \n2021-02-05  ⬇️⬇️ $BTC SELLING PRESSURE ALERT 📉 Price tradi...   \n2021-02-05  If hyperinflation does hit again, think of the...   \n2021-02-05  DeriBot Daily Trading Report 5.02.2021 11:42 U...   \n\n                                               cleaned_tweets  \\\ndate_clean                                                      \n2021-02-05  Bitcoin ETH bullish setup move higher BTC woul...   \n2021-02-05  Bloomberg LP CryptoOutlook cryptocurrency bitc...   \n2021-02-05  BTC SELLING PRESSURE ALERT Price trading aroun...   \n2021-02-05  If hyperinflation hit think inflation like flo...   \n2021-02-05  DeriBot Daily Trading Report UTC Bitcoin Tradi...   \n\n           crypto_sentiment  subjectivity  polarity sentiment  target  \ndate_clean                                                             \n2021-02-05              NaN      0.416667  0.350000   neutral   False  \n2021-02-05              NaN      0.000000  0.000000  positive   False  \n2021-02-05              NaN      0.000000  0.000000  positive   False  \n2021-02-05              NaN      0.541667 -0.291667  negative   False  \n2021-02-05              NaN      0.000000  0.000000  positive   False  ",
      "text/html": "<div>\n<style scoped>\n    .dataframe tbody tr th:only-of-type {\n        vertical-align: middle;\n    }\n\n    .dataframe tbody tr th {\n        vertical-align: top;\n    }\n\n    .dataframe thead th {\n        text-align: right;\n    }\n</style>\n<table border=\"1\" class=\"dataframe\">\n  <thead>\n    <tr style=\"text-align: right;\">\n      <th></th>\n      <th>tweets</th>\n      <th>cleaned_tweets</th>\n      <th>crypto_sentiment</th>\n      <th>subjectivity</th>\n      <th>polarity</th>\n      <th>sentiment</th>\n      <th>target</th>\n    </tr>\n    <tr>\n      <th>date_clean</th>\n      <th></th>\n      <th></th>\n      <th></th>\n      <th></th>\n      <th></th>\n      <th></th>\n      <th></th>\n    </tr>\n  </thead>\n  <tbody>\n    <tr>\n      <th>2021-02-05</th>\n      <td>Bitcoin and ETH both have bullish setups for a...</td>\n      <td>Bitcoin ETH bullish setup move higher BTC woul...</td>\n      <td>NaN</td>\n      <td>0.416667</td>\n      <td>0.350000</td>\n      <td>neutral</td>\n      <td>False</td>\n    </tr>\n    <tr>\n      <th>2021-02-05</th>\n      <td>4⃣  🎙️ Bloomberg LP CryptoOutlook 2021 with ⬇️...</td>\n      <td>Bloomberg LP CryptoOutlook cryptocurrency bitc...</td>\n      <td>NaN</td>\n      <td>0.000000</td>\n      <td>0.000000</td>\n      <td>positive</td>\n      <td>False</td>\n    </tr>\n    <tr>\n      <th>2021-02-05</th>\n      <td>⬇️⬇️ $BTC SELLING PRESSURE ALERT 📉 Price tradi...</td>\n      <td>BTC SELLING PRESSURE ALERT Price trading aroun...</td>\n      <td>NaN</td>\n      <td>0.000000</td>\n      <td>0.000000</td>\n      <td>positive</td>\n      <td>False</td>\n    </tr>\n    <tr>\n      <th>2021-02-05</th>\n      <td>If hyperinflation does hit again, think of the...</td>\n      <td>If hyperinflation hit think inflation like flo...</td>\n      <td>NaN</td>\n      <td>0.541667</td>\n      <td>-0.291667</td>\n      <td>negative</td>\n      <td>False</td>\n    </tr>\n    <tr>\n      <th>2021-02-05</th>\n      <td>DeriBot Daily Trading Report 5.02.2021 11:42 U...</td>\n      <td>DeriBot Daily Trading Report UTC Bitcoin Tradi...</td>\n      <td>NaN</td>\n      <td>0.000000</td>\n      <td>0.000000</td>\n      <td>positive</td>\n      <td>False</td>\n    </tr>\n  </tbody>\n</table>\n</div>"
     },
     "execution_count": 26,
     "metadata": {},
     "output_type": "execute_result"
    }
   ],
   "source": [
    "print(df.shape)\n",
    "df.head()"
   ],
   "metadata": {
    "collapsed": false,
    "pycharm": {
     "name": "#%%\n"
    }
   }
  },
  {
   "cell_type": "markdown",
   "source": [
    "### Tweets tokenization without grouping\n",
    "\n",
    "### Group TOKENS by date:\n",
    "\n",
    "This will create a dataframe with the accumulation of all tokens with the same date to obtain a grouped tokens."
   ],
   "metadata": {
    "collapsed": false,
    "pycharm": {
     "name": "#%% md\n"
    }
   }
  },
  {
   "cell_type": "code",
   "execution_count": 27,
   "outputs": [],
   "source": [
    "df['tokens'] = tokenize_tweets(df.tweets.to_list())"
   ],
   "metadata": {
    "collapsed": false,
    "pycharm": {
     "name": "#%%\n"
    }
   }
  },
  {
   "cell_type": "code",
   "execution_count": 34,
   "outputs": [],
   "source": [
    "df_grouped = df.groupby(df.index).agg({'tokens': lambda x: list(chain(*x.to_list()))})"
   ],
   "metadata": {
    "collapsed": false,
    "pycharm": {
     "name": "#%%\n"
    }
   }
  },
  {
   "cell_type": "markdown",
   "source": [
    "### Model Data Preparation\n",
    "\n",
    "X = BOW for grouped tweets by days\n",
    "Y (target) = Bitcoin returns"
   ],
   "metadata": {
    "collapsed": false,
    "pycharm": {
     "name": "#%% md\n"
    }
   }
  },
  {
   "cell_type": "code",
   "execution_count": 51,
   "outputs": [],
   "source": [
    "df_index = df_grouped.index"
   ],
   "metadata": {
    "collapsed": false,
    "pycharm": {
     "name": "#%%\n"
    }
   }
  },
  {
   "cell_type": "markdown",
   "source": [
    "Calculate the daily return for Bitcoin as a percentage."
   ],
   "metadata": {
    "collapsed": false,
    "pycharm": {
     "name": "#%% md\n"
    }
   }
  },
  {
   "cell_type": "code",
   "execution_count": 44,
   "outputs": [],
   "source": [
    "btc_usd_grouped['return'] = btc_usd_grouped['Adj Close'].pct_change()\n",
    "btc_usd_grouped_returns = btc_usd_grouped.set_index('Date')['return']"
   ],
   "metadata": {
    "collapsed": false,
    "pycharm": {
     "name": "#%%\n"
    }
   }
  },
  {
   "cell_type": "markdown",
   "source": [
    "Join both dataframes and drop NA values, so we end up with a dataframe that includes the tokens and daily returns as our target variable for Tweets and Bitcoin."
   ],
   "metadata": {
    "collapsed": false,
    "pycharm": {
     "name": "#%% md\n"
    }
   }
  },
  {
   "cell_type": "code",
   "execution_count": 62,
   "outputs": [
    {
     "name": "stdout",
     "output_type": "stream",
     "text": [
      "(107, 2)\n"
     ]
    },
    {
     "data": {
      "text/plain": "                                                       tokens    return\ndate_clean                                                             \n2021-02-07  [crypto, trader, stressing, cryptocurrency, bi... -0.009234\n2021-02-08  [btc, going, signal, minute, chart, price, bit...  0.187465\n2021-02-09  [psychological, barrier, know, real, one, bitc...  0.006162\n2021-02-10  [join, nai, 1swimhw, write, articles, earn, ea... -0.033625\n2021-02-13  [dash, expected, move, beginning, upper, targe... -0.008406",
      "text/html": "<div>\n<style scoped>\n    .dataframe tbody tr th:only-of-type {\n        vertical-align: middle;\n    }\n\n    .dataframe tbody tr th {\n        vertical-align: top;\n    }\n\n    .dataframe thead th {\n        text-align: right;\n    }\n</style>\n<table border=\"1\" class=\"dataframe\">\n  <thead>\n    <tr style=\"text-align: right;\">\n      <th></th>\n      <th>tokens</th>\n      <th>return</th>\n    </tr>\n    <tr>\n      <th>date_clean</th>\n      <th></th>\n      <th></th>\n    </tr>\n  </thead>\n  <tbody>\n    <tr>\n      <th>2021-02-07</th>\n      <td>[crypto, trader, stressing, cryptocurrency, bi...</td>\n      <td>-0.009234</td>\n    </tr>\n    <tr>\n      <th>2021-02-08</th>\n      <td>[btc, going, signal, minute, chart, price, bit...</td>\n      <td>0.187465</td>\n    </tr>\n    <tr>\n      <th>2021-02-09</th>\n      <td>[psychological, barrier, know, real, one, bitc...</td>\n      <td>0.006162</td>\n    </tr>\n    <tr>\n      <th>2021-02-10</th>\n      <td>[join, nai, 1swimhw, write, articles, earn, ea...</td>\n      <td>-0.033625</td>\n    </tr>\n    <tr>\n      <th>2021-02-13</th>\n      <td>[dash, expected, move, beginning, upper, targe...</td>\n      <td>-0.008406</td>\n    </tr>\n  </tbody>\n</table>\n</div>"
     },
     "execution_count": 62,
     "metadata": {},
     "output_type": "execute_result"
    }
   ],
   "source": [
    "model_data = df_grouped.join(btc_usd_grouped_returns).dropna()\n",
    "print(model_data.shape)\n",
    "model_data.head()"
   ],
   "metadata": {
    "collapsed": false,
    "pycharm": {
     "name": "#%%\n"
    }
   }
  },
  {
   "cell_type": "markdown",
   "source": [
    "Calculate BOW and Train Set for documents with less than 3 words."
   ],
   "metadata": {
    "collapsed": false,
    "pycharm": {
     "name": "#%% md\n"
    }
   }
  },
  {
   "cell_type": "code",
   "execution_count": 78,
   "outputs": [
    {
     "data": {
      "text/plain": "(107, 43433)"
     },
     "execution_count": 78,
     "metadata": {},
     "output_type": "execute_result"
    }
   ],
   "source": [
    "dictionary_model_data = dictionary_tweets(model_data['tokens'])\n",
    "X_model_data, doc2bow_model_data = bow_tweets(model_data['tokens'], dictionary_model_data)\n",
    "X_model_data.shape"
   ],
   "metadata": {
    "collapsed": false,
    "pycharm": {
     "name": "#%%\n"
    }
   }
  },
  {
   "cell_type": "markdown",
   "source": [
    "Save to local:"
   ],
   "metadata": {
    "collapsed": false,
    "pycharm": {
     "name": "#%% md\n"
    }
   }
  },
  {
   "cell_type": "code",
   "execution_count": 75,
   "outputs": [
    {
     "data": {
      "text/plain": "['/Users/hpp/PycharmProjects/tfm_hugopobil/data/model_data/X_model_data.joblib']"
     },
     "execution_count": 75,
     "metadata": {},
     "output_type": "execute_result"
    }
   ],
   "source": [
    "joblib.dump(doc2bow_model_data, '/Users/hpp/PycharmProjects/tfm_hugopobil/data/model_data/doc2bow.joblib')\n",
    "model_data.to_csv('/Users/hpp/PycharmProjects/tfm_hugopobil/data/model_data/model_data.csv')\n",
    "joblib.dump(X_model_data, '/Users/hpp/PycharmProjects/tfm_hugopobil/data/model_data/X_model_data.joblib')"
   ],
   "metadata": {
    "collapsed": false,
    "pycharm": {
     "name": "#%%\n"
    }
   }
  }
 ],
 "metadata": {
  "kernelspec": {
   "display_name": "Python 3",
   "language": "python",
   "name": "python3"
  },
  "language_info": {
   "codemirror_mode": {
    "name": "ipython",
    "version": 2
   },
   "file_extension": ".py",
   "mimetype": "text/x-python",
   "name": "python",
   "nbconvert_exporter": "python",
   "pygments_lexer": "ipython2",
   "version": "2.7.6"
  }
 },
 "nbformat": 4,
 "nbformat_minor": 0
}