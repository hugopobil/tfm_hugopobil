{
 "cells": [
  {
   "cell_type": "code",
   "execution_count": 77,
   "metadata": {
    "collapsed": true
   },
   "outputs": [],
   "source": [
    "import pandas as pd\n",
    "import nltk\n",
    "import joblib\n",
    "from functions.tweets_tokenization import \\\n",
    "    tokenize_tweets, \\\n",
    "    dictionary_tweets, \\\n",
    "    bow_tweets, \\\n",
    "    train_bow_tweets\n",
    "\n",
    "stopwords = nltk.corpus.stopwords.words(['english'])"
   ]
  },
  {
   "cell_type": "code",
   "execution_count": 41,
   "outputs": [],
   "source": [
    "directory = '~/PycharmProjects/tfm_hugopobil'\n",
    "df = pd.read_csv(f'{directory}/data/tweets_nlp_modelling.csv')\n",
    "btc_usd_grouped = pd.read_csv(f'{directory}/data/btc_usd_grouped.csv')\n",
    "df = df.set_index('date_clean')"
   ],
   "metadata": {
    "collapsed": false,
    "pycharm": {
     "name": "#%%\n"
    }
   }
  },
  {
   "cell_type": "code",
   "execution_count": 42,
   "outputs": [
    {
     "name": "stdout",
     "output_type": "stream",
     "text": [
      "(23317, 7)\n"
     ]
    },
    {
     "data": {
      "text/plain": "                                                       tweets  \\\ndate_clean                                                      \n2021-10-28  Airdrop is live , dont be late sir :)\\n\\n\\n\\n\\...   \n2021-10-22  something Big is coming \\n$KLV Klever 💜🌟\\n\\nBT...   \n2021-08-16  Easy money with \\n\\n bsc bnb BinanceSmartChain...   \n2021-10-19  NanoDogecoin is the King👑of the BSC Blockchain...   \n2021-12-30  Bitcoin News Roundup for June 17, 2020 cryptoc...   \n\n                                               cleaned_tweets  \\\ndate_clean                                                      \n2021-10-28  Airdrop live dont late sir Airdrop Airdrops Ai...   \n2021-10-22  something Big coming KLV Klever BTC ETH BNB TR...   \n2021-08-16  Easy money bsc bnb BinanceSmartChain binance g...   \n2021-10-19  NanoDogecoin King BSC Blockchain DeFi altcoins...   \n2021-12-30  Bitcoin News Roundup June cryptocurrencies bit...   \n\n           crypto_sentiment  subjectivity  polarity sentiment  target  \ndate_clean                                                             \n2021-10-28         negative      0.550000 -0.081818  negative    True  \n2021-10-22         negative      0.100000  0.000000  positive   False  \n2021-08-16         negative      0.833333  0.433333   neutral   False  \n2021-10-19         negative      0.733333  0.433333   neutral   False  \n2021-12-30         positive      0.000000  0.000000  positive    True  ",
      "text/html": "<div>\n<style scoped>\n    .dataframe tbody tr th:only-of-type {\n        vertical-align: middle;\n    }\n\n    .dataframe tbody tr th {\n        vertical-align: top;\n    }\n\n    .dataframe thead th {\n        text-align: right;\n    }\n</style>\n<table border=\"1\" class=\"dataframe\">\n  <thead>\n    <tr style=\"text-align: right;\">\n      <th></th>\n      <th>tweets</th>\n      <th>cleaned_tweets</th>\n      <th>crypto_sentiment</th>\n      <th>subjectivity</th>\n      <th>polarity</th>\n      <th>sentiment</th>\n      <th>target</th>\n    </tr>\n    <tr>\n      <th>date_clean</th>\n      <th></th>\n      <th></th>\n      <th></th>\n      <th></th>\n      <th></th>\n      <th></th>\n      <th></th>\n    </tr>\n  </thead>\n  <tbody>\n    <tr>\n      <th>2021-10-28</th>\n      <td>Airdrop is live , dont be late sir :)\\n\\n\\n\\n\\...</td>\n      <td>Airdrop live dont late sir Airdrop Airdrops Ai...</td>\n      <td>negative</td>\n      <td>0.550000</td>\n      <td>-0.081818</td>\n      <td>negative</td>\n      <td>True</td>\n    </tr>\n    <tr>\n      <th>2021-10-22</th>\n      <td>something Big is coming \\n$KLV Klever 💜🌟\\n\\nBT...</td>\n      <td>something Big coming KLV Klever BTC ETH BNB TR...</td>\n      <td>negative</td>\n      <td>0.100000</td>\n      <td>0.000000</td>\n      <td>positive</td>\n      <td>False</td>\n    </tr>\n    <tr>\n      <th>2021-08-16</th>\n      <td>Easy money with \\n\\n bsc bnb BinanceSmartChain...</td>\n      <td>Easy money bsc bnb BinanceSmartChain binance g...</td>\n      <td>negative</td>\n      <td>0.833333</td>\n      <td>0.433333</td>\n      <td>neutral</td>\n      <td>False</td>\n    </tr>\n    <tr>\n      <th>2021-10-19</th>\n      <td>NanoDogecoin is the King👑of the BSC Blockchain...</td>\n      <td>NanoDogecoin King BSC Blockchain DeFi altcoins...</td>\n      <td>negative</td>\n      <td>0.733333</td>\n      <td>0.433333</td>\n      <td>neutral</td>\n      <td>False</td>\n    </tr>\n    <tr>\n      <th>2021-12-30</th>\n      <td>Bitcoin News Roundup for June 17, 2020 cryptoc...</td>\n      <td>Bitcoin News Roundup June cryptocurrencies bit...</td>\n      <td>positive</td>\n      <td>0.000000</td>\n      <td>0.000000</td>\n      <td>positive</td>\n      <td>True</td>\n    </tr>\n  </tbody>\n</table>\n</div>"
     },
     "execution_count": 42,
     "metadata": {},
     "output_type": "execute_result"
    }
   ],
   "source": [
    "print(df.shape)\n",
    "df.head()"
   ],
   "metadata": {
    "collapsed": false,
    "pycharm": {
     "name": "#%%\n"
    }
   }
  },
  {
   "cell_type": "markdown",
   "source": [
    "Add the following functions to .py:"
   ],
   "metadata": {
    "collapsed": false,
    "pycharm": {
     "name": "#%% md\n"
    }
   }
  },
  {
   "cell_type": "code",
   "execution_count": 47,
   "outputs": [],
   "source": [
    "df['tokens'] = tokenize_tweets(df.tweets.to_list())"
   ],
   "metadata": {
    "collapsed": false,
    "pycharm": {
     "name": "#%%\n"
    }
   }
  },
  {
   "cell_type": "code",
   "execution_count": 72,
   "outputs": [
    {
     "data": {
      "text/plain": "<pandas.io.formats.style.Styler at 0x7fb2e5f3feb0>",
      "text/html": "<style type=\"text/css\">\n#T_a8ea0_row0_col0, #T_a8ea0_row0_col1, #T_a8ea0_row0_col2, #T_a8ea0_row0_col3, #T_a8ea0_row0_col4, #T_a8ea0_row0_col5, #T_a8ea0_row0_col6, #T_a8ea0_row0_col7, #T_a8ea0_row1_col0, #T_a8ea0_row1_col1, #T_a8ea0_row1_col2, #T_a8ea0_row1_col3, #T_a8ea0_row1_col4, #T_a8ea0_row1_col5, #T_a8ea0_row1_col6, #T_a8ea0_row1_col7, #T_a8ea0_row2_col0, #T_a8ea0_row2_col1, #T_a8ea0_row2_col2, #T_a8ea0_row2_col3, #T_a8ea0_row2_col4, #T_a8ea0_row2_col5, #T_a8ea0_row2_col6, #T_a8ea0_row2_col7 {\n  text-align: left;\n  white-space: wrap;\n}\n</style>\n<table id=\"T_a8ea0\">\n  <thead>\n    <tr>\n      <th class=\"blank level0\" >&nbsp;</th>\n      <th id=\"T_a8ea0_level0_col0\" class=\"col_heading level0 col0\" >tweets</th>\n      <th id=\"T_a8ea0_level0_col1\" class=\"col_heading level0 col1\" >cleaned_tweets</th>\n      <th id=\"T_a8ea0_level0_col2\" class=\"col_heading level0 col2\" >crypto_sentiment</th>\n      <th id=\"T_a8ea0_level0_col3\" class=\"col_heading level0 col3\" >subjectivity</th>\n      <th id=\"T_a8ea0_level0_col4\" class=\"col_heading level0 col4\" >polarity</th>\n      <th id=\"T_a8ea0_level0_col5\" class=\"col_heading level0 col5\" >sentiment</th>\n      <th id=\"T_a8ea0_level0_col6\" class=\"col_heading level0 col6\" >target</th>\n      <th id=\"T_a8ea0_level0_col7\" class=\"col_heading level0 col7\" >tokens</th>\n    </tr>\n    <tr>\n      <th class=\"index_name level0\" >date_clean</th>\n      <th class=\"blank col0\" >&nbsp;</th>\n      <th class=\"blank col1\" >&nbsp;</th>\n      <th class=\"blank col2\" >&nbsp;</th>\n      <th class=\"blank col3\" >&nbsp;</th>\n      <th class=\"blank col4\" >&nbsp;</th>\n      <th class=\"blank col5\" >&nbsp;</th>\n      <th class=\"blank col6\" >&nbsp;</th>\n      <th class=\"blank col7\" >&nbsp;</th>\n    </tr>\n  </thead>\n  <tbody>\n    <tr>\n      <th id=\"T_a8ea0_level0_row0\" class=\"row_heading level0 row0\" >2021-10-28</th>\n      <td id=\"T_a8ea0_row0_col0\" class=\"data row0 col0\" >Airdrop is live , dont be late sir :)\n\n\n\n\nAirdrop Airdrops Airdropinspector BSC GuitarSwap GUT Crypto Bitcoin</td>\n      <td id=\"T_a8ea0_row0_col1\" class=\"data row0 col1\" >Airdrop live dont late sir Airdrop Airdrops Airdropinspector BSC GuitarSwap GUT Crypto Bitcoin</td>\n      <td id=\"T_a8ea0_row0_col2\" class=\"data row0 col2\" >negative</td>\n      <td id=\"T_a8ea0_row0_col3\" class=\"data row0 col3\" >0.550000</td>\n      <td id=\"T_a8ea0_row0_col4\" class=\"data row0 col4\" >-0.081818</td>\n      <td id=\"T_a8ea0_row0_col5\" class=\"data row0 col5\" >negative</td>\n      <td id=\"T_a8ea0_row0_col6\" class=\"data row0 col6\" >1</td>\n      <td id=\"T_a8ea0_row0_col7\" class=\"data row0 col7\" >['airdrop', 'live', 'dont', 'late', 'sir', 'airdrop', 'airdrops', 'airdropinspector', 'bsc', 'guitarswap', 'gut', 'crypto', 'bitcoin']</td>\n    </tr>\n    <tr>\n      <th id=\"T_a8ea0_level0_row1\" class=\"row_heading level0 row1\" >2021-10-22</th>\n      <td id=\"T_a8ea0_row1_col0\" class=\"data row1 col0\" >something Big is coming \n$KLV Klever 💜🌟\n\nBTC ETH BNB TRX /L0gMLuS53G</td>\n      <td id=\"T_a8ea0_row1_col1\" class=\"data row1 col1\" >something Big coming KLV Klever BTC ETH BNB TRX L gMLuS G</td>\n      <td id=\"T_a8ea0_row1_col2\" class=\"data row1 col2\" >negative</td>\n      <td id=\"T_a8ea0_row1_col3\" class=\"data row1 col3\" >0.100000</td>\n      <td id=\"T_a8ea0_row1_col4\" class=\"data row1 col4\" >0.000000</td>\n      <td id=\"T_a8ea0_row1_col5\" class=\"data row1 col5\" >positive</td>\n      <td id=\"T_a8ea0_row1_col6\" class=\"data row1 col6\" >0</td>\n      <td id=\"T_a8ea0_row1_col7\" class=\"data row1 col7\" >['something', 'big', 'coming', 'klv', 'klever', 'btc', 'eth', 'bnb', 'trx', 'l0gmlus53g']</td>\n    </tr>\n    <tr>\n      <th id=\"T_a8ea0_level0_row2\" class=\"row_heading level0 row2\" >2021-08-16</th>\n      <td id=\"T_a8ea0_row2_col0\" class=\"data row2 col0\" >Easy money with \n\n bsc bnb BinanceSmartChain binance \n /gz5a4PW9Ut bsc bscgems bnb btc BinanceSmartChain</td>\n      <td id=\"T_a8ea0_row2_col1\" class=\"data row2 col1\" >Easy money bsc bnb BinanceSmartChain binance gz PW Ut bsc bscgems bnb btc BinanceSmartChain</td>\n      <td id=\"T_a8ea0_row2_col2\" class=\"data row2 col2\" >negative</td>\n      <td id=\"T_a8ea0_row2_col3\" class=\"data row2 col3\" >0.833333</td>\n      <td id=\"T_a8ea0_row2_col4\" class=\"data row2 col4\" >0.433333</td>\n      <td id=\"T_a8ea0_row2_col5\" class=\"data row2 col5\" >neutral</td>\n      <td id=\"T_a8ea0_row2_col6\" class=\"data row2 col6\" >0</td>\n      <td id=\"T_a8ea0_row2_col7\" class=\"data row2 col7\" >['easy', 'money', 'bsc', 'bnb', 'binancesmartchain', 'binance', 'gz5a4pw9ut', 'bsc', 'bscgems', 'bnb', 'btc', 'binancesmartchain']</td>\n    </tr>\n  </tbody>\n</table>\n"
     },
     "execution_count": 72,
     "metadata": {},
     "output_type": "execute_result"
    }
   ],
   "source": [
    "df[:3].style.set_properties(**{\n",
    "    'text-align' : 'left',\n",
    "    'white-space': 'wrap'\n",
    "})"
   ],
   "metadata": {
    "collapsed": false,
    "pycharm": {
     "name": "#%%\n"
    }
   }
  },
  {
   "cell_type": "code",
   "execution_count": 50,
   "outputs": [],
   "source": [
    "dictionary = dictionary_tweets(df['tokens'])"
   ],
   "metadata": {
    "collapsed": false,
    "pycharm": {
     "name": "#%%\n"
    }
   }
  },
  {
   "cell_type": "code",
   "execution_count": 75,
   "outputs": [],
   "source": [
    "X, doc2bow = bow_tweets(df['tokens'], dictionary)\n",
    "X_train = train_bow_tweets(X, min_n_words=3)"
   ],
   "metadata": {
    "collapsed": false,
    "pycharm": {
     "name": "#%%\n"
    }
   }
  },
  {
   "cell_type": "code",
   "execution_count": 56,
   "outputs": [
    {
     "data": {
      "text/plain": "((21803, 32127), (23317, 32127))"
     },
     "execution_count": 56,
     "metadata": {},
     "output_type": "execute_result"
    }
   ],
   "source": [
    "X_train.shape, X.shape"
   ],
   "metadata": {
    "collapsed": false,
    "pycharm": {
     "name": "#%%\n"
    }
   }
  },
  {
   "cell_type": "markdown",
   "source": [
    "Save the data to local:"
   ],
   "metadata": {
    "collapsed": false,
    "pycharm": {
     "name": "#%% md\n"
    }
   }
  },
  {
   "cell_type": "code",
   "execution_count": 60,
   "outputs": [],
   "source": [
    "df.to_csv(f'{directory}/data/model_data/tweets_tokenize.csv')"
   ],
   "metadata": {
    "collapsed": false,
    "pycharm": {
     "name": "#%%\n"
    }
   }
  },
  {
   "cell_type": "code",
   "execution_count": 81,
   "outputs": [
    {
     "data": {
      "text/plain": "['/Users/hpp/PycharmProjects/tfm_hugopobil/data/model_data/doc2bow.joblib']"
     },
     "execution_count": 81,
     "metadata": {},
     "output_type": "execute_result"
    }
   ],
   "source": [
    "joblib.dump(doc2bow, '/Users/hpp/PycharmProjects/tfm_hugopobil/data/model_data/doc2bow.joblib')"
   ],
   "metadata": {
    "collapsed": false,
    "pycharm": {
     "name": "#%%\n"
    }
   }
  }
 ],
 "metadata": {
  "kernelspec": {
   "display_name": "Python 3",
   "language": "python",
   "name": "python3"
  },
  "language_info": {
   "codemirror_mode": {
    "name": "ipython",
    "version": 2
   },
   "file_extension": ".py",
   "mimetype": "text/x-python",
   "name": "python",
   "nbconvert_exporter": "python",
   "pygments_lexer": "ipython2",
   "version": "2.7.6"
  }
 },
 "nbformat": 4,
 "nbformat_minor": 0
}