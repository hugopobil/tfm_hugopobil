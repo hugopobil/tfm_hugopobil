{
 "cells": [
  {
   "cell_type": "markdown",
   "source": [
    "## Data processing for BOW\n",
    "\n",
    "This notebooks receives the cleaned tweets from the file tweets_nlp_modelling_V2. Which is a second version with stratified sampling.\n",
    "\n",
    "This file will be processed to obtain the tokens and then apply the BOW function.\n",
    "Tokens will be grouped by date, in order to include all the tokens for each day."
   ],
   "metadata": {
    "collapsed": false,
    "pycharm": {
     "name": "#%% md\n"
    }
   }
  },
  {
   "cell_type": "markdown",
   "source": [
    "Libraries and stopwords:"
   ],
   "metadata": {
    "collapsed": false,
    "pycharm": {
     "name": "#%% md\n"
    }
   }
  },
  {
   "cell_type": "code",
   "execution_count": 1,
   "metadata": {
    "collapsed": true
   },
   "outputs": [],
   "source": [
    "import pandas as pd\n",
    "from itertools import chain\n",
    "import nltk\n",
    "import joblib\n",
    "from functions.tweets_tokenization import \\\n",
    "    tokenize_tweets, \\\n",
    "    dictionary_tweets, \\\n",
    "    bow_tweets, \\\n",
    "    train_bow_tweets\n",
    "\n",
    "stopwords = nltk.corpus.stopwords.words(['english'])"
   ]
  },
  {
   "cell_type": "markdown",
   "source": [
    "Import the data from CSV:"
   ],
   "metadata": {
    "collapsed": false,
    "pycharm": {
     "name": "#%% md\n"
    }
   }
  },
  {
   "cell_type": "code",
   "execution_count": 2,
   "outputs": [],
   "source": [
    "directory = '~/PycharmProjects/tfm_hugopobil'\n",
    "df = pd.read_csv(f'{directory}/data/sampled_data/tweets_nlp_modelling_v2.csv')\n",
    "btc_usd_grouped = pd.read_csv(f'{directory}/data/sampled_data/btc_usd_grouped_v2.csv')\n",
    "df = df.set_index('date_clean')"
   ],
   "metadata": {
    "collapsed": false,
    "pycharm": {
     "name": "#%%\n"
    }
   }
  },
  {
   "cell_type": "code",
   "execution_count": 3,
   "outputs": [
    {
     "name": "stdout",
     "output_type": "stream",
     "text": [
      "(22120, 7)\n"
     ]
    },
    {
     "data": {
      "text/plain": "                                                       tweets  \\\ndate_clean                                                      \n2021-02-05  Bitcoin and ETH both have bullish setups for a...   \n2021-02-05  4⃣  🎙️ Bloomberg LP CryptoOutlook 2021 with ⬇️...   \n2021-02-05  ⬇️⬇️ $BTC SELLING PRESSURE ALERT 📉 Price tradi...   \n2021-02-05  If hyperinflation does hit again, think of the...   \n2021-02-05  DeriBot Daily Trading Report 5.02.2021 11:42 U...   \n\n                                               cleaned_tweets  \\\ndate_clean                                                      \n2021-02-05  Bitcoin ETH bullish setup move higher BTC woul...   \n2021-02-05  Bloomberg LP CryptoOutlook cryptocurrency bitc...   \n2021-02-05  BTC SELLING PRESSURE ALERT Price trading aroun...   \n2021-02-05  If hyperinflation hit think inflation like flo...   \n2021-02-05  DeriBot Daily Trading Report UTC Bitcoin Tradi...   \n\n           crypto_sentiment  subjectivity  polarity sentiment  target  \ndate_clean                                                             \n2021-02-05              NaN      0.416667  0.350000   neutral   False  \n2021-02-05              NaN      0.000000  0.000000  positive   False  \n2021-02-05              NaN      0.000000  0.000000  positive   False  \n2021-02-05              NaN      0.541667 -0.291667  negative   False  \n2021-02-05              NaN      0.000000  0.000000  positive   False  ",
      "text/html": "<div>\n<style scoped>\n    .dataframe tbody tr th:only-of-type {\n        vertical-align: middle;\n    }\n\n    .dataframe tbody tr th {\n        vertical-align: top;\n    }\n\n    .dataframe thead th {\n        text-align: right;\n    }\n</style>\n<table border=\"1\" class=\"dataframe\">\n  <thead>\n    <tr style=\"text-align: right;\">\n      <th></th>\n      <th>tweets</th>\n      <th>cleaned_tweets</th>\n      <th>crypto_sentiment</th>\n      <th>subjectivity</th>\n      <th>polarity</th>\n      <th>sentiment</th>\n      <th>target</th>\n    </tr>\n    <tr>\n      <th>date_clean</th>\n      <th></th>\n      <th></th>\n      <th></th>\n      <th></th>\n      <th></th>\n      <th></th>\n      <th></th>\n    </tr>\n  </thead>\n  <tbody>\n    <tr>\n      <th>2021-02-05</th>\n      <td>Bitcoin and ETH both have bullish setups for a...</td>\n      <td>Bitcoin ETH bullish setup move higher BTC woul...</td>\n      <td>NaN</td>\n      <td>0.416667</td>\n      <td>0.350000</td>\n      <td>neutral</td>\n      <td>False</td>\n    </tr>\n    <tr>\n      <th>2021-02-05</th>\n      <td>4⃣  🎙️ Bloomberg LP CryptoOutlook 2021 with ⬇️...</td>\n      <td>Bloomberg LP CryptoOutlook cryptocurrency bitc...</td>\n      <td>NaN</td>\n      <td>0.000000</td>\n      <td>0.000000</td>\n      <td>positive</td>\n      <td>False</td>\n    </tr>\n    <tr>\n      <th>2021-02-05</th>\n      <td>⬇️⬇️ $BTC SELLING PRESSURE ALERT 📉 Price tradi...</td>\n      <td>BTC SELLING PRESSURE ALERT Price trading aroun...</td>\n      <td>NaN</td>\n      <td>0.000000</td>\n      <td>0.000000</td>\n      <td>positive</td>\n      <td>False</td>\n    </tr>\n    <tr>\n      <th>2021-02-05</th>\n      <td>If hyperinflation does hit again, think of the...</td>\n      <td>If hyperinflation hit think inflation like flo...</td>\n      <td>NaN</td>\n      <td>0.541667</td>\n      <td>-0.291667</td>\n      <td>negative</td>\n      <td>False</td>\n    </tr>\n    <tr>\n      <th>2021-02-05</th>\n      <td>DeriBot Daily Trading Report 5.02.2021 11:42 U...</td>\n      <td>DeriBot Daily Trading Report UTC Bitcoin Tradi...</td>\n      <td>NaN</td>\n      <td>0.000000</td>\n      <td>0.000000</td>\n      <td>positive</td>\n      <td>False</td>\n    </tr>\n  </tbody>\n</table>\n</div>"
     },
     "execution_count": 3,
     "metadata": {},
     "output_type": "execute_result"
    }
   ],
   "source": [
    "print(df.shape)\n",
    "df.head()"
   ],
   "metadata": {
    "collapsed": false,
    "pycharm": {
     "name": "#%%\n"
    }
   }
  },
  {
   "cell_type": "markdown",
   "source": [
    "### Tweets tokenization without grouping"
   ],
   "metadata": {
    "collapsed": false,
    "pycharm": {
     "name": "#%% md\n"
    }
   }
  },
  {
   "cell_type": "code",
   "execution_count": 4,
   "outputs": [],
   "source": [
    "df['tokens'] = tokenize_tweets(df.tweets.to_list())"
   ],
   "metadata": {
    "collapsed": false,
    "pycharm": {
     "name": "#%%\n"
    }
   }
  },
  {
   "cell_type": "code",
   "execution_count": 5,
   "outputs": [
    {
     "data": {
      "text/plain": "<pandas.io.formats.style.Styler at 0x7fcb40e93d90>",
      "text/html": "<style type=\"text/css\">\n#T_14949_row0_col0, #T_14949_row0_col1, #T_14949_row0_col2, #T_14949_row0_col3, #T_14949_row0_col4, #T_14949_row0_col5, #T_14949_row0_col6, #T_14949_row0_col7, #T_14949_row1_col0, #T_14949_row1_col1, #T_14949_row1_col2, #T_14949_row1_col3, #T_14949_row1_col4, #T_14949_row1_col5, #T_14949_row1_col6, #T_14949_row1_col7, #T_14949_row2_col0, #T_14949_row2_col1, #T_14949_row2_col2, #T_14949_row2_col3, #T_14949_row2_col4, #T_14949_row2_col5, #T_14949_row2_col6, #T_14949_row2_col7 {\n  text-align: left;\n  white-space: wrap;\n}\n</style>\n<table id=\"T_14949\">\n  <thead>\n    <tr>\n      <th class=\"blank level0\" >&nbsp;</th>\n      <th id=\"T_14949_level0_col0\" class=\"col_heading level0 col0\" >tweets</th>\n      <th id=\"T_14949_level0_col1\" class=\"col_heading level0 col1\" >cleaned_tweets</th>\n      <th id=\"T_14949_level0_col2\" class=\"col_heading level0 col2\" >crypto_sentiment</th>\n      <th id=\"T_14949_level0_col3\" class=\"col_heading level0 col3\" >subjectivity</th>\n      <th id=\"T_14949_level0_col4\" class=\"col_heading level0 col4\" >polarity</th>\n      <th id=\"T_14949_level0_col5\" class=\"col_heading level0 col5\" >sentiment</th>\n      <th id=\"T_14949_level0_col6\" class=\"col_heading level0 col6\" >target</th>\n      <th id=\"T_14949_level0_col7\" class=\"col_heading level0 col7\" >tokens</th>\n    </tr>\n    <tr>\n      <th class=\"index_name level0\" >date_clean</th>\n      <th class=\"blank col0\" >&nbsp;</th>\n      <th class=\"blank col1\" >&nbsp;</th>\n      <th class=\"blank col2\" >&nbsp;</th>\n      <th class=\"blank col3\" >&nbsp;</th>\n      <th class=\"blank col4\" >&nbsp;</th>\n      <th class=\"blank col5\" >&nbsp;</th>\n      <th class=\"blank col6\" >&nbsp;</th>\n      <th class=\"blank col7\" >&nbsp;</th>\n    </tr>\n  </thead>\n  <tbody>\n    <tr>\n      <th id=\"T_14949_level0_row0\" class=\"row_heading level0 row0\" >2022-01-22</th>\n      <td id=\"T_14949_row0_col0\" class=\"data row0 col0\" >I can't see a big drop, nor a dip, do you?\nHave checked the market but I can't see any difference one Bitcoin is still worth one Bitcoin. /WnE0lpX0My</td>\n      <td id=\"T_14949_row0_col1\" class=\"data row0 col1\" >I see big drop dip Have checked market I see difference one Bitcoin still worth one Bitcoin WnE lpX My</td>\n      <td id=\"T_14949_row0_col2\" class=\"data row0 col2\" >positive</td>\n      <td id=\"T_14949_row0_col3\" class=\"data row0 col3\" >0.100000</td>\n      <td id=\"T_14949_row0_col4\" class=\"data row0 col4\" >0.150000</td>\n      <td id=\"T_14949_row0_col5\" class=\"data row0 col5\" >neutral</td>\n      <td id=\"T_14949_row0_col6\" class=\"data row0 col6\" >0</td>\n      <td id=\"T_14949_row0_col7\" class=\"data row0 col7\" >[\"can't\", 'see', 'big', 'drop', 'dip', 'checked', 'market', \"can't\", 'see', 'difference', 'one', 'bitcoin', 'still', 'worth', 'one', 'bitcoin', 'wne', '0lpx0my']</td>\n    </tr>\n    <tr>\n      <th id=\"T_14949_level0_row1\" class=\"row_heading level0 row1\" >2022-01-21</th>\n      <td id=\"T_14949_row1_col0\" class=\"data row1 col0\" >🚓 BTC and 14 Others,  🟢 13 🔴 2\n\n🇰🇷 13.98억원\n🇺🇸 $1,196,622\n🇯🇵 ¥131,435,034\n🇪🇺 €1,012,796\n🇨🇳 7,725,066元\n\n🎉Upflow volume Now, Upbit(Korea)\nBTC ETH ATOM SAND STORJ POWR ORBS KNC HBAR KAVA ETC AERGO OMG /wR8kv4Y7Ai</td>\n      <td id=\"T_14949_row1_col1\" class=\"data row1 col1\" >BTC Others Upflow volume Now Upbit Korea BTC ETH ATOM SAND STORJ POWR ORBS KNC HBAR KAVA ETC AERGO OMG wR kv Y Ai</td>\n      <td id=\"T_14949_row1_col2\" class=\"data row1 col2\" >positive</td>\n      <td id=\"T_14949_row1_col3\" class=\"data row1 col3\" >0.000000</td>\n      <td id=\"T_14949_row1_col4\" class=\"data row1 col4\" >0.000000</td>\n      <td id=\"T_14949_row1_col5\" class=\"data row1 col5\" >positive</td>\n      <td id=\"T_14949_row1_col6\" class=\"data row1 col6\" >1</td>\n      <td id=\"T_14949_row1_col7\" class=\"data row1 col7\" >['btc', 'others', '억원', '066元', 'upflow', 'volume', 'upbit', 'korea', 'btc', 'eth', 'atom', 'sand', 'storj', 'powr', 'orbs', 'knc', 'hbar', 'kava', 'etc', 'aergo', 'omg', 'wr8kv4y7ai']</td>\n    </tr>\n    <tr>\n      <th id=\"T_14949_level0_row2\" class=\"row_heading level0 row2\" >2021-02-19</th>\n      <td id=\"T_14949_row2_col0\" class=\"data row2 col0\" >If you like gold, there are many reasons you should like Bitcoin. Bitcoin BTC cryptocurrency BCH gold silver… /mMn6viAflv</td>\n      <td id=\"T_14949_row2_col1\" class=\"data row2 col1\" >If like gold many reason like Bitcoin Bitcoin BTC cryptocurrency BCH gold silver mMn viAflv</td>\n      <td id=\"T_14949_row2_col2\" class=\"data row2 col2\" >positive</td>\n      <td id=\"T_14949_row2_col3\" class=\"data row2 col3\" >0.500000</td>\n      <td id=\"T_14949_row2_col4\" class=\"data row2 col4\" >0.500000</td>\n      <td id=\"T_14949_row2_col5\" class=\"data row2 col5\" >positive</td>\n      <td id=\"T_14949_row2_col6\" class=\"data row2 col6\" >1</td>\n      <td id=\"T_14949_row2_col7\" class=\"data row2 col7\" >['like', 'gold', 'many', 'reasons', 'like', 'bitcoin', 'bitcoin', 'btc', 'cryptocurrency', 'bch', 'gold', 'silver', 'mmn', '6viaflv']</td>\n    </tr>\n  </tbody>\n</table>\n"
     },
     "execution_count": 5,
     "metadata": {},
     "output_type": "execute_result"
    }
   ],
   "source": [
    "df.sample(n=3).style.set_properties(**{\n",
    "    'text-align' : 'left',\n",
    "    'white-space': 'wrap'\n",
    "})"
   ],
   "metadata": {
    "collapsed": false,
    "pycharm": {
     "name": "#%%\n"
    }
   }
  },
  {
   "cell_type": "markdown",
   "source": [
    "### Dictionary for tokens and Bow processing"
   ],
   "metadata": {
    "collapsed": false,
    "pycharm": {
     "name": "#%% md\n"
    }
   }
  },
  {
   "cell_type": "code",
   "execution_count": 18,
   "outputs": [],
   "source": [
    "dictionary = dictionary_tweets(df['tokens'])"
   ],
   "metadata": {
    "collapsed": false,
    "pycharm": {
     "name": "#%%\n"
    }
   }
  },
  {
   "cell_type": "code",
   "execution_count": 7,
   "outputs": [],
   "source": [
    "X, doc2bow = bow_tweets(df['tokens'], dictionary)\n",
    "X_train = train_bow_tweets(X, min_n_words=3)"
   ],
   "metadata": {
    "collapsed": false,
    "pycharm": {
     "name": "#%%\n"
    }
   }
  },
  {
   "cell_type": "markdown",
   "source": [
    "X_train will not include dates for tokens with less than 3 words. However, I'm still considering wether to use train or normal X."
   ],
   "metadata": {
    "collapsed": false,
    "pycharm": {
     "name": "#%% md\n"
    }
   }
  },
  {
   "cell_type": "code",
   "execution_count": 8,
   "outputs": [
    {
     "data": {
      "text/plain": "((21223, 46394), (22120, 46394))"
     },
     "execution_count": 8,
     "metadata": {},
     "output_type": "execute_result"
    }
   ],
   "source": [
    "X_train.shape, X.shape"
   ],
   "metadata": {
    "collapsed": false,
    "pycharm": {
     "name": "#%%\n"
    }
   }
  },
  {
   "cell_type": "markdown",
   "source": [
    "Save the non-grouped tweets tokenization processing to local:\n",
    "Save doc2bow, dictionary function is applied in each notebook."
   ],
   "metadata": {
    "collapsed": false,
    "pycharm": {
     "name": "#%% md\n"
    }
   }
  },
  {
   "cell_type": "code",
   "execution_count": 11,
   "outputs": [],
   "source": [
    "df.to_csv(f'{directory}/data/model_data/tweets_tokenize_v2.csv')"
   ],
   "metadata": {
    "collapsed": false,
    "pycharm": {
     "name": "#%%\n"
    }
   }
  },
  {
   "cell_type": "code",
   "execution_count": 12,
   "outputs": [
    {
     "data": {
      "text/plain": "['/Users/hpp/PycharmProjects/tfm_hugopobil/data/model_data/doc2bow_v2.joblib']"
     },
     "execution_count": 12,
     "metadata": {},
     "output_type": "execute_result"
    }
   ],
   "source": [
    "joblib.dump(doc2bow, '/Users/hpp/PycharmProjects/tfm_hugopobil/data/model_data/doc2bow_v2.joblib')"
   ],
   "metadata": {
    "collapsed": false,
    "pycharm": {
     "name": "#%%\n"
    }
   }
  },
  {
   "cell_type": "markdown",
   "source": [
    "### Group TOKENS by date:\n",
    "\n",
    "This will create a dataframe with the accumulation of all tokens with the same date to obtain a grouped tokens."
   ],
   "metadata": {
    "collapsed": false,
    "pycharm": {
     "name": "#%% md\n"
    }
   }
  },
  {
   "cell_type": "code",
   "execution_count": 13,
   "outputs": [],
   "source": [
    "df_grouped = df.groupby(df.index).agg({'tokens': lambda x: list(chain(*x.to_list()))})"
   ],
   "metadata": {
    "collapsed": false,
    "pycharm": {
     "name": "#%%\n"
    }
   }
  },
  {
   "cell_type": "markdown",
   "source": [
    "Create dictionary and BOW for grouped tokens:"
   ],
   "metadata": {
    "collapsed": false,
    "pycharm": {
     "name": "#%% md\n"
    }
   }
  },
  {
   "cell_type": "code",
   "execution_count": 19,
   "outputs": [],
   "source": [
    "dictionary_grouped = dictionary_tweets(df['tokens'])"
   ],
   "metadata": {
    "collapsed": false,
    "pycharm": {
     "name": "#%%\n"
    }
   }
  },
  {
   "cell_type": "code",
   "execution_count": 20,
   "outputs": [],
   "source": [
    "X_grouped, doc2bow_grouped = bow_tweets(df_grouped['tokens'], dictionary_grouped)\n",
    "X_train_grouped = train_bow_tweets(X_grouped, min_n_words=3)"
   ],
   "metadata": {
    "collapsed": false,
    "pycharm": {
     "name": "#%%\n"
    }
   }
  },
  {
   "cell_type": "markdown",
   "source": [
    "Save to local:"
   ],
   "metadata": {
    "collapsed": false,
    "pycharm": {
     "name": "#%% md\n"
    }
   }
  },
  {
   "cell_type": "code",
   "execution_count": 14,
   "outputs": [],
   "source": [
    "df_grouped.to_csv(f'{directory}/data/model_data/tweets_tokenize_grouped_v2.csv')"
   ],
   "metadata": {
    "collapsed": false,
    "pycharm": {
     "name": "#%%\n"
    }
   }
  },
  {
   "cell_type": "markdown",
   "source": [
    "Visualization of grouped tokens:"
   ],
   "metadata": {
    "collapsed": false,
    "pycharm": {
     "name": "#%% md\n"
    }
   }
  },
  {
   "cell_type": "code",
   "execution_count": 14,
   "outputs": [
    {
     "data": {
      "text/plain": "<pandas.io.formats.style.Styler at 0x7fe77bc3a730>",
      "text/html": "<style type=\"text/css\">\n#T_c7d35_row0_col0, #T_c7d35_row1_col0 {\n  text-align: left;\n  white-space: wrap;\n}\n</style>\n<table id=\"T_c7d35\">\n  <thead>\n    <tr>\n      <th class=\"blank level0\" >&nbsp;</th>\n      <th id=\"T_c7d35_level0_col0\" class=\"col_heading level0 col0\" >tokens</th>\n    </tr>\n    <tr>\n      <th class=\"index_name level0\" >date_clean</th>\n      <th class=\"blank col0\" >&nbsp;</th>\n    </tr>\n  </thead>\n  <tbody>\n    <tr>\n      <th id=\"T_c7d35_level0_row0\" class=\"row_heading level0 row0\" >2021-02-05</th>\n      <td id=\"T_c7d35_row0_col0\" class=\"data row0 col0\" >['bitcoin', 'eth', 'bullish', 'setups', 'move', 'higher', 'btc', 'would', 'great', 'daily', 'close', 'abo', 'e5jtbaw43h', 'bloomberg', 'lp', 'cryptooutlook', 'cryptocurrency', 'bitcoin', 'crypto', 'blockchain', 'btc', 're2bksq9tw', 'btc', 'selling', 'pressure', 'alert', 'price', 'trading', 'around', 'imb', '1mj8cs1', 'bitcoin', 'btc', 'crypto', 'hyperinflation', 'hit', 'think', 'inflation', 'like', 'flood', 'hard', 'assets', 'gold', 'silver', 'hcgvteqlyz', 'deribot', 'daily', 'trading', 'report', 'utc', 'bitcoin', 'trading', 'robots', 'comparison', 'report', 'balance', 'btc', 'htxawxa', '8en', 'cryptocurrency', 'bitcoin', 'btc', 'eth', 'vzmp', '9arxiu', 'hey', 'guys', 'want', 'buy', 'gaming', 'pc', 'donate', 'please', 'btc', 'address', '1x3u2au3pah8ijyrdyzcycs2fysv4c9tm', 'donate', 'bitcoin', 'btc', 'btc', 'buying', 'pressure', 'alert', 'price', 'trading', 'around', 'imb', '1mj8cs1', 'bitcoin', 'crypto', 'btc', 'eth', 'btc', 'giveaway', 'go', 'eo8157bfrz', 'search', 'spi', 'press', 'star', 'like', 'post', 'scr', 'cbxbrwnopi', 'cryptocurrency', 'works', 'discussed', 'depth', 'charles', 'hoskinson', 'one', 'founders', 'ethereum', 'cardano', 'urddngx', '9wb', 'bitcoin', '38k', 'range', 'change', '24h', 'bitcoin', 'btc', 'meta-transactions', 'enable', 'rsk', 'users', 'pay', 'nil', 'transaction', 'fees', 'aisshwarya', 'tiwari', 'aqn', '31dwtvp', 'j8D20kBlcv', 'crypto', 'bitcoin', 'btc', 'best', 'currency', 'exchange', 'wallet', 'luno', 'start', 'guvxaqujpt', '6yndsl5ruf', 'share', 'happiness', 'become', 'robinhood', 'robinhood', 'btc', 'ethereum', 'bitcoin', 'culenbuycb', 'zdsqyf', '1dxf', 'reasons', 'bitcoin', 'reclaim', '38k', 'putting', 'all-time', 'highs', 'back', 'play', '4robhrincw', 'usdjpy', 'tp2', 'hit', 'pips', 'profit', 'go', 'checkout', 'link', 'bio', 'get', 'amazing', 'signals', 'xauusd', 'gbpusd', 'e1d5mjugi4', 'bitcoin', 'probably', 'going', 'nice', 'move', 'closes', 'daily', 'candle', 'area', 'btc', 'bitcoin', 'bitcoin', 'btc', 'btcusd', 'share', 'happiness', 'become', 'robinhood', 'robinhood', 'btc', 'ethereum', 'tq2hvujrgv', 'let', 'go', 'igetpaidinbitcoin', 'btc', 'bitcoin', 'getoffzero', 'stackingsats', 'ilzw', '99tmvc', 'ankr', 'usd', '1d', 'btc', 'btc', 'bitcoin', 'altcoins', 'ankr', 'crypto', 'eldl', '4teao6', 'reasons', 'bitcoin', 'btc', 'reclaim', '38k', 'price', 'finance', 'money', 'business', 'entrepreneur', 'investment', 'success', '088xai95wn', 'bitcoin', 'btc', 'xbt', 'bitcoin', 'btc', 'range', 'breakdown', '78i43kd44p', 'wale', 'alert', 'one', 'thousandth', 'bitcoin', 'far', 'daughter', 'even', 'married', 'let', 'alo', '7chkvykvtt', 'respect', 'market', 'market', 'reward', 'bitcoin', 'btc', 'dogecointo', '1dollar', 'dogearmy', 'today', 'massive', 'bitcoin', 'altcoins', '100x', 'easy', 'rjh', '3jz9ity', 'via', 'bitcoin', 'btc', 'bitcoinnews', 'btc', 'usd', '1w', 'get', 'hh', 'btc', 'bitcoin', 'altcoins', 'crypto', '5auvhjjm1r', 'grnq', 'launch', 'bitcoin', 'fund', 'q1', 'investing', 'us', 'million', 'grnq', 'also', 'invests', 'cash', 'btc', 'l9rw5hmrvh', 'btc', 'btc', 'bitcoin', 'tradealert', 'fib', 'r3', 'broken', 'price', 'resistance', 'point', 'fibonacci', 'breakout', 'ebon', 'launched', 'simultaneous', 'dogecoin', 'litecoin', 'mining', 'capabilities', 'many', 'listed', 'dodgecoin', 'producers', 'tkmbkpdb', '1y', 'get', 'answers', 'many', 'questions', 'bitcoin', 'article', 'made', 'h7558fgjum', 'btc', 'process', 'breaking', 'long', 'close', 'today', '38k', 'high', 'bitcoin', 'go', 'based', 'mea', 'ckvwqquwox', 'beginning', 'btc', 'bitcoin', 'btc', 'altcoins', 'zrlo', '4emrql', 'btc', 'running', 'bitcoin', 'nfbna', '2waks', 'see', 'hnq', '8tflvaa', 'uses', 'crystal', 'ball', 'bitcoin', 'april', 'bitcoin', 'btc', 'investing', 'crypto', 'cryptocurrencynews', 'crypto', 'rocket', 'eth', 'reach', 'ath', 'btc', 'confirming', 'break', 'ethereum', 'crytocurrency', 'bitcoin', 'tothemoon', 'leiqjcixv', 'right', 'dkvei', '2ayc0', 'referral', 'code', 'helpmehelpyou', 'ng3gl8u9gz', 'bitcoin', 'dominance', 'structure', 'cryptocap', 'btc', 'jcbcrypto', 'btc', 'btc', 'o0o7igwj4d', 'k2s4xbopdy', 'alien', 'soon', 'already', 'one', 'also', 'bitcoin', 'fixes', 'everything', 'btc', 'yfi', 'drained', 'rekt', 'guess', 'defi', 'un-hackable', 'penny', 'thoughts', 'crypto', 'altseason', 'bitcoin', 'qrob', '8isdgw', 'keep', 'eye', 'link', 'link', 'btc', 'bitcoin', 'dogecointothemoon', 'pmfgdbqrer', 'ok', 'think', 'bitcoin', 'almost', 'clear', 'take', 'btc', 'btc', 'btcusd', 'dogearmy', 'ffmhgp', '5fww', 'nigeria', 'using', 'crypto', 'fraud', 'crypto', 'bitcoin', 'btc', 'cbnnigeria', 'eth', 'got', 'new', 'time', 'high', 'new', 'time', 'high', 'btc', 'around', 'corner', \"let's\", 'get', 'ether', 'etherium', 'ethereum', 'bitcoin', 'pyramid', 'scheme', 'promoters', 'btc', 'scam', 'btc', 'bitcoin', 'vcvghrhma', 'xrsr', '11mgit', 'seems', 'never', 'dull', 'week', 'cryptocurrencies', 'recent', 'period', 'support', 'bitcoin', 'gwoztjhnss', 'nigerian', 'government', 'banning', 'crypto', 'currency', 'crazy', 'buhari', 'bitcoin', 'btc', 'v2cqxfyk8q', 'one', 'see', 'huuuge', 'cup', 'handle', 'monthly', 'verge', 'vergecurrency', 'vergefam', 'btc', 'bitcoin', 'r3xeec0ckb', 'doge', 'moon', 'doge', 'dogecointothemoon', 'dogecoin', 'elonmusk', 'elondoge', 'btc', 'bitcoin', 'ethereum', 'eth', 'xrp', 'crypto', 'btc', 'bitcoin', 'price', 'bitcoin', 'suppressed', 'dont', 'fooled', 'resistance', 'bla', 'lo2kfmp2nb', 'rsrbtc', 'getting', 'ready', 'follow', 'retweet', 'free', 'charts', 'rsr', 'btc', 'bitcoin', 'binance', 'crypto', 'defi', 'k5l1xwjgfp', 'leaking', 'hot', 'news', 'big', 'investors', 'coming', 'push', 'btc', '48k', 'btc', 'bitcoin', 'btc', 'eth', 'room', 'bnb', 'xrp', 'bitcoin', 'halving', 'feb', 'days', '3rd', 'halving', 'btc', 'exponential', 'growth', 'znfhr', '2eiaq', 'ready', 'start', 'selling', 'pepper', 'wewantourcryptoback', 'bitcoin', 'endsars', 'endbadgoveranceinnigeria', '7cm1dexnxc', 'gamestop', 'convert', 'balance', 'sheet', 'bitcoin', 'maybe', 'get', 'price', 'back', 'least', 'short', 'term', 'btc', 'got', 'account', 'yet', 'sign', 'referral', 'link', 'get', 'worth', 'bitcoin', 'free', 'win', '1b', 'jauaizhekw', 'reef', 'start', 'mooning', 'btc', 'crypto', 'eth', 'bitcoin', 'maker', 'remains', 'best', 'performing', 'high', 'value', 'defi', 'project', 'done', '5x', 'plus', 'barely', 'months', 'bitcoin', 'crypto', '0tfhcphqt5', 'says', 'bitcoin', 'may', 'rise', '100t', 'market', 'cap', 'new', 'chart', 'shows', 'btc', 'top', 'around', '390k', 'zskte', '9t88n', 'terrifying', 'nobody', 'wants', 'ever', 'hear', 'never', 'speak', 'bitcoin', 'btc', 'i2hzwwnrlo', 'bitcoin', 'preparing', 'massive', 'upswing', 'moment', 'btc', 'cryptocurrency', 'microstrategy', '0vvnbicbgc', 'says', 'gold', 'dead', 'money', 'predicts', 'mass', 'migration', 'bitcoin', 'bitcoin', 'microstrategy', 'gold', '0i6uawdkej', '3btc', 'wallet', 'bringbackourcrypto', 'bitcoin', 'btc', 'crypto', 'buhari', 'kftlvpii', '2a', 'oxt', 'nice', 'push', 'expected', 'continued', 'miss', 'great', 'profit', 'oxt', 'oxtusdt', 'btc', 'bitcoin', 'binance', 'usdt', \"what's\", 'second', 'crypto', 'list', 'want', 'become', 'slaves', 'bitcoin', 'allows', 'free', 'uncont', 'hdjsmqjyxb', 'bet', 'bitcoins', 'cbxlyptm', '2h', 'get', 'btc', 'sign', 'bonus', 'live', 'bitcoin', 'btc', 'bonus', 'bch', 'btc', 'bet', '3edbjgbrg1', 'know', 'bitcoin', 'private', 'public', 'address', 'btc', 'digitally', 'stored', 'someone', 'says', 'rjbkoic', '6ng', 'new', 'chart', 'shows', 'bitcoin', 'bull', 'run', 'beginning', 'infy', '31apiw', 'btc', 'bitcoinnews', 'crypto', 'akmlp', '3t6at', 'would', 'prefer', 'long', 'resistance', 'broken', 'btc', 'btc', 'bitcoin', 's5nsnb7jpo', 'runthenumbers', 'today', 'know', 'btc', 'earn', 'sats', 'month', 'calcu', 'hfsw', '22o5x5', 'btc', 'price', 'bitstamp', 'usd', 'coinbase', 'usd', 'btc', 'bitcoin', 'iw4gsyggar', 'cryptocurrency', 'evolution', 'bitcoin', '1st', 'gen', 'cryptography', 'decentralized', 'proof', 'work', 'ledger', 'wykf', '20thvo', 'determining', 'whether', 'buying', 'security', 'qualifies', 'investing', 'speculation', 'depends', 'three', 'factors', 'risk', '34p3zld6gl', 'neo', 'soon', 'neo', 'neousdt', 'neo', 'btc', 'etherium', 'xrp', 'tether', 'xlm', 'ltc', 'link', 'mana', 'ada', 'doge', 'sxp', 'firo', 'wtc', 'zcssl', '59nj6', '500m', 'btc', 'bought', 'hours', 'saylor', 'conference', 'ezjbi', '4cgl4', 'btc', 'bitcoin', 'cryptocurrency', 'crypto', 'cryptocurrency', 'evolution', 'bitcoin', '1st', 'gen', 'cryptography', 'decentralized', 'proof', 'work', 'ledger', 'j0hmo7sbbx', 'scenario', 'might', 'play', 'btc', 'btc', 'bitcoin', 'trend', 'correction', '34k', 'btcusd', 'tradingview', 'vvuiizrncu', 'bitcoin', 'fiat', 'price', 'last', 'day', 'bfh', '7eftsx8', 'btc', 'bitcoin', 'ggplot', 'kgooaosoow', 'people', 'knew', 'much', 'money', 'bitcoin', 'mining', 'companies', 'make', 'btc', 'price', 'stays', '25k', 'would', 'ul72i5opee', 'still', 'buying', 'btc', 'cbnnigeria', 'rate', 'cryptocurrency', 'bitcoin', 'buhari', 'let', 'get', 'bondly', 'added', 'think', 'great', 'coin', 'make', 'serious', 'be5jiuxhuh', 'download', 'pinetwork', 'new', 'bitcoin', 'million', 'members', 'worldwide', 'currently', 'phase', 'dec', 'ix3bkv1qno', 'good', 'morning', 'everyone', 'except', 'bitcoin', 'portfolio', 'goodmorning', 'btc', 'top', 'central', 'banker', 'gets', 'photobombed', 'bitcoin', 'gpfq', '0bobvo', 'bitcoin', 'btc', 'crypto', 'mhlfshnqgw', 'nzdcad', 'target', 'hit', 'pips', 'profit', 'check', 'bio', 'get', 'telegram', 'link', 'free', 'forex', 'crypto', 'channel', 'chee', 'wcyrlyjto', 'best', 'place', 'lend', 'bitcoin', 'rzhojxznlz', 'bitcoin', 'btc', 'cryptocurrency', 'crypto', 'install', 'presearch', 'browser', 'extension', 'earn', 'easy', 'money', 'browsing', 'ffvga', '1uqdx', 'crypto', 'win', 'kjvbahhtii', 'another', 'protest', 'view', 'bitcoin', 'btc', 'endbadgoveranceinnigeria', 'join', 'nai', '1swimhw', 'write', 'articles', 'earn', 'earn', 'bch', 'daily', 'minimum', 'withdraw', 'follo', 'pfqxpedhfb', 'sign', 'cointiply', 'claim', 'hourly', 'bitcoin', 'play', 'games', 'earn', 'try', 'multiplier', 'win', 'big', 'myx', '9vgyxzd', 'install', 'mobilio', 'earn', 'rewards', 'using', 'phone', 'driving', 'claim', 'free', 'points', 'use', 'code', '3i33t', 'igigpipaix', 'sign', 'autofaucet', 'withdrawal', 'minimum', 'claim', 'daily', 'crypto', 'tasks', 'mining', 'ymsquu', '00qv', 'daily', 'bitcoin', 'routine', 'k0dclfchos', 'bitcoin', 'btc', 'cryptocurrency', 'giving', 'going', 'way', 'started', '5k', '750crypto', 'cryptoking', 'crypto', 'elonmusk', 'sky', 'dot', 'polkadot', 'xlpotrk', '3n', 'shop', 'mclaren', 'mp4', '12c', 'cryptocurrency', 'pics', 'specs', '0yzyy3at0k', 'crypto', 'cryptocurrency', '6a8fxqlzmv', 'bitcoin', 'btc', 'price', 'change', '1h', 'market', 'cap', 'ranking', 'bitcoin', 'btc', 'nice', 'see', 'tron', 'price', 'time', 'action', 'trx', 'bitcoin', 'btc', 'bidytron', 'congrats', 'klv', 'listing', 'kucoin', 'klever', 'kucoin', 'bitcoin', 'btc', 'eth', 'trx', 'xrpcommmunity', 'tdsokgnsjd', 'pro', 'crypto', 'argument', 'adding', 'btc', 'balance', 'sheet', 'fuels', 'doubt', 'entire', 'monetary', 'sbrofvvh', '8p', 'coinbase', 'invests', 'defi', 'rarible', 'nfts', 'gexjvtat', '3d', 'blockchain', 'newsblockchain', 'bitcoin', 'defi', 'y7kaptpqyr', 'nigeria', 'right', 'weak', 'government', 'bitcoin', 'btc', 'binance', 'nigerianeedscrypto', 'xi7z6hgwdv', 'good', 'press', 'btc', 'btc', 'bitcoin', 'eth', 'eth', 'ethereum', 'crypto', 'xzpdy', '1xnm7', 'qubittech', 'earn', 'btc', 'eth', 'millionaire', 'opportunity', 'qubittech', 'qubittech', 'sign-up', 'qpcj', '4sah4r', 'btmjfvzgul', 'owning', 'bitcoin', 'bigger', 'risk', 'owning', 'btc', 'earn', 'cashback', 'every', 'purchase', 'make', 'paid', 'cryptocurrency', 'jbtdgs', '0pub', 'bitcoin', 'btc', 'tothemoon', 'bch', 'utc', 'btc', 'prices', 'fall', 'currently', 'falling', 'change', 'since', 'midnight', 'bitcoin', 'btcusd', 'l6a46jdhbm', 'seized', 'anything', 'blockchain', 'keys', 'bitcoin', 'btc', 'sgad', '7jatig', 'ripple', 'vs', 'bitcoins', 'comparison', 'discover', 'fgzdtvrtta', 'bitcoin', 'btc', 'bitcoinnews', 'blockchain', 'xdgcc', '0zqf1', 'conversation', 'bank', 'week', 'talked', 'investments', 'bitcoin', 'white', 'shark', 'bank', 'wrjo', '9zcqiv', 'eth', 'sky-rocketing', 'continues', 'lol', '5bnxyrp', 'bitcoin', 'btc', 'ethereum', 'fintech', 'crypto', 'blockchain', 'cwega', '1np9k', 'bitcoin', 'btc', 'mmcrypto', 'urgent', 'emergency', 'bitcoin', 'ethereum', 'altcoins', 'go', 'crazy', 'toda', 'g4zaocjbxq', 'via', 'one', 'wey', 'piggy', 'vest', 'dey', 'trend', 'wetin', 'dey', 'occur', 'piggyvest', 'bitcoin', 'cryptocurrency', 'btc', 'endsars', 'imagine', 'social', 'media', 'bill', 'executed', 'cbn', 'bans', 'bitcoin', 'crypto', 'trading', 'say', 'citizen', 'must', 'ns09gxqdzj', 'nigeria', 'central', 'bank', 'crypto', 'dealing', 'cryptocurrencies', 'facilitating', 'payments', 'cryptocurrency', 'exchange', 'ys4ftiwscg', 'weekly', 'crypto', 'report', 'great', 'shape', 'read', 'rhmsorkwru', 'bitcoin', 'eth', 'cryptocurrency', 's3pdqrg7lj', 'crypto', 'fundamentally', 'btc', 'bitcoin', 'made', 'past', 'months', 'enjoyable', 'say', 'least', 'bitcoin', 'btc', 'bitcointube', 'stanley', 'druckenmiller', 'interviewed', 'goldman', 'sachs', 'bitcoin', 'american', 'dream', 'hpdgk', '31yyn', 'crypto', 'cryptocurrency', 'bitcoin', 'btc', 'ethereum', 'airdrop', 'cryptowallet', 'cryptocurrencies', 'initiativeq', 'pinetwork', 'eggrai', '4lz', 'btc', '4h', 'investment', 'advice', 'idea', 'btcusd', 'bitcoin', 'vyuvxpdctj', \"let's\", 'see', 'ripplenet', 'crypto', 'cryptocurrency', 'ripplenews', 'bitcoin', 'btc', 'first', 'graph', 'eth', 'second', 'graph', 'hex', 'ready', 'enough', 'stake', 'hex', 'get', 'yoezhe', '6qlz', 'imagine', 'social', 'media', 'bill', 'executed', 'cbn', 'bans', 'bitcoin', 'crypto', 'trading', 'say', 'citizen', 'must', '0mqwrrfv77', 'gjjwvcdch', 'doag', '6uko9w', 'amazoncoin', 'ama', 'amazon', 'coin', 'finance', 'green', 'qeabstjqah', 'big', 'sats', 'index', 'feb', 'buy', 'lot', 'big', 'macs', 'one', 'bitcoin', 'big', 'mac', 'sats', 'btc', 'hmupbl', '4bvy', 'crypto', 'pump', 'live', 'j7qz6ltk8b', 'watch', 'crypto', 'pump', 'live', 'cryptocurrency', '9pmpump', 'binance', 'coinbase', 'bf6fdpnkxa', 'bitcoin', 'btc', 'dollar', 'bitcoin', 'cash', 'bch', 'dollar', 'ethereum', 'eth', 'dollar', 'ohpyooltpy', 'coin', 'short', 'term', 'signal', 'buy', 'within', '5mins', 'max', 'perfect', 'buy', 'target', 'target', 'zjkio', '5ssco', 'mycryptojourney', 'day', 'late', 'buy', 'binance', 'vib', 'crypto', 'bitcoin', 'cryptocurrency', 'binance', 'btc', 'appzkowcmx', 'btc', 'buying', 'pressure', 'alert', 'price', 'trading', 'around', 'imb', '1mj8cs1', 'bitcoin', 'crypto', 'btc', 'depth', 'vf', 'profile', 'rise', 'one', 'fascinating', 'stories', 'crypto', 'exch', 'soqygynkyz', 'bitcoin', 'vs', 'nobitcoin', 'bitcoin', 'cryptocurrency', 'btc', 'prr', '1q3annu', 'dogecointoadollar', 'remember', 'buy', 'keep', 'ignore', 'whales', 'never', 'sell', 'low', 'dogetothemoon', 'dogecoinarmy', 'k65rue6uuc', 'xzc', 'buy', 'signal', 'pair', 'xzc', 'usdt', 'signal', 'hidden', 'bullish', 'divergence', 'day', 'price', 'btc', 'bitcoin', 'a7nfckxmgp', 'top', 'around', '390k', 'new', 'chart', 'shows', 'bitcoin', 'bull', 'run', 'beginning', 'btc', 'bitcoin', 'gcuy', '8bnl0t', 'bitcoin', 'btc', 'showing', 'bullish', 'upward', 'wedge', 'breaks', 'going', 'crazy', 'new', 'ath', 'close', 'th', '7ejwxa5c11', 'read', 'articles', 'market', 'roamers', 'get', 'result', 'doge', 'xrp', 'recommend', 'eqluy', '5wshu', 'blockchain', 'innovation', 'done', 'polkadot', 'way', 'according', 'gavin', 'wood', 'altcoins', 'bitcoin', 'news', 'btc', 'eth', 'xrp', 'hgsc', '1bzvag', 'h0xwfzigqm', 'market', 'wrap', 'bitcoin', 'rises', 'ether', 'new', 'high', 'takes', 'spotlight', 'afwu', '25olzf', 'also', 'missing', 'argument', 'bitcoin', 'agzwykkce', 'world', 'crypto', 'enter', 'case', 'nigerians', 'second', 'buyers', 'crypto', 'crypto', 'vq8ncfipx6', 'pi', 'network', 'crypto', 'mine', 'phone', 'free', 'check', 'mur', '8l1sbkw', 'btc', 'xurlysxek', 'scam', 'bigpumpsignal', 'binance', 'btc', 'bitcoin', 'ethereum', 'vib', 'vib', 'j9unfvtljc', \"i'll\", 'back', 'later', 'dont', 'burn', 'internet', 'ct', 'im', 'gone', 'thanks', 'lol', 'bitcoin', 'btc', 'xrp', 'eth', 'ada', 'hbar', 'xlm', 'zdsqyf', '1dxf', 'altcoins', 'soar', 'multi-year', 'highs', 'bitcoin', 'price', 'gathers', 'steam', 'og979f5hkj', 'australia', 'central', 'bank', 'says', 'bitcoin', 'really', 'money', 'risk', 'financial', 'stability', 'btc', 'bitcoin', 'yd3acvj2gs', 'peak', 'btc', 'volume', 'trading', 'across', 'major', 'exchanges', 'price', 'trading', 'around', 'bitcoin', 'crypto', 'btc', 'imb', '1mj8cs1', 'australian', 'pleads', 'guilty', 'million', 'crypto', 'fund', 'scam', '7jg1dsdjbc', 'btc', 'bitcoinnews', 'bitcoin', 'btc', 'bitcoin', 'crypto', 'fire', 'weekend', 'fire', 'v7qfxetdjo', 'herotag', 'egld', 'btc', 'bitcoin', 'top', 'trading', 'volume', 'last', 'hours', 'btc', 'btc', 'bitcoin', 'cryptocurrency', 'ke7shqm6tn', 'l4iyeomeu', 'feels', 'like', 'something', 'new', 'brewing', 'defi', 'pumps', 'welcome', 'future', 'ethereum', 'defi', '35j7em2jgp', 'warning', 'pragma', 'outside', 'project', 'alert', 'signals', 'careful', 'emilynews', 'invest', 'hyips', 'bitcoin', 'crypto', 'btc', 'ty2wkvhb4f', 'creamcoin', 'marketing', 'get', 'banner', 'creamcoin', 'bitcoin', 'banner', 'marketing', 'pay', 'crm', 'lcvarmyhmv', 'grayscale', 'bitcoin', 'trust', 'grew', 'came', 'institutions', 'bitcoin', 'btc']</td>\n    </tr>\n    <tr>\n      <th id=\"T_c7d35_level0_row1\" class=\"row_heading level0 row1\" >2021-02-06</th>\n      <td id=\"T_c7d35_row1_col0\" class=\"data row1 col0\" >['institutional', 'investment', 'keep', 'pouring', 'bitcoin', 'ehsnhs', '5qen', 'btc', 'bitcoin', 'btc', 'bitcoin', 'know', 'wsb', 'money', 'going', 'wallstreetbets', 'gme', 'amc', 'coinbase', 'rhh', '3jque0c', 'utc', 'btc', 'prices', 'continue', 'rise', 'change', 'since', 'midnight', 'bitcoin', 'btcusd', 'btcusd', 'gi41fia2wa', 'btc', 'bitcoin', 'way', 'xvylbbwriu', 'keep', 'going', 'btc', 'bitcoin', 'bitcoin', 'rocks', 'shocks', 'unbelievable', 'happens', 'moment', 'looks', 'one', 'loose', 'cent', 'eve', 'lzfmxfxxaa', 'bullshit', 'bullish', 'shit', 'btc', 'bitcoin', 'btc', 'ncvvfmlk', '1h', 'made', 'batch', 'bitcoin', 'decals', 'cryptocurrency', 'crypto', 'stickers', 'btc', 'forsale', 'gold', 'tothemoon', 'x6vpl4rppx', 'would', 'recommend', 'btc', 'round', 'bitcoin', 'heard', 'xbt', 'good', 'worst', 'part', 'weekend', 'markets', 'closed', 'hand', 'crypto', 'never', 'closes', 'crypto', 'bmwxwsz', '7r2', 'sail', 'us', 'future', 'bring', 'along', 'bitcoin', 'ehy', '1ppqmmg', 'hands', 'treated', 'amc', 'dogecoins', 'dogecointothemoon', 'amcstock', 'wallstreetsbets', 'gamestop', 'fktukddivq', 'bitcoin', 'btc', 'current', 'price', 'hour', 'hours', 'days', 'btc', 'bitcoin', '39k', 'bitcoin', 'notice', 'btc', 'leads', 'alts', 'fall', 'btc', 'bitcoin', 'good', 'thing', 'btc', 'bitcoinprice', 'bitcoin', 'crytocurrency', 'sdcm', '0pnsqm', 'alameda', 'research', 'acquihires', 'defi', 'project', 'ren', 'read', 'jkjw', '30i4hb', 'alamedaresearch', 'defi', 'ren', '9rdp3j1njp', 'yet', 'check', 'new', 'hex', 'crypto', 'pendant', 'preorder', 'today', 'cbi', '0hdhobi', '2nd', 'ay7tdtwain', 'algo', 'buy', 'signal', 'pair', 'algo', 'btc', 'signal', 'hidden', 'bull', 'divergence', '4h', 'price', 'btc', 'bitcoin', '9twrvhhmj', 'forget', 'bitcoin', 'pendant', 'well', 'share', 'btc', 'crypto', 'lovers', 'get', '0vr3rjzo7c', 'michael', 'saylor', 'aka', 'bitcoin', 'jesus', 'roasting', 'peter', 'schiff', 'bitcoin', 'btc', 'btc', 'qcpgvl', '9cze', 'us', 'library', 'congress', 'report', 'proof-of-stake', 'mechanism', 'tax', 'blindspot', 'taxman', 'still', 'wise', 'lnuoaon', '9jc', 'bitcoin', 'blocks', 'size', 'distribution', 'per', 'pool', 'last', 'month', 'bfh', '7eftsx8', 'btc', 'bitcoin', 'ggplot', 'ybgzfpiye', 'juld', 'bnb', 'binance', 'bnb', 'bsc', 'binancesmartchain', 'btc', 'bitcoin', 'btc', 'eth', 'uni', 'sushi', 'cake', '1inch', 'link', 'qbwqppzyzc', 'btc', 'going', 'signal', 'minute', 'chart', 'price', 'bitcoin', 'fx', 'btc', 'crypto', 'btc', 'going', 'signal', 'minute', 'chart', 'price', 'bitcoin', 'fx', 'btc', 'crypto', 'road', 'bitcoin', 'btc', 'crypto', 'cgfr', '2stgnt', 'breaking', 'ceo', 'told', 'twitter', 'followers', 'tweet', 'runs', 'bitcoin', 'node', 'software', 'poybeaqxei', 'bitfinex', 'says', 'repaid', 'tether', '550m', 'loan', 'center', 'nyag', 'probe', 'sgmnlkyjaw', 'currencytimes', 'btc', 'coindesk', 'bitcoin', 'tron', 'btc', 'bitcoin', 'getting', '50k', 'next', 'week', 'next', 'month', 'near', 'end', 'think', 'hr6gmlborx', '0x', 'labs', 'closes', '15m', 'fundraising', 'round', 'zrx', 'finds', 'defi', 'market', 'fit', 'goiqo', '9ends', 'crypto', 'cryptofollower', 'qwtgcnqgj', 'travis', 'kling', 'fed', 'era', 'thing', 'market', 'fundamentals', 'lf5nzbrgfk', 'crypto', '1yavdto1wq', 'bitcoin', 'bitcoin', 'btc', 'btcusd', 'altcoins', 'hit', 'multi-year', 'highs', 'price', 'bitcoin', 'gains', 'momentum', '40k', 'mark', 'next', 'sprint', 'ubsubphcmq', 'btc', 'bitcoin', 'exploding', 'mkt', 'knows', 'us', 'money', 'head', 'straight', 'said', 'arb', 'could', 'double', 'yrznrlmy', '5h', 'better', 'way', 'start', 'saturday', 'bitcoin', 'btc', 'btc', 'crypto', 'upgxjayssz', 'btc', 'also', 'forming', 'ascending', 'triangle', 'want', 'show', 'yesterday', 'think', 'pretty', 'stupid', '0bj1bac7k7', 'btc', 'buying', 'pressure', 'alert', 'price', 'trading', 'around', 'imb', '1mj8cs1', 'bitcoin', 'crypto', 'btc', 'bitcoin', 'bitcoin', 'btc', 'btcusd', 'bitcoin', 'btc', 'price', 'change', '1h', 'market', 'cap', 'ranking', 'bitcoin', 'btc', 'endsars', 'bitcoin', 'btc', \"can't\", 'stop', 'ordained', 'god', 'utc', 'btc', 'prices', 'continue', 'rise', 'change', 'since', 'midnight', 'bitcoin', 'btcusd', 'btcusd', '1o7uzqasq7', 'congratulations', 'klever', 'klever', 'kucoin', 'hpum', '1efmfs', 'endsars', 'think', 'time', 'pushed', 'wall', 'must', 'react', 'nigerianeedscrypto', 'qjh', '5sxb686', 'bitcoin', 'whales', 'buying', 'weak', 'hands', 'bitcoin', 'btc', 'approaches', 'retail', 'investors', 'lose', 'holdings', 'vdoa', '5siqiy', 'boom', 'shaka', 'laka', 'laka', 'boom', 'qnt', 'gets', 'listed', 'muh', 'tier', 'btc', 'eth', 'link', 'xrp', 'btc', 'bitcoin', 'aej', '1ojhrvx', 'monster', 'running', 'hi', 'btc', 'bitcoin', 'btc', '100k', 'moon', 'year', 'peak', 'btc', 'volume', 'trading', 'across', 'major', 'exchanges', 'price', 'trading', 'around', 'bitcoin', 'crypto', 'btc', 'imb', '1mj8cs1', 'buyer', 'alert', 'btc', 'bought', 'market', 'bitcoin', 'crypto', 'btc', 'imb', '1mj8cs1', 'good', 'morning', 'ct', 'bnb', 'new', 'ath', 'bullish', 'market', 'hope', 'make', 'today', 'btw', 'btc', '50k', 'ralxlfsr', 'dock', 'dock', 'usdt', 'usdt', 'btc', 'btc', 'bitcoin', 'pzpfy', '9tul4', 'ralg', '6wbqmw', 'bitcoin', 'btc', 'current', 'price', 'gbp', 'like', 'updates', 'tip', '3l9dztlqrcxnpn89v6gfnrbaz95uq5vmrz', 'congratulations', 'bitcoin', 'btc', 'back', '40k', 'wmz', '9o3iqhh', 'bitcoin', 'surpasses', 'first', 'time', 'since', 'january', 'crypto', 'btc', 'btc', 'add', 'really', 'flat', 'flat', 'abc', 'pool', 'possible', 'ew', 'counts', 'black', 'iv', 'bitcoin', 'btc', 'btcusd', 'iydxmqhmof', 'bitcoin', 'recently', 'hit', '40k', 'bitcoin', 'btc', 'letsgetit', 'utc', 'btc', 'prices', 'continue', 'rise', 'change', 'since', 'midnight', 'bitcoin', 'btcusd', 'btcusd', 'x3ur5tnf78', 'bitcoin', 'multi', 'trillion', 'dollar', 'market', 'cap', 'destroyer', 'banks', 'understand', 'happening', 'bankers', 'g6lo5m9yjg', 'download', 'beenetwork', 'new', 'bitcoin', '3mil', 'members', 'halving', 'next', 'milestone', '10m', 'members', 'clai', '3vxoufogp0', 'join', 'nai', '1swimhw', 'write', 'articles', 'earn', 'earn', 'bch', 'daily', 'minimum', 'withdraw', 'follo', 'ccunufdkjx', 'buy', 'rare', 'xlbjh', '2koor', '23m3lqzp1r', 'crypto', 'invest', 'cryptoinvest', 'btc', 'bitcoin', 'eth', 'ethereum', 'avax', 'xrp', 'trx', 'zdsqyf', '1dxf', 'bitcoin', 'eyes', '50k', 'less', 'month', 'btc', 'price', 'broke', 'all-time', 'high', 'm4jha8lrmx', 'easily', 'start', 'investment', 'bwdqnpnqeu', 'bitcoin', 'btc', 'ethereum', 'eth', 'ripple', 'xrp', 'tether', 'erhk', '8zb4ob', 'stay', 'away', 'scammers', 'nothing', 'fake', 'accounts', 'lex', 'elxis', 'elxisenergy', 'btc', 'ranoq', '0hig7', 'bitcoin', 'price', 'hits', '40k', 'go', 'new', 'all-time-high', 'written', 'bull', 'run', 'qtu', '4hc5zlg', 'ripple', 'xrp', 'news', 'q4', 'xrp', 'report', 'released', '6rv4hy729q', 'ada', 'bearablebull', 'bitcoin', 'zhxbjryegz', 'via', 'buy', 'signal', 'pair', 'via', 'btc', 'signal', 'hidden', 'bull', 'divergence', '4h', 'price', 'btc', 'bitcoin', 'pl6ljkv2d3', 'interesting', 'axn', 'btc', 'eth', 'used', 'late', 'read', 'axionnetwork', '1k9rl1xziv', 'elon', 'musk', 'changed', 'bio', 'bitcoin', 'last', 'week', 'moved', 'market', 'bitcoin', 'fjerqam', '31j', 'sunday', 'matchday', 'join', 'telegram', 'channel', 'rwdtqaxas', 'info', 'gixr', '3bjsck', 'unlike', 'early', 'web', 'crypto', 'need', 'state', 'patronage', 'vk0lr7gktc', 'crypto', 'cryptofollower', 'ombivh', '9aja', 'great', 'modern', 'art', 'away', 'last', 'ath', 'bitcoin', 'btc', 'wkmykhrmc', 'think', 'middle', 'february', 'think', 'bitcoin', 'cryptocurrency', 'crypto', 'btc', 'ethereum', 'hc3hlsjxbr', 'doge', 'dogecoin', 'dogetothemoon', 'bitcoincash', 'bitcoin', 'btc', 'crypto', 'elonmusk', 'lead', 'us', 'get', 'mars', 'kybjp', '2r6gr', 'done', 'kleverfriday', 'giveaway', 'klever', 'kucoin', 'bitcoin', 'btc', 'eth', 'trx', 'xrp', 'crv', 'buy', 'signal', 'pair', 'crv', 'btc', 'signal', 'hidden', 'bull', 'divergence', '4h', 'price', 'btc', 'bitcoin', '4alz6iyamm', 'alpha', 'buy', 'signal', 'pair', 'alpha', 'usdt', 'signal', 'hidden', 'bull', 'divergence', '4h', 'price', 'btc', 'bitcoin', '9blxbtqseh', 'look', 'boom', 'moon', 'start', 'yffii', 'yffii', 'target', 'ahead', 'hold', 'hold', 'hold', 'hold', 'ttrayfxtk', 'ctsi', 'buy', 'signal', 'pair', 'ctsi', 'usdt', 'signal', 'hidden', 'bull', 'divergence', '4h', 'price', 'btc', 'bitcoin', 'h1tnhe4ztb', 'bitcoin', 'price', 'approaching', 'resistance', 'looking', 'pullback', 'consolidation', 'rly', 'xxpz', '9qvd5v', 'hodl', 'bitcoin', 'btc', 'nano', 'buy', 'signal', 'pair', 'nano', 'btc', 'signal', 'bull', 'reversal', 'divergence', '4h', 'price', 'btc', 'bitcoin', 'bjd', '7u7bxur', 'bitcoin', 'passed', '40k', 'lfg', 'btc', 'bitcoin', 'hold', 'doge', 'multiple', 'trades', 'instead', 'bitcoin', 'btc', 'dogecointothemoon', 'b9gqwgltx4', 'btc', 'price', 'bitstamp', 'usd', 'coinbase', 'usd', 'btc', 'bitcoin', 'igmt', '87conn', 'imagine', 'sold', 'btc', '12k', 'diamond', 'hands', 'nothing', 'btc', 'bitcoin', 'diamondhands', 'vhegvuyx', '9v', '7btljplr4j', 'bitcoin', 'climbs', 'past', '40k', 'analyst', 'expects', 'another', 'jump', 'btc', 'value', 'eth', 'taps', 'new', 'highs', 'zz4271ofdz', 'bitcoin', 'climbs', 'level', 'weekend', 'trade', 'btc', 'bitcoin', 'llclmxv', '9rw', 'btc', 'btc', 'bitcoin', 'closed', 'trade', 'profit', 'via', '6zugg3qm5q', 'downloaded', 'voyager', 'got', 'dogecoin', 'doge', 'like', 'minutes', 'use', 'code', '489b01', 'get', 'enmkq', '4okwl', 'downloaded', 'voyager', 'got', 'dogecoin', 'doge', 'like', 'minutes', 'use', 'code', 'uugzqscxoi', 'downloaded', 'voyager', 'got', 'dogecoin', 'doge', 'like', 'minutes', 'use', 'code', '489b01', 'get', 'bitcoin', 'btc', 'btc', 'store', 'value', 'mode', 'payment', 'never', 'sell', 'bitcoin', 'downloaded', 'voyager', 'got', 'dogecoin', 'doge', 'like', 'minutes', 'use', 'code', '489b01', 'get', 'bitcoin', 'btc', 'insance', 'thats', 'huge', 'sell', 'wall', 'pretty', 'sure', 'later', 'tonight', 'still', 'pumping', 'bitcoin', 'cxbj', '6gnnrv', 'right', 'dkvei', '2ayc0', 'referral', 'code', 'helpmehelpyou', 'sujscwyo', 'downloaded', 'voyager', 'got', 'dogecoin', 'doge', 'like', 'minutes', 'use', 'code', '489b01', 'get', '9thsgwu2ne', 'china', 'control', 'mining', 'bitcoin', 'federal', 'reserve', 'would', 'helping', 'finance', '5ncumekezt', 'btc', 'back', '40k', 'month', 'falling', 'resistance', 'moving', 'forward', 'maybe', 'squvcb', '24cl', 'morning', 'everyone', 'preordered', 'new', 'hex', 'pendant', 'yet', 'left', 'preorder', 'claim', 'check', 'preorde', 'zwjifa', '6ebe', 'got', 'called', 'bitcoin', 'maxi', 'troll', 'lmfao', 'wish', 'someone', 'told', 'sooner', 'bought', 'xt9oued7or', 'timestamp', 'btc', 'cryptocurrency', 'crypto', 'bitcoin', 'blockchain', 'rmzk', '2m3squ', 'big', 'long', 'bag', 'coming', 'btc', 'bitcoin', 'futurestrading', '100x', 'leverage', 'customer', 'friendly', 'bo', '5s99nf0bti', 'wvp', '7mjchbj', '27xr2werdn', 'forsale', 'sedo', 'taking', 'offers', 'blockchain', 'fintech', 'smscwhhdl', 'bitcoin', 'btc', 'rallying', 'weekend', 'surprise', 'bridgewater', 'piece', 'last', 'week', 'sensitivity', 'analysis', 'showed', 'estimates', 'bitcoin', 'price', 'shou', 'dkas', '1vze3h', 'bitcoin', 'might', 'widely', 'accepted', 'soon', 'says', 'elon', 'musk', 'cryptocurrency', 'bitcoin', 'crypto', 'blockchain', 'btc', 'oiaw', '36b7w7', 'bitcoin', 'btc', 'current', 'price', 'gbp', 'like', 'updates', 'tip', '3l9dztlqrcxnpn89v6gfnrbaz95uq5vmrz', 'bitcoin', 'btc', 'exhibits', 'extreme', 'bullish', 'sentiment', 'move', 'past', '41k', 'y85re3pntd', 'bitcoin', 'crypto', '1yszojsmy6', 'bitcoin', 'bitcoin', 'btc', 'btcusd', 'loom', 'buy', 'signal', 'pair', 'loom', 'btc', 'signal', 'bull', 'reversal', 'divergence', '4h', 'price', 'btc', 'bitcoin', 'xi3svp2ztn', 'sevenplus', 'bitenium', 'medicaltextile', 'sportswear', 'co2', 'undergarments', 'bitcoin', 'cryptocurrency', 'blockchain', 'defi', 'vrnd', '3lgbgs', 'bitcoin', 'surged', 'past', 'j4pi6dlvmk', 'via', 'btc', 'bitcoin', 'histogram', 'bitcoin', 'fiat', 'price', 'last', 'month', 'bfh', '7eftsx8', 'btc', 'bitcoin', 'ggplot', 'faoyy', '18ccb', 'invest', 'bitcoin', 'stock', 'market', 'gbtc', 'fund', 'tracks', 'almost', 'daily', 'usd', 'btc', 'price', 'public', 'nvl', '4arnx8r', 'iota', 'end', 'march', 'usd', 'mark', 'words', 'buy', 'cry', 'later', 'iota', 'sleeping', 'giant', 'btc', 'xrp', 'ada', 'eth', 'doge', 'bnb', 'bitcoin', 'btc', 'sevenplus', 'bitenium', 'medicaltextile', 'sportswear', 'co2', 'undergarments', 'bitcoin', 'cryptocurrency', 'blockchain', 'defi', 'faj', '7rliel8', 'xiv', 'counter', 'volatility', 'decentralized', 'defi', 'platform', 'allows', 'users', 'take', 'lagthkmiak', 'bet', 'bitcoin', 'eth', 'bch', 'usdt', 'click', 'k2iipeghgf', 'deposit', 'bonus', 'btc', 'oa0h8qxtzt', 'used', 'buy', 'marijuana', 'bitcoin', 'hindsight', 'maybe', 'best', 'idea', 'btc', 'dxy', 'wants', 'btc', 'aka', 'bitcoin', 'dead', 'wallstreet', 'forex', 'riv', '2eq571r', \"world's\", 'leading', 'crypto', 'currency', 'exchange', 'earn', 'cryto', 'sleep', 'binance', 'glt', '5ccmof', 'answer', 'universe', 'bitcoin', 'btc', 'btcusd', 'happy', 'birthday', 'bitcoin', 'come', 'long', 'way', 'think', 'better', 'way', 'celebrate', 'chocolate', 'cak', 'nfohuofpgc', 'btc', 'going', 'signal', 'minute', 'chart', 'price', 'bitcoin', 'fx', 'btc', 'crypto', 'doge', 'hours', 'ago', 'dogearmy', 'dogecoin', 'dogecointoadollar', 'doge', 'wallstreebets', 'wsb', 'trx', 'xrpcommunity', 'b2b5pxdfmx', 'bnt', 'buy', 'signal', 'pair', 'bnt', 'btc', 'signal', 'hidden', 'bull', 'divergence', '4h', 'price', 'btc', 'bitcoin', 'cvpiwgsw', '5b', 'hjieijyxrv', 'bitcoin', '29k', '21st', 'jan', 'today', '40k', 'last', 'days', 'could', 'jzzff', '5rc20', 'btc', 'price', 'bitstamp', 'usd', 'coinbase', 'usd', 'btc', 'bitcoin', 'zzitvqwmqi', 'got', 'friends', 'market', 'buying', 'cardano', 'ada', 'telling', 'wait', 'day', 'two', 'saying', 'bra', 'p7uxjscebj', 'bitcoin', 'btc', 'defi', 'cryptocurrency', 'akoewg', '5ogm', 'faith', 'make', 'things', 'easy', 'makes', 'possible', 'btc', 'bitcoin', 'itibp', '5sqkc', 'cryptocurrency', 'beginners', '41ldxyhzdj', 'crypto', 'bitcoin', 'cryptocurrency', 'blockchain', 'btc', 'ethereum', 'mjmxguds', '6i', 'sun', 'feb', 'gmt', 'leagueoflegends', 'time', 'make', 'prediction', 'co1rldq8st', 'lng', 'esp', 'jub', '2h3tcvu', 'seller', 'alert', 'btc', 'sold', 'bid', 'imb', '1mj8cs1', 'bitcoin', 'crypto', 'btc', 'best', 'one', 'yet', 'challenge', 'btc', 'bitcoin', 'crypto', 'ieo', 'xrp', 'ethereum', 'cryptocurrency', 'blockchain', 'tt9rlpczvi', 'betfury', 'bfg', 'going', 'added', 'big', 'exchanges', 'cryptoaudiking', 'dziolj', '2yai', 'via', 'btc', 'ixwomsp', '7yg', 'dogecoin', 'hit', 'follow', 'button', 'elonforpresident', 'eastmankodak', 'kodk', '5crmyrvfli', 'dogecoin', 'hit', 'follow', 'button', 'elonforpresident', 'eastmankodak', 'kodk', 'nows', '8kbhsu', 'dogecoin', 'hit', 'follow', 'button', 'elonforpresident', 'eastmankodak', 'kodk', 'wallstreetbets', 'nzhorl', '8wve', 'share', 'happiness', 'free', 'soul', 'btc', 'ethereum', 'bitcoin', 'crypto', 'defi', 'dogecoins', '1ryuanlypv', 'open', 'beta', 'saiξve', 'start', 'bitcoin', 'elonmusk', 'blockchain', 'cryptocurrency', 'savings', 'peculium', 'binance', 'ada', 'eth', '1silxwmudc', 'snoop', 'bullish', 'wsb', 'wallstreetbets', 'wsbarmy', 'doge', 'dogecoin', 'dogecoinarmy', 'dogearmy', 'dogecointothemoon', 'jpadrbbdtc', 'cool', 'bitcoin', 'care', 'btc', 'flips', 'tsla', 'gain', 'initiate', 'moonshot', 'mission', 'towards', '50k', 'btc', 'btc', 'bitcoin', 'crypto', 'hit', '5jjvgvu', 'utc', 'btc', 'prices', 'fall', 'currently', 'falling', 'change', 'since', 'midnight', 'bitcoin', 'btcusd', '68ri5zpk1b', 'businesses', 'use', 'commercial', 'open-source', 'container', 'management', 'tools', '100daysofcode', 'twitch', 'youtube', 'btc', 'zvupqyjotk', 'cryptocurrencies', 'update', 'bitcoin', 'ethereum', 'ripple', 'dogecoin', 'litecoin', 'dcov', '23yeui', 'target', 'bitcoin', 'btc', 'c5xkxtmmmd']</td>\n    </tr>\n  </tbody>\n</table>\n"
     },
     "execution_count": 14,
     "metadata": {},
     "output_type": "execute_result"
    }
   ],
   "source": [
    "# Group by date as single documents, to process BOW\n",
    "df.groupby(df.index).agg({'tokens': lambda x: list(chain(*x.to_list()))})[:2].style.set_properties(**{\n",
    "    'text-align' : 'left',\n",
    "    'white-space': 'wrap'\n",
    "})"
   ],
   "metadata": {
    "collapsed": false,
    "pycharm": {
     "name": "#%%\n"
    }
   }
  }
 ],
 "metadata": {
  "kernelspec": {
   "display_name": "Python 3",
   "language": "python",
   "name": "python3"
  },
  "language_info": {
   "codemirror_mode": {
    "name": "ipython",
    "version": 2
   },
   "file_extension": ".py",
   "mimetype": "text/x-python",
   "name": "python",
   "nbconvert_exporter": "python",
   "pygments_lexer": "ipython2",
   "version": "2.7.6"
  }
 },
 "nbformat": 4,
 "nbformat_minor": 0
}