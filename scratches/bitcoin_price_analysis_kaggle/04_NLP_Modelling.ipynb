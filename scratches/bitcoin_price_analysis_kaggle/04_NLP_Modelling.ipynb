{
 "cells": [
  {
   "cell_type": "code",
   "execution_count": 3,
   "metadata": {
    "pycharm": {
     "name": "#%%\n"
    }
   },
   "outputs": [],
   "source": [
    "import pandas as pd\n",
    "import numpy as np\n",
    "import re\n",
    "import nltk\n",
    "from textblob import TextBlob\n",
    "\n",
    "from nltk.tokenize import TweetTokenizer\n",
    "from nltk.stem.wordnet import WordNetLemmatizer"
   ]
  },
  {
   "cell_type": "code",
   "execution_count": 60,
   "metadata": {
    "pycharm": {
     "name": "#%%\n"
    }
   },
   "outputs": [],
   "source": [
    "directory = '~/PycharmProjects/tfm_hugopobil'\n",
    "\n",
    "btc_usd_grouped = pd.read_csv(f'{directory}/data/btc_usd_grouped.csv')\n",
    "tweets_grouped = pd.read_csv(f'{directory}/data/tweets_grouped.csv')"
   ]
  },
  {
   "cell_type": "code",
   "execution_count": 61,
   "metadata": {
    "pycharm": {
     "name": "#%%\n"
    }
   },
   "outputs": [
    {
     "data": {
      "text/html": [
       "<div>\n",
       "<style scoped>\n",
       "    .dataframe tbody tr th:only-of-type {\n",
       "        vertical-align: middle;\n",
       "    }\n",
       "\n",
       "    .dataframe tbody tr th {\n",
       "        vertical-align: top;\n",
       "    }\n",
       "\n",
       "    .dataframe thead th {\n",
       "        text-align: right;\n",
       "    }\n",
       "</style>\n",
       "<table border=\"1\" class=\"dataframe\">\n",
       "  <thead>\n",
       "    <tr style=\"text-align: right;\">\n",
       "      <th></th>\n",
       "      <th>index</th>\n",
       "      <th>user_name</th>\n",
       "      <th>user_location</th>\n",
       "      <th>user_description</th>\n",
       "      <th>user_created</th>\n",
       "      <th>user_followers</th>\n",
       "      <th>user_friends</th>\n",
       "      <th>user_favourites</th>\n",
       "      <th>user_verified</th>\n",
       "      <th>date</th>\n",
       "      <th>text</th>\n",
       "      <th>hashtags</th>\n",
       "      <th>source</th>\n",
       "      <th>is_retweet</th>\n",
       "    </tr>\n",
       "  </thead>\n",
       "  <tbody>\n",
       "    <tr>\n",
       "      <th>0</th>\n",
       "      <td>1545110</td>\n",
       "      <td>Muhammad Sa'ad</td>\n",
       "      <td>NaN</td>\n",
       "      <td>Dota 2</td>\n",
       "      <td>2021-08-12 09:52:26</td>\n",
       "      <td>8.0</td>\n",
       "      <td>1089.0</td>\n",
       "      <td>1403.0</td>\n",
       "      <td>False</td>\n",
       "      <td>2021-10-28 12:30:44</td>\n",
       "      <td>Airdrop is live , dont be late sir :)\\n\\n\\n\\n\\...</td>\n",
       "      <td>['Airdrop', 'Airdrops', 'Airdropinspector', 'B...</td>\n",
       "      <td>Twitter for Android</td>\n",
       "      <td>False</td>\n",
       "    </tr>\n",
       "    <tr>\n",
       "      <th>1</th>\n",
       "      <td>1431064</td>\n",
       "      <td>Kikan4444</td>\n",
       "      <td>NaN</td>\n",
       "      <td>share the positive vibes of the universe 🧲. 💜 ...</td>\n",
       "      <td>2021-07-09 15:46:05</td>\n",
       "      <td>346.0</td>\n",
       "      <td>214.0</td>\n",
       "      <td>1534.0</td>\n",
       "      <td>False</td>\n",
       "      <td>2021-10-22 05:47:45</td>\n",
       "      <td>something Big is coming \\n$KLV Klever 💜🌟\\n\\nBT...</td>\n",
       "      <td>['Klever', 'BTC', 'ETH', 'BNB', 'TRX']</td>\n",
       "      <td>Twitter for Android</td>\n",
       "      <td>False</td>\n",
       "    </tr>\n",
       "    <tr>\n",
       "      <th>2</th>\n",
       "      <td>1070632</td>\n",
       "      <td>Kripto Tiger 🇹🇷</td>\n",
       "      <td>NaN</td>\n",
       "      <td>#bsc #bscgem #gem #shrew #gmrfinance #nftart</td>\n",
       "      <td>2020-11-07 07:37:33</td>\n",
       "      <td>164.0</td>\n",
       "      <td>298.0</td>\n",
       "      <td>5577.0</td>\n",
       "      <td>False</td>\n",
       "      <td>2021-08-16 09:58:44</td>\n",
       "      <td>Easy money with \\n\\n bsc bnb BinanceSmartChain...</td>\n",
       "      <td>['bsc', 'bnb', 'BinanceSmartChain', 'binance',...</td>\n",
       "      <td>Twitter Web App</td>\n",
       "      <td>False</td>\n",
       "    </tr>\n",
       "    <tr>\n",
       "      <th>3</th>\n",
       "      <td>1276832</td>\n",
       "      <td>Sheesh | @NanoDogecoin | INDC</td>\n",
       "      <td>NaN</td>\n",
       "      <td>#Staking #INDC!\\n#Stake #NanoDogecoin &amp; #earn:...</td>\n",
       "      <td>2011-02-10 04:39:28</td>\n",
       "      <td>151.0</td>\n",
       "      <td>453.0</td>\n",
       "      <td>6228.0</td>\n",
       "      <td>False</td>\n",
       "      <td>2021-10-19 02:09:26</td>\n",
       "      <td>NanoDogecoin is the King👑of the BSC Blockchain...</td>\n",
       "      <td>['NanoDogecoin', 'King', 'BSC', 'Blockchain', ...</td>\n",
       "      <td>Twitter for Android</td>\n",
       "      <td>False</td>\n",
       "    </tr>\n",
       "    <tr>\n",
       "      <th>4</th>\n",
       "      <td>1980309</td>\n",
       "      <td>CoinMarketDaddy (CMD)</td>\n",
       "      <td>United Kingdom</td>\n",
       "      <td>CMD stands for Coin Market Daddy &amp; Was Built B...</td>\n",
       "      <td>2018-04-19 02:19:06</td>\n",
       "      <td>2833.0</td>\n",
       "      <td>1.0</td>\n",
       "      <td>118.0</td>\n",
       "      <td>False</td>\n",
       "      <td>2021-12-30 16:03:28</td>\n",
       "      <td>Bitcoin News Roundup for June 17, 2020 cryptoc...</td>\n",
       "      <td>['cryptocurrencies', 'bitcoin', 'crypto', 'cry...</td>\n",
       "      <td>SocialBee.io v2</td>\n",
       "      <td>False</td>\n",
       "    </tr>\n",
       "  </tbody>\n",
       "</table>\n",
       "</div>"
      ],
      "text/plain": [
       "     index                      user_name   user_location  \\\n",
       "0  1545110                 Muhammad Sa'ad             NaN   \n",
       "1  1431064                      Kikan4444             NaN   \n",
       "2  1070632                Kripto Tiger 🇹🇷             NaN   \n",
       "3  1276832  Sheesh | @NanoDogecoin | INDC             NaN   \n",
       "4  1980309          CoinMarketDaddy (CMD)  United Kingdom   \n",
       "\n",
       "                                    user_description         user_created  \\\n",
       "0                                             Dota 2  2021-08-12 09:52:26   \n",
       "1  share the positive vibes of the universe 🧲. 💜 ...  2021-07-09 15:46:05   \n",
       "2       #bsc #bscgem #gem #shrew #gmrfinance #nftart  2020-11-07 07:37:33   \n",
       "3  #Staking #INDC!\\n#Stake #NanoDogecoin & #earn:...  2011-02-10 04:39:28   \n",
       "4  CMD stands for Coin Market Daddy & Was Built B...  2018-04-19 02:19:06   \n",
       "\n",
       "   user_followers  user_friends  user_favourites  user_verified  \\\n",
       "0             8.0        1089.0           1403.0          False   \n",
       "1           346.0         214.0           1534.0          False   \n",
       "2           164.0         298.0           5577.0          False   \n",
       "3           151.0         453.0           6228.0          False   \n",
       "4          2833.0           1.0            118.0          False   \n",
       "\n",
       "                  date                                               text  \\\n",
       "0  2021-10-28 12:30:44  Airdrop is live , dont be late sir :)\\n\\n\\n\\n\\...   \n",
       "1  2021-10-22 05:47:45  something Big is coming \\n$KLV Klever 💜🌟\\n\\nBT...   \n",
       "2  2021-08-16 09:58:44  Easy money with \\n\\n bsc bnb BinanceSmartChain...   \n",
       "3  2021-10-19 02:09:26  NanoDogecoin is the King👑of the BSC Blockchain...   \n",
       "4  2021-12-30 16:03:28  Bitcoin News Roundup for June 17, 2020 cryptoc...   \n",
       "\n",
       "                                            hashtags               source  \\\n",
       "0  ['Airdrop', 'Airdrops', 'Airdropinspector', 'B...  Twitter for Android   \n",
       "1             ['Klever', 'BTC', 'ETH', 'BNB', 'TRX']  Twitter for Android   \n",
       "2  ['bsc', 'bnb', 'BinanceSmartChain', 'binance',...      Twitter Web App   \n",
       "3  ['NanoDogecoin', 'King', 'BSC', 'Blockchain', ...  Twitter for Android   \n",
       "4  ['cryptocurrencies', 'bitcoin', 'crypto', 'cry...      SocialBee.io v2   \n",
       "\n",
       "  is_retweet  \n",
       "0      False  \n",
       "1      False  \n",
       "2      False  \n",
       "3      False  \n",
       "4      False  "
      ]
     },
     "execution_count": 61,
     "metadata": {},
     "output_type": "execute_result"
    }
   ],
   "source": [
    "df_clean = pd.read_csv(f'{directory}/data/tweets_clean.csv')\n",
    "df_clean.head()"
   ]
  },
  {
   "cell_type": "code",
   "execution_count": 62,
   "metadata": {
    "pycharm": {
     "name": "#%%\n"
    }
   },
   "outputs": [
    {
     "data": {
      "text/html": [
       "<div>\n",
       "<style scoped>\n",
       "    .dataframe tbody tr th:only-of-type {\n",
       "        vertical-align: middle;\n",
       "    }\n",
       "\n",
       "    .dataframe tbody tr th {\n",
       "        vertical-align: top;\n",
       "    }\n",
       "\n",
       "    .dataframe thead th {\n",
       "        text-align: right;\n",
       "    }\n",
       "</style>\n",
       "<table border=\"1\" class=\"dataframe\">\n",
       "  <thead>\n",
       "    <tr style=\"text-align: right;\">\n",
       "      <th></th>\n",
       "      <th>tweets</th>\n",
       "    </tr>\n",
       "  </thead>\n",
       "  <tbody>\n",
       "    <tr>\n",
       "      <th>0</th>\n",
       "      <td>Airdrop is live , dont be late sir :)\\n\\n\\n\\n\\...</td>\n",
       "    </tr>\n",
       "    <tr>\n",
       "      <th>1</th>\n",
       "      <td>something Big is coming \\n$KLV Klever 💜🌟\\n\\nBT...</td>\n",
       "    </tr>\n",
       "    <tr>\n",
       "      <th>2</th>\n",
       "      <td>Easy money with \\n\\n bsc bnb BinanceSmartChain...</td>\n",
       "    </tr>\n",
       "    <tr>\n",
       "      <th>3</th>\n",
       "      <td>NanoDogecoin is the King👑of the BSC Blockchain...</td>\n",
       "    </tr>\n",
       "    <tr>\n",
       "      <th>4</th>\n",
       "      <td>Bitcoin News Roundup for June 17, 2020 cryptoc...</td>\n",
       "    </tr>\n",
       "  </tbody>\n",
       "</table>\n",
       "</div>"
      ],
      "text/plain": [
       "                                              tweets\n",
       "0  Airdrop is live , dont be late sir :)\\n\\n\\n\\n\\...\n",
       "1  something Big is coming \\n$KLV Klever 💜🌟\\n\\nBT...\n",
       "2  Easy money with \\n\\n bsc bnb BinanceSmartChain...\n",
       "3  NanoDogecoin is the King👑of the BSC Blockchain...\n",
       "4  Bitcoin News Roundup for June 17, 2020 cryptoc..."
      ]
     },
     "execution_count": 62,
     "metadata": {},
     "output_type": "execute_result"
    }
   ],
   "source": [
    "df_clean.dropna(subset=['hashtags'], inplace=True)\n",
    "df = df_clean[['text']]\n",
    "df.columns = ['tweets']\n",
    "df.head()"
   ]
  },
  {
   "cell_type": "code",
   "execution_count": 63,
   "metadata": {
    "pycharm": {
     "name": "#%%\n"
    }
   },
   "outputs": [
    {
     "name": "stdout",
     "output_type": "stream",
     "text": [
      "['i', 'me', 'my', 'myself', 'we', 'our', 'ours', 'ourselves', 'you', \"you're\", \"you've\", \"you'll\", \"you'd\", 'your', 'yours', 'yourself', 'yourselves', 'he', 'him', 'his', 'himself', 'she', \"she's\", 'her', 'hers', 'herself', 'it', \"it's\", 'its', 'itself', 'they', 'them', 'their', 'theirs', 'themselves', 'what', 'which', 'who', 'whom', 'this', 'that', \"that'll\", 'these', 'those', 'am', 'is', 'are', 'was', 'were', 'be', 'been', 'being', 'have', 'has', 'had', 'having', 'do', 'does', 'did', 'doing', 'a', 'an', 'the', 'and', 'but', 'if', 'or', 'because', 'as', 'until', 'while', 'of', 'at', 'by', 'for', 'with', 'about', 'against', 'between', 'into', 'through', 'during', 'before', 'after', 'above', 'below', 'to', 'from', 'up', 'down', 'in', 'out', 'on', 'off', 'over', 'under', 'again', 'further', 'then', 'once', 'here', 'there', 'when', 'where', 'why', 'how', 'all', 'any', 'both', 'each', 'few', 'more', 'most', 'other', 'some', 'such', 'no', 'nor', 'not', 'only', 'own', 'same', 'so', 'than', 'too', 'very', 's', 't', 'can', 'will', 'just', 'don', \"don't\", 'should', \"should've\", 'now', 'd', 'll', 'm', 'o', 're', 've', 'y', 'ain', 'aren', \"aren't\", 'couldn', \"couldn't\", 'didn', \"didn't\", 'doesn', \"doesn't\", 'hadn', \"hadn't\", 'hasn', \"hasn't\", 'haven', \"haven't\", 'isn', \"isn't\", 'ma', 'mightn', \"mightn't\", 'mustn', \"mustn't\", 'needn', \"needn't\", 'shan', \"shan't\", 'shouldn', \"shouldn't\", 'wasn', \"wasn't\", 'weren', \"weren't\", 'won', \"won't\", 'wouldn', \"wouldn't\"]\n"
     ]
    }
   ],
   "source": [
    "# nltk.download('wordnet')\n",
    "# nltk.download('stopwords')\n",
    "# nltk.download('punkt')\n",
    "stop_words = nltk.corpus.stopwords.words(['english'])\n",
    "\n",
    "print(stop_words)"
   ]
  },
  {
   "cell_type": "code",
   "execution_count": 64,
   "metadata": {
    "pycharm": {
     "name": "#%%\n"
    }
   },
   "outputs": [],
   "source": [
    "lem = WordNetLemmatizer()"
   ]
  },
  {
   "cell_type": "code",
   "execution_count": 65,
   "metadata": {
    "pycharm": {
     "name": "#%%\n"
    }
   },
   "outputs": [],
   "source": [
    "def cleaning(data):\n",
    "    tweet_without_url = re.sub(r'http\\S+',' ', data)\n",
    "    tweet_without_hashtag = re.sub(r'#\\w+', ' ', tweet_without_url)\n",
    "    tweet_without_mentions = re.sub(r'@\\w+',' ', tweet_without_hashtag)\n",
    "    precleaned_tweet = re.sub('[^A-Za-z]+', ' ', tweet_without_mentions)\n",
    "\n",
    "    # Tokenization\n",
    "    tweet_tokens = TweetTokenizer().tokenize(precleaned_tweet)\n",
    "    tokens_without_punc = [w for w in tweet_tokens if w.isalpha()]\n",
    "    tokens_without_sw = [t for t in tokens_without_punc if t not in stop_words]\n",
    "\n",
    "    text_cleaned = [lem.lemmatize(t) for t in tokens_without_sw]\n",
    "\n",
    "    return \" \".join(text_cleaned)"
   ]
  },
  {
   "cell_type": "code",
   "execution_count": 66,
   "metadata": {
    "pycharm": {
     "name": "#%%\n"
    }
   },
   "outputs": [
    {
     "name": "stderr",
     "output_type": "stream",
     "text": [
      "/var/folders/79/vrkgvtgs11v73pnty27_x1100000gn/T/ipykernel_21043/2555527066.py:1: SettingWithCopyWarning: \n",
      "A value is trying to be set on a copy of a slice from a DataFrame.\n",
      "Try using .loc[row_indexer,col_indexer] = value instead\n",
      "\n",
      "See the caveats in the documentation: https://pandas.pydata.org/pandas-docs/stable/user_guide/indexing.html#returning-a-view-versus-a-copy\n",
      "  df['cleaned_tweets'] = df['tweets'].apply(lambda x: cleaning(x))\n",
      "/var/folders/79/vrkgvtgs11v73pnty27_x1100000gn/T/ipykernel_21043/2555527066.py:2: SettingWithCopyWarning: \n",
      "A value is trying to be set on a copy of a slice from a DataFrame.\n",
      "Try using .loc[row_indexer,col_indexer] = value instead\n",
      "\n",
      "See the caveats in the documentation: https://pandas.pydata.org/pandas-docs/stable/user_guide/indexing.html#returning-a-view-versus-a-copy\n",
      "  df['date'] = df_clean['date']\n",
      "/var/folders/79/vrkgvtgs11v73pnty27_x1100000gn/T/ipykernel_21043/2555527066.py:3: SettingWithCopyWarning: \n",
      "A value is trying to be set on a copy of a slice from a DataFrame.\n",
      "Try using .loc[row_indexer,col_indexer] = value instead\n",
      "\n",
      "See the caveats in the documentation: https://pandas.pydata.org/pandas-docs/stable/user_guide/indexing.html#returning-a-view-versus-a-copy\n",
      "  df['date_clean'] = pd.to_datetime(df['date']).dt.strftime('%Y-%m-%d')\n",
      "/var/folders/79/vrkgvtgs11v73pnty27_x1100000gn/T/ipykernel_21043/2555527066.py:4: SettingWithCopyWarning: \n",
      "A value is trying to be set on a copy of a slice from a DataFrame\n",
      "\n",
      "See the caveats in the documentation: https://pandas.pydata.org/pandas-docs/stable/user_guide/indexing.html#returning-a-view-versus-a-copy\n",
      "  df.drop(columns='date',inplace=True)\n"
     ]
    },
    {
     "data": {
      "text/html": [
       "<div>\n",
       "<style scoped>\n",
       "    .dataframe tbody tr th:only-of-type {\n",
       "        vertical-align: middle;\n",
       "    }\n",
       "\n",
       "    .dataframe tbody tr th {\n",
       "        vertical-align: top;\n",
       "    }\n",
       "\n",
       "    .dataframe thead th {\n",
       "        text-align: right;\n",
       "    }\n",
       "</style>\n",
       "<table border=\"1\" class=\"dataframe\">\n",
       "  <thead>\n",
       "    <tr style=\"text-align: right;\">\n",
       "      <th></th>\n",
       "      <th>tweets</th>\n",
       "      <th>cleaned_tweets</th>\n",
       "      <th>date_clean</th>\n",
       "    </tr>\n",
       "  </thead>\n",
       "  <tbody>\n",
       "    <tr>\n",
       "      <th>0</th>\n",
       "      <td>Airdrop is live , dont be late sir :)\\n\\n\\n\\n\\...</td>\n",
       "      <td>Airdrop live dont late sir Airdrop Airdrops Ai...</td>\n",
       "      <td>2021-10-28</td>\n",
       "    </tr>\n",
       "    <tr>\n",
       "      <th>1</th>\n",
       "      <td>something Big is coming \\n$KLV Klever 💜🌟\\n\\nBT...</td>\n",
       "      <td>something Big coming KLV Klever BTC ETH BNB TR...</td>\n",
       "      <td>2021-10-22</td>\n",
       "    </tr>\n",
       "    <tr>\n",
       "      <th>2</th>\n",
       "      <td>Easy money with \\n\\n bsc bnb BinanceSmartChain...</td>\n",
       "      <td>Easy money bsc bnb BinanceSmartChain binance g...</td>\n",
       "      <td>2021-08-16</td>\n",
       "    </tr>\n",
       "    <tr>\n",
       "      <th>3</th>\n",
       "      <td>NanoDogecoin is the King👑of the BSC Blockchain...</td>\n",
       "      <td>NanoDogecoin King BSC Blockchain DeFi altcoins...</td>\n",
       "      <td>2021-10-19</td>\n",
       "    </tr>\n",
       "    <tr>\n",
       "      <th>4</th>\n",
       "      <td>Bitcoin News Roundup for June 17, 2020 cryptoc...</td>\n",
       "      <td>Bitcoin News Roundup June cryptocurrencies bit...</td>\n",
       "      <td>2021-12-30</td>\n",
       "    </tr>\n",
       "  </tbody>\n",
       "</table>\n",
       "</div>"
      ],
      "text/plain": [
       "                                              tweets  \\\n",
       "0  Airdrop is live , dont be late sir :)\\n\\n\\n\\n\\...   \n",
       "1  something Big is coming \\n$KLV Klever 💜🌟\\n\\nBT...   \n",
       "2  Easy money with \\n\\n bsc bnb BinanceSmartChain...   \n",
       "3  NanoDogecoin is the King👑of the BSC Blockchain...   \n",
       "4  Bitcoin News Roundup for June 17, 2020 cryptoc...   \n",
       "\n",
       "                                      cleaned_tweets  date_clean  \n",
       "0  Airdrop live dont late sir Airdrop Airdrops Ai...  2021-10-28  \n",
       "1  something Big coming KLV Klever BTC ETH BNB TR...  2021-10-22  \n",
       "2  Easy money bsc bnb BinanceSmartChain binance g...  2021-08-16  \n",
       "3  NanoDogecoin King BSC Blockchain DeFi altcoins...  2021-10-19  \n",
       "4  Bitcoin News Roundup June cryptocurrencies bit...  2021-12-30  "
      ]
     },
     "execution_count": 66,
     "metadata": {},
     "output_type": "execute_result"
    }
   ],
   "source": [
    "df['cleaned_tweets'] = df['tweets'].apply(lambda x: cleaning(x))\n",
    "df['date'] = df_clean['date']\n",
    "df['date_clean'] = pd.to_datetime(df['date']).dt.strftime('%Y-%m-%d')\n",
    "df.drop(columns='date',inplace=True)\n",
    "df.head()"
   ]
  },
  {
   "cell_type": "code",
   "execution_count": 67,
   "metadata": {
    "pycharm": {
     "name": "#%%\n"
    }
   },
   "outputs": [],
   "source": [
    "def get_Subjectivity(tweet):\n",
    "    return TextBlob(tweet).sentiment.subjectivity\n",
    "\n",
    "def get_Polarity(tweet):\n",
    "    return TextBlob(tweet).sentiment.polarity"
   ]
  },
  {
   "cell_type": "code",
   "execution_count": 68,
   "metadata": {
    "pycharm": {
     "name": "#%%\n"
    }
   },
   "outputs": [],
   "source": [
    "btc_usd_grouped = btc_usd_grouped.set_index('Date')"
   ]
  },
  {
   "cell_type": "code",
   "execution_count": 69,
   "metadata": {
    "pycharm": {
     "name": "#%%\n"
    }
   },
   "outputs": [
    {
     "data": {
      "text/html": [
       "<div>\n",
       "<style scoped>\n",
       "    .dataframe tbody tr th:only-of-type {\n",
       "        vertical-align: middle;\n",
       "    }\n",
       "\n",
       "    .dataframe tbody tr th {\n",
       "        vertical-align: top;\n",
       "    }\n",
       "\n",
       "    .dataframe thead th {\n",
       "        text-align: right;\n",
       "    }\n",
       "</style>\n",
       "<table border=\"1\" class=\"dataframe\">\n",
       "  <thead>\n",
       "    <tr style=\"text-align: right;\">\n",
       "      <th></th>\n",
       "      <th>Adj Close</th>\n",
       "    </tr>\n",
       "    <tr>\n",
       "      <th>Date</th>\n",
       "      <th></th>\n",
       "    </tr>\n",
       "  </thead>\n",
       "  <tbody>\n",
       "    <tr>\n",
       "      <th>2021-02-05</th>\n",
       "      <td>38144.308594</td>\n",
       "    </tr>\n",
       "    <tr>\n",
       "      <th>2021-02-06</th>\n",
       "      <td>39266.011719</td>\n",
       "    </tr>\n",
       "    <tr>\n",
       "      <th>2021-02-07</th>\n",
       "      <td>38903.441406</td>\n",
       "    </tr>\n",
       "    <tr>\n",
       "      <th>2021-02-08</th>\n",
       "      <td>46196.464844</td>\n",
       "    </tr>\n",
       "    <tr>\n",
       "      <th>2021-02-09</th>\n",
       "      <td>46481.105469</td>\n",
       "    </tr>\n",
       "    <tr>\n",
       "      <th>...</th>\n",
       "      <td>...</td>\n",
       "    </tr>\n",
       "    <tr>\n",
       "      <th>2022-01-24</th>\n",
       "      <td>36654.328125</td>\n",
       "    </tr>\n",
       "    <tr>\n",
       "      <th>2022-01-25</th>\n",
       "      <td>36954.003906</td>\n",
       "    </tr>\n",
       "    <tr>\n",
       "      <th>2022-01-26</th>\n",
       "      <td>36852.121094</td>\n",
       "    </tr>\n",
       "    <tr>\n",
       "      <th>2022-01-27</th>\n",
       "      <td>37138.234375</td>\n",
       "    </tr>\n",
       "    <tr>\n",
       "      <th>2022-01-28</th>\n",
       "      <td>36435.585938</td>\n",
       "    </tr>\n",
       "  </tbody>\n",
       "</table>\n",
       "<p>358 rows × 1 columns</p>\n",
       "</div>"
      ],
      "text/plain": [
       "               Adj Close\n",
       "Date                    \n",
       "2021-02-05  38144.308594\n",
       "2021-02-06  39266.011719\n",
       "2021-02-07  38903.441406\n",
       "2021-02-08  46196.464844\n",
       "2021-02-09  46481.105469\n",
       "...                  ...\n",
       "2022-01-24  36654.328125\n",
       "2022-01-25  36954.003906\n",
       "2022-01-26  36852.121094\n",
       "2022-01-27  37138.234375\n",
       "2022-01-28  36435.585938\n",
       "\n",
       "[358 rows x 1 columns]"
      ]
     },
     "execution_count": 69,
     "metadata": {},
     "output_type": "execute_result"
    }
   ],
   "source": [
    "btc_usd_grouped"
   ]
  },
  {
   "cell_type": "code",
   "execution_count": 70,
   "metadata": {
    "pycharm": {
     "name": "#%%\n"
    }
   },
   "outputs": [],
   "source": [
    "def btc_price_cate(score):\n",
    "    if score < 1:\n",
    "        return 'negative'\n",
    "    elif score == 1:\n",
    "        return 'neutral'\n",
    "    else:\n",
    "        return 'positive'\n",
    "\n",
    "\n",
    "def observe_period(period):\n",
    "    res = btc_usd_grouped['Adj Close'].shift(period)/btc_usd_grouped['Adj Close']\n",
    "    res = res.apply(btc_price_cate)\n",
    "    return res"
   ]
  },
  {
   "cell_type": "code",
   "execution_count": 71,
   "metadata": {
    "pycharm": {
     "name": "#%%\n"
    }
   },
   "outputs": [],
   "source": [
    "time_sentiment = observe_period(30)"
   ]
  },
  {
   "cell_type": "code",
   "execution_count": 72,
   "metadata": {
    "pycharm": {
     "name": "#%%\n"
    }
   },
   "outputs": [
    {
     "name": "stderr",
     "output_type": "stream",
     "text": [
      "/var/folders/79/vrkgvtgs11v73pnty27_x1100000gn/T/ipykernel_21043/2522087232.py:2: SettingWithCopyWarning: \n",
      "A value is trying to be set on a copy of a slice from a DataFrame.\n",
      "Try using .loc[row_indexer,col_indexer] = value instead\n",
      "\n",
      "See the caveats in the documentation: https://pandas.pydata.org/pandas-docs/stable/user_guide/indexing.html#returning-a-view-versus-a-copy\n",
      "  df['crypto_sentiment'] = df.date_clean.apply(lambda x: time_sentiment[x] if x in time_sentiment else np.nan)\n"
     ]
    }
   ],
   "source": [
    "# CHECK\n",
    "df['crypto_sentiment'] = df.date_clean.apply(lambda x: time_sentiment[x] if x in time_sentiment else np.nan)"
   ]
  },
  {
   "cell_type": "code",
   "execution_count": 73,
   "metadata": {
    "pycharm": {
     "name": "#%%\n"
    }
   },
   "outputs": [
    {
     "name": "stderr",
     "output_type": "stream",
     "text": [
      "/var/folders/79/vrkgvtgs11v73pnty27_x1100000gn/T/ipykernel_21043/816313075.py:1: SettingWithCopyWarning: \n",
      "A value is trying to be set on a copy of a slice from a DataFrame.\n",
      "Try using .loc[row_indexer,col_indexer] = value instead\n",
      "\n",
      "See the caveats in the documentation: https://pandas.pydata.org/pandas-docs/stable/user_guide/indexing.html#returning-a-view-versus-a-copy\n",
      "  df['subjectivity'] = df['cleaned_tweets'].apply(get_Subjectivity)\n"
     ]
    },
    {
     "name": "stdout",
     "output_type": "stream",
     "text": [
      "(23317, 6)\n"
     ]
    },
    {
     "name": "stderr",
     "output_type": "stream",
     "text": [
      "/var/folders/79/vrkgvtgs11v73pnty27_x1100000gn/T/ipykernel_21043/816313075.py:2: SettingWithCopyWarning: \n",
      "A value is trying to be set on a copy of a slice from a DataFrame.\n",
      "Try using .loc[row_indexer,col_indexer] = value instead\n",
      "\n",
      "See the caveats in the documentation: https://pandas.pydata.org/pandas-docs/stable/user_guide/indexing.html#returning-a-view-versus-a-copy\n",
      "  df['polarity'] = df['cleaned_tweets'].apply(get_Polarity)\n"
     ]
    },
    {
     "data": {
      "text/html": [
       "<div>\n",
       "<style scoped>\n",
       "    .dataframe tbody tr th:only-of-type {\n",
       "        vertical-align: middle;\n",
       "    }\n",
       "\n",
       "    .dataframe tbody tr th {\n",
       "        vertical-align: top;\n",
       "    }\n",
       "\n",
       "    .dataframe thead th {\n",
       "        text-align: right;\n",
       "    }\n",
       "</style>\n",
       "<table border=\"1\" class=\"dataframe\">\n",
       "  <thead>\n",
       "    <tr style=\"text-align: right;\">\n",
       "      <th></th>\n",
       "      <th>tweets</th>\n",
       "      <th>cleaned_tweets</th>\n",
       "      <th>date_clean</th>\n",
       "      <th>crypto_sentiment</th>\n",
       "      <th>subjectivity</th>\n",
       "      <th>polarity</th>\n",
       "    </tr>\n",
       "  </thead>\n",
       "  <tbody>\n",
       "    <tr>\n",
       "      <th>0</th>\n",
       "      <td>Airdrop is live , dont be late sir :)\\n\\n\\n\\n\\...</td>\n",
       "      <td>Airdrop live dont late sir Airdrop Airdrops Ai...</td>\n",
       "      <td>2021-10-28</td>\n",
       "      <td>negative</td>\n",
       "      <td>0.550000</td>\n",
       "      <td>-0.081818</td>\n",
       "    </tr>\n",
       "    <tr>\n",
       "      <th>1</th>\n",
       "      <td>something Big is coming \\n$KLV Klever 💜🌟\\n\\nBT...</td>\n",
       "      <td>something Big coming KLV Klever BTC ETH BNB TR...</td>\n",
       "      <td>2021-10-22</td>\n",
       "      <td>negative</td>\n",
       "      <td>0.100000</td>\n",
       "      <td>0.000000</td>\n",
       "    </tr>\n",
       "    <tr>\n",
       "      <th>2</th>\n",
       "      <td>Easy money with \\n\\n bsc bnb BinanceSmartChain...</td>\n",
       "      <td>Easy money bsc bnb BinanceSmartChain binance g...</td>\n",
       "      <td>2021-08-16</td>\n",
       "      <td>negative</td>\n",
       "      <td>0.833333</td>\n",
       "      <td>0.433333</td>\n",
       "    </tr>\n",
       "    <tr>\n",
       "      <th>3</th>\n",
       "      <td>NanoDogecoin is the King👑of the BSC Blockchain...</td>\n",
       "      <td>NanoDogecoin King BSC Blockchain DeFi altcoins...</td>\n",
       "      <td>2021-10-19</td>\n",
       "      <td>negative</td>\n",
       "      <td>0.733333</td>\n",
       "      <td>0.433333</td>\n",
       "    </tr>\n",
       "    <tr>\n",
       "      <th>4</th>\n",
       "      <td>Bitcoin News Roundup for June 17, 2020 cryptoc...</td>\n",
       "      <td>Bitcoin News Roundup June cryptocurrencies bit...</td>\n",
       "      <td>2021-12-30</td>\n",
       "      <td>positive</td>\n",
       "      <td>0.000000</td>\n",
       "      <td>0.000000</td>\n",
       "    </tr>\n",
       "  </tbody>\n",
       "</table>\n",
       "</div>"
      ],
      "text/plain": [
       "                                              tweets  \\\n",
       "0  Airdrop is live , dont be late sir :)\\n\\n\\n\\n\\...   \n",
       "1  something Big is coming \\n$KLV Klever 💜🌟\\n\\nBT...   \n",
       "2  Easy money with \\n\\n bsc bnb BinanceSmartChain...   \n",
       "3  NanoDogecoin is the King👑of the BSC Blockchain...   \n",
       "4  Bitcoin News Roundup for June 17, 2020 cryptoc...   \n",
       "\n",
       "                                      cleaned_tweets  date_clean  \\\n",
       "0  Airdrop live dont late sir Airdrop Airdrops Ai...  2021-10-28   \n",
       "1  something Big coming KLV Klever BTC ETH BNB TR...  2021-10-22   \n",
       "2  Easy money bsc bnb BinanceSmartChain binance g...  2021-08-16   \n",
       "3  NanoDogecoin King BSC Blockchain DeFi altcoins...  2021-10-19   \n",
       "4  Bitcoin News Roundup June cryptocurrencies bit...  2021-12-30   \n",
       "\n",
       "  crypto_sentiment  subjectivity  polarity  \n",
       "0         negative      0.550000 -0.081818  \n",
       "1         negative      0.100000  0.000000  \n",
       "2         negative      0.833333  0.433333  \n",
       "3         negative      0.733333  0.433333  \n",
       "4         positive      0.000000  0.000000  "
      ]
     },
     "execution_count": 73,
     "metadata": {},
     "output_type": "execute_result"
    }
   ],
   "source": [
    "df['subjectivity'] = df['cleaned_tweets'].apply(get_Subjectivity)\n",
    "df['polarity'] = df['cleaned_tweets'].apply(get_Polarity)\n",
    "print(df.shape)\n",
    "df.head()"
   ]
  },
  {
   "cell_type": "code",
   "execution_count": 74,
   "metadata": {
    "pycharm": {
     "name": "#%%\n"
    }
   },
   "outputs": [
    {
     "name": "stderr",
     "output_type": "stream",
     "text": [
      "/var/folders/79/vrkgvtgs11v73pnty27_x1100000gn/T/ipykernel_21043/2582751764.py:9: SettingWithCopyWarning: \n",
      "A value is trying to be set on a copy of a slice from a DataFrame.\n",
      "Try using .loc[row_indexer,col_indexer] = value instead\n",
      "\n",
      "See the caveats in the documentation: https://pandas.pydata.org/pandas-docs/stable/user_guide/indexing.html#returning-a-view-versus-a-copy\n",
      "  df['sentiment'] = df['polarity'].apply(getSentiment)\n",
      "/var/folders/79/vrkgvtgs11v73pnty27_x1100000gn/T/ipykernel_21043/2582751764.py:10: SettingWithCopyWarning: \n",
      "A value is trying to be set on a copy of a slice from a DataFrame.\n",
      "Try using .loc[row_indexer,col_indexer] = value instead\n",
      "\n",
      "See the caveats in the documentation: https://pandas.pydata.org/pandas-docs/stable/user_guide/indexing.html#returning-a-view-versus-a-copy\n",
      "  df['target'] = df['sentiment'] == df['crypto_sentiment']\n"
     ]
    },
    {
     "data": {
      "text/html": [
       "<div>\n",
       "<style scoped>\n",
       "    .dataframe tbody tr th:only-of-type {\n",
       "        vertical-align: middle;\n",
       "    }\n",
       "\n",
       "    .dataframe tbody tr th {\n",
       "        vertical-align: top;\n",
       "    }\n",
       "\n",
       "    .dataframe thead th {\n",
       "        text-align: right;\n",
       "    }\n",
       "</style>\n",
       "<table border=\"1\" class=\"dataframe\">\n",
       "  <thead>\n",
       "    <tr style=\"text-align: right;\">\n",
       "      <th></th>\n",
       "      <th>tweets</th>\n",
       "      <th>cleaned_tweets</th>\n",
       "      <th>date_clean</th>\n",
       "      <th>crypto_sentiment</th>\n",
       "      <th>subjectivity</th>\n",
       "      <th>polarity</th>\n",
       "      <th>sentiment</th>\n",
       "      <th>target</th>\n",
       "    </tr>\n",
       "  </thead>\n",
       "  <tbody>\n",
       "    <tr>\n",
       "      <th>0</th>\n",
       "      <td>Airdrop is live , dont be late sir :)\\n\\n\\n\\n\\...</td>\n",
       "      <td>Airdrop live dont late sir Airdrop Airdrops Ai...</td>\n",
       "      <td>2021-10-28</td>\n",
       "      <td>negative</td>\n",
       "      <td>0.550000</td>\n",
       "      <td>-0.081818</td>\n",
       "      <td>negative</td>\n",
       "      <td>True</td>\n",
       "    </tr>\n",
       "    <tr>\n",
       "      <th>1</th>\n",
       "      <td>something Big is coming \\n$KLV Klever 💜🌟\\n\\nBT...</td>\n",
       "      <td>something Big coming KLV Klever BTC ETH BNB TR...</td>\n",
       "      <td>2021-10-22</td>\n",
       "      <td>negative</td>\n",
       "      <td>0.100000</td>\n",
       "      <td>0.000000</td>\n",
       "      <td>positive</td>\n",
       "      <td>False</td>\n",
       "    </tr>\n",
       "    <tr>\n",
       "      <th>2</th>\n",
       "      <td>Easy money with \\n\\n bsc bnb BinanceSmartChain...</td>\n",
       "      <td>Easy money bsc bnb BinanceSmartChain binance g...</td>\n",
       "      <td>2021-08-16</td>\n",
       "      <td>negative</td>\n",
       "      <td>0.833333</td>\n",
       "      <td>0.433333</td>\n",
       "      <td>neutral</td>\n",
       "      <td>False</td>\n",
       "    </tr>\n",
       "    <tr>\n",
       "      <th>3</th>\n",
       "      <td>NanoDogecoin is the King👑of the BSC Blockchain...</td>\n",
       "      <td>NanoDogecoin King BSC Blockchain DeFi altcoins...</td>\n",
       "      <td>2021-10-19</td>\n",
       "      <td>negative</td>\n",
       "      <td>0.733333</td>\n",
       "      <td>0.433333</td>\n",
       "      <td>neutral</td>\n",
       "      <td>False</td>\n",
       "    </tr>\n",
       "    <tr>\n",
       "      <th>4</th>\n",
       "      <td>Bitcoin News Roundup for June 17, 2020 cryptoc...</td>\n",
       "      <td>Bitcoin News Roundup June cryptocurrencies bit...</td>\n",
       "      <td>2021-12-30</td>\n",
       "      <td>positive</td>\n",
       "      <td>0.000000</td>\n",
       "      <td>0.000000</td>\n",
       "      <td>positive</td>\n",
       "      <td>True</td>\n",
       "    </tr>\n",
       "  </tbody>\n",
       "</table>\n",
       "</div>"
      ],
      "text/plain": [
       "                                              tweets  \\\n",
       "0  Airdrop is live , dont be late sir :)\\n\\n\\n\\n\\...   \n",
       "1  something Big is coming \\n$KLV Klever 💜🌟\\n\\nBT...   \n",
       "2  Easy money with \\n\\n bsc bnb BinanceSmartChain...   \n",
       "3  NanoDogecoin is the King👑of the BSC Blockchain...   \n",
       "4  Bitcoin News Roundup for June 17, 2020 cryptoc...   \n",
       "\n",
       "                                      cleaned_tweets  date_clean  \\\n",
       "0  Airdrop live dont late sir Airdrop Airdrops Ai...  2021-10-28   \n",
       "1  something Big coming KLV Klever BTC ETH BNB TR...  2021-10-22   \n",
       "2  Easy money bsc bnb BinanceSmartChain binance g...  2021-08-16   \n",
       "3  NanoDogecoin King BSC Blockchain DeFi altcoins...  2021-10-19   \n",
       "4  Bitcoin News Roundup June cryptocurrencies bit...  2021-12-30   \n",
       "\n",
       "  crypto_sentiment  subjectivity  polarity sentiment  target  \n",
       "0         negative      0.550000 -0.081818  negative    True  \n",
       "1         negative      0.100000  0.000000  positive   False  \n",
       "2         negative      0.833333  0.433333   neutral   False  \n",
       "3         negative      0.733333  0.433333   neutral   False  \n",
       "4         positive      0.000000  0.000000  positive    True  "
      ]
     },
     "execution_count": 74,
     "metadata": {},
     "output_type": "execute_result"
    }
   ],
   "source": [
    "def getSentiment(score, threshold=0.5):\n",
    "    if score < 0:\n",
    "        return 'negative'\n",
    "    elif 0.001 < score < threshold:\n",
    "        return 'neutral'\n",
    "    else:\n",
    "        return 'positive'\n",
    "\n",
    "df['sentiment'] = df['polarity'].apply(getSentiment)\n",
    "df['target'] = df['sentiment'] == df['crypto_sentiment']\n",
    "df.head()"
   ]
  },
  {
   "cell_type": "code",
   "execution_count": 75,
   "metadata": {
    "pycharm": {
     "name": "#%%\n"
    }
   },
   "outputs": [
    {
     "data": {
      "text/plain": [
       "False    0.702192\n",
       "True     0.297808\n",
       "Name: target, dtype: float64"
      ]
     },
     "execution_count": 75,
     "metadata": {},
     "output_type": "execute_result"
    }
   ],
   "source": [
    "df.target.value_counts(normalize=True)"
   ]
  },
  {
   "cell_type": "code",
   "execution_count": 76,
   "metadata": {
    "pycharm": {
     "name": "#%%\n"
    }
   },
   "outputs": [
    {
     "data": {
      "text/plain": [
       "negative    11980\n",
       "positive    10487\n",
       "Name: crypto_sentiment, dtype: int64"
      ]
     },
     "execution_count": 76,
     "metadata": {},
     "output_type": "execute_result"
    }
   ],
   "source": [
    "df.crypto_sentiment.value_counts()"
   ]
  },
  {
   "cell_type": "code",
   "execution_count": 77,
   "metadata": {
    "pycharm": {
     "name": "#%%\n"
    }
   },
   "outputs": [
    {
     "data": {
      "text/plain": [
       "positive    0.543295\n",
       "neutral     0.349616\n",
       "negative    0.107089\n",
       "Name: sentiment, dtype: float64"
      ]
     },
     "execution_count": 77,
     "metadata": {},
     "output_type": "execute_result"
    }
   ],
   "source": [
    "df.sentiment.value_counts(normalize=True)"
   ]
  },
  {
   "cell_type": "code",
   "execution_count": 78,
   "metadata": {
    "pycharm": {
     "name": "#%%\n"
    }
   },
   "outputs": [],
   "source": [
    "df = df.set_index('date_clean')"
   ]
  },
  {
   "cell_type": "code",
   "execution_count": 79,
   "metadata": {
    "pycharm": {
     "name": "#%%\n"
    }
   },
   "outputs": [
    {
     "data": {
      "text/html": [
       "<div>\n",
       "<style scoped>\n",
       "    .dataframe tbody tr th:only-of-type {\n",
       "        vertical-align: middle;\n",
       "    }\n",
       "\n",
       "    .dataframe tbody tr th {\n",
       "        vertical-align: top;\n",
       "    }\n",
       "\n",
       "    .dataframe thead th {\n",
       "        text-align: right;\n",
       "    }\n",
       "</style>\n",
       "<table border=\"1\" class=\"dataframe\">\n",
       "  <thead>\n",
       "    <tr style=\"text-align: right;\">\n",
       "      <th></th>\n",
       "      <th>tweets</th>\n",
       "      <th>cleaned_tweets</th>\n",
       "      <th>crypto_sentiment</th>\n",
       "      <th>subjectivity</th>\n",
       "      <th>polarity</th>\n",
       "      <th>sentiment</th>\n",
       "      <th>target</th>\n",
       "    </tr>\n",
       "    <tr>\n",
       "      <th>date_clean</th>\n",
       "      <th></th>\n",
       "      <th></th>\n",
       "      <th></th>\n",
       "      <th></th>\n",
       "      <th></th>\n",
       "      <th></th>\n",
       "      <th></th>\n",
       "    </tr>\n",
       "  </thead>\n",
       "  <tbody>\n",
       "    <tr>\n",
       "      <th>2021-10-28</th>\n",
       "      <td>Airdrop is live , dont be late sir :)\\n\\n\\n\\n\\...</td>\n",
       "      <td>Airdrop live dont late sir Airdrop Airdrops Ai...</td>\n",
       "      <td>negative</td>\n",
       "      <td>0.550000</td>\n",
       "      <td>-0.081818</td>\n",
       "      <td>negative</td>\n",
       "      <td>True</td>\n",
       "    </tr>\n",
       "    <tr>\n",
       "      <th>2021-10-22</th>\n",
       "      <td>something Big is coming \\n$KLV Klever 💜🌟\\n\\nBT...</td>\n",
       "      <td>something Big coming KLV Klever BTC ETH BNB TR...</td>\n",
       "      <td>negative</td>\n",
       "      <td>0.100000</td>\n",
       "      <td>0.000000</td>\n",
       "      <td>positive</td>\n",
       "      <td>False</td>\n",
       "    </tr>\n",
       "    <tr>\n",
       "      <th>2021-08-16</th>\n",
       "      <td>Easy money with \\n\\n bsc bnb BinanceSmartChain...</td>\n",
       "      <td>Easy money bsc bnb BinanceSmartChain binance g...</td>\n",
       "      <td>negative</td>\n",
       "      <td>0.833333</td>\n",
       "      <td>0.433333</td>\n",
       "      <td>neutral</td>\n",
       "      <td>False</td>\n",
       "    </tr>\n",
       "    <tr>\n",
       "      <th>2021-10-19</th>\n",
       "      <td>NanoDogecoin is the King👑of the BSC Blockchain...</td>\n",
       "      <td>NanoDogecoin King BSC Blockchain DeFi altcoins...</td>\n",
       "      <td>negative</td>\n",
       "      <td>0.733333</td>\n",
       "      <td>0.433333</td>\n",
       "      <td>neutral</td>\n",
       "      <td>False</td>\n",
       "    </tr>\n",
       "    <tr>\n",
       "      <th>2021-12-30</th>\n",
       "      <td>Bitcoin News Roundup for June 17, 2020 cryptoc...</td>\n",
       "      <td>Bitcoin News Roundup June cryptocurrencies bit...</td>\n",
       "      <td>positive</td>\n",
       "      <td>0.000000</td>\n",
       "      <td>0.000000</td>\n",
       "      <td>positive</td>\n",
       "      <td>True</td>\n",
       "    </tr>\n",
       "    <tr>\n",
       "      <th>...</th>\n",
       "      <td>...</td>\n",
       "      <td>...</td>\n",
       "      <td>...</td>\n",
       "      <td>...</td>\n",
       "      <td>...</td>\n",
       "      <td>...</td>\n",
       "      <td>...</td>\n",
       "    </tr>\n",
       "    <tr>\n",
       "      <th>2022-01-14</th>\n",
       "      <td>@ShibaTronToken This #ShibaTron Coin I like I'...</td>\n",
       "      <td>This Coin I like I waiting launch</td>\n",
       "      <td>positive</td>\n",
       "      <td>0.000000</td>\n",
       "      <td>0.000000</td>\n",
       "      <td>positive</td>\n",
       "      <td>True</td>\n",
       "    </tr>\n",
       "    <tr>\n",
       "      <th>2021-11-18</th>\n",
       "      <td>#linkedin #twitter #facebook #instagram #bitco...</td>\n",
       "      <td>Become member</td>\n",
       "      <td>positive</td>\n",
       "      <td>0.000000</td>\n",
       "      <td>0.000000</td>\n",
       "      <td>positive</td>\n",
       "      <td>True</td>\n",
       "    </tr>\n",
       "    <tr>\n",
       "      <th>2021-12-30</th>\n",
       "      <td>I'm new to Bitcoin donate if you can this is m...</td>\n",
       "      <td>I new Bitcoin donate address thank much b Liap...</td>\n",
       "      <td>positive</td>\n",
       "      <td>0.327273</td>\n",
       "      <td>0.168182</td>\n",
       "      <td>neutral</td>\n",
       "      <td>False</td>\n",
       "    </tr>\n",
       "    <tr>\n",
       "      <th>2021-11-12</th>\n",
       "      <td>Diamond Hands? Only 12.9% of #Bitcoin Supply R...</td>\n",
       "      <td>Diamond Hands Only Supply Remains Exchanges vi...</td>\n",
       "      <td>negative</td>\n",
       "      <td>1.000000</td>\n",
       "      <td>0.000000</td>\n",
       "      <td>positive</td>\n",
       "      <td>False</td>\n",
       "    </tr>\n",
       "    <tr>\n",
       "      <th>2021-08-26</th>\n",
       "      <td>Future Project:\\n• Unity Launch Pad\\n• UnitySw...</td>\n",
       "      <td>Future Project Unity Launch Pad UnitySwap NFT ...</td>\n",
       "      <td>negative</td>\n",
       "      <td>0.125000</td>\n",
       "      <td>0.000000</td>\n",
       "      <td>positive</td>\n",
       "      <td>False</td>\n",
       "    </tr>\n",
       "  </tbody>\n",
       "</table>\n",
       "<p>23317 rows × 7 columns</p>\n",
       "</div>"
      ],
      "text/plain": [
       "                                                       tweets  \\\n",
       "date_clean                                                      \n",
       "2021-10-28  Airdrop is live , dont be late sir :)\\n\\n\\n\\n\\...   \n",
       "2021-10-22  something Big is coming \\n$KLV Klever 💜🌟\\n\\nBT...   \n",
       "2021-08-16  Easy money with \\n\\n bsc bnb BinanceSmartChain...   \n",
       "2021-10-19  NanoDogecoin is the King👑of the BSC Blockchain...   \n",
       "2021-12-30  Bitcoin News Roundup for June 17, 2020 cryptoc...   \n",
       "...                                                       ...   \n",
       "2022-01-14  @ShibaTronToken This #ShibaTron Coin I like I'...   \n",
       "2021-11-18  #linkedin #twitter #facebook #instagram #bitco...   \n",
       "2021-12-30  I'm new to Bitcoin donate if you can this is m...   \n",
       "2021-11-12  Diamond Hands? Only 12.9% of #Bitcoin Supply R...   \n",
       "2021-08-26  Future Project:\\n• Unity Launch Pad\\n• UnitySw...   \n",
       "\n",
       "                                               cleaned_tweets  \\\n",
       "date_clean                                                      \n",
       "2021-10-28  Airdrop live dont late sir Airdrop Airdrops Ai...   \n",
       "2021-10-22  something Big coming KLV Klever BTC ETH BNB TR...   \n",
       "2021-08-16  Easy money bsc bnb BinanceSmartChain binance g...   \n",
       "2021-10-19  NanoDogecoin King BSC Blockchain DeFi altcoins...   \n",
       "2021-12-30  Bitcoin News Roundup June cryptocurrencies bit...   \n",
       "...                                                       ...   \n",
       "2022-01-14                  This Coin I like I waiting launch   \n",
       "2021-11-18                                      Become member   \n",
       "2021-12-30  I new Bitcoin donate address thank much b Liap...   \n",
       "2021-11-12  Diamond Hands Only Supply Remains Exchanges vi...   \n",
       "2021-08-26  Future Project Unity Launch Pad UnitySwap NFT ...   \n",
       "\n",
       "           crypto_sentiment  subjectivity  polarity sentiment  target  \n",
       "date_clean                                                             \n",
       "2021-10-28         negative      0.550000 -0.081818  negative    True  \n",
       "2021-10-22         negative      0.100000  0.000000  positive   False  \n",
       "2021-08-16         negative      0.833333  0.433333   neutral   False  \n",
       "2021-10-19         negative      0.733333  0.433333   neutral   False  \n",
       "2021-12-30         positive      0.000000  0.000000  positive    True  \n",
       "...                     ...           ...       ...       ...     ...  \n",
       "2022-01-14         positive      0.000000  0.000000  positive    True  \n",
       "2021-11-18         positive      0.000000  0.000000  positive    True  \n",
       "2021-12-30         positive      0.327273  0.168182   neutral   False  \n",
       "2021-11-12         negative      1.000000  0.000000  positive   False  \n",
       "2021-08-26         negative      0.125000  0.000000  positive   False  \n",
       "\n",
       "[23317 rows x 7 columns]"
      ]
     },
     "execution_count": 79,
     "metadata": {},
     "output_type": "execute_result"
    }
   ],
   "source": [
    "df"
   ]
  },
  {
   "cell_type": "code",
   "execution_count": 81,
   "metadata": {
    "pycharm": {
     "name": "#%%\n"
    }
   },
   "outputs": [],
   "source": [
    "df.to_csv(f'{directory}/data/tweets_nlp_modelling.csv')"
   ]
  }
 ],
 "metadata": {
  "kernelspec": {
   "display_name": "Python 3 (ipykernel)",
   "language": "python",
   "name": "python3"
  },
  "language_info": {
   "codemirror_mode": {
    "name": "ipython",
    "version": 3
   },
   "file_extension": ".py",
   "mimetype": "text/x-python",
   "name": "python",
   "nbconvert_exporter": "python",
   "pygments_lexer": "ipython3",
   "version": "3.8.8"
  }
 },
 "nbformat": 4,
 "nbformat_minor": 1
}