{
 "cells": [
  {
   "cell_type": "code",
   "execution_count": 24,
   "metadata": {
    "pycharm": {
     "name": "#%%\n"
    }
   },
   "outputs": [],
   "source": [
    "import pandas as pd\n",
    "import numpy as np\n",
    "import re\n",
    "import nltk\n",
    "from textblob import TextBlob\n",
    "\n",
    "from nltk.tokenize import TweetTokenizer\n",
    "from nltk.stem.wordnet import WordNetLemmatizer"
   ]
  },
  {
   "cell_type": "code",
   "execution_count": 25,
   "metadata": {
    "pycharm": {
     "name": "#%%\n"
    }
   },
   "outputs": [],
   "source": [
    "directory = '~/PycharmProjects/tfm_hugopobil'\n",
    "\n",
    "btc_usd_grouped = pd.read_csv(f'{directory}/data/sampled_data/btc_usd_grouped_v2.csv')\n",
    "tweets_grouped = pd.read_csv(f'{directory}/data/sampled_data/tweets_grouped_v2.csv')"
   ]
  },
  {
   "cell_type": "code",
   "execution_count": 26,
   "metadata": {
    "pycharm": {
     "name": "#%%\n"
    }
   },
   "outputs": [
    {
     "data": {
      "text/plain": "   index       user_name       user_location  \\\n0  21519    Rahul Chahal                 NaN   \n1  21507    Iconic Funds  Frankfurt, Germany   \n2  21491    CryptoSquawk           Australia   \n3  21483  Drew MacMartin                 NaN   \n4  21443    DeriBot.info         Chicago, IL   \n\n                                    user_description         user_created  \\\n0                                      #Bitcoin #BTC  2009-03-26 10:41:20   \n1  Professional Crypto Asset Management\\nhttps://...  2017-08-03 10:44:25   \n2  24x7 Crypto market real-time audio squawk for ...  2017-10-05 10:13:09   \n3  Co-Founder Wealth Playbook, Macro Economics & ...  2016-03-05 15:34:35   \n4  https://t.co/HsKyGWNVqh - The Fastest Cloud Se...  2013-07-27 07:40:54   \n\n   user_followers  user_friends  user_favourites  user_verified  \\\n0           100.0         388.0           3401.0          False   \n1         16813.0         818.0           1201.0          False   \n2          1282.0          25.0             72.0          False   \n3            73.0         122.0            274.0          False   \n4          1973.0         127.0            631.0          False   \n\n                  date                                               text  \\\n0  2021-02-05 10:53:49  Bitcoin and ETH both have bullish setups for a...   \n1  2021-02-05 11:00:24  4⃣  🎙️ Bloomberg LP CryptoOutlook 2021 with ⬇️...   \n2  2021-02-05 11:14:46  ⬇️⬇️ $BTC SELLING PRESSURE ALERT 📉 Price tradi...   \n3  2021-02-05 11:20:02  If hyperinflation does hit again, think of the...   \n4  2021-02-05 11:45:50  DeriBot Daily Trading Report 5.02.2021 11:42 U...   \n\n                                            hashtags              source  \\\n0                          ['Bitcoin', 'ETH', 'BTC']    Twitter for iPad   \n1  ['CryptoOutlook', 'cryptocurrency', 'bitcoin',...     Twitter Web App   \n2                       ['Bitcoin', 'BTC', 'crypto']     CryptoSquawkBot   \n3  ['hyperinflation', 'inflation', 'flood', 'GOLD...  Twitter for iPhone   \n4                                        ['Bitcoin']     Twitter Web App   \n\n  is_retweet sample_date  \n0      False  2021-02-05  \n1      False  2021-02-05  \n2      False  2021-02-05  \n3      False  2021-02-05  \n4      False  2021-02-05  ",
      "text/html": "<div>\n<style scoped>\n    .dataframe tbody tr th:only-of-type {\n        vertical-align: middle;\n    }\n\n    .dataframe tbody tr th {\n        vertical-align: top;\n    }\n\n    .dataframe thead th {\n        text-align: right;\n    }\n</style>\n<table border=\"1\" class=\"dataframe\">\n  <thead>\n    <tr style=\"text-align: right;\">\n      <th></th>\n      <th>index</th>\n      <th>user_name</th>\n      <th>user_location</th>\n      <th>user_description</th>\n      <th>user_created</th>\n      <th>user_followers</th>\n      <th>user_friends</th>\n      <th>user_favourites</th>\n      <th>user_verified</th>\n      <th>date</th>\n      <th>text</th>\n      <th>hashtags</th>\n      <th>source</th>\n      <th>is_retweet</th>\n      <th>sample_date</th>\n    </tr>\n  </thead>\n  <tbody>\n    <tr>\n      <th>0</th>\n      <td>21519</td>\n      <td>Rahul Chahal</td>\n      <td>NaN</td>\n      <td>#Bitcoin #BTC</td>\n      <td>2009-03-26 10:41:20</td>\n      <td>100.0</td>\n      <td>388.0</td>\n      <td>3401.0</td>\n      <td>False</td>\n      <td>2021-02-05 10:53:49</td>\n      <td>Bitcoin and ETH both have bullish setups for a...</td>\n      <td>['Bitcoin', 'ETH', 'BTC']</td>\n      <td>Twitter for iPad</td>\n      <td>False</td>\n      <td>2021-02-05</td>\n    </tr>\n    <tr>\n      <th>1</th>\n      <td>21507</td>\n      <td>Iconic Funds</td>\n      <td>Frankfurt, Germany</td>\n      <td>Professional Crypto Asset Management\\nhttps://...</td>\n      <td>2017-08-03 10:44:25</td>\n      <td>16813.0</td>\n      <td>818.0</td>\n      <td>1201.0</td>\n      <td>False</td>\n      <td>2021-02-05 11:00:24</td>\n      <td>4⃣  🎙️ Bloomberg LP CryptoOutlook 2021 with ⬇️...</td>\n      <td>['CryptoOutlook', 'cryptocurrency', 'bitcoin',...</td>\n      <td>Twitter Web App</td>\n      <td>False</td>\n      <td>2021-02-05</td>\n    </tr>\n    <tr>\n      <th>2</th>\n      <td>21491</td>\n      <td>CryptoSquawk</td>\n      <td>Australia</td>\n      <td>24x7 Crypto market real-time audio squawk for ...</td>\n      <td>2017-10-05 10:13:09</td>\n      <td>1282.0</td>\n      <td>25.0</td>\n      <td>72.0</td>\n      <td>False</td>\n      <td>2021-02-05 11:14:46</td>\n      <td>⬇️⬇️ $BTC SELLING PRESSURE ALERT 📉 Price tradi...</td>\n      <td>['Bitcoin', 'BTC', 'crypto']</td>\n      <td>CryptoSquawkBot</td>\n      <td>False</td>\n      <td>2021-02-05</td>\n    </tr>\n    <tr>\n      <th>3</th>\n      <td>21483</td>\n      <td>Drew MacMartin</td>\n      <td>NaN</td>\n      <td>Co-Founder Wealth Playbook, Macro Economics &amp; ...</td>\n      <td>2016-03-05 15:34:35</td>\n      <td>73.0</td>\n      <td>122.0</td>\n      <td>274.0</td>\n      <td>False</td>\n      <td>2021-02-05 11:20:02</td>\n      <td>If hyperinflation does hit again, think of the...</td>\n      <td>['hyperinflation', 'inflation', 'flood', 'GOLD...</td>\n      <td>Twitter for iPhone</td>\n      <td>False</td>\n      <td>2021-02-05</td>\n    </tr>\n    <tr>\n      <th>4</th>\n      <td>21443</td>\n      <td>DeriBot.info</td>\n      <td>Chicago, IL</td>\n      <td>https://t.co/HsKyGWNVqh - The Fastest Cloud Se...</td>\n      <td>2013-07-27 07:40:54</td>\n      <td>1973.0</td>\n      <td>127.0</td>\n      <td>631.0</td>\n      <td>False</td>\n      <td>2021-02-05 11:45:50</td>\n      <td>DeriBot Daily Trading Report 5.02.2021 11:42 U...</td>\n      <td>['Bitcoin']</td>\n      <td>Twitter Web App</td>\n      <td>False</td>\n      <td>2021-02-05</td>\n    </tr>\n  </tbody>\n</table>\n</div>"
     },
     "execution_count": 26,
     "metadata": {},
     "output_type": "execute_result"
    }
   ],
   "source": [
    "df_clean = pd.read_csv(f'{directory}/data/sampled_data/tweets_clean_v2.csv')\n",
    "df_clean.head()"
   ]
  },
  {
   "cell_type": "code",
   "execution_count": 27,
   "metadata": {
    "pycharm": {
     "name": "#%%\n"
    }
   },
   "outputs": [
    {
     "data": {
      "text/plain": "                                              tweets\n0  Bitcoin and ETH both have bullish setups for a...\n1  4⃣  🎙️ Bloomberg LP CryptoOutlook 2021 with ⬇️...\n2  ⬇️⬇️ $BTC SELLING PRESSURE ALERT 📉 Price tradi...\n3  If hyperinflation does hit again, think of the...\n4  DeriBot Daily Trading Report 5.02.2021 11:42 U...",
      "text/html": "<div>\n<style scoped>\n    .dataframe tbody tr th:only-of-type {\n        vertical-align: middle;\n    }\n\n    .dataframe tbody tr th {\n        vertical-align: top;\n    }\n\n    .dataframe thead th {\n        text-align: right;\n    }\n</style>\n<table border=\"1\" class=\"dataframe\">\n  <thead>\n    <tr style=\"text-align: right;\">\n      <th></th>\n      <th>tweets</th>\n    </tr>\n  </thead>\n  <tbody>\n    <tr>\n      <th>0</th>\n      <td>Bitcoin and ETH both have bullish setups for a...</td>\n    </tr>\n    <tr>\n      <th>1</th>\n      <td>4⃣  🎙️ Bloomberg LP CryptoOutlook 2021 with ⬇️...</td>\n    </tr>\n    <tr>\n      <th>2</th>\n      <td>⬇️⬇️ $BTC SELLING PRESSURE ALERT 📉 Price tradi...</td>\n    </tr>\n    <tr>\n      <th>3</th>\n      <td>If hyperinflation does hit again, think of the...</td>\n    </tr>\n    <tr>\n      <th>4</th>\n      <td>DeriBot Daily Trading Report 5.02.2021 11:42 U...</td>\n    </tr>\n  </tbody>\n</table>\n</div>"
     },
     "execution_count": 27,
     "metadata": {},
     "output_type": "execute_result"
    }
   ],
   "source": [
    "df_clean.dropna(subset=['hashtags'], inplace=True)\n",
    "df = df_clean[['text']]\n",
    "df.columns = ['tweets']\n",
    "df.head()"
   ]
  },
  {
   "cell_type": "code",
   "execution_count": 28,
   "metadata": {
    "pycharm": {
     "name": "#%%\n"
    }
   },
   "outputs": [
    {
     "name": "stdout",
     "output_type": "stream",
     "text": [
      "['i', 'me', 'my', 'myself', 'we', 'our', 'ours', 'ourselves', 'you', \"you're\", \"you've\", \"you'll\", \"you'd\", 'your', 'yours', 'yourself', 'yourselves', 'he', 'him', 'his', 'himself', 'she', \"she's\", 'her', 'hers', 'herself', 'it', \"it's\", 'its', 'itself', 'they', 'them', 'their', 'theirs', 'themselves', 'what', 'which', 'who', 'whom', 'this', 'that', \"that'll\", 'these', 'those', 'am', 'is', 'are', 'was', 'were', 'be', 'been', 'being', 'have', 'has', 'had', 'having', 'do', 'does', 'did', 'doing', 'a', 'an', 'the', 'and', 'but', 'if', 'or', 'because', 'as', 'until', 'while', 'of', 'at', 'by', 'for', 'with', 'about', 'against', 'between', 'into', 'through', 'during', 'before', 'after', 'above', 'below', 'to', 'from', 'up', 'down', 'in', 'out', 'on', 'off', 'over', 'under', 'again', 'further', 'then', 'once', 'here', 'there', 'when', 'where', 'why', 'how', 'all', 'any', 'both', 'each', 'few', 'more', 'most', 'other', 'some', 'such', 'no', 'nor', 'not', 'only', 'own', 'same', 'so', 'than', 'too', 'very', 's', 't', 'can', 'will', 'just', 'don', \"don't\", 'should', \"should've\", 'now', 'd', 'll', 'm', 'o', 're', 've', 'y', 'ain', 'aren', \"aren't\", 'couldn', \"couldn't\", 'didn', \"didn't\", 'doesn', \"doesn't\", 'hadn', \"hadn't\", 'hasn', \"hasn't\", 'haven', \"haven't\", 'isn', \"isn't\", 'ma', 'mightn', \"mightn't\", 'mustn', \"mustn't\", 'needn', \"needn't\", 'shan', \"shan't\", 'shouldn', \"shouldn't\", 'wasn', \"wasn't\", 'weren', \"weren't\", 'won', \"won't\", 'wouldn', \"wouldn't\"]\n"
     ]
    }
   ],
   "source": [
    "# nltk.download('wordnet')\n",
    "# nltk.download('stopwords')\n",
    "# nltk.download('punkt')\n",
    "stop_words = nltk.corpus.stopwords.words(['english'])\n",
    "\n",
    "print(stop_words)"
   ]
  },
  {
   "cell_type": "code",
   "execution_count": 29,
   "metadata": {
    "pycharm": {
     "name": "#%%\n"
    }
   },
   "outputs": [],
   "source": [
    "lem = WordNetLemmatizer()"
   ]
  },
  {
   "cell_type": "code",
   "execution_count": 30,
   "metadata": {
    "pycharm": {
     "name": "#%%\n"
    }
   },
   "outputs": [],
   "source": [
    "def cleaning(data):\n",
    "    tweet_without_url = re.sub(r'http\\S+',' ', data)\n",
    "    tweet_without_hashtag = re.sub(r'#\\w+', ' ', tweet_without_url)\n",
    "    tweet_without_mentions = re.sub(r'@\\w+',' ', tweet_without_hashtag)\n",
    "    precleaned_tweet = re.sub('[^A-Za-z]+', ' ', tweet_without_mentions)\n",
    "\n",
    "    # Tokenization\n",
    "    tweet_tokens = TweetTokenizer().tokenize(precleaned_tweet)\n",
    "    tokens_without_punc = [w for w in tweet_tokens if w.isalpha()]\n",
    "    tokens_without_sw = [t for t in tokens_without_punc if t not in stop_words]\n",
    "\n",
    "    text_cleaned = [lem.lemmatize(t) for t in tokens_without_sw]\n",
    "\n",
    "    return \" \".join(text_cleaned)"
   ]
  },
  {
   "cell_type": "code",
   "execution_count": 31,
   "metadata": {
    "pycharm": {
     "name": "#%%\n"
    }
   },
   "outputs": [
    {
     "name": "stderr",
     "output_type": "stream",
     "text": [
      "/var/folders/79/vrkgvtgs11v73pnty27_x1100000gn/T/ipykernel_46374/2555527066.py:1: SettingWithCopyWarning: \n",
      "A value is trying to be set on a copy of a slice from a DataFrame.\n",
      "Try using .loc[row_indexer,col_indexer] = value instead\n",
      "\n",
      "See the caveats in the documentation: https://pandas.pydata.org/pandas-docs/stable/user_guide/indexing.html#returning-a-view-versus-a-copy\n",
      "  df['cleaned_tweets'] = df['tweets'].apply(lambda x: cleaning(x))\n",
      "/var/folders/79/vrkgvtgs11v73pnty27_x1100000gn/T/ipykernel_46374/2555527066.py:2: SettingWithCopyWarning: \n",
      "A value is trying to be set on a copy of a slice from a DataFrame.\n",
      "Try using .loc[row_indexer,col_indexer] = value instead\n",
      "\n",
      "See the caveats in the documentation: https://pandas.pydata.org/pandas-docs/stable/user_guide/indexing.html#returning-a-view-versus-a-copy\n",
      "  df['date'] = df_clean['date']\n",
      "/var/folders/79/vrkgvtgs11v73pnty27_x1100000gn/T/ipykernel_46374/2555527066.py:3: SettingWithCopyWarning: \n",
      "A value is trying to be set on a copy of a slice from a DataFrame.\n",
      "Try using .loc[row_indexer,col_indexer] = value instead\n",
      "\n",
      "See the caveats in the documentation: https://pandas.pydata.org/pandas-docs/stable/user_guide/indexing.html#returning-a-view-versus-a-copy\n",
      "  df['date_clean'] = pd.to_datetime(df['date']).dt.strftime('%Y-%m-%d')\n",
      "/var/folders/79/vrkgvtgs11v73pnty27_x1100000gn/T/ipykernel_46374/2555527066.py:4: SettingWithCopyWarning: \n",
      "A value is trying to be set on a copy of a slice from a DataFrame\n",
      "\n",
      "See the caveats in the documentation: https://pandas.pydata.org/pandas-docs/stable/user_guide/indexing.html#returning-a-view-versus-a-copy\n",
      "  df.drop(columns='date',inplace=True)\n"
     ]
    },
    {
     "data": {
      "text/plain": "                                              tweets  \\\n0  Bitcoin and ETH both have bullish setups for a...   \n1  4⃣  🎙️ Bloomberg LP CryptoOutlook 2021 with ⬇️...   \n2  ⬇️⬇️ $BTC SELLING PRESSURE ALERT 📉 Price tradi...   \n3  If hyperinflation does hit again, think of the...   \n4  DeriBot Daily Trading Report 5.02.2021 11:42 U...   \n\n                                      cleaned_tweets  date_clean  \n0  Bitcoin ETH bullish setup move higher BTC woul...  2021-02-05  \n1  Bloomberg LP CryptoOutlook cryptocurrency bitc...  2021-02-05  \n2  BTC SELLING PRESSURE ALERT Price trading aroun...  2021-02-05  \n3  If hyperinflation hit think inflation like flo...  2021-02-05  \n4  DeriBot Daily Trading Report UTC Bitcoin Tradi...  2021-02-05  ",
      "text/html": "<div>\n<style scoped>\n    .dataframe tbody tr th:only-of-type {\n        vertical-align: middle;\n    }\n\n    .dataframe tbody tr th {\n        vertical-align: top;\n    }\n\n    .dataframe thead th {\n        text-align: right;\n    }\n</style>\n<table border=\"1\" class=\"dataframe\">\n  <thead>\n    <tr style=\"text-align: right;\">\n      <th></th>\n      <th>tweets</th>\n      <th>cleaned_tweets</th>\n      <th>date_clean</th>\n    </tr>\n  </thead>\n  <tbody>\n    <tr>\n      <th>0</th>\n      <td>Bitcoin and ETH both have bullish setups for a...</td>\n      <td>Bitcoin ETH bullish setup move higher BTC woul...</td>\n      <td>2021-02-05</td>\n    </tr>\n    <tr>\n      <th>1</th>\n      <td>4⃣  🎙️ Bloomberg LP CryptoOutlook 2021 with ⬇️...</td>\n      <td>Bloomberg LP CryptoOutlook cryptocurrency bitc...</td>\n      <td>2021-02-05</td>\n    </tr>\n    <tr>\n      <th>2</th>\n      <td>⬇️⬇️ $BTC SELLING PRESSURE ALERT 📉 Price tradi...</td>\n      <td>BTC SELLING PRESSURE ALERT Price trading aroun...</td>\n      <td>2021-02-05</td>\n    </tr>\n    <tr>\n      <th>3</th>\n      <td>If hyperinflation does hit again, think of the...</td>\n      <td>If hyperinflation hit think inflation like flo...</td>\n      <td>2021-02-05</td>\n    </tr>\n    <tr>\n      <th>4</th>\n      <td>DeriBot Daily Trading Report 5.02.2021 11:42 U...</td>\n      <td>DeriBot Daily Trading Report UTC Bitcoin Tradi...</td>\n      <td>2021-02-05</td>\n    </tr>\n  </tbody>\n</table>\n</div>"
     },
     "execution_count": 31,
     "metadata": {},
     "output_type": "execute_result"
    }
   ],
   "source": [
    "df['cleaned_tweets'] = df['tweets'].apply(lambda x: cleaning(x))\n",
    "df['date'] = df_clean['date']\n",
    "df['date_clean'] = pd.to_datetime(df['date']).dt.strftime('%Y-%m-%d')\n",
    "df.drop(columns='date',inplace=True)\n",
    "df.head()"
   ]
  },
  {
   "cell_type": "code",
   "execution_count": 32,
   "metadata": {
    "pycharm": {
     "name": "#%%\n"
    }
   },
   "outputs": [],
   "source": [
    "def get_Subjectivity(tweet):\n",
    "    return TextBlob(tweet).sentiment.subjectivity\n",
    "\n",
    "def get_Polarity(tweet):\n",
    "    return TextBlob(tweet).sentiment.polarity"
   ]
  },
  {
   "cell_type": "code",
   "execution_count": 33,
   "metadata": {
    "pycharm": {
     "name": "#%%\n"
    }
   },
   "outputs": [],
   "source": [
    "btc_usd_grouped = btc_usd_grouped.set_index('Date')"
   ]
  },
  {
   "cell_type": "code",
   "execution_count": 34,
   "metadata": {
    "pycharm": {
     "name": "#%%\n"
    }
   },
   "outputs": [
    {
     "data": {
      "text/plain": "               Adj Close\nDate                    \n2021-02-06  39266.011719\n2021-02-07  38903.441406\n2021-02-08  46196.464844\n2021-02-09  46481.105469\n2021-02-10  44918.183594\n...                  ...\n2022-01-24  36654.328125\n2022-01-25  36954.003906\n2022-01-26  36852.121094\n2022-01-27  37138.234375\n2022-01-28  36435.585938\n\n[357 rows x 1 columns]",
      "text/html": "<div>\n<style scoped>\n    .dataframe tbody tr th:only-of-type {\n        vertical-align: middle;\n    }\n\n    .dataframe tbody tr th {\n        vertical-align: top;\n    }\n\n    .dataframe thead th {\n        text-align: right;\n    }\n</style>\n<table border=\"1\" class=\"dataframe\">\n  <thead>\n    <tr style=\"text-align: right;\">\n      <th></th>\n      <th>Adj Close</th>\n    </tr>\n    <tr>\n      <th>Date</th>\n      <th></th>\n    </tr>\n  </thead>\n  <tbody>\n    <tr>\n      <th>2021-02-06</th>\n      <td>39266.011719</td>\n    </tr>\n    <tr>\n      <th>2021-02-07</th>\n      <td>38903.441406</td>\n    </tr>\n    <tr>\n      <th>2021-02-08</th>\n      <td>46196.464844</td>\n    </tr>\n    <tr>\n      <th>2021-02-09</th>\n      <td>46481.105469</td>\n    </tr>\n    <tr>\n      <th>2021-02-10</th>\n      <td>44918.183594</td>\n    </tr>\n    <tr>\n      <th>...</th>\n      <td>...</td>\n    </tr>\n    <tr>\n      <th>2022-01-24</th>\n      <td>36654.328125</td>\n    </tr>\n    <tr>\n      <th>2022-01-25</th>\n      <td>36954.003906</td>\n    </tr>\n    <tr>\n      <th>2022-01-26</th>\n      <td>36852.121094</td>\n    </tr>\n    <tr>\n      <th>2022-01-27</th>\n      <td>37138.234375</td>\n    </tr>\n    <tr>\n      <th>2022-01-28</th>\n      <td>36435.585938</td>\n    </tr>\n  </tbody>\n</table>\n<p>357 rows × 1 columns</p>\n</div>"
     },
     "execution_count": 34,
     "metadata": {},
     "output_type": "execute_result"
    }
   ],
   "source": [
    "btc_usd_grouped"
   ]
  },
  {
   "cell_type": "code",
   "execution_count": 35,
   "metadata": {
    "pycharm": {
     "name": "#%%\n"
    }
   },
   "outputs": [],
   "source": [
    "def btc_price_cate(score):\n",
    "    if score < 1:\n",
    "        return 'negative'\n",
    "    elif score == 1:\n",
    "        return 'neutral'\n",
    "    else:\n",
    "        return 'positive'\n",
    "\n",
    "\n",
    "def observe_period(period):\n",
    "    res = btc_usd_grouped['Adj Close'].shift(period)/btc_usd_grouped['Adj Close']\n",
    "    res = res.apply(btc_price_cate)\n",
    "    return res"
   ]
  },
  {
   "cell_type": "code",
   "execution_count": 36,
   "metadata": {
    "pycharm": {
     "name": "#%%\n"
    }
   },
   "outputs": [],
   "source": [
    "time_sentiment = observe_period(30)"
   ]
  },
  {
   "cell_type": "code",
   "execution_count": 37,
   "metadata": {
    "pycharm": {
     "name": "#%%\n"
    }
   },
   "outputs": [
    {
     "name": "stderr",
     "output_type": "stream",
     "text": [
      "/var/folders/79/vrkgvtgs11v73pnty27_x1100000gn/T/ipykernel_46374/2522087232.py:2: SettingWithCopyWarning: \n",
      "A value is trying to be set on a copy of a slice from a DataFrame.\n",
      "Try using .loc[row_indexer,col_indexer] = value instead\n",
      "\n",
      "See the caveats in the documentation: https://pandas.pydata.org/pandas-docs/stable/user_guide/indexing.html#returning-a-view-versus-a-copy\n",
      "  df['crypto_sentiment'] = df.date_clean.apply(lambda x: time_sentiment[x] if x in time_sentiment else np.nan)\n"
     ]
    }
   ],
   "source": [
    "# CHECK\n",
    "df['crypto_sentiment'] = df.date_clean.apply(lambda x: time_sentiment[x] if x in time_sentiment else np.nan)"
   ]
  },
  {
   "cell_type": "code",
   "execution_count": 38,
   "metadata": {
    "pycharm": {
     "name": "#%%\n"
    }
   },
   "outputs": [
    {
     "name": "stderr",
     "output_type": "stream",
     "text": [
      "/var/folders/79/vrkgvtgs11v73pnty27_x1100000gn/T/ipykernel_46374/816313075.py:1: SettingWithCopyWarning: \n",
      "A value is trying to be set on a copy of a slice from a DataFrame.\n",
      "Try using .loc[row_indexer,col_indexer] = value instead\n",
      "\n",
      "See the caveats in the documentation: https://pandas.pydata.org/pandas-docs/stable/user_guide/indexing.html#returning-a-view-versus-a-copy\n",
      "  df['subjectivity'] = df['cleaned_tweets'].apply(get_Subjectivity)\n"
     ]
    },
    {
     "name": "stdout",
     "output_type": "stream",
     "text": [
      "(22120, 6)\n"
     ]
    },
    {
     "name": "stderr",
     "output_type": "stream",
     "text": [
      "/var/folders/79/vrkgvtgs11v73pnty27_x1100000gn/T/ipykernel_46374/816313075.py:2: SettingWithCopyWarning: \n",
      "A value is trying to be set on a copy of a slice from a DataFrame.\n",
      "Try using .loc[row_indexer,col_indexer] = value instead\n",
      "\n",
      "See the caveats in the documentation: https://pandas.pydata.org/pandas-docs/stable/user_guide/indexing.html#returning-a-view-versus-a-copy\n",
      "  df['polarity'] = df['cleaned_tweets'].apply(get_Polarity)\n"
     ]
    },
    {
     "data": {
      "text/plain": "                                              tweets  \\\n0  Bitcoin and ETH both have bullish setups for a...   \n1  4⃣  🎙️ Bloomberg LP CryptoOutlook 2021 with ⬇️...   \n2  ⬇️⬇️ $BTC SELLING PRESSURE ALERT 📉 Price tradi...   \n3  If hyperinflation does hit again, think of the...   \n4  DeriBot Daily Trading Report 5.02.2021 11:42 U...   \n\n                                      cleaned_tweets  date_clean  \\\n0  Bitcoin ETH bullish setup move higher BTC woul...  2021-02-05   \n1  Bloomberg LP CryptoOutlook cryptocurrency bitc...  2021-02-05   \n2  BTC SELLING PRESSURE ALERT Price trading aroun...  2021-02-05   \n3  If hyperinflation hit think inflation like flo...  2021-02-05   \n4  DeriBot Daily Trading Report UTC Bitcoin Tradi...  2021-02-05   \n\n  crypto_sentiment  subjectivity  polarity  \n0              NaN      0.416667  0.350000  \n1              NaN      0.000000  0.000000  \n2              NaN      0.000000  0.000000  \n3              NaN      0.541667 -0.291667  \n4              NaN      0.000000  0.000000  ",
      "text/html": "<div>\n<style scoped>\n    .dataframe tbody tr th:only-of-type {\n        vertical-align: middle;\n    }\n\n    .dataframe tbody tr th {\n        vertical-align: top;\n    }\n\n    .dataframe thead th {\n        text-align: right;\n    }\n</style>\n<table border=\"1\" class=\"dataframe\">\n  <thead>\n    <tr style=\"text-align: right;\">\n      <th></th>\n      <th>tweets</th>\n      <th>cleaned_tweets</th>\n      <th>date_clean</th>\n      <th>crypto_sentiment</th>\n      <th>subjectivity</th>\n      <th>polarity</th>\n    </tr>\n  </thead>\n  <tbody>\n    <tr>\n      <th>0</th>\n      <td>Bitcoin and ETH both have bullish setups for a...</td>\n      <td>Bitcoin ETH bullish setup move higher BTC woul...</td>\n      <td>2021-02-05</td>\n      <td>NaN</td>\n      <td>0.416667</td>\n      <td>0.350000</td>\n    </tr>\n    <tr>\n      <th>1</th>\n      <td>4⃣  🎙️ Bloomberg LP CryptoOutlook 2021 with ⬇️...</td>\n      <td>Bloomberg LP CryptoOutlook cryptocurrency bitc...</td>\n      <td>2021-02-05</td>\n      <td>NaN</td>\n      <td>0.000000</td>\n      <td>0.000000</td>\n    </tr>\n    <tr>\n      <th>2</th>\n      <td>⬇️⬇️ $BTC SELLING PRESSURE ALERT 📉 Price tradi...</td>\n      <td>BTC SELLING PRESSURE ALERT Price trading aroun...</td>\n      <td>2021-02-05</td>\n      <td>NaN</td>\n      <td>0.000000</td>\n      <td>0.000000</td>\n    </tr>\n    <tr>\n      <th>3</th>\n      <td>If hyperinflation does hit again, think of the...</td>\n      <td>If hyperinflation hit think inflation like flo...</td>\n      <td>2021-02-05</td>\n      <td>NaN</td>\n      <td>0.541667</td>\n      <td>-0.291667</td>\n    </tr>\n    <tr>\n      <th>4</th>\n      <td>DeriBot Daily Trading Report 5.02.2021 11:42 U...</td>\n      <td>DeriBot Daily Trading Report UTC Bitcoin Tradi...</td>\n      <td>2021-02-05</td>\n      <td>NaN</td>\n      <td>0.000000</td>\n      <td>0.000000</td>\n    </tr>\n  </tbody>\n</table>\n</div>"
     },
     "execution_count": 38,
     "metadata": {},
     "output_type": "execute_result"
    }
   ],
   "source": [
    "df['subjectivity'] = df['cleaned_tweets'].apply(get_Subjectivity)\n",
    "df['polarity'] = df['cleaned_tweets'].apply(get_Polarity)\n",
    "print(df.shape)\n",
    "df.head()"
   ]
  },
  {
   "cell_type": "code",
   "execution_count": 39,
   "metadata": {
    "pycharm": {
     "name": "#%%\n"
    }
   },
   "outputs": [
    {
     "name": "stderr",
     "output_type": "stream",
     "text": [
      "/var/folders/79/vrkgvtgs11v73pnty27_x1100000gn/T/ipykernel_46374/2582751764.py:9: SettingWithCopyWarning: \n",
      "A value is trying to be set on a copy of a slice from a DataFrame.\n",
      "Try using .loc[row_indexer,col_indexer] = value instead\n",
      "\n",
      "See the caveats in the documentation: https://pandas.pydata.org/pandas-docs/stable/user_guide/indexing.html#returning-a-view-versus-a-copy\n",
      "  df['sentiment'] = df['polarity'].apply(getSentiment)\n",
      "/var/folders/79/vrkgvtgs11v73pnty27_x1100000gn/T/ipykernel_46374/2582751764.py:10: SettingWithCopyWarning: \n",
      "A value is trying to be set on a copy of a slice from a DataFrame.\n",
      "Try using .loc[row_indexer,col_indexer] = value instead\n",
      "\n",
      "See the caveats in the documentation: https://pandas.pydata.org/pandas-docs/stable/user_guide/indexing.html#returning-a-view-versus-a-copy\n",
      "  df['target'] = df['sentiment'] == df['crypto_sentiment']\n"
     ]
    },
    {
     "data": {
      "text/plain": "                                              tweets  \\\n0  Bitcoin and ETH both have bullish setups for a...   \n1  4⃣  🎙️ Bloomberg LP CryptoOutlook 2021 with ⬇️...   \n2  ⬇️⬇️ $BTC SELLING PRESSURE ALERT 📉 Price tradi...   \n3  If hyperinflation does hit again, think of the...   \n4  DeriBot Daily Trading Report 5.02.2021 11:42 U...   \n\n                                      cleaned_tweets  date_clean  \\\n0  Bitcoin ETH bullish setup move higher BTC woul...  2021-02-05   \n1  Bloomberg LP CryptoOutlook cryptocurrency bitc...  2021-02-05   \n2  BTC SELLING PRESSURE ALERT Price trading aroun...  2021-02-05   \n3  If hyperinflation hit think inflation like flo...  2021-02-05   \n4  DeriBot Daily Trading Report UTC Bitcoin Tradi...  2021-02-05   \n\n  crypto_sentiment  subjectivity  polarity sentiment  target  \n0              NaN      0.416667  0.350000   neutral   False  \n1              NaN      0.000000  0.000000  positive   False  \n2              NaN      0.000000  0.000000  positive   False  \n3              NaN      0.541667 -0.291667  negative   False  \n4              NaN      0.000000  0.000000  positive   False  ",
      "text/html": "<div>\n<style scoped>\n    .dataframe tbody tr th:only-of-type {\n        vertical-align: middle;\n    }\n\n    .dataframe tbody tr th {\n        vertical-align: top;\n    }\n\n    .dataframe thead th {\n        text-align: right;\n    }\n</style>\n<table border=\"1\" class=\"dataframe\">\n  <thead>\n    <tr style=\"text-align: right;\">\n      <th></th>\n      <th>tweets</th>\n      <th>cleaned_tweets</th>\n      <th>date_clean</th>\n      <th>crypto_sentiment</th>\n      <th>subjectivity</th>\n      <th>polarity</th>\n      <th>sentiment</th>\n      <th>target</th>\n    </tr>\n  </thead>\n  <tbody>\n    <tr>\n      <th>0</th>\n      <td>Bitcoin and ETH both have bullish setups for a...</td>\n      <td>Bitcoin ETH bullish setup move higher BTC woul...</td>\n      <td>2021-02-05</td>\n      <td>NaN</td>\n      <td>0.416667</td>\n      <td>0.350000</td>\n      <td>neutral</td>\n      <td>False</td>\n    </tr>\n    <tr>\n      <th>1</th>\n      <td>4⃣  🎙️ Bloomberg LP CryptoOutlook 2021 with ⬇️...</td>\n      <td>Bloomberg LP CryptoOutlook cryptocurrency bitc...</td>\n      <td>2021-02-05</td>\n      <td>NaN</td>\n      <td>0.000000</td>\n      <td>0.000000</td>\n      <td>positive</td>\n      <td>False</td>\n    </tr>\n    <tr>\n      <th>2</th>\n      <td>⬇️⬇️ $BTC SELLING PRESSURE ALERT 📉 Price tradi...</td>\n      <td>BTC SELLING PRESSURE ALERT Price trading aroun...</td>\n      <td>2021-02-05</td>\n      <td>NaN</td>\n      <td>0.000000</td>\n      <td>0.000000</td>\n      <td>positive</td>\n      <td>False</td>\n    </tr>\n    <tr>\n      <th>3</th>\n      <td>If hyperinflation does hit again, think of the...</td>\n      <td>If hyperinflation hit think inflation like flo...</td>\n      <td>2021-02-05</td>\n      <td>NaN</td>\n      <td>0.541667</td>\n      <td>-0.291667</td>\n      <td>negative</td>\n      <td>False</td>\n    </tr>\n    <tr>\n      <th>4</th>\n      <td>DeriBot Daily Trading Report 5.02.2021 11:42 U...</td>\n      <td>DeriBot Daily Trading Report UTC Bitcoin Tradi...</td>\n      <td>2021-02-05</td>\n      <td>NaN</td>\n      <td>0.000000</td>\n      <td>0.000000</td>\n      <td>positive</td>\n      <td>False</td>\n    </tr>\n  </tbody>\n</table>\n</div>"
     },
     "execution_count": 39,
     "metadata": {},
     "output_type": "execute_result"
    }
   ],
   "source": [
    "def getSentiment(score, threshold=0.5):\n",
    "    if score < 0:\n",
    "        return 'negative'\n",
    "    elif 0.001 < score < threshold:\n",
    "        return 'neutral'\n",
    "    else:\n",
    "        return 'positive'\n",
    "\n",
    "df['sentiment'] = df['polarity'].apply(getSentiment)\n",
    "df['target'] = df['sentiment'] == df['crypto_sentiment']\n",
    "df.head()"
   ]
  },
  {
   "cell_type": "code",
   "execution_count": 40,
   "metadata": {
    "pycharm": {
     "name": "#%%\n"
    }
   },
   "outputs": [
    {
     "data": {
      "text/plain": "False    0.686844\nTrue     0.313156\nName: target, dtype: float64"
     },
     "execution_count": 40,
     "metadata": {},
     "output_type": "execute_result"
    }
   ],
   "source": [
    "df.target.value_counts(normalize=True)"
   ]
  },
  {
   "cell_type": "code",
   "execution_count": 41,
   "metadata": {
    "pycharm": {
     "name": "#%%\n"
    }
   },
   "outputs": [
    {
     "data": {
      "text/plain": "positive    11232\nnegative     9333\nName: crypto_sentiment, dtype: int64"
     },
     "execution_count": 41,
     "metadata": {},
     "output_type": "execute_result"
    }
   ],
   "source": [
    "df.crypto_sentiment.value_counts()"
   ]
  },
  {
   "cell_type": "code",
   "execution_count": 42,
   "metadata": {
    "pycharm": {
     "name": "#%%\n"
    }
   },
   "outputs": [
    {
     "data": {
      "text/plain": "positive    0.543987\nneutral     0.346564\nnegative    0.109448\nName: sentiment, dtype: float64"
     },
     "execution_count": 42,
     "metadata": {},
     "output_type": "execute_result"
    }
   ],
   "source": [
    "df.sentiment.value_counts(normalize=True)"
   ]
  },
  {
   "cell_type": "code",
   "execution_count": 43,
   "metadata": {
    "pycharm": {
     "name": "#%%\n"
    }
   },
   "outputs": [],
   "source": [
    "df = df.set_index('date_clean')"
   ]
  },
  {
   "cell_type": "code",
   "execution_count": 44,
   "metadata": {
    "pycharm": {
     "name": "#%%\n"
    }
   },
   "outputs": [
    {
     "data": {
      "text/plain": "                                                       tweets  \\\ndate_clean                                                      \n2021-02-05  Bitcoin and ETH both have bullish setups for a...   \n2021-02-05  4⃣  🎙️ Bloomberg LP CryptoOutlook 2021 with ⬇️...   \n2021-02-05  ⬇️⬇️ $BTC SELLING PRESSURE ALERT 📉 Price tradi...   \n2021-02-05  If hyperinflation does hit again, think of the...   \n2021-02-05  DeriBot Daily Trading Report 5.02.2021 11:42 U...   \n...                                                       ...   \n2022-03-02  AN URGENT MESSAGE TO CRYPTO INVESTORS. Buy Bit...   \n2022-03-02        Who’s gonna tell him? 👀 btc \\n\\n/ObAOkIDOvX   \n2022-03-02  I’ve been paid 2 times in btc ever in my life ...   \n2022-03-02  If you can't convert bitcoin to currency, it m...   \n2022-03-02  You can do Cloud Mining using this site /DHQQ3...   \n\n                                               cleaned_tweets  \\\ndate_clean                                                      \n2021-02-05  Bitcoin ETH bullish setup move higher BTC woul...   \n2021-02-05  Bloomberg LP CryptoOutlook cryptocurrency bitc...   \n2021-02-05  BTC SELLING PRESSURE ALERT Price trading aroun...   \n2021-02-05  If hyperinflation hit think inflation like flo...   \n2021-02-05  DeriBot Daily Trading Report UTC Bitcoin Tradi...   \n...                                                       ...   \n2022-03-02  AN URGENT MESSAGE TO CRYPTO INVESTORS Buy Bitc...   \n2022-03-02                      Who gonna tell btc ObAOkIDOvX   \n2022-03-02  I paid time btc ever life time client regrette...   \n2022-03-02  If convert bitcoin currency might well monopol...   \n2022-03-02  You Cloud Mining using site DHQQ eGe mining tr...   \n\n           crypto_sentiment  subjectivity  polarity sentiment  target  \ndate_clean                                                             \n2021-02-05              NaN      0.416667  0.350000   neutral   False  \n2021-02-05              NaN      0.000000  0.000000  positive   False  \n2021-02-05              NaN      0.000000  0.000000  positive   False  \n2021-02-05              NaN      0.541667 -0.291667  negative   False  \n2021-02-05              NaN      0.000000  0.000000  positive   False  \n...                     ...           ...       ...       ...     ...  \n2022-03-02              NaN      0.000000  0.000000  positive   False  \n2022-03-02              NaN      0.000000  0.000000  positive   False  \n2022-03-02              NaN      0.700000  0.800000  positive   False  \n2022-03-02              NaN      0.000000  0.000000  positive   False  \n2022-03-02              NaN      0.000000  0.000000  positive   False  \n\n[22120 rows x 7 columns]",
      "text/html": "<div>\n<style scoped>\n    .dataframe tbody tr th:only-of-type {\n        vertical-align: middle;\n    }\n\n    .dataframe tbody tr th {\n        vertical-align: top;\n    }\n\n    .dataframe thead th {\n        text-align: right;\n    }\n</style>\n<table border=\"1\" class=\"dataframe\">\n  <thead>\n    <tr style=\"text-align: right;\">\n      <th></th>\n      <th>tweets</th>\n      <th>cleaned_tweets</th>\n      <th>crypto_sentiment</th>\n      <th>subjectivity</th>\n      <th>polarity</th>\n      <th>sentiment</th>\n      <th>target</th>\n    </tr>\n    <tr>\n      <th>date_clean</th>\n      <th></th>\n      <th></th>\n      <th></th>\n      <th></th>\n      <th></th>\n      <th></th>\n      <th></th>\n    </tr>\n  </thead>\n  <tbody>\n    <tr>\n      <th>2021-02-05</th>\n      <td>Bitcoin and ETH both have bullish setups for a...</td>\n      <td>Bitcoin ETH bullish setup move higher BTC woul...</td>\n      <td>NaN</td>\n      <td>0.416667</td>\n      <td>0.350000</td>\n      <td>neutral</td>\n      <td>False</td>\n    </tr>\n    <tr>\n      <th>2021-02-05</th>\n      <td>4⃣  🎙️ Bloomberg LP CryptoOutlook 2021 with ⬇️...</td>\n      <td>Bloomberg LP CryptoOutlook cryptocurrency bitc...</td>\n      <td>NaN</td>\n      <td>0.000000</td>\n      <td>0.000000</td>\n      <td>positive</td>\n      <td>False</td>\n    </tr>\n    <tr>\n      <th>2021-02-05</th>\n      <td>⬇️⬇️ $BTC SELLING PRESSURE ALERT 📉 Price tradi...</td>\n      <td>BTC SELLING PRESSURE ALERT Price trading aroun...</td>\n      <td>NaN</td>\n      <td>0.000000</td>\n      <td>0.000000</td>\n      <td>positive</td>\n      <td>False</td>\n    </tr>\n    <tr>\n      <th>2021-02-05</th>\n      <td>If hyperinflation does hit again, think of the...</td>\n      <td>If hyperinflation hit think inflation like flo...</td>\n      <td>NaN</td>\n      <td>0.541667</td>\n      <td>-0.291667</td>\n      <td>negative</td>\n      <td>False</td>\n    </tr>\n    <tr>\n      <th>2021-02-05</th>\n      <td>DeriBot Daily Trading Report 5.02.2021 11:42 U...</td>\n      <td>DeriBot Daily Trading Report UTC Bitcoin Tradi...</td>\n      <td>NaN</td>\n      <td>0.000000</td>\n      <td>0.000000</td>\n      <td>positive</td>\n      <td>False</td>\n    </tr>\n    <tr>\n      <th>...</th>\n      <td>...</td>\n      <td>...</td>\n      <td>...</td>\n      <td>...</td>\n      <td>...</td>\n      <td>...</td>\n      <td>...</td>\n    </tr>\n    <tr>\n      <th>2022-03-02</th>\n      <td>AN URGENT MESSAGE TO CRYPTO INVESTORS. Buy Bit...</td>\n      <td>AN URGENT MESSAGE TO CRYPTO INVESTORS Buy Bitc...</td>\n      <td>NaN</td>\n      <td>0.000000</td>\n      <td>0.000000</td>\n      <td>positive</td>\n      <td>False</td>\n    </tr>\n    <tr>\n      <th>2022-03-02</th>\n      <td>Who’s gonna tell him? 👀 btc \\n\\n/ObAOkIDOvX</td>\n      <td>Who gonna tell btc ObAOkIDOvX</td>\n      <td>NaN</td>\n      <td>0.000000</td>\n      <td>0.000000</td>\n      <td>positive</td>\n      <td>False</td>\n    </tr>\n    <tr>\n      <th>2022-03-02</th>\n      <td>I’ve been paid 2 times in btc ever in my life ...</td>\n      <td>I paid time btc ever life time client regrette...</td>\n      <td>NaN</td>\n      <td>0.700000</td>\n      <td>0.800000</td>\n      <td>positive</td>\n      <td>False</td>\n    </tr>\n    <tr>\n      <th>2022-03-02</th>\n      <td>If you can't convert bitcoin to currency, it m...</td>\n      <td>If convert bitcoin currency might well monopol...</td>\n      <td>NaN</td>\n      <td>0.000000</td>\n      <td>0.000000</td>\n      <td>positive</td>\n      <td>False</td>\n    </tr>\n    <tr>\n      <th>2022-03-02</th>\n      <td>You can do Cloud Mining using this site /DHQQ3...</td>\n      <td>You Cloud Mining using site DHQQ eGe mining tr...</td>\n      <td>NaN</td>\n      <td>0.000000</td>\n      <td>0.000000</td>\n      <td>positive</td>\n      <td>False</td>\n    </tr>\n  </tbody>\n</table>\n<p>22120 rows × 7 columns</p>\n</div>"
     },
     "execution_count": 44,
     "metadata": {},
     "output_type": "execute_result"
    }
   ],
   "source": [
    "df"
   ]
  },
  {
   "cell_type": "code",
   "execution_count": 45,
   "metadata": {
    "pycharm": {
     "name": "#%%\n"
    }
   },
   "outputs": [],
   "source": [
    "df.to_csv(f'{directory}/data/sampled_data/tweets_nlp_modelling_v2.csv')"
   ]
  }
 ],
 "metadata": {
  "kernelspec": {
   "display_name": "Python 3 (ipykernel)",
   "language": "python",
   "name": "python3"
  },
  "language_info": {
   "codemirror_mode": {
    "name": "ipython",
    "version": 3
   },
   "file_extension": ".py",
   "mimetype": "text/x-python",
   "name": "python",
   "nbconvert_exporter": "python",
   "pygments_lexer": "ipython3",
   "version": "3.8.8"
  }
 },
 "nbformat": 4,
 "nbformat_minor": 1
}