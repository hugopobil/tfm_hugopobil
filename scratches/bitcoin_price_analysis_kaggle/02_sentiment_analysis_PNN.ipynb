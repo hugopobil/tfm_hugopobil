{
 "cells": [
  {
   "cell_type": "markdown",
   "metadata": {
    "collapsed": true,
    "pycharm": {
     "name": "#%% md\n"
    }
   },
   "source": [
    "## Sentiment Analysis (clean_tweets) - VADER\n",
    "\n",
    "VADER (Valence Aware Dictionary and Sentiment Reasoner) is a lexicon and rule-based sentiment analysis tool that is specifically attuned to sentiments expressed in social media.\n",
    "\n",
    "VADER takes into account:\n",
    "negations and contractions (not good, wasn’t good) Punctuation (good!!!), CAPS, emotes :), emojis Intensificators (very, kind of), acronyms ‘lol’ Scores between -1.0 (negative) and 1.0 (positive)\n",
    "\n",
    "We will use this sentiment analysis of the tweets to calculate a score that will represent the importance of each tweet."
   ]
  },
  {
   "cell_type": "code",
   "execution_count": 2,
   "outputs": [],
   "source": [
    "from time import sleep\n",
    "import json\n",
    "import io\n",
    "import re\n",
    "import numpy as np\n",
    "import matplotlib.pyplot as plot\n",
    "import seaborn as sb\n",
    "import pandas as pd\n",
    "from tqdm import tqdm\n",
    "import pandas as pd\n",
    "from vaderSentiment.vaderSentiment import SentimentIntensityAnalyzer\n",
    "from tqdm import tnrange, tqdm_notebook, tqdm\n",
    "from sklearn.feature_extraction.text import CountVectorizer\n",
    "from pysentimiento import create_analyzer\n",
    "\n",
    "from sklearn import preprocessing\n",
    "import matplotlib.pyplot as plt"
   ],
   "metadata": {
    "collapsed": false,
    "pycharm": {
     "name": "#%%\n"
    }
   }
  },
  {
   "cell_type": "code",
   "execution_count": 4,
   "outputs": [],
   "source": [
    "tweets = pd.read_csv('tweets_clean.csv', low_memory=False)"
   ],
   "metadata": {
    "collapsed": false,
    "pycharm": {
     "name": "#%%\n"
    }
   }
  },
  {
   "cell_type": "code",
   "execution_count": 5,
   "outputs": [
    {
     "name": "stdout",
     "output_type": "stream",
     "text": [
      "(23475, 14)\n"
     ]
    },
    {
     "data": {
      "text/plain": "     index                      user_name   user_location  \\\n0  1545110                 Muhammad Sa'ad             NaN   \n1  1431064                      Kikan4444             NaN   \n2  1070632                Kripto Tiger 🇹🇷             NaN   \n3  1276832  Sheesh | @NanoDogecoin | INDC             NaN   \n4  1980309          CoinMarketDaddy (CMD)  United Kingdom   \n\n                                    user_description         user_created  \\\n0                                             Dota 2  2021-08-12 09:52:26   \n1  share the positive vibes of the universe 🧲. 💜 ...  2021-07-09 15:46:05   \n2       #bsc #bscgem #gem #shrew #gmrfinance #nftart  2020-11-07 07:37:33   \n3  #Staking #INDC!\\n#Stake #NanoDogecoin & #earn:...  2011-02-10 04:39:28   \n4  CMD stands for Coin Market Daddy & Was Built B...  2018-04-19 02:19:06   \n\n   user_followers  user_friends  user_favourites  user_verified  \\\n0             8.0        1089.0           1403.0          False   \n1           346.0         214.0           1534.0          False   \n2           164.0         298.0           5577.0          False   \n3           151.0         453.0           6228.0          False   \n4          2833.0           1.0            118.0          False   \n\n                  date                                               text  \\\n0  2021-10-28 12:30:44  Airdrop is live , dont be late sir :)\\n\\n\\n\\n\\...   \n1  2021-10-22 05:47:45  something Big is coming \\n$KLV Klever 💜🌟\\n\\nBT...   \n2  2021-08-16 09:58:44  Easy money with \\n\\n bsc bnb BinanceSmartChain...   \n3  2021-10-19 02:09:26  NanoDogecoin is the King👑of the BSC Blockchain...   \n4  2021-12-30 16:03:28  Bitcoin News Roundup for June 17, 2020 cryptoc...   \n\n                                            hashtags               source  \\\n0  ['Airdrop', 'Airdrops', 'Airdropinspector', 'B...  Twitter for Android   \n1             ['Klever', 'BTC', 'ETH', 'BNB', 'TRX']  Twitter for Android   \n2  ['bsc', 'bnb', 'BinanceSmartChain', 'binance',...      Twitter Web App   \n3  ['NanoDogecoin', 'King', 'BSC', 'Blockchain', ...  Twitter for Android   \n4  ['cryptocurrencies', 'bitcoin', 'crypto', 'cry...      SocialBee.io v2   \n\n  is_retweet  \n0      False  \n1      False  \n2      False  \n3      False  \n4      False  ",
      "text/html": "<div>\n<style scoped>\n    .dataframe tbody tr th:only-of-type {\n        vertical-align: middle;\n    }\n\n    .dataframe tbody tr th {\n        vertical-align: top;\n    }\n\n    .dataframe thead th {\n        text-align: right;\n    }\n</style>\n<table border=\"1\" class=\"dataframe\">\n  <thead>\n    <tr style=\"text-align: right;\">\n      <th></th>\n      <th>index</th>\n      <th>user_name</th>\n      <th>user_location</th>\n      <th>user_description</th>\n      <th>user_created</th>\n      <th>user_followers</th>\n      <th>user_friends</th>\n      <th>user_favourites</th>\n      <th>user_verified</th>\n      <th>date</th>\n      <th>text</th>\n      <th>hashtags</th>\n      <th>source</th>\n      <th>is_retweet</th>\n    </tr>\n  </thead>\n  <tbody>\n    <tr>\n      <th>0</th>\n      <td>1545110</td>\n      <td>Muhammad Sa'ad</td>\n      <td>NaN</td>\n      <td>Dota 2</td>\n      <td>2021-08-12 09:52:26</td>\n      <td>8.0</td>\n      <td>1089.0</td>\n      <td>1403.0</td>\n      <td>False</td>\n      <td>2021-10-28 12:30:44</td>\n      <td>Airdrop is live , dont be late sir :)\\n\\n\\n\\n\\...</td>\n      <td>['Airdrop', 'Airdrops', 'Airdropinspector', 'B...</td>\n      <td>Twitter for Android</td>\n      <td>False</td>\n    </tr>\n    <tr>\n      <th>1</th>\n      <td>1431064</td>\n      <td>Kikan4444</td>\n      <td>NaN</td>\n      <td>share the positive vibes of the universe 🧲. 💜 ...</td>\n      <td>2021-07-09 15:46:05</td>\n      <td>346.0</td>\n      <td>214.0</td>\n      <td>1534.0</td>\n      <td>False</td>\n      <td>2021-10-22 05:47:45</td>\n      <td>something Big is coming \\n$KLV Klever 💜🌟\\n\\nBT...</td>\n      <td>['Klever', 'BTC', 'ETH', 'BNB', 'TRX']</td>\n      <td>Twitter for Android</td>\n      <td>False</td>\n    </tr>\n    <tr>\n      <th>2</th>\n      <td>1070632</td>\n      <td>Kripto Tiger 🇹🇷</td>\n      <td>NaN</td>\n      <td>#bsc #bscgem #gem #shrew #gmrfinance #nftart</td>\n      <td>2020-11-07 07:37:33</td>\n      <td>164.0</td>\n      <td>298.0</td>\n      <td>5577.0</td>\n      <td>False</td>\n      <td>2021-08-16 09:58:44</td>\n      <td>Easy money with \\n\\n bsc bnb BinanceSmartChain...</td>\n      <td>['bsc', 'bnb', 'BinanceSmartChain', 'binance',...</td>\n      <td>Twitter Web App</td>\n      <td>False</td>\n    </tr>\n    <tr>\n      <th>3</th>\n      <td>1276832</td>\n      <td>Sheesh | @NanoDogecoin | INDC</td>\n      <td>NaN</td>\n      <td>#Staking #INDC!\\n#Stake #NanoDogecoin &amp; #earn:...</td>\n      <td>2011-02-10 04:39:28</td>\n      <td>151.0</td>\n      <td>453.0</td>\n      <td>6228.0</td>\n      <td>False</td>\n      <td>2021-10-19 02:09:26</td>\n      <td>NanoDogecoin is the King👑of the BSC Blockchain...</td>\n      <td>['NanoDogecoin', 'King', 'BSC', 'Blockchain', ...</td>\n      <td>Twitter for Android</td>\n      <td>False</td>\n    </tr>\n    <tr>\n      <th>4</th>\n      <td>1980309</td>\n      <td>CoinMarketDaddy (CMD)</td>\n      <td>United Kingdom</td>\n      <td>CMD stands for Coin Market Daddy &amp; Was Built B...</td>\n      <td>2018-04-19 02:19:06</td>\n      <td>2833.0</td>\n      <td>1.0</td>\n      <td>118.0</td>\n      <td>False</td>\n      <td>2021-12-30 16:03:28</td>\n      <td>Bitcoin News Roundup for June 17, 2020 cryptoc...</td>\n      <td>['cryptocurrencies', 'bitcoin', 'crypto', 'cry...</td>\n      <td>SocialBee.io v2</td>\n      <td>False</td>\n    </tr>\n  </tbody>\n</table>\n</div>"
     },
     "execution_count": 5,
     "metadata": {},
     "output_type": "execute_result"
    }
   ],
   "source": [
    "print(tweets.shape)\n",
    "tweets.head()"
   ],
   "metadata": {
    "collapsed": false,
    "pycharm": {
     "name": "#%%\n"
    }
   }
  },
  {
   "cell_type": "markdown",
   "source": [
    "### Create a column indataframe with sentiment analysis:"
   ],
   "metadata": {
    "collapsed": false,
    "pycharm": {
     "name": "#%% md\n"
    }
   }
  },
  {
   "cell_type": "code",
   "execution_count": 8,
   "outputs": [
    {
     "data": {
      "text/plain": "Downloading:   0%|          | 0.00/334 [00:00<?, ?B/s]",
      "application/vnd.jupyter.widget-view+json": {
       "version_major": 2,
       "version_minor": 0,
       "model_id": "fdd618f8662a45c0b39b03b66d9043a6"
      }
     },
     "metadata": {},
     "output_type": "display_data"
    },
    {
     "data": {
      "text/plain": "Downloading:   0%|          | 0.00/838k [00:00<?, ?B/s]",
      "application/vnd.jupyter.widget-view+json": {
       "version_major": 2,
       "version_minor": 0,
       "model_id": "19819439a2314a15b6e2e3d7c24df00f"
      }
     },
     "metadata": {},
     "output_type": "display_data"
    },
    {
     "data": {
      "text/plain": "Downloading:   0%|          | 0.00/150 [00:00<?, ?B/s]",
      "application/vnd.jupyter.widget-view+json": {
       "version_major": 2,
       "version_minor": 0,
       "model_id": "a7e48893160847d3a26bb6d1a8fd61c3"
      }
     },
     "metadata": {},
     "output_type": "display_data"
    },
    {
     "data": {
      "text/plain": "Downloading:   0%|          | 0.00/925 [00:00<?, ?B/s]",
      "application/vnd.jupyter.widget-view+json": {
       "version_major": 2,
       "version_minor": 0,
       "model_id": "cbcfd6ccf2e24bf08a11dfbabf6bf6a2"
      }
     },
     "metadata": {},
     "output_type": "display_data"
    },
    {
     "data": {
      "text/plain": "Downloading:   0%|          | 0.00/415M [00:00<?, ?B/s]",
      "application/vnd.jupyter.widget-view+json": {
       "version_major": 2,
       "version_minor": 0,
       "model_id": "002a08c39bae4f55bac1077e94e09ae8"
      }
     },
     "metadata": {},
     "output_type": "display_data"
    }
   ],
   "source": [
    "analyzer = create_analyzer(task='sentiment', lang='es')"
   ],
   "metadata": {
    "collapsed": false,
    "pycharm": {
     "name": "#%%\n"
    }
   }
  },
  {
   "cell_type": "code",
   "execution_count": null,
   "outputs": [
    {
     "data": {
      "text/plain": "  0%|          | 0/734 [00:00<?, ?ba/s]",
      "application/vnd.jupyter.widget-view+json": {
       "version_major": 2,
       "version_minor": 0,
       "model_id": "ad134a64302440378ddce90ee8a584cb"
      }
     },
     "metadata": {},
     "output_type": "display_data"
    },
    {
     "name": "stderr",
     "output_type": "stream",
     "text": [
      "The following columns in the test set  don't have a corresponding argument in `RobertaForSequenceClassification.forward` and have been ignored: text. If text are not expected by `RobertaForSequenceClassification.forward`,  you can safely ignore this message.\n",
      "***** Running Prediction *****\n",
      "  Num examples = 23475\n",
      "  Batch size = 32\n"
     ]
    }
   ],
   "source": [
    "%%time\n",
    "tweets['sentiment'] = analyzer.predict(tweets['text'])"
   ],
   "metadata": {
    "collapsed": false,
    "pycharm": {
     "name": "#%%\n",
     "is_executing": true
    }
   }
  },
  {
   "cell_type": "code",
   "execution_count": null,
   "outputs": [],
   "source": [
    "tweets['sentiment'].iloc[0].output"
   ],
   "metadata": {
    "collapsed": false,
    "pycharm": {
     "name": "#%%\n",
     "is_executing": true
    }
   }
  },
  {
   "cell_type": "code",
   "execution_count": null,
   "outputs": [],
   "source": [
    "tweets['simplified_sentiment'] = tweets[\"sentiment\"].apply(lambda x: x.output)\n",
    "tweets.simplified_sentiment.value_counts()"
   ],
   "metadata": {
    "collapsed": false,
    "pycharm": {
     "name": "#%%\n",
     "is_executing": true
    }
   }
  },
  {
   "cell_type": "markdown",
   "source": [
    "### Save to local"
   ],
   "metadata": {
    "collapsed": false,
    "pycharm": {
     "name": "#%% md\n"
    }
   }
  },
  {
   "cell_type": "code",
   "execution_count": null,
   "outputs": [],
   "source": [
    "tweets.to_csv('tweets_scores_PNN.csv')"
   ],
   "metadata": {
    "collapsed": false,
    "pycharm": {
     "name": "#%%\n"
    }
   }
  }
 ],
 "metadata": {
  "kernelspec": {
   "display_name": "Python 3",
   "language": "python",
   "name": "python3"
  },
  "language_info": {
   "codemirror_mode": {
    "name": "ipython",
    "version": 2
   },
   "file_extension": ".py",
   "mimetype": "text/x-python",
   "name": "python",
   "nbconvert_exporter": "python",
   "pygments_lexer": "ipython2",
   "version": "2.7.6"
  }
 },
 "nbformat": 4,
 "nbformat_minor": 0
}