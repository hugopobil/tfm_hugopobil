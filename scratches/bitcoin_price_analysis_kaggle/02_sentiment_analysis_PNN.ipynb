{
 "cells": [
  {
   "cell_type": "markdown",
   "metadata": {
    "collapsed": true,
    "pycharm": {
     "name": "#%% md\n"
    }
   },
   "source": [
    "## Sentiment Analysis (clean_tweets) - VADER\n",
    "\n",
    "VADER (Valence Aware Dictionary and Sentiment Reasoner) is a lexicon and rule-based sentiment analysis tool that is specifically attuned to sentiments expressed in social media.\n",
    "\n",
    "VADER takes into account:\n",
    "negations and contractions (not good, wasn’t good) Punctuation (good!!!), CAPS, emotes :), emojis Intensificators (very, kind of), acronyms ‘lol’ Scores between -1.0 (negative) and 1.0 (positive)\n",
    "\n",
    "We will use this sentiment analysis of the tweets to calculate a score that will represent the importance of each tweet."
   ]
  },
  {
   "cell_type": "code",
   "execution_count": 2,
   "outputs": [],
   "source": [
    "from time import sleep\n",
    "import json\n",
    "import io\n",
    "import re\n",
    "import numpy as np\n",
    "import matplotlib.pyplot as plot\n",
    "import seaborn as sb\n",
    "import pandas as pd\n",
    "from tqdm import tqdm\n",
    "import pandas as pd\n",
    "from vaderSentiment.vaderSentiment import SentimentIntensityAnalyzer\n",
    "from tqdm import tnrange, tqdm_notebook, tqdm\n",
    "from sklearn.feature_extraction.text import CountVectorizer\n",
    "from pysentimiento import create_analyzer\n",
    "\n",
    "from sklearn import preprocessing\n",
    "import matplotlib.pyplot as plt"
   ],
   "metadata": {
    "collapsed": false,
    "pycharm": {
     "name": "#%%\n"
    }
   }
  },
  {
   "cell_type": "code",
   "execution_count": 3,
   "outputs": [],
   "source": [
    "tweets = pd.read_csv('tweets_clean.csv', low_memory=False)"
   ],
   "metadata": {
    "collapsed": false,
    "pycharm": {
     "name": "#%%\n"
    }
   }
  },
  {
   "cell_type": "code",
   "execution_count": 4,
   "outputs": [
    {
     "name": "stdout",
     "output_type": "stream",
     "text": [
      "(23475, 14)\n"
     ]
    },
    {
     "data": {
      "text/plain": "     index                      user_name   user_location  \\\n0  1545110                 Muhammad Sa'ad             NaN   \n1  1431064                      Kikan4444             NaN   \n2  1070632                Kripto Tiger 🇹🇷             NaN   \n3  1276832  Sheesh | @NanoDogecoin | INDC             NaN   \n4  1980309          CoinMarketDaddy (CMD)  United Kingdom   \n\n                                    user_description         user_created  \\\n0                                             Dota 2  2021-08-12 09:52:26   \n1  share the positive vibes of the universe 🧲. 💜 ...  2021-07-09 15:46:05   \n2       #bsc #bscgem #gem #shrew #gmrfinance #nftart  2020-11-07 07:37:33   \n3  #Staking #INDC!\\n#Stake #NanoDogecoin & #earn:...  2011-02-10 04:39:28   \n4  CMD stands for Coin Market Daddy & Was Built B...  2018-04-19 02:19:06   \n\n   user_followers  user_friends  user_favourites  user_verified  \\\n0             8.0        1089.0           1403.0          False   \n1           346.0         214.0           1534.0          False   \n2           164.0         298.0           5577.0          False   \n3           151.0         453.0           6228.0          False   \n4          2833.0           1.0            118.0          False   \n\n                  date                                               text  \\\n0  2021-10-28 12:30:44  Airdrop is live , dont be late sir :)\\n\\n\\n\\n\\...   \n1  2021-10-22 05:47:45  something Big is coming \\n$KLV Klever 💜🌟\\n\\nBT...   \n2  2021-08-16 09:58:44  Easy money with \\n\\n bsc bnb BinanceSmartChain...   \n3  2021-10-19 02:09:26  NanoDogecoin is the King👑of the BSC Blockchain...   \n4  2021-12-30 16:03:28  Bitcoin News Roundup for June 17, 2020 cryptoc...   \n\n                                            hashtags               source  \\\n0  ['Airdrop', 'Airdrops', 'Airdropinspector', 'B...  Twitter for Android   \n1             ['Klever', 'BTC', 'ETH', 'BNB', 'TRX']  Twitter for Android   \n2  ['bsc', 'bnb', 'BinanceSmartChain', 'binance',...      Twitter Web App   \n3  ['NanoDogecoin', 'King', 'BSC', 'Blockchain', ...  Twitter for Android   \n4  ['cryptocurrencies', 'bitcoin', 'crypto', 'cry...      SocialBee.io v2   \n\n  is_retweet  \n0      False  \n1      False  \n2      False  \n3      False  \n4      False  ",
      "text/html": "<div>\n<style scoped>\n    .dataframe tbody tr th:only-of-type {\n        vertical-align: middle;\n    }\n\n    .dataframe tbody tr th {\n        vertical-align: top;\n    }\n\n    .dataframe thead th {\n        text-align: right;\n    }\n</style>\n<table border=\"1\" class=\"dataframe\">\n  <thead>\n    <tr style=\"text-align: right;\">\n      <th></th>\n      <th>index</th>\n      <th>user_name</th>\n      <th>user_location</th>\n      <th>user_description</th>\n      <th>user_created</th>\n      <th>user_followers</th>\n      <th>user_friends</th>\n      <th>user_favourites</th>\n      <th>user_verified</th>\n      <th>date</th>\n      <th>text</th>\n      <th>hashtags</th>\n      <th>source</th>\n      <th>is_retweet</th>\n    </tr>\n  </thead>\n  <tbody>\n    <tr>\n      <th>0</th>\n      <td>1545110</td>\n      <td>Muhammad Sa'ad</td>\n      <td>NaN</td>\n      <td>Dota 2</td>\n      <td>2021-08-12 09:52:26</td>\n      <td>8.0</td>\n      <td>1089.0</td>\n      <td>1403.0</td>\n      <td>False</td>\n      <td>2021-10-28 12:30:44</td>\n      <td>Airdrop is live , dont be late sir :)\\n\\n\\n\\n\\...</td>\n      <td>['Airdrop', 'Airdrops', 'Airdropinspector', 'B...</td>\n      <td>Twitter for Android</td>\n      <td>False</td>\n    </tr>\n    <tr>\n      <th>1</th>\n      <td>1431064</td>\n      <td>Kikan4444</td>\n      <td>NaN</td>\n      <td>share the positive vibes of the universe 🧲. 💜 ...</td>\n      <td>2021-07-09 15:46:05</td>\n      <td>346.0</td>\n      <td>214.0</td>\n      <td>1534.0</td>\n      <td>False</td>\n      <td>2021-10-22 05:47:45</td>\n      <td>something Big is coming \\n$KLV Klever 💜🌟\\n\\nBT...</td>\n      <td>['Klever', 'BTC', 'ETH', 'BNB', 'TRX']</td>\n      <td>Twitter for Android</td>\n      <td>False</td>\n    </tr>\n    <tr>\n      <th>2</th>\n      <td>1070632</td>\n      <td>Kripto Tiger 🇹🇷</td>\n      <td>NaN</td>\n      <td>#bsc #bscgem #gem #shrew #gmrfinance #nftart</td>\n      <td>2020-11-07 07:37:33</td>\n      <td>164.0</td>\n      <td>298.0</td>\n      <td>5577.0</td>\n      <td>False</td>\n      <td>2021-08-16 09:58:44</td>\n      <td>Easy money with \\n\\n bsc bnb BinanceSmartChain...</td>\n      <td>['bsc', 'bnb', 'BinanceSmartChain', 'binance',...</td>\n      <td>Twitter Web App</td>\n      <td>False</td>\n    </tr>\n    <tr>\n      <th>3</th>\n      <td>1276832</td>\n      <td>Sheesh | @NanoDogecoin | INDC</td>\n      <td>NaN</td>\n      <td>#Staking #INDC!\\n#Stake #NanoDogecoin &amp; #earn:...</td>\n      <td>2011-02-10 04:39:28</td>\n      <td>151.0</td>\n      <td>453.0</td>\n      <td>6228.0</td>\n      <td>False</td>\n      <td>2021-10-19 02:09:26</td>\n      <td>NanoDogecoin is the King👑of the BSC Blockchain...</td>\n      <td>['NanoDogecoin', 'King', 'BSC', 'Blockchain', ...</td>\n      <td>Twitter for Android</td>\n      <td>False</td>\n    </tr>\n    <tr>\n      <th>4</th>\n      <td>1980309</td>\n      <td>CoinMarketDaddy (CMD)</td>\n      <td>United Kingdom</td>\n      <td>CMD stands for Coin Market Daddy &amp; Was Built B...</td>\n      <td>2018-04-19 02:19:06</td>\n      <td>2833.0</td>\n      <td>1.0</td>\n      <td>118.0</td>\n      <td>False</td>\n      <td>2021-12-30 16:03:28</td>\n      <td>Bitcoin News Roundup for June 17, 2020 cryptoc...</td>\n      <td>['cryptocurrencies', 'bitcoin', 'crypto', 'cry...</td>\n      <td>SocialBee.io v2</td>\n      <td>False</td>\n    </tr>\n  </tbody>\n</table>\n</div>"
     },
     "execution_count": 4,
     "metadata": {},
     "output_type": "execute_result"
    }
   ],
   "source": [
    "print(tweets.shape)\n",
    "tweets.head()"
   ],
   "metadata": {
    "collapsed": false,
    "pycharm": {
     "name": "#%%\n"
    }
   }
  },
  {
   "cell_type": "markdown",
   "source": [
    "### Create a column indataframe with sentiment analysis:"
   ],
   "metadata": {
    "collapsed": false,
    "pycharm": {
     "name": "#%% md\n"
    }
   }
  },
  {
   "cell_type": "code",
   "execution_count": 7,
   "outputs": [
    {
     "name": "stderr",
     "output_type": "stream",
     "text": [
      "loading configuration file https://huggingface.co/finiteautomata/bertweet-base-sentiment-analysis/resolve/main/config.json from cache at /Users/hpp/.cache/huggingface/transformers/cb09766f7ba60b5f7a1bb640617b24f1499c4a6f3ab160c4a0ac171e3a377c68.008dca06003188334001a96363da79ced4944abc68d94a2f1e0db786dc5aa08b\n",
      "Model config RobertaConfig {\n",
      "  \"_name_or_path\": \"finiteautomata/bertweet-base-sentiment-analysis\",\n",
      "  \"architectures\": [\n",
      "    \"RobertaForSequenceClassification\"\n",
      "  ],\n",
      "  \"attention_probs_dropout_prob\": 0.1,\n",
      "  \"bos_token_id\": 0,\n",
      "  \"classifier_dropout\": null,\n",
      "  \"eos_token_id\": 2,\n",
      "  \"gradient_checkpointing\": false,\n",
      "  \"hidden_act\": \"gelu\",\n",
      "  \"hidden_dropout_prob\": 0.1,\n",
      "  \"hidden_size\": 768,\n",
      "  \"id2label\": {\n",
      "    \"0\": \"NEG\",\n",
      "    \"1\": \"NEU\",\n",
      "    \"2\": \"POS\"\n",
      "  },\n",
      "  \"initializer_range\": 0.02,\n",
      "  \"intermediate_size\": 3072,\n",
      "  \"label2id\": {\n",
      "    \"NEG\": 0,\n",
      "    \"NEU\": 1,\n",
      "    \"POS\": 2\n",
      "  },\n",
      "  \"layer_norm_eps\": 1e-05,\n",
      "  \"max_position_embeddings\": 130,\n",
      "  \"model_type\": \"roberta\",\n",
      "  \"num_attention_heads\": 12,\n",
      "  \"num_hidden_layers\": 12,\n",
      "  \"pad_token_id\": 1,\n",
      "  \"position_embedding_type\": \"absolute\",\n",
      "  \"problem_type\": \"single_label_classification\",\n",
      "  \"tokenizer_class\": \"BertweetTokenizer\",\n",
      "  \"transformers_version\": \"4.17.0\",\n",
      "  \"type_vocab_size\": 1,\n",
      "  \"use_cache\": true,\n",
      "  \"vocab_size\": 64001\n",
      "}\n",
      "\n",
      "loading file https://huggingface.co/finiteautomata/bertweet-base-sentiment-analysis/resolve/main/vocab.txt from cache at /Users/hpp/.cache/huggingface/transformers/973dbacfdf4c488622f01d1a226089e9e3dba130a0c3c11c2e36d49466fa40a8.f8a4dfe5c3c45a26f9df849d732decb191dc0c05ab270799695430332d143982\n",
      "loading file https://huggingface.co/finiteautomata/bertweet-base-sentiment-analysis/resolve/main/bpe.codes from cache at /Users/hpp/.cache/huggingface/transformers/0e474c44ff353f3b378fb140e7e6d4431df4ec6142e8b38d584c0dbc5afc3521.75877d86011e5d5d46614d3a21757b705e9d20ed45a019805d25159b4837b0a4\n",
      "loading file https://huggingface.co/finiteautomata/bertweet-base-sentiment-analysis/resolve/main/added_tokens.json from cache at /Users/hpp/.cache/huggingface/transformers/fe46927817477a58ec2aa92ef52f8ee6fc9e824d054f4aa6a3c129724dc9c9b7.c1e7052e39d2135302ec27455f6db22e1520e6539942ff60a849c7f83f8ec6dc\n",
      "loading file https://huggingface.co/finiteautomata/bertweet-base-sentiment-analysis/resolve/main/special_tokens_map.json from cache at /Users/hpp/.cache/huggingface/transformers/9413ac0bed76140860deffa0c5a29ee4da7d49a3810da1b4b51b27f790bc9255.0dc5b1041f62041ebbd23b1297f2f573769d5c97d8b7c28180ec86b8f6185aa8\n",
      "loading file https://huggingface.co/finiteautomata/bertweet-base-sentiment-analysis/resolve/main/tokenizer_config.json from cache at /Users/hpp/.cache/huggingface/transformers/61374b71c02fdfd2929a3cdce24c242049e036624e15e18461a3a70cfc35e939.c260b44e952f7f2a825aac395f2ebbed4ac9553800d1e320af246e81a548f37c\n",
      "loading configuration file https://huggingface.co/finiteautomata/bertweet-base-sentiment-analysis/resolve/main/config.json from cache at /Users/hpp/.cache/huggingface/transformers/cb09766f7ba60b5f7a1bb640617b24f1499c4a6f3ab160c4a0ac171e3a377c68.008dca06003188334001a96363da79ced4944abc68d94a2f1e0db786dc5aa08b\n",
      "Model config RobertaConfig {\n",
      "  \"_name_or_path\": \"finiteautomata/bertweet-base-sentiment-analysis\",\n",
      "  \"architectures\": [\n",
      "    \"RobertaForSequenceClassification\"\n",
      "  ],\n",
      "  \"attention_probs_dropout_prob\": 0.1,\n",
      "  \"bos_token_id\": 0,\n",
      "  \"classifier_dropout\": null,\n",
      "  \"eos_token_id\": 2,\n",
      "  \"gradient_checkpointing\": false,\n",
      "  \"hidden_act\": \"gelu\",\n",
      "  \"hidden_dropout_prob\": 0.1,\n",
      "  \"hidden_size\": 768,\n",
      "  \"id2label\": {\n",
      "    \"0\": \"NEG\",\n",
      "    \"1\": \"NEU\",\n",
      "    \"2\": \"POS\"\n",
      "  },\n",
      "  \"initializer_range\": 0.02,\n",
      "  \"intermediate_size\": 3072,\n",
      "  \"label2id\": {\n",
      "    \"NEG\": 0,\n",
      "    \"NEU\": 1,\n",
      "    \"POS\": 2\n",
      "  },\n",
      "  \"layer_norm_eps\": 1e-05,\n",
      "  \"max_position_embeddings\": 130,\n",
      "  \"model_type\": \"roberta\",\n",
      "  \"num_attention_heads\": 12,\n",
      "  \"num_hidden_layers\": 12,\n",
      "  \"pad_token_id\": 1,\n",
      "  \"position_embedding_type\": \"absolute\",\n",
      "  \"problem_type\": \"single_label_classification\",\n",
      "  \"tokenizer_class\": \"BertweetTokenizer\",\n",
      "  \"transformers_version\": \"4.17.0\",\n",
      "  \"type_vocab_size\": 1,\n",
      "  \"use_cache\": true,\n",
      "  \"vocab_size\": 64001\n",
      "}\n",
      "\n",
      "Adding <mask> to the vocabulary\n",
      "loading configuration file https://huggingface.co/finiteautomata/bertweet-base-sentiment-analysis/resolve/main/config.json from cache at /Users/hpp/.cache/huggingface/transformers/cb09766f7ba60b5f7a1bb640617b24f1499c4a6f3ab160c4a0ac171e3a377c68.008dca06003188334001a96363da79ced4944abc68d94a2f1e0db786dc5aa08b\n",
      "Model config RobertaConfig {\n",
      "  \"_name_or_path\": \"finiteautomata/bertweet-base-sentiment-analysis\",\n",
      "  \"architectures\": [\n",
      "    \"RobertaForSequenceClassification\"\n",
      "  ],\n",
      "  \"attention_probs_dropout_prob\": 0.1,\n",
      "  \"bos_token_id\": 0,\n",
      "  \"classifier_dropout\": null,\n",
      "  \"eos_token_id\": 2,\n",
      "  \"gradient_checkpointing\": false,\n",
      "  \"hidden_act\": \"gelu\",\n",
      "  \"hidden_dropout_prob\": 0.1,\n",
      "  \"hidden_size\": 768,\n",
      "  \"id2label\": {\n",
      "    \"0\": \"NEG\",\n",
      "    \"1\": \"NEU\",\n",
      "    \"2\": \"POS\"\n",
      "  },\n",
      "  \"initializer_range\": 0.02,\n",
      "  \"intermediate_size\": 3072,\n",
      "  \"label2id\": {\n",
      "    \"NEG\": 0,\n",
      "    \"NEU\": 1,\n",
      "    \"POS\": 2\n",
      "  },\n",
      "  \"layer_norm_eps\": 1e-05,\n",
      "  \"max_position_embeddings\": 130,\n",
      "  \"model_type\": \"roberta\",\n",
      "  \"num_attention_heads\": 12,\n",
      "  \"num_hidden_layers\": 12,\n",
      "  \"pad_token_id\": 1,\n",
      "  \"position_embedding_type\": \"absolute\",\n",
      "  \"problem_type\": \"single_label_classification\",\n",
      "  \"tokenizer_class\": \"BertweetTokenizer\",\n",
      "  \"transformers_version\": \"4.17.0\",\n",
      "  \"type_vocab_size\": 1,\n",
      "  \"use_cache\": true,\n",
      "  \"vocab_size\": 64001\n",
      "}\n",
      "\n",
      "loading weights file https://huggingface.co/finiteautomata/bertweet-base-sentiment-analysis/resolve/main/pytorch_model.bin from cache at /Users/hpp/.cache/huggingface/transformers/2e4719cf8d097772eb75070b88cbc56f1d3b1392fffc5f75032a389ef21d1847.16366ca1277caccb15200478349503b3336a1420ac26d44fc16763354f5a2cae\n",
      "All model checkpoint weights were used when initializing RobertaForSequenceClassification.\n",
      "\n",
      "All the weights of RobertaForSequenceClassification were initialized from the model checkpoint at finiteautomata/bertweet-base-sentiment-analysis.\n",
      "If your task is similar to the task the model of the checkpoint was trained on, you can already use RobertaForSequenceClassification for predictions without further training.\n",
      "PyTorch: setting up devices\n",
      "The default value for the training argument `--report_to` will change in v5 (from all installed integrations to none). In v5, you will need to use `--report_to all` to get the same behavior as now. You should start updating your code and make this info disappear :-).\n"
     ]
    }
   ],
   "source": [
    "analyzer = create_analyzer(task='sentiment', lang='en')"
   ],
   "metadata": {
    "collapsed": false,
    "pycharm": {
     "name": "#%%\n"
    }
   }
  },
  {
   "cell_type": "code",
   "execution_count": 8,
   "outputs": [
    {
     "data": {
      "text/plain": "         index                      user_name     user_location  \\\n0      1545110                 Muhammad Sa'ad               NaN   \n1      1431064                      Kikan4444               NaN   \n2      1070632                Kripto Tiger 🇹🇷               NaN   \n3      1276832  Sheesh | @NanoDogecoin | INDC               NaN   \n4      1980309          CoinMarketDaddy (CMD)    United Kingdom   \n...        ...                            ...               ...   \n23470  1804718                 brettmurphynet      Bay Area, CA   \n23471  1973638                 Moneymakerr777               NaN   \n23472  1728273                      Jimbo4901             Mars    \n23473  1184203                Muhammad Shoaib  Lahore, Pakistan   \n23474    56550       Lucas Fernandes da Silva               NaN   \n\n                                        user_description         user_created  \\\n0                                                 Dota 2  2021-08-12 09:52:26   \n1      share the positive vibes of the universe 🧲. 💜 ...  2021-07-09 15:46:05   \n2           #bsc #bscgem #gem #shrew #gmrfinance #nftart  2020-11-07 07:37:33   \n3      #Staking #INDC!\\n#Stake #NanoDogecoin & #earn:...  2011-02-10 04:39:28   \n4      CMD stands for Coin Market Daddy & Was Built B...  2018-04-19 02:19:06   \n...                                                  ...                  ...   \n23470  #affiliate #bitcoin #business #blogger #crypto...  2020-08-12 05:34:02   \n23471                                                NaN  2020-06-22 09:46:33   \n23472  #JoeMustGo\\n#letsGoBrandon #FJB \\n17° 1.6.21Si...  2021-05-20 20:13:36   \n23473  Freelancer 📚,\\nblogger 🖊️,\\nDigital & Social M...  2021-05-16 11:41:46   \n23474                                                NaN  2021-03-23 14:29:17   \n\n       user_followers  user_friends  user_favourites  user_verified  \\\n0                 8.0        1089.0           1403.0          False   \n1               346.0         214.0           1534.0          False   \n2               164.0         298.0           5577.0          False   \n3               151.0         453.0           6228.0          False   \n4              2833.0           1.0            118.0          False   \n...               ...           ...              ...            ...   \n23470           335.0         328.0             33.0          False   \n23471            98.0         237.0           7100.0          False   \n23472           452.0         925.0           6949.0          False   \n23473            23.0          30.0            638.0          False   \n23474             1.0          40.0             31.0          False   \n\n                      date                                               text  \\\n0      2021-10-28 12:30:44  Airdrop is live , dont be late sir :)\\n\\n\\n\\n\\...   \n1      2021-10-22 05:47:45  something Big is coming \\n$KLV Klever 💜🌟\\n\\nBT...   \n2      2021-08-16 09:58:44  Easy money with \\n\\n bsc bnb BinanceSmartChain...   \n3      2021-10-19 02:09:26  NanoDogecoin is the King👑of the BSC Blockchain...   \n4      2021-12-30 16:03:28  Bitcoin News Roundup for June 17, 2020 cryptoc...   \n...                    ...                                                ...   \n23470  2021-11-18 16:24:07  #linkedin #twitter #facebook #instagram #bitco...   \n23471  2021-12-30 19:30:23  I'm new to Bitcoin donate if you can this is m...   \n23472  2021-11-12 01:31:10  Diamond Hands? Only 12.9% of #Bitcoin Supply R...   \n23473  2021-08-26 14:43:36  Future Project:\\n• Unity Launch Pad\\n• UnitySw...   \n23474  2021-04-10 00:01:08  🤝 Follow me on @betfury. Let's hunt for Bitcoi...   \n\n                                                hashtags               source  \\\n0      ['Airdrop', 'Airdrops', 'Airdropinspector', 'B...  Twitter for Android   \n1                 ['Klever', 'BTC', 'ETH', 'BNB', 'TRX']  Twitter for Android   \n2      ['bsc', 'bnb', 'BinanceSmartChain', 'binance',...      Twitter Web App   \n3      ['NanoDogecoin', 'King', 'BSC', 'Blockchain', ...  Twitter for Android   \n4      ['cryptocurrencies', 'bitcoin', 'crypto', 'cry...      SocialBee.io v2   \n...                                                  ...                  ...   \n23470  ['linkedin', 'twitter', 'facebook', 'instagram...     ContentStudio.io   \n23471                                        ['Bitcoin']  Twitter for Android   \n23472                                        ['Bitcoin']  Twitter for Android   \n23473  ['UnityProtocol', 'unitycol', 'BTC', 'BNB', 'a...  Twitter for Android   \n23474                                                NaN      Twitter Web App   \n\n      is_retweet  \n0          False  \n1          False  \n2          False  \n3          False  \n4          False  \n...          ...  \n23470      False  \n23471      False  \n23472      False  \n23473      False  \n23474      False  \n\n[23475 rows x 14 columns]",
      "text/html": "<div>\n<style scoped>\n    .dataframe tbody tr th:only-of-type {\n        vertical-align: middle;\n    }\n\n    .dataframe tbody tr th {\n        vertical-align: top;\n    }\n\n    .dataframe thead th {\n        text-align: right;\n    }\n</style>\n<table border=\"1\" class=\"dataframe\">\n  <thead>\n    <tr style=\"text-align: right;\">\n      <th></th>\n      <th>index</th>\n      <th>user_name</th>\n      <th>user_location</th>\n      <th>user_description</th>\n      <th>user_created</th>\n      <th>user_followers</th>\n      <th>user_friends</th>\n      <th>user_favourites</th>\n      <th>user_verified</th>\n      <th>date</th>\n      <th>text</th>\n      <th>hashtags</th>\n      <th>source</th>\n      <th>is_retweet</th>\n    </tr>\n  </thead>\n  <tbody>\n    <tr>\n      <th>0</th>\n      <td>1545110</td>\n      <td>Muhammad Sa'ad</td>\n      <td>NaN</td>\n      <td>Dota 2</td>\n      <td>2021-08-12 09:52:26</td>\n      <td>8.0</td>\n      <td>1089.0</td>\n      <td>1403.0</td>\n      <td>False</td>\n      <td>2021-10-28 12:30:44</td>\n      <td>Airdrop is live , dont be late sir :)\\n\\n\\n\\n\\...</td>\n      <td>['Airdrop', 'Airdrops', 'Airdropinspector', 'B...</td>\n      <td>Twitter for Android</td>\n      <td>False</td>\n    </tr>\n    <tr>\n      <th>1</th>\n      <td>1431064</td>\n      <td>Kikan4444</td>\n      <td>NaN</td>\n      <td>share the positive vibes of the universe 🧲. 💜 ...</td>\n      <td>2021-07-09 15:46:05</td>\n      <td>346.0</td>\n      <td>214.0</td>\n      <td>1534.0</td>\n      <td>False</td>\n      <td>2021-10-22 05:47:45</td>\n      <td>something Big is coming \\n$KLV Klever 💜🌟\\n\\nBT...</td>\n      <td>['Klever', 'BTC', 'ETH', 'BNB', 'TRX']</td>\n      <td>Twitter for Android</td>\n      <td>False</td>\n    </tr>\n    <tr>\n      <th>2</th>\n      <td>1070632</td>\n      <td>Kripto Tiger 🇹🇷</td>\n      <td>NaN</td>\n      <td>#bsc #bscgem #gem #shrew #gmrfinance #nftart</td>\n      <td>2020-11-07 07:37:33</td>\n      <td>164.0</td>\n      <td>298.0</td>\n      <td>5577.0</td>\n      <td>False</td>\n      <td>2021-08-16 09:58:44</td>\n      <td>Easy money with \\n\\n bsc bnb BinanceSmartChain...</td>\n      <td>['bsc', 'bnb', 'BinanceSmartChain', 'binance',...</td>\n      <td>Twitter Web App</td>\n      <td>False</td>\n    </tr>\n    <tr>\n      <th>3</th>\n      <td>1276832</td>\n      <td>Sheesh | @NanoDogecoin | INDC</td>\n      <td>NaN</td>\n      <td>#Staking #INDC!\\n#Stake #NanoDogecoin &amp; #earn:...</td>\n      <td>2011-02-10 04:39:28</td>\n      <td>151.0</td>\n      <td>453.0</td>\n      <td>6228.0</td>\n      <td>False</td>\n      <td>2021-10-19 02:09:26</td>\n      <td>NanoDogecoin is the King👑of the BSC Blockchain...</td>\n      <td>['NanoDogecoin', 'King', 'BSC', 'Blockchain', ...</td>\n      <td>Twitter for Android</td>\n      <td>False</td>\n    </tr>\n    <tr>\n      <th>4</th>\n      <td>1980309</td>\n      <td>CoinMarketDaddy (CMD)</td>\n      <td>United Kingdom</td>\n      <td>CMD stands for Coin Market Daddy &amp; Was Built B...</td>\n      <td>2018-04-19 02:19:06</td>\n      <td>2833.0</td>\n      <td>1.0</td>\n      <td>118.0</td>\n      <td>False</td>\n      <td>2021-12-30 16:03:28</td>\n      <td>Bitcoin News Roundup for June 17, 2020 cryptoc...</td>\n      <td>['cryptocurrencies', 'bitcoin', 'crypto', 'cry...</td>\n      <td>SocialBee.io v2</td>\n      <td>False</td>\n    </tr>\n    <tr>\n      <th>...</th>\n      <td>...</td>\n      <td>...</td>\n      <td>...</td>\n      <td>...</td>\n      <td>...</td>\n      <td>...</td>\n      <td>...</td>\n      <td>...</td>\n      <td>...</td>\n      <td>...</td>\n      <td>...</td>\n      <td>...</td>\n      <td>...</td>\n      <td>...</td>\n    </tr>\n    <tr>\n      <th>23470</th>\n      <td>1804718</td>\n      <td>brettmurphynet</td>\n      <td>Bay Area, CA</td>\n      <td>#affiliate #bitcoin #business #blogger #crypto...</td>\n      <td>2020-08-12 05:34:02</td>\n      <td>335.0</td>\n      <td>328.0</td>\n      <td>33.0</td>\n      <td>False</td>\n      <td>2021-11-18 16:24:07</td>\n      <td>#linkedin #twitter #facebook #instagram #bitco...</td>\n      <td>['linkedin', 'twitter', 'facebook', 'instagram...</td>\n      <td>ContentStudio.io</td>\n      <td>False</td>\n    </tr>\n    <tr>\n      <th>23471</th>\n      <td>1973638</td>\n      <td>Moneymakerr777</td>\n      <td>NaN</td>\n      <td>NaN</td>\n      <td>2020-06-22 09:46:33</td>\n      <td>98.0</td>\n      <td>237.0</td>\n      <td>7100.0</td>\n      <td>False</td>\n      <td>2021-12-30 19:30:23</td>\n      <td>I'm new to Bitcoin donate if you can this is m...</td>\n      <td>['Bitcoin']</td>\n      <td>Twitter for Android</td>\n      <td>False</td>\n    </tr>\n    <tr>\n      <th>23472</th>\n      <td>1728273</td>\n      <td>Jimbo4901</td>\n      <td>Mars</td>\n      <td>#JoeMustGo\\n#letsGoBrandon #FJB \\n17° 1.6.21Si...</td>\n      <td>2021-05-20 20:13:36</td>\n      <td>452.0</td>\n      <td>925.0</td>\n      <td>6949.0</td>\n      <td>False</td>\n      <td>2021-11-12 01:31:10</td>\n      <td>Diamond Hands? Only 12.9% of #Bitcoin Supply R...</td>\n      <td>['Bitcoin']</td>\n      <td>Twitter for Android</td>\n      <td>False</td>\n    </tr>\n    <tr>\n      <th>23473</th>\n      <td>1184203</td>\n      <td>Muhammad Shoaib</td>\n      <td>Lahore, Pakistan</td>\n      <td>Freelancer 📚,\\nblogger 🖊️,\\nDigital &amp; Social M...</td>\n      <td>2021-05-16 11:41:46</td>\n      <td>23.0</td>\n      <td>30.0</td>\n      <td>638.0</td>\n      <td>False</td>\n      <td>2021-08-26 14:43:36</td>\n      <td>Future Project:\\n• Unity Launch Pad\\n• UnitySw...</td>\n      <td>['UnityProtocol', 'unitycol', 'BTC', 'BNB', 'a...</td>\n      <td>Twitter for Android</td>\n      <td>False</td>\n    </tr>\n    <tr>\n      <th>23474</th>\n      <td>56550</td>\n      <td>Lucas Fernandes da Silva</td>\n      <td>NaN</td>\n      <td>NaN</td>\n      <td>2021-03-23 14:29:17</td>\n      <td>1.0</td>\n      <td>40.0</td>\n      <td>31.0</td>\n      <td>False</td>\n      <td>2021-04-10 00:01:08</td>\n      <td>🤝 Follow me on @betfury. Let's hunt for Bitcoi...</td>\n      <td>NaN</td>\n      <td>Twitter Web App</td>\n      <td>False</td>\n    </tr>\n  </tbody>\n</table>\n<p>23475 rows × 14 columns</p>\n</div>"
     },
     "execution_count": 8,
     "metadata": {},
     "output_type": "execute_result"
    }
   ],
   "source": [
    "tweets"
   ],
   "metadata": {
    "collapsed": false,
    "pycharm": {
     "name": "#%%\n"
    }
   }
  },
  {
   "cell_type": "code",
   "execution_count": 9,
   "outputs": [
    {
     "data": {
      "text/plain": "  0%|          | 0/734 [00:00<?, ?ba/s]",
      "application/vnd.jupyter.widget-view+json": {
       "version_major": 2,
       "version_minor": 0,
       "model_id": "607ffda1606e416fb1447aec5e9bd166"
      }
     },
     "metadata": {},
     "output_type": "display_data"
    },
    {
     "name": "stderr",
     "output_type": "stream",
     "text": [
      "The following columns in the test set  don't have a corresponding argument in `RobertaForSequenceClassification.forward` and have been ignored: text. If text are not expected by `RobertaForSequenceClassification.forward`,  you can safely ignore this message.\n",
      "***** Running Prediction *****\n",
      "  Num examples = 23475\n",
      "  Batch size = 32\n"
     ]
    },
    {
     "data": {
      "text/plain": "<IPython.core.display.HTML object>",
      "text/html": "\n    <div>\n      \n      <progress value='1' max='734' style='width:300px; height:20px; vertical-align: middle;'></progress>\n      [  1/734 : < :]\n    </div>\n    "
     },
     "metadata": {},
     "output_type": "display_data"
    },
    {
     "name": "stderr",
     "output_type": "stream",
     "text": [
      "\n",
      "KeyboardInterrupt\n",
      "\n"
     ]
    }
   ],
   "source": [
    "%%time\n",
    "tweets['sentiment'] = analyzer.predict(tweets['text'])"
   ],
   "metadata": {
    "collapsed": false,
    "pycharm": {
     "name": "#%%\n"
    }
   }
  },
  {
   "cell_type": "code",
   "execution_count": null,
   "outputs": [],
   "source": [
    "tweets['sentiment'].iloc[0].output"
   ],
   "metadata": {
    "collapsed": false,
    "pycharm": {
     "name": "#%%\n",
     "is_executing": true
    }
   }
  },
  {
   "cell_type": "code",
   "execution_count": null,
   "outputs": [],
   "source": [
    "tweets['simplified_sentiment'] = tweets[\"sentiment\"].apply(lambda x: x.output)\n",
    "tweets.simplified_sentiment.value_counts()"
   ],
   "metadata": {
    "collapsed": false,
    "pycharm": {
     "name": "#%%\n",
     "is_executing": true
    }
   }
  },
  {
   "cell_type": "markdown",
   "source": [
    "### Save to local"
   ],
   "metadata": {
    "collapsed": false,
    "pycharm": {
     "name": "#%% md\n"
    }
   }
  },
  {
   "cell_type": "code",
   "execution_count": null,
   "outputs": [],
   "source": [
    "tweets.to_csv('tweets_scores_PNN.csv')"
   ],
   "metadata": {
    "collapsed": false,
    "pycharm": {
     "name": "#%%\n"
    }
   }
  }
 ],
 "metadata": {
  "kernelspec": {
   "display_name": "Python 3",
   "language": "python",
   "name": "python3"
  },
  "language_info": {
   "codemirror_mode": {
    "name": "ipython",
    "version": 2
   },
   "file_extension": ".py",
   "mimetype": "text/x-python",
   "name": "python",
   "nbconvert_exporter": "python",
   "pygments_lexer": "ipython2",
   "version": "2.7.6"
  }
 },
 "nbformat": 4,
 "nbformat_minor": 0
}