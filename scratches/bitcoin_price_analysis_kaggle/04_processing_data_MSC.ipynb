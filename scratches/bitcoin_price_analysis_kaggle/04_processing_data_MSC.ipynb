{
 "cells": [
  {
   "cell_type": "code",
   "execution_count": 3,
   "metadata": {
    "collapsed": true
   },
   "outputs": [],
   "source": [
    "import pandas as pd\n",
    "import numpy as np\n",
    "from matplotlib import pyplot as plt\n",
    "from sklearn.feature_extraction.text import CountVectorizer\n",
    "from sklearn.feature_extraction.text import TfidfTransformer\n",
    "from sklearn.feature_extraction.text import TfidfVectorizer\n",
    "import nltk\n",
    "from nltk.stem import WordNetLemmatizer\n",
    "from nltk.tokenize import word_tokenize\n",
    "import string\n",
    "from itertools import chain\n",
    "from collections import Counter\n",
    "from wordcloud import WordCloud, STOPWORDS, ImageColorGenerator"
   ]
  },
  {
   "cell_type": "code",
   "execution_count": 2,
   "outputs": [
    {
     "name": "stdout",
     "output_type": "stream",
     "text": [
      "[nltk_data] Downloading package punkt to /Users/hpp/nltk_data...\n",
      "[nltk_data]   Package punkt is already up-to-date!\n",
      "[nltk_data] Downloading package stopwords to /Users/hpp/nltk_data...\n",
      "[nltk_data]   Package stopwords is already up-to-date!\n",
      "[nltk_data] Downloading package wordnet to /Users/hpp/nltk_data...\n",
      "[nltk_data]   Package wordnet is already up-to-date!\n"
     ]
    },
    {
     "data": {
      "text/plain": "True"
     },
     "execution_count": 2,
     "metadata": {},
     "output_type": "execute_result"
    }
   ],
   "source": [
    "#nltk.download('punkt')\n",
    "#nltk.download('stopwords')\n",
    "#nltk.download('wordnet')"
   ],
   "metadata": {
    "collapsed": false,
    "pycharm": {
     "name": "#%%\n"
    }
   }
  },
  {
   "cell_type": "code",
   "execution_count": 50,
   "outputs": [],
   "source": [
    "directory = '~/PycharmProjects/tfm_hugopobil'\n",
    "\n",
    "# Text to BOW begins from this dataset\n",
    "df = pd.read_csv(f'{directory}/data/tweets_nlp_modelling.csv')"
   ],
   "metadata": {
    "collapsed": false,
    "pycharm": {
     "name": "#%%\n"
    }
   }
  },
  {
   "cell_type": "code",
   "execution_count": 17,
   "outputs": [
    {
     "name": "stdout",
     "output_type": "stream",
     "text": [
      "<class 'pandas.core.frame.DataFrame'>\n",
      "RangeIndex: 23317 entries, 0 to 23316\n",
      "Data columns (total 8 columns):\n",
      " #   Column            Non-Null Count  Dtype  \n",
      "---  ------            --------------  -----  \n",
      " 0   date_clean        23317 non-null  object \n",
      " 1   tweets            23317 non-null  object \n",
      " 2   cleaned_tweets    23273 non-null  object \n",
      " 3   crypto_sentiment  22467 non-null  object \n",
      " 4   subjectivity      23317 non-null  float64\n",
      " 5   polarity          23317 non-null  float64\n",
      " 6   sentiment         23317 non-null  object \n",
      " 7   target            23317 non-null  bool   \n",
      "dtypes: bool(1), float64(2), object(5)\n",
      "memory usage: 1.3+ MB\n"
     ]
    }
   ],
   "source": [
    "df.info()"
   ],
   "metadata": {
    "collapsed": false,
    "pycharm": {
     "name": "#%%\n"
    }
   }
  },
  {
   "cell_type": "code",
   "execution_count": 18,
   "outputs": [
    {
     "data": {
      "text/plain": "   date_clean                                             tweets  \\\n0  2021-10-28  Airdrop is live , dont be late sir :)\\n\\n\\n\\n\\...   \n1  2021-10-22  something Big is coming \\n$KLV Klever 💜🌟\\n\\nBT...   \n2  2021-08-16  Easy money with \\n\\n bsc bnb BinanceSmartChain...   \n3  2021-10-19  NanoDogecoin is the King👑of the BSC Blockchain...   \n4  2021-12-30  Bitcoin News Roundup for June 17, 2020 cryptoc...   \n\n                                      cleaned_tweets crypto_sentiment  \\\n0  Airdrop live dont late sir Airdrop Airdrops Ai...         negative   \n1  something Big coming KLV Klever BTC ETH BNB TR...         negative   \n2  Easy money bsc bnb BinanceSmartChain binance g...         negative   \n3  NanoDogecoin King BSC Blockchain DeFi altcoins...         negative   \n4  Bitcoin News Roundup June cryptocurrencies bit...         positive   \n\n   subjectivity  polarity sentiment  target  \n0      0.550000 -0.081818  negative    True  \n1      0.100000  0.000000  positive   False  \n2      0.833333  0.433333   neutral   False  \n3      0.733333  0.433333   neutral   False  \n4      0.000000  0.000000  positive    True  ",
      "text/html": "<div>\n<style scoped>\n    .dataframe tbody tr th:only-of-type {\n        vertical-align: middle;\n    }\n\n    .dataframe tbody tr th {\n        vertical-align: top;\n    }\n\n    .dataframe thead th {\n        text-align: right;\n    }\n</style>\n<table border=\"1\" class=\"dataframe\">\n  <thead>\n    <tr style=\"text-align: right;\">\n      <th></th>\n      <th>date_clean</th>\n      <th>tweets</th>\n      <th>cleaned_tweets</th>\n      <th>crypto_sentiment</th>\n      <th>subjectivity</th>\n      <th>polarity</th>\n      <th>sentiment</th>\n      <th>target</th>\n    </tr>\n  </thead>\n  <tbody>\n    <tr>\n      <th>0</th>\n      <td>2021-10-28</td>\n      <td>Airdrop is live , dont be late sir :)\\n\\n\\n\\n\\...</td>\n      <td>Airdrop live dont late sir Airdrop Airdrops Ai...</td>\n      <td>negative</td>\n      <td>0.550000</td>\n      <td>-0.081818</td>\n      <td>negative</td>\n      <td>True</td>\n    </tr>\n    <tr>\n      <th>1</th>\n      <td>2021-10-22</td>\n      <td>something Big is coming \\n$KLV Klever 💜🌟\\n\\nBT...</td>\n      <td>something Big coming KLV Klever BTC ETH BNB TR...</td>\n      <td>negative</td>\n      <td>0.100000</td>\n      <td>0.000000</td>\n      <td>positive</td>\n      <td>False</td>\n    </tr>\n    <tr>\n      <th>2</th>\n      <td>2021-08-16</td>\n      <td>Easy money with \\n\\n bsc bnb BinanceSmartChain...</td>\n      <td>Easy money bsc bnb BinanceSmartChain binance g...</td>\n      <td>negative</td>\n      <td>0.833333</td>\n      <td>0.433333</td>\n      <td>neutral</td>\n      <td>False</td>\n    </tr>\n    <tr>\n      <th>3</th>\n      <td>2021-10-19</td>\n      <td>NanoDogecoin is the King👑of the BSC Blockchain...</td>\n      <td>NanoDogecoin King BSC Blockchain DeFi altcoins...</td>\n      <td>negative</td>\n      <td>0.733333</td>\n      <td>0.433333</td>\n      <td>neutral</td>\n      <td>False</td>\n    </tr>\n    <tr>\n      <th>4</th>\n      <td>2021-12-30</td>\n      <td>Bitcoin News Roundup for June 17, 2020 cryptoc...</td>\n      <td>Bitcoin News Roundup June cryptocurrencies bit...</td>\n      <td>positive</td>\n      <td>0.000000</td>\n      <td>0.000000</td>\n      <td>positive</td>\n      <td>True</td>\n    </tr>\n  </tbody>\n</table>\n</div>"
     },
     "execution_count": 18,
     "metadata": {},
     "output_type": "execute_result"
    }
   ],
   "source": [
    "df.head()"
   ],
   "metadata": {
    "collapsed": false,
    "pycharm": {
     "name": "#%%\n"
    }
   }
  },
  {
   "cell_type": "code",
   "execution_count": 19,
   "outputs": [],
   "source": [
    "# Into lower case and strip\n",
    "df['cleaned_tweets'] = df.cleaned_tweets.str.lower().str.strip()"
   ],
   "metadata": {
    "collapsed": false,
    "pycharm": {
     "name": "#%%\n"
    }
   }
  },
  {
   "cell_type": "code",
   "execution_count": 20,
   "outputs": [
    {
     "data": {
      "text/plain": "   date_clean                                             tweets  \\\n0  2021-10-28  Airdrop is live , dont be late sir :)\\n\\n\\n\\n\\...   \n1  2021-10-22  something Big is coming \\n$KLV Klever 💜🌟\\n\\nBT...   \n2  2021-08-16  Easy money with \\n\\n bsc bnb BinanceSmartChain...   \n3  2021-10-19  NanoDogecoin is the King👑of the BSC Blockchain...   \n4  2021-12-30  Bitcoin News Roundup for June 17, 2020 cryptoc...   \n\n                                      cleaned_tweets crypto_sentiment  \\\n0  airdrop live dont late sir airdrop airdrops ai...         negative   \n1  something big coming klv klever btc eth bnb tr...         negative   \n2  easy money bsc bnb binancesmartchain binance g...         negative   \n3  nanodogecoin king bsc blockchain defi altcoins...         negative   \n4  bitcoin news roundup june cryptocurrencies bit...         positive   \n\n   subjectivity  polarity sentiment  target  \n0      0.550000 -0.081818  negative    True  \n1      0.100000  0.000000  positive   False  \n2      0.833333  0.433333   neutral   False  \n3      0.733333  0.433333   neutral   False  \n4      0.000000  0.000000  positive    True  ",
      "text/html": "<div>\n<style scoped>\n    .dataframe tbody tr th:only-of-type {\n        vertical-align: middle;\n    }\n\n    .dataframe tbody tr th {\n        vertical-align: top;\n    }\n\n    .dataframe thead th {\n        text-align: right;\n    }\n</style>\n<table border=\"1\" class=\"dataframe\">\n  <thead>\n    <tr style=\"text-align: right;\">\n      <th></th>\n      <th>date_clean</th>\n      <th>tweets</th>\n      <th>cleaned_tweets</th>\n      <th>crypto_sentiment</th>\n      <th>subjectivity</th>\n      <th>polarity</th>\n      <th>sentiment</th>\n      <th>target</th>\n    </tr>\n  </thead>\n  <tbody>\n    <tr>\n      <th>0</th>\n      <td>2021-10-28</td>\n      <td>Airdrop is live , dont be late sir :)\\n\\n\\n\\n\\...</td>\n      <td>airdrop live dont late sir airdrop airdrops ai...</td>\n      <td>negative</td>\n      <td>0.550000</td>\n      <td>-0.081818</td>\n      <td>negative</td>\n      <td>True</td>\n    </tr>\n    <tr>\n      <th>1</th>\n      <td>2021-10-22</td>\n      <td>something Big is coming \\n$KLV Klever 💜🌟\\n\\nBT...</td>\n      <td>something big coming klv klever btc eth bnb tr...</td>\n      <td>negative</td>\n      <td>0.100000</td>\n      <td>0.000000</td>\n      <td>positive</td>\n      <td>False</td>\n    </tr>\n    <tr>\n      <th>2</th>\n      <td>2021-08-16</td>\n      <td>Easy money with \\n\\n bsc bnb BinanceSmartChain...</td>\n      <td>easy money bsc bnb binancesmartchain binance g...</td>\n      <td>negative</td>\n      <td>0.833333</td>\n      <td>0.433333</td>\n      <td>neutral</td>\n      <td>False</td>\n    </tr>\n    <tr>\n      <th>3</th>\n      <td>2021-10-19</td>\n      <td>NanoDogecoin is the King👑of the BSC Blockchain...</td>\n      <td>nanodogecoin king bsc blockchain defi altcoins...</td>\n      <td>negative</td>\n      <td>0.733333</td>\n      <td>0.433333</td>\n      <td>neutral</td>\n      <td>False</td>\n    </tr>\n    <tr>\n      <th>4</th>\n      <td>2021-12-30</td>\n      <td>Bitcoin News Roundup for June 17, 2020 cryptoc...</td>\n      <td>bitcoin news roundup june cryptocurrencies bit...</td>\n      <td>positive</td>\n      <td>0.000000</td>\n      <td>0.000000</td>\n      <td>positive</td>\n      <td>True</td>\n    </tr>\n  </tbody>\n</table>\n</div>"
     },
     "execution_count": 20,
     "metadata": {},
     "output_type": "execute_result"
    }
   ],
   "source": [
    "df.head()"
   ],
   "metadata": {
    "collapsed": false,
    "pycharm": {
     "name": "#%%\n"
    }
   }
  },
  {
   "cell_type": "code",
   "execution_count": 26,
   "outputs": [],
   "source": [
    "df['cleaned_tweets'] = str(df['cleaned_tweets'])"
   ],
   "metadata": {
    "collapsed": false,
    "pycharm": {
     "name": "#%%\n"
    }
   }
  },
  {
   "cell_type": "code",
   "execution_count": 43,
   "outputs": [],
   "source": [
    "corpus = ' '.join(df[\"cleaned_tweets\"])\n",
    "all_words = word_tokenize(corpus)\n",
    "stopwords = nltk.corpus.stopwords.words('english')\n",
    "stop_words = stopwords + ['...', ':', ',', '.']\n",
    "all_words = [word for word in all_words if word not in stop_words]"
   ],
   "metadata": {
    "collapsed": false,
    "pycharm": {
     "name": "#%%\n"
    }
   }
  },
  {
   "cell_type": "code",
   "execution_count": 44,
   "outputs": [],
   "source": [
    "all_words = [x for x in all_words if not any(c.isdigit() for c in x)]"
   ],
   "metadata": {
    "collapsed": false,
    "pycharm": {
     "name": "#%%\n"
    }
   }
  },
  {
   "cell_type": "code",
   "execution_count": 66,
   "outputs": [],
   "source": [
    "pd.DataFrame(all_words).to_csv(f'{directory}/data/all_words.csv')"
   ],
   "metadata": {
    "collapsed": false,
    "pycharm": {
     "name": "#%%\n"
    }
   }
  },
  {
   "cell_type": "code",
   "execution_count": 46,
   "outputs": [
    {
     "data": {
      "text/plain": "<AxesSubplot:>"
     },
     "execution_count": 46,
     "metadata": {},
     "output_type": "execute_result"
    },
    {
     "data": {
      "text/plain": "<Figure size 432x288 with 1 Axes>",
      "image/png": "[encoded data removed]"
     },
     "metadata": {
      "needs_background": "light"
     },
     "output_type": "display_data"
    }
   ],
   "source": [
    "Counter([\"a\",\"a\",\"b\"])\n",
    "pd.Series(Counter(all_words)).sort_values(ascending=False).iloc[:30].plot(kind=\"bar\")"
   ],
   "metadata": {
    "collapsed": false,
    "pycharm": {
     "name": "#%%\n"
    }
   }
  },
  {
   "cell_type": "code",
   "execution_count": 51,
   "outputs": [
    {
     "name": "stdout",
     "output_type": "stream",
     "text": [
      "(1585556, 61)\n"
     ]
    },
    {
     "data": {
      "text/plain": "   address  ai  airdrop  airdrops  altcoins  become  big  binance  \\\n0        0   0        1         0         0       0    0        0   \n1        0   0        0         0         0       0    0        0   \n2        0   0        0         0         0       0    0        0   \n3        0   0        0         0         0       0    0        0   \n4        0   0        0         0         0       0    0        0   \n\n   binancesmartchain  bit  ...  roundup  sir  something  supply  thank  tr  \\\n0                  0    0  ...        0    0          0       0      0   0   \n1                  0    0  ...        0    0          0       0      0   0   \n2                  0    0  ...        0    0          0       0      0   0   \n3                  0    0  ...        0    0          0       0      0   0   \n4                  0    0  ...        0    1          0       0      0   0   \n\n   unity  unityswap  vi  waiting  \n0      0          0   0        0  \n1      0          0   0        0  \n2      0          0   0        0  \n3      0          0   0        0  \n4      0          0   0        0  \n\n[5 rows x 61 columns]",
      "text/html": "<div>\n<style scoped>\n    .dataframe tbody tr th:only-of-type {\n        vertical-align: middle;\n    }\n\n    .dataframe tbody tr th {\n        vertical-align: top;\n    }\n\n    .dataframe thead th {\n        text-align: right;\n    }\n</style>\n<table border=\"1\" class=\"dataframe\">\n  <thead>\n    <tr style=\"text-align: right;\">\n      <th></th>\n      <th>address</th>\n      <th>ai</th>\n      <th>airdrop</th>\n      <th>airdrops</th>\n      <th>altcoins</th>\n      <th>become</th>\n      <th>big</th>\n      <th>binance</th>\n      <th>binancesmartchain</th>\n      <th>bit</th>\n      <th>...</th>\n      <th>roundup</th>\n      <th>sir</th>\n      <th>something</th>\n      <th>supply</th>\n      <th>thank</th>\n      <th>tr</th>\n      <th>unity</th>\n      <th>unityswap</th>\n      <th>vi</th>\n      <th>waiting</th>\n    </tr>\n  </thead>\n  <tbody>\n    <tr>\n      <th>0</th>\n      <td>0</td>\n      <td>0</td>\n      <td>1</td>\n      <td>0</td>\n      <td>0</td>\n      <td>0</td>\n      <td>0</td>\n      <td>0</td>\n      <td>0</td>\n      <td>0</td>\n      <td>...</td>\n      <td>0</td>\n      <td>0</td>\n      <td>0</td>\n      <td>0</td>\n      <td>0</td>\n      <td>0</td>\n      <td>0</td>\n      <td>0</td>\n      <td>0</td>\n      <td>0</td>\n    </tr>\n    <tr>\n      <th>1</th>\n      <td>0</td>\n      <td>0</td>\n      <td>0</td>\n      <td>0</td>\n      <td>0</td>\n      <td>0</td>\n      <td>0</td>\n      <td>0</td>\n      <td>0</td>\n      <td>0</td>\n      <td>...</td>\n      <td>0</td>\n      <td>0</td>\n      <td>0</td>\n      <td>0</td>\n      <td>0</td>\n      <td>0</td>\n      <td>0</td>\n      <td>0</td>\n      <td>0</td>\n      <td>0</td>\n    </tr>\n    <tr>\n      <th>2</th>\n      <td>0</td>\n      <td>0</td>\n      <td>0</td>\n      <td>0</td>\n      <td>0</td>\n      <td>0</td>\n      <td>0</td>\n      <td>0</td>\n      <td>0</td>\n      <td>0</td>\n      <td>...</td>\n      <td>0</td>\n      <td>0</td>\n      <td>0</td>\n      <td>0</td>\n      <td>0</td>\n      <td>0</td>\n      <td>0</td>\n      <td>0</td>\n      <td>0</td>\n      <td>0</td>\n    </tr>\n    <tr>\n      <th>3</th>\n      <td>0</td>\n      <td>0</td>\n      <td>0</td>\n      <td>0</td>\n      <td>0</td>\n      <td>0</td>\n      <td>0</td>\n      <td>0</td>\n      <td>0</td>\n      <td>0</td>\n      <td>...</td>\n      <td>0</td>\n      <td>0</td>\n      <td>0</td>\n      <td>0</td>\n      <td>0</td>\n      <td>0</td>\n      <td>0</td>\n      <td>0</td>\n      <td>0</td>\n      <td>0</td>\n    </tr>\n    <tr>\n      <th>4</th>\n      <td>0</td>\n      <td>0</td>\n      <td>0</td>\n      <td>0</td>\n      <td>0</td>\n      <td>0</td>\n      <td>0</td>\n      <td>0</td>\n      <td>0</td>\n      <td>0</td>\n      <td>...</td>\n      <td>0</td>\n      <td>1</td>\n      <td>0</td>\n      <td>0</td>\n      <td>0</td>\n      <td>0</td>\n      <td>0</td>\n      <td>0</td>\n      <td>0</td>\n      <td>0</td>\n    </tr>\n  </tbody>\n</table>\n<p>5 rows × 61 columns</p>\n</div>"
     },
     "execution_count": 51,
     "metadata": {},
     "output_type": "execute_result"
    }
   ],
   "source": [
    "corpus = df.cleaned_tweets.to_numpy()\n",
    "cv = CountVectorizer()\n",
    "cv_matrix = cv.fit_transform(all_words)\n",
    "\n",
    "feature_names = cv.get_feature_names_out()\n",
    "dense = cv_matrix.todense()\n",
    "denselist = dense.tolist()\n",
    "\n",
    "df_matrix = pd.DataFrame(denselist, columns=feature_names)\n",
    "print(df_matrix.shape)\n",
    "df_matrix.head()"
   ],
   "metadata": {
    "collapsed": false,
    "pycharm": {
     "name": "#%%\n"
    }
   }
  },
  {
   "cell_type": "code",
   "execution_count": 77,
   "outputs": [],
   "source": [
    "pd.DataFrame(df_matrix).to_csv(f'{directory}/data/tweets_words_matrix.csv')"
   ],
   "metadata": {
    "collapsed": false,
    "pycharm": {
     "name": "#%%\n"
    }
   }
  },
  {
   "cell_type": "code",
   "execution_count": 78,
   "outputs": [
    {
     "data": {
      "text/plain": "(1585556, 61)"
     },
     "execution_count": 78,
     "metadata": {},
     "output_type": "execute_result"
    }
   ],
   "source": [
    "df_matrix.shape"
   ],
   "metadata": {
    "collapsed": false,
    "pycharm": {
     "name": "#%%\n"
    }
   }
  }
 ],
 "metadata": {
  "kernelspec": {
   "display_name": "Python 3",
   "language": "python",
   "name": "python3"
  },
  "language_info": {
   "codemirror_mode": {
    "name": "ipython",
    "version": 2
   },
   "file_extension": ".py",
   "mimetype": "text/x-python",
   "name": "python",
   "nbconvert_exporter": "python",
   "pygments_lexer": "ipython2",
   "version": "2.7.6"
  }
 },
 "nbformat": 4,
 "nbformat_minor": 0
}